{
 "cells": [
  {
   "cell_type": "code",
   "execution_count": null,
   "metadata": {},
   "outputs": [],
   "source": [
    "#A\n",
    "t = int(input())\n",
    "for _ in range(t):\n",
    "    n, m = map(int,input().split())\n",
    "    if n == 1:\n",
    "        print(0)\n",
    "    elif n == 2:\n",
    "        print(m)\n",
    "    else:\n",
    "        print(2*m)"
   ]
  },
  {
   "cell_type": "code",
   "execution_count": null,
   "metadata": {},
   "outputs": [],
   "source": [
    "#B\n",
    "t = int(input())\n",
    "for _ in range(t):\n",
    "    n, k = map(int,input().split())\n",
    "    A = list(map(int,input().split()))\n",
    "    B = list(map(int,input().split()))\n",
    "    A.sort()\n",
    "    B.sort(reverse=True)\n",
    "    for i in range(k):\n",
    "        if A[i] < B[i]:\n",
    "            A[i] = B[i]\n",
    "        else:\n",
    "            break\n",
    "    print(sum(A))"
   ]
  },
  {
   "cell_type": "code",
   "execution_count": null,
   "metadata": {},
   "outputs": [],
   "source": [
    "#C\n",
    "t = int(input())\n",
    "dp = [0]*(5*10**5+1)\n",
    "dp[2] = 3\n",
    "dp[3] = 8\n",
    "for i in range(4,5*10**5+1):\n",
    "    dp[i] = dp[i-1] + (i//2)*(2*i-1)\n",
    "\n",
    "for _ in range(t):\n",
    "    n = int(input())\n",
    "    print(dp[n])"
   ]
  }
 ],
 "metadata": {
  "kernelspec": {
   "display_name": "Python 3",
   "language": "python",
   "name": "python3"
  },
  "language_info": {
   "codemirror_mode": {
    "name": "ipython",
    "version": 3
   },
   "file_extension": ".py",
   "mimetype": "text/x-python",
   "name": "python",
   "nbconvert_exporter": "python",
   "pygments_lexer": "ipython3",
   "version": "3.7.8"
  }
 },
 "nbformat": 4,
 "nbformat_minor": 4
}
