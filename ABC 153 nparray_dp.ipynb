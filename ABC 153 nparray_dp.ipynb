{
 "cells": [
  {
   "cell_type": "code",
   "execution_count": 1,
   "metadata": {},
   "outputs": [
    {
     "name": "stdout",
     "output_type": "stream",
     "text": [
      "2 1\n",
      "2\n"
     ]
    }
   ],
   "source": [
    "#A\n",
    "H,A = map(int,input().split())\n",
    "print(-(-H//A))"
   ]
  },
  {
   "cell_type": "code",
   "execution_count": 5,
   "metadata": {},
   "outputs": [
    {
     "name": "stdout",
     "output_type": "stream",
     "text": [
      "211 5\n",
      "31 41 59 26 53\n",
      "No\n"
     ]
    }
   ],
   "source": [
    "#B\n",
    "H,N = map(int,input().split())\n",
    "A = list(map(int,input().split()))\n",
    "if sum(A) >= H:\n",
    "    print(\"Yes\")\n",
    "else:\n",
    "    print(\"No\")"
   ]
  },
  {
   "cell_type": "code",
   "execution_count": 11,
   "metadata": {},
   "outputs": [
    {
     "name": "stdout",
     "output_type": "stream",
     "text": [
      "3 1\n",
      "4 1 5\n",
      "5\n"
     ]
    }
   ],
   "source": [
    "#C\n",
    "import heapq\n",
    "N,K = map(int,input().split())\n",
    "H = list(map(lambda x: -int(x), input().split()))\n",
    "heapq.heapify(H)\n",
    "for _ in range(min(K,N)):\n",
    "    heapq.heappop(H)\n",
    "print(-sum(H))"
   ]
  },
  {
   "cell_type": "code",
   "execution_count": 21,
   "metadata": {},
   "outputs": [
    {
     "name": "stdout",
     "output_type": "stream",
     "text": [
      "1000000000000\n",
      "1099511627775\n"
     ]
    }
   ],
   "source": [
    "#D\n",
    "H = int(input())\n",
    "div = 0\n",
    "while H > 0:\n",
    "    H = H//2\n",
    "    div += 1\n",
    "print(2**div-1)"
   ]
  },
  {
   "cell_type": "code",
   "execution_count": 42,
   "metadata": {},
   "outputs": [
    {
     "ename": "ValueError",
     "evalue": "not enough values to unpack (expected 2, got 0)",
     "output_type": "error",
     "traceback": [
      "\u001b[1;31m---------------------------------------------------------------------------\u001b[0m",
      "\u001b[1;31mValueError\u001b[0m                                Traceback (most recent call last)",
      "\u001b[1;32m<ipython-input-42-f35bea3f5e96>\u001b[0m in \u001b[0;36m<module>\u001b[1;34m\u001b[0m\n\u001b[0;32m     29\u001b[0m     \u001b[0mprint\u001b[0m\u001b[1;33m(\u001b[0m\u001b[0mdp\u001b[0m\u001b[1;33m[\u001b[0m\u001b[0mH\u001b[0m\u001b[1;33m+\u001b[0m\u001b[1;36m1\u001b[0m\u001b[1;33m]\u001b[0m\u001b[1;33m.\u001b[0m\u001b[0mmax\u001b[0m\u001b[1;33m(\u001b[0m\u001b[1;33m)\u001b[0m\u001b[1;33m)\u001b[0m\u001b[1;33m\u001b[0m\u001b[1;33m\u001b[0m\u001b[0m\n\u001b[0;32m     30\u001b[0m \u001b[1;32mif\u001b[0m \u001b[0m__name__\u001b[0m \u001b[1;33m==\u001b[0m \u001b[1;34m\"__main__\"\u001b[0m\u001b[1;33m:\u001b[0m\u001b[1;33m\u001b[0m\u001b[1;33m\u001b[0m\u001b[0m\n\u001b[1;32m---> 31\u001b[1;33m     \u001b[0mmain\u001b[0m\u001b[1;33m(\u001b[0m\u001b[1;33m)\u001b[0m\u001b[1;33m\u001b[0m\u001b[1;33m\u001b[0m\u001b[0m\n\u001b[0m",
      "\u001b[1;32m<ipython-input-42-f35bea3f5e96>\u001b[0m in \u001b[0;36mmain\u001b[1;34m()\u001b[0m\n\u001b[0;32m      5\u001b[0m \u001b[1;33m\u001b[0m\u001b[0m\n\u001b[0;32m      6\u001b[0m \u001b[1;32mdef\u001b[0m \u001b[0mmain\u001b[0m\u001b[1;33m(\u001b[0m\u001b[1;33m)\u001b[0m\u001b[1;33m:\u001b[0m\u001b[1;33m\u001b[0m\u001b[1;33m\u001b[0m\u001b[0m\n\u001b[1;32m----> 7\u001b[1;33m     \u001b[0mH\u001b[0m\u001b[1;33m,\u001b[0m\u001b[0mN\u001b[0m \u001b[1;33m=\u001b[0m \u001b[0mmap\u001b[0m\u001b[1;33m(\u001b[0m\u001b[0mint\u001b[0m\u001b[1;33m,\u001b[0m\u001b[0minput\u001b[0m\u001b[1;33m(\u001b[0m\u001b[1;33m)\u001b[0m\u001b[1;33m.\u001b[0m\u001b[0msplit\u001b[0m\u001b[1;33m(\u001b[0m\u001b[1;33m)\u001b[0m\u001b[1;33m)\u001b[0m\u001b[1;33m\u001b[0m\u001b[1;33m\u001b[0m\u001b[0m\n\u001b[0m\u001b[0;32m      8\u001b[0m \u001b[1;33m\u001b[0m\u001b[0m\n\u001b[0;32m      9\u001b[0m     \u001b[0mdp\u001b[0m \u001b[1;33m=\u001b[0m \u001b[0mnp\u001b[0m\u001b[1;33m.\u001b[0m\u001b[0marray\u001b[0m\u001b[1;33m(\u001b[0m\u001b[1;33m[\u001b[0m\u001b[1;33m[\u001b[0m\u001b[0mfloat\u001b[0m\u001b[1;33m(\u001b[0m\u001b[1;34m'inf'\u001b[0m\u001b[1;33m)\u001b[0m\u001b[1;33m]\u001b[0m\u001b[1;33m*\u001b[0m\u001b[0mN\u001b[0m \u001b[1;32mfor\u001b[0m \u001b[0m_\u001b[0m \u001b[1;32min\u001b[0m \u001b[0mrange\u001b[0m\u001b[1;33m(\u001b[0m\u001b[0mH\u001b[0m\u001b[1;33m+\u001b[0m\u001b[1;36m1\u001b[0m\u001b[1;33m)\u001b[0m\u001b[1;33m]\u001b[0m\u001b[1;33m)\u001b[0m\u001b[1;33m\u001b[0m\u001b[1;33m\u001b[0m\u001b[0m\n",
      "\u001b[1;31mValueError\u001b[0m: not enough values to unpack (expected 2, got 0)"
     ]
    }
   ],
   "source": [
    "#E 多分WA\n",
    "import numpy as np\n",
    "\n",
    "H,N = map(int,input().split())\n",
    "    \n",
    "dp = np.array([[float('inf')]*N for _ in range(H+1)])\n",
    "\n",
    "A = np.empty(0,dtype='int')\n",
    "B = np.empty(0,dtype='int')\n",
    "for _ in range(N):\n",
    "    a,b = map(int,input().split())\n",
    "    A = np.append(A,a)\n",
    "    B = np.append(B,b)\n",
    "for damage in range(H+1):\n",
    "    for i in range(N):\n",
    "        if damage+A[i] > H+1:\n",
    "            attack_result = H+1\n",
    "        else:\n",
    "            attack_result = damage+A[i]\n",
    "\n",
    "        if dp[attack_result][i] == float('inf'):\n",
    "            dp[attack_result][i] = B[i]\n",
    "            continue\n",
    "\n",
    "        dp[attack_result][i] = min(dp[attack_result][i],dp[damage][i]+B[i])\n",
    "print(dp[H+1].max())"
   ]
  },
  {
   "cell_type": "code",
   "execution_count": null,
   "metadata": {},
   "outputs": [],
   "source": [
    "#E TLE\n",
    "\n",
    "import numpy as np\n",
    "\n",
    "H,N = map(int,input().split())\n",
    "    \n",
    "dp = np.array([float('inf')]*(H+1))\n",
    "\n",
    "A = np.empty(0,dtype='int')\n",
    "B = np.empty(0,dtype='int')\n",
    "for _ in range(N):\n",
    "    a,b = map(int,input().split())\n",
    "    A = np.append(A,a)\n",
    "    B = np.append(B,b)\n",
    "\n",
    "dp[0] = 0\n",
    "\n",
    "for damage in range(H+1):\n",
    "    for i in range(N):\n",
    "\n",
    "        if damage+A[i] > H:#オーバーキル\n",
    "            attack_result = H\n",
    "        else:\n",
    "            attack_result = damage+A[i]\n",
    "\n",
    "        if dp[attack_result] == float('inf'):\n",
    "            dp[attack_result] = dp[damage] + B[i]\n",
    "\n",
    "            continue\n",
    "        dp[attack_result] = min(dp[attack_result],dp[damage]+B[i])\n",
    "\n",
    "print(int(dp[H]))"
   ]
  },
  {
   "cell_type": "code",
   "execution_count": 3,
   "metadata": {},
   "outputs": [
    {
     "name": "stdout",
     "output_type": "stream",
     "text": [
      "2 3\n",
      "2 1\n",
      "3 4\n",
      " 5 1\n",
      "2\n"
     ]
    }
   ],
   "source": [
    "#E AC\n",
    "import numpy as np\n",
    "\n",
    "H,N = map(int,input().split())\n",
    "    \n",
    "dp = np.array([float('inf')]*(H+1))\n",
    "\n",
    "A = np.empty(0,dtype='int')\n",
    "B = np.empty(0,dtype='int')\n",
    "for _ in range(N):\n",
    "    a,b = map(int,input().split())\n",
    "    A = np.append(A,a)\n",
    "    B = np.append(B,b)\n",
    "\n",
    "dp[0] = 0\n",
    "\n",
    "for damage in range(H+1):#累計ダメージがdamageのときの魔力消費の最適解\n",
    "    damage_from = damage - A#どこから遷移してくるか\n",
    "    damage_from[damage_from<0] = 0#遷移元が存在しないとき\n",
    "    dp[damage] = np.min(dp[damage_from] + B)\n",
    "\n",
    "print(int(dp[H]))"
   ]
  },
  {
   "cell_type": "code",
   "execution_count": null,
   "metadata": {},
   "outputs": [],
   "source": [
    "#F\n",
    "N,width,damage = map(int,input().split())\n",
    "X = np.empty(N,int)\n",
    "H = np.empty(N,int)\n",
    "for i in range(N):\n",
    "    X[i],H[i] = map(int,input().split())\n",
    "    "
   ]
  }
 ],
 "metadata": {
  "kernelspec": {
   "display_name": "Python 3",
   "language": "python",
   "name": "python3"
  },
  "language_info": {
   "codemirror_mode": {
    "name": "ipython",
    "version": 3
   },
   "file_extension": ".py",
   "mimetype": "text/x-python",
   "name": "python",
   "nbconvert_exporter": "python",
   "pygments_lexer": "ipython3",
   "version": "3.7.3"
  }
 },
 "nbformat": 4,
 "nbformat_minor": 2
}
