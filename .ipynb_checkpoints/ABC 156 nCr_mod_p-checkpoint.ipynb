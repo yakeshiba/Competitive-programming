{
 "cells": [
  {
   "cell_type": "code",
   "execution_count": 2,
   "metadata": {},
   "outputs": [
    {
     "name": "stdout",
     "output_type": "stream",
     "text": [
      "2 2919\n",
      "3719\n"
     ]
    }
   ],
   "source": [
    "#A\n",
    "N,R = map(int,input().split())\n",
    "if N > 10:\n",
    "    print(R)\n",
    "else:\n",
    "    print(R+100*(10-N))"
   ]
  },
  {
   "cell_type": "code",
   "execution_count": 9,
   "metadata": {},
   "outputs": [
    {
     "name": "stdout",
     "output_type": "stream",
     "text": [
      "314159265 3\n",
      "18\n"
     ]
    }
   ],
   "source": [
    "#B\n",
    "N, K = map(int,input().split())\n",
    "def base10to(n, b):\n",
    "    if (int(n/b)):\n",
    "        return base10to(int(n/b), b) + str(n%b)\n",
    "    return str(n%b)\n",
    "print(len(base10to(N,K)))"
   ]
  },
  {
   "cell_type": "code",
   "execution_count": 13,
   "metadata": {},
   "outputs": [
    {
     "name": "stdout",
     "output_type": "stream",
     "text": [
      "7\n",
      "14 14 2 13 56 2 37\n",
      "2354\n"
     ]
    }
   ],
   "source": [
    "#C\n",
    "import numpy as np\n",
    "N = int(input())\n",
    "X = np.array(list(map(int,input().split())))\n",
    "ans_lst = []\n",
    "for p in range(np.min(X),np.max(X)+1):\n",
    "    A = (p-X)**2\n",
    "    ans_lst.append(np.sum(A))\n",
    "print(np.min(ans_lst))"
   ]
  },
  {
   "cell_type": "markdown",
   "metadata": {},
   "source": [
    "# pを法とするnCr & aの逆元"
   ]
  },
  {
   "cell_type": "code",
   "execution_count": 3,
   "metadata": {},
   "outputs": [
    {
     "name": "stdout",
     "output_type": "stream",
     "text": [
      "4 1 3\n",
      "7\n"
     ]
    }
   ],
   "source": [
    "#D\n",
    "import numpy as np\n",
    "\n",
    "mod = 10**9+7\n",
    "\n",
    "def modInverse(a,p):\n",
    "    # Fermat's little theorem, a**(p-1) = 1 mod p\n",
    "    return pow(a,p-2,p)\n",
    "\n",
    "def nCr(n,r,p=mod):\n",
    "    num = 1\n",
    "    den = 1\n",
    "    for i in range(r):\n",
    "        num = (num*(n-i)) % p\n",
    "        den = (den*(i+1)) % p\n",
    "    return num*modInverse(den,p)% p\n",
    "\n",
    "n,a,b = map(int,input().split())\n",
    "\n",
    "all_bouquet = pow(2,n,mod)-1\n",
    "\n",
    "print((all_bouquet-nCr(n,a)-nCr(n,b))%mod)"
   ]
  },
  {
   "cell_type": "code",
   "execution_count": null,
   "metadata": {},
   "outputs": [],
   "source": [
    "#E\n",
    "mod = 10**9+7\n",
    "n,k = map(int,input().split())\n"
   ]
  }
 ],
 "metadata": {
  "kernelspec": {
   "display_name": "Python 3",
   "language": "python",
   "name": "python3"
  },
  "language_info": {
   "codemirror_mode": {
    "name": "ipython",
    "version": 3
   },
   "file_extension": ".py",
   "mimetype": "text/x-python",
   "name": "python",
   "nbconvert_exporter": "python",
   "pygments_lexer": "ipython3",
   "version": "3.7.3"
  }
 },
 "nbformat": 4,
 "nbformat_minor": 2
}
