{
 "cells": [
  {
   "cell_type": "code",
   "execution_count": 1,
   "metadata": {},
   "outputs": [
    {
     "name": "stdout",
     "output_type": "stream",
     "text": [
      "a\n",
      "b\n"
     ]
    }
   ],
   "source": [
    "C = input()\n",
    "alp = [chr(i) for i in range(97,97+26)]\n",
    "ind = alp.index(C)\n",
    "print(alp[ind+1])"
   ]
  },
  {
   "cell_type": "code",
   "execution_count": 6,
   "metadata": {},
   "outputs": [
    {
     "name": "stdout",
     "output_type": "stream",
     "text": [
      "4 100 60\n",
      "0 0 0\n",
      "-1\n"
     ]
    }
   ],
   "source": [
    "N, K, M = map(int,input().split())\n",
    "A = list(map(int,input().split()))\n",
    "for i in range(K+1):\n",
    "    score = sum(A) + (i)\n",
    "    if score/N >= M:\n",
    "        print(i)\n",
    "        break\n",
    "    if i == K:\n",
    "        print(\"-1\")"
   ]
  },
  {
   "cell_type": "code",
   "execution_count": null,
   "metadata": {},
   "outputs": [],
   "source": [
    "N, M = map(int,input().split())\n",
    "penalty = 0\n",
    "correct = 0\n",
    "problem = {}\n",
    "penalty_dict = {}\n",
    "correct_dict = {}\n",
    "for i in range(M):\n",
    "    p, S = map(str,input().split())\n",
    "    if p not in problem:#初提出\n",
    "        problem[p] = S\n",
    "        penalty_dict[p] = 0\n",
    "        correct_dict[p] = 0\n",
    "        if S == \"WA\":#間違えたとき\n",
    "            penalty_dict[p] = 1\n",
    "        elif S == \"AC\":#当たってたとき\n",
    "            correct_dict[p] = 1\n",
    "    else:#既に提出したことがあるとき\n",
    "        if problem[p] == \"AC\":#既に正解しているとき\n",
    "            pass\n",
    "        else:#以前間違えているとき\n",
    "            if S == \"WA\":#また間違えたとき\n",
    "                penalty_dict[p] += 1\n",
    "            else:#今度は正解したとき\n",
    "                correct_dict[p] = 1\n",
    "                problem[p] = \"AC\"\n",
    "for keys in problem.keys():\n",
    "    if problem[keys] == \"AC\":\n",
    "        penalty += penalty_dict[keys]\n",
    "        correct += correct_dict[keys]\n",
    "print(correct,penalty)"
   ]
  },
  {
   "cell_type": "code",
   "execution_count": null,
   "metadata": {},
   "outputs": [],
   "source": [
    "#D\n",
    "H, W = map(int,input().split())\n",
    "maze = []\n",
    "for i in range(H):\n",
    "    row = list(map(str,input().split()))\n",
    "    row.append(maze)\n"
   ]
  }
 ],
 "metadata": {
  "kernelspec": {
   "display_name": "Python 3",
   "language": "python",
   "name": "python3"
  },
  "language_info": {
   "codemirror_mode": {
    "name": "ipython",
    "version": 3
   },
   "file_extension": ".py",
   "mimetype": "text/x-python",
   "name": "python",
   "nbconvert_exporter": "python",
   "pygments_lexer": "ipython3",
   "version": "3.7.3"
  }
 },
 "nbformat": 4,
 "nbformat_minor": 2
}
