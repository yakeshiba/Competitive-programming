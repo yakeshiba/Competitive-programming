{
 "cells": [
  {
   "cell_type": "code",
   "execution_count": null,
   "metadata": {},
   "outputs": [],
   "source": [
    "#A\n",
    "import itertools\n",
    "\n",
    "n = int(input())\n",
    "A = [0]+list(map(int,input().split()))\n",
    "\n",
    "cumsum = list(itertools.accumulate(A))\n",
    "\n",
    "d = {}\n",
    "\n",
    "ans = 0\n",
    "for i in cumsum:\n",
    "    if i not in d:\n",
    "        d[i] = 1\n",
    "    else:\n",
    "        ans += d[i]\n",
    "        d[i] += 1\n",
    "\n",
    "print(ans)"
   ]
  }
 ],
 "metadata": {
  "kernelspec": {
   "display_name": "Python 3",
   "language": "python",
   "name": "python3"
  },
  "language_info": {
   "codemirror_mode": {
    "name": "ipython",
    "version": 3
   },
   "file_extension": ".py",
   "mimetype": "text/x-python",
   "name": "python",
   "nbconvert_exporter": "python",
   "pygments_lexer": "ipython3",
   "version": "3.7.3"
  }
 },
 "nbformat": 4,
 "nbformat_minor": 2
}
