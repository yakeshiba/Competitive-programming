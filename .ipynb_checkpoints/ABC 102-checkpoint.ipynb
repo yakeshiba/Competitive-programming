{
 "cells": [
  {
   "cell_type": "code",
   "execution_count": 1,
   "metadata": {},
   "outputs": [
    {
     "name": "stdout",
     "output_type": "stream",
     "text": [
      "7\n",
      "1 1 1 1 2 3 4\n",
      "[55, 48, 41, 34, 27, 20, 13, 6, 7, 10, 15, 22, 29, 36, 43, 50, 57, 64, 71, 78]\n"
     ]
    }
   ],
   "source": [
    "#C\n",
    "N = int(input())\n",
    "A = list(map(int,input().split()))\n",
    "B = [None]*N\n",
    "for i in range(N):\n",
    "    B[i] = A[i] - (i+1)\n",
    "B.sort()\n",
    "\n",
    "b = []\n",
    "if len(B)%2 == 1:\n",
    "    b.append(B[len(B)//2])\n",
    "else:\n",
    "    b.append(B[len(B)//2])\n",
    "    b.append(B[len(B)//2 - 1])\n",
    "\n",
    "ans = 0\n",
    "if len(b) == 1:\n",
    "    for n in B:\n",
    "        ans += abs(n-b[0])\n",
    "else:\n",
    "    tmp1 = 0\n",
    "    tmp2 = 0\n",
    "    for n in B:\n",
    "        tmp1 += abs(n-b[0])\n",
    "        tmp2 += abs(n-b[1])\n",
    "    ans = min(tmp1,tmp2)\n",
    "print(ans)"
   ]
  }
 ],
 "metadata": {
  "kernelspec": {
   "display_name": "Python 3",
   "language": "python",
   "name": "python3"
  },
  "language_info": {
   "codemirror_mode": {
    "name": "ipython",
    "version": 3
   },
   "file_extension": ".py",
   "mimetype": "text/x-python",
   "name": "python",
   "nbconvert_exporter": "python",
   "pygments_lexer": "ipython3",
   "version": "3.7.3"
  }
 },
 "nbformat": 4,
 "nbformat_minor": 2
}
