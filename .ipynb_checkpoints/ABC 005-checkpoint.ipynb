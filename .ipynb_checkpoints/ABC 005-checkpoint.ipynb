{
 "cells": [
  {
   "cell_type": "code",
   "execution_count": null,
   "metadata": {},
   "outputs": [],
   "source": [
    "t = int(input())\n",
    "n = int(input())\n",
    "A = list(map(lambda x:int(x)-1,input().split()))\n",
    "m = int(input())\n",
    "B = list(map(lambda x:int(x)-1,input().split()))\n",
    "\n",
    "l = 0\n",
    "f = True\n",
    "for b in B:\n",
    "    if not f:\n",
    "        break\n",
    "    if l >= n:\n",
    "        f = False\n",
    "        break\n",
    "    if A[l] <= b <= A[l]+t:\n",
    "        l += 1\n",
    "    else:\n",
    "        while True:\n",
    "            l += 1\n",
    "            if l >= n:\n",
    "                f = False\n",
    "                break\n",
    "            if A[l] <= b <= A[l]+t:\n",
    "                l += 1\n",
    "                break\n",
    "if f:\n",
    "    print('yes')\n",
    "else:\n",
    "    print('no')"
   ]
  }
 ],
 "metadata": {
  "kernelspec": {
   "display_name": "Python 3",
   "language": "python",
   "name": "python3"
  },
  "language_info": {
   "codemirror_mode": {
    "name": "ipython",
    "version": 3
   },
   "file_extension": ".py",
   "mimetype": "text/x-python",
   "name": "python",
   "nbconvert_exporter": "python",
   "pygments_lexer": "ipython3",
   "version": "3.7.3"
  }
 },
 "nbformat": 4,
 "nbformat_minor": 2
}
