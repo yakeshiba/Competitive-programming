{
 "cells": [
  {
   "cell_type": "code",
   "execution_count": 1,
   "metadata": {},
   "outputs": [],
   "source": [
    "import sys\n",
    "for line in sys.stdin:\n",
    "    a = int(line)\n",
    "    print(a**2)"
   ]
  },
  {
   "cell_type": "code",
   "execution_count": null,
   "metadata": {},
   "outputs": [],
   "source": [
    "import sys\n",
    "for line in sys.stdin:\n",
    "    num_list = line.strip(\"\\n\").split(\" \")\n",
    "    \n",
    "ans = []\n",
    "is_duplicate = False#重複判定用\n",
    "\n",
    "for i in range(len(num_list)):\n",
    "    is_duplicate = False\n",
    "    if num_list[i] == \"0\":\n",
    "        pass\n",
    "    else:\n",
    "        for j in range(len(ans)):\n",
    "            if num_list[i] == ans[j]:\n",
    "                is_duplicate = True\n",
    "                break\n",
    "        if is_duplicate == False:\n",
    "            ans.append(str(num_list[i]))\n",
    "ans_output = ' '.join(ans)\n",
    "print(ans_output)"
   ]
  },
  {
   "cell_type": "code",
   "execution_count": null,
   "metadata": {},
   "outputs": [],
   "source": []
  }
 ],
 "metadata": {
  "kernelspec": {
   "display_name": "Python 3",
   "language": "python",
   "name": "python3"
  },
  "language_info": {
   "codemirror_mode": {
    "name": "ipython",
    "version": 3
   },
   "file_extension": ".py",
   "mimetype": "text/x-python",
   "name": "python",
   "nbconvert_exporter": "python",
   "pygments_lexer": "ipython3",
   "version": "3.7.8"
  }
 },
 "nbformat": 4,
 "nbformat_minor": 2
}
