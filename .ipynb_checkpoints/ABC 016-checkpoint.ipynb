{
 "cells": [
  {
   "cell_type": "code",
   "execution_count": null,
   "metadata": {},
   "outputs": [],
   "source": [
    "#C\n",
    "n, m = map(int,input().split())\n",
    "\n",
    "friends = [[] for _ in range(n)]\n",
    "for i in range(m):\n",
    "    a, b = map(lambda x:int(x)-1, input().split())\n",
    "    friends[a].append(b)\n",
    "    friends[b].append(a)\n",
    "for i in range(n):\n",
    "    friends[i].append(i)\n",
    "\n",
    "ans = [0]*n\n",
    "for i in range(n):\n",
    "    visited = [0]*n\n",
    "    visited[i] = 1\n",
    "    for p in friends[i]:\n",
    "        for q in friends[p]:#友人の友人の友人関係\n",
    "            if i == q:\n",
    "                continue\n",
    "            if i not in friends[q]:\n",
    "                if visited[q]:\n",
    "                    continue\n",
    "                visited[q] = 1\n",
    "                ans[i] += 1\n",
    "print(*ans, sep=\"\\n\")"
   ]
  }
 ],
 "metadata": {
  "kernelspec": {
   "display_name": "Python 3",
   "language": "python",
   "name": "python3"
  },
  "language_info": {
   "codemirror_mode": {
    "name": "ipython",
    "version": 3
   },
   "file_extension": ".py",
   "mimetype": "text/x-python",
   "name": "python",
   "nbconvert_exporter": "python",
   "pygments_lexer": "ipython3",
   "version": "3.7.3"
  }
 },
 "nbformat": 4,
 "nbformat_minor": 2
}
