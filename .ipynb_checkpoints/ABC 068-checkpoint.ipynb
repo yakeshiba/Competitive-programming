{
 "cells": [
  {
   "cell_type": "code",
   "execution_count": null,
   "metadata": {},
   "outputs": [],
   "source": [
    "#C\n",
    "n, m = map(int,input().split())\n",
    "\n",
    "edge = [[] for i in range(n)]\n",
    "\n",
    "for i in range(m):\n",
    "    a, b = map(lambda x:int(x)-1,input().split())\n",
    "    edge[a].append(b)\n",
    "\n",
    "possible = False\n",
    "for to in edge[0]:\n",
    "    if n-1 in edge[to]:\n",
    "        possible = True\n",
    "        break\n",
    "\n",
    "print(\"POSSIBLE\" if possible else \"IMPOSSIBLE\")"
   ]
  }
 ],
 "metadata": {
  "kernelspec": {
   "display_name": "Python 3",
   "language": "python",
   "name": "python3"
  },
  "language_info": {
   "codemirror_mode": {
    "name": "ipython",
    "version": 3
   },
   "file_extension": ".py",
   "mimetype": "text/x-python",
   "name": "python",
   "nbconvert_exporter": "python",
   "pygments_lexer": "ipython3",
   "version": "3.7.8"
  }
 },
 "nbformat": 4,
 "nbformat_minor": 4
}
