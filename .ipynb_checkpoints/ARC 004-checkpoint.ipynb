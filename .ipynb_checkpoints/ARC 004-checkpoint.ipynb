{
 "cells": [
  {
   "cell_type": "code",
   "execution_count": null,
   "metadata": {},
   "outputs": [],
   "source": [
    "#B\n",
    "N = int(input())\n",
    "\n",
    "d = [0]*N\n",
    "for i in range(N):\n",
    "    d[i] = int(input())\n",
    "    \n",
    "d.sort()\n",
    "\n",
    "print(sum(d))\n",
    "print(max(0, d[-1] - sum(d[:N-1])))"
   ]
  }
 ],
 "metadata": {
  "kernelspec": {
   "display_name": "Python 3",
   "language": "python",
   "name": "python3"
  },
  "language_info": {
   "codemirror_mode": {
    "name": "ipython",
    "version": 3
   },
   "file_extension": ".py",
   "mimetype": "text/x-python",
   "name": "python",
   "nbconvert_exporter": "python",
   "pygments_lexer": "ipython3",
   "version": "3.7.3"
  }
 },
 "nbformat": 4,
 "nbformat_minor": 2
}
