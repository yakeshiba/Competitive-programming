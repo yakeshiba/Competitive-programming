{
 "cells": [
  {
   "cell_type": "code",
   "execution_count": 2,
   "metadata": {},
   "outputs": [
    {
     "name": "stdout",
     "output_type": "stream",
     "text": [
      "123\n",
      "No\n"
     ]
    }
   ],
   "source": [
    "#A\n",
    "N = input()\n",
    "for s in N:\n",
    "    if s == \"7\":\n",
    "        print('Yes')\n",
    "        break\n",
    "else:\n",
    "    print('No')"
   ]
  },
  {
   "cell_type": "code",
   "execution_count": 5,
   "metadata": {},
   "outputs": [
    {
     "name": "stdout",
     "output_type": "stream",
     "text": [
      "1000000\n",
      "266666333332\n"
     ]
    }
   ],
   "source": [
    "#B\n",
    "N = int(input())\n",
    "ans = 0\n",
    "for i in range(1,N+1):\n",
    "    if i%3 != 0 and i%5 != 0:\n",
    "        ans += i\n",
    "print(ans)"
   ]
  },
  {
   "cell_type": "code",
   "execution_count": null,
   "metadata": {},
   "outputs": [],
   "source": [
    "#C\n",
    "def gcd(a, b):\n",
    "    while b:\n",
    "        a, b = b, a % b\n",
    "    return a\n",
    "\n",
    "K = int(input())\n",
    "ans = 0\n",
    "for a in range(1,K+1):\n",
    "    for b in range(a,K+1):\n",
    "        for c in range(b,K+1):\n",
    "            if a != b and b != c and a != c:\n",
    "                ans += 6*gcd(gcd(a,b),c)\n",
    "            elif a == b or b == c or a == c:\n",
    "                if a == b and b == c:\n",
    "                    ans += gcd(gcd(a,b),c)\n",
    "                else:\n",
    "                    ans += 3*gcd(gcd(a,b),c)\n",
    "print(ans)"
   ]
  },
  {
   "cell_type": "code",
   "execution_count": 46,
   "metadata": {},
   "outputs": [
    {
     "name": "stdout",
     "output_type": "stream",
     "text": [
      "16000000\n"
     ]
    }
   ],
   "source": [
    "#D\n"
   ]
  }
 ],
 "metadata": {
  "kernelspec": {
   "display_name": "Python 3",
   "language": "python",
   "name": "python3"
  },
  "language_info": {
   "codemirror_mode": {
    "name": "ipython",
    "version": 3
   },
   "file_extension": ".py",
   "mimetype": "text/x-python",
   "name": "python",
   "nbconvert_exporter": "python",
   "pygments_lexer": "ipython3",
   "version": "3.7.3"
  }
 },
 "nbformat": 4,
 "nbformat_minor": 2
}
