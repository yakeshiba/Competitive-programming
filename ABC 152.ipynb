{
 "cells": [
  {
   "cell_type": "code",
   "execution_count": null,
   "metadata": {},
   "outputs": [],
   "source": [
    "#A\n",
    "N, M = map(int,input().split())\n",
    "if N == M:\n",
    "    print(\"Yes\")\n",
    "else:\n",
    "    print(\"No\")"
   ]
  },
  {
   "cell_type": "code",
   "execution_count": 3,
   "metadata": {},
   "outputs": [
    {
     "name": "stdout",
     "output_type": "stream",
     "text": [
      "4 3\n",
      "3333\n"
     ]
    }
   ],
   "source": [
    "#B\n",
    "a, b = map(int,input().split())\n",
    "tmp1 = str(a)*b\n",
    "tmp2 = str(b)*a\n",
    "if a <= b:\n",
    "    print(int(tmp1))\n",
    "else:\n",
    "    print(int(tmp2))"
   ]
  },
  {
   "cell_type": "code",
   "execution_count": null,
   "metadata": {},
   "outputs": [],
   "source": [
    "#C\n",
    "N = int(input())\n",
    "P = list(map(int,input().split()))\n",
    "#それまでに出た数字の中で一番小さいか\n",
    "minimum = P[0]#初期値\n",
    "\n",
    "ans = 1\n",
    "for i in range(N-1):\n",
    "    if P[i+1] <= minimum:\n",
    "        ans += 1\n",
    "        minimum = P[i+1]\n",
    "print(ans)"
   ]
  },
  {
   "cell_type": "code",
   "execution_count": null,
   "metadata": {},
   "outputs": [],
   "source": [
    "#D TLE\n",
    "N = int(input())\n",
    "ans_double = 0\n",
    "ans_same = 0\n",
    "for i in range(1,N+1):\n",
    "    #print(\"*\"+str(i)+\"*\")\n",
    "    for j in range(N-(i-1)):\n",
    "        a = str(i)\n",
    "        b = str(i+j)\n",
    "        if a[-1] == b[0] and a[0] == b[-1]:\n",
    "            #print(a,b)\n",
    "            if int(a) == int(b):\n",
    "                ans_same += 1\n",
    "            else:\n",
    "                ans_double += 1\n",
    "print(ans_same+2*ans_double)"
   ]
  },
  {
   "cell_type": "code",
   "execution_count": 9,
   "metadata": {},
   "outputs": [
    {
     "name": "stdout",
     "output_type": "stream",
     "text": [
      "25\n",
      "17\n"
     ]
    }
   ],
   "source": [
    "N = int(input())\n",
    "numbers = [[0]*10 for i in range(10)]\n",
    "for i in range(1,N+1):\n",
    "    a = str(i)\n",
    "    numbers[int(a[0])][int(a[-1])] += 1\n",
    "ans = 0\n",
    "for s in range(10):\n",
    "    for t in range(10):\n",
    "        ans += numbers[s][t] * numbers[t][s]\n",
    "print(ans)"
   ]
  },
  {
   "cell_type": "code",
   "execution_count": null,
   "metadata": {},
   "outputs": [],
   "source": [
    "N = int(input())\n",
    "A = list(map(int,input().split()))"
   ]
  }
 ],
 "metadata": {
  "kernelspec": {
   "display_name": "Python 3",
   "language": "python",
   "name": "python3"
  },
  "language_info": {
   "codemirror_mode": {
    "name": "ipython",
    "version": 3
   },
   "file_extension": ".py",
   "mimetype": "text/x-python",
   "name": "python",
   "nbconvert_exporter": "python",
   "pygments_lexer": "ipython3",
   "version": "3.7.3"
  }
 },
 "nbformat": 4,
 "nbformat_minor": 2
}
