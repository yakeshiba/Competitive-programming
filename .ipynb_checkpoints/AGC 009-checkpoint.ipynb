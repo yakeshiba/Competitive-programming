{
 "cells": [
  {
   "cell_type": "code",
   "execution_count": null,
   "metadata": {},
   "outputs": [],
   "source": [
    "#A\n",
    "n = int(input())\n",
    "A = []\n",
    "B = []\n",
    "for i in range(n):\n",
    "    a, b = map(int,input().split())\n",
    "    A.append(a)\n",
    "    B.append(b)\n",
    "\n",
    "ans = 0\n",
    "now = 0\n",
    "for i in range(n-1,-1,-1):\n",
    "    check = (A[i]+now)%B[i]\n",
    "    if not check:\n",
    "        continue\n",
    "    tmp = B[i] - check\n",
    "    ans += tmp\n",
    "    now += tmp\n",
    "\n",
    "print(ans)"
   ]
  }
 ],
 "metadata": {
  "kernelspec": {
   "display_name": "Python 3",
   "language": "python",
   "name": "python3"
  },
  "language_info": {
   "codemirror_mode": {
    "name": "ipython",
    "version": 3
   },
   "file_extension": ".py",
   "mimetype": "text/x-python",
   "name": "python",
   "nbconvert_exporter": "python",
   "pygments_lexer": "ipython3",
   "version": "3.7.8"
  }
 },
 "nbformat": 4,
 "nbformat_minor": 4
}
