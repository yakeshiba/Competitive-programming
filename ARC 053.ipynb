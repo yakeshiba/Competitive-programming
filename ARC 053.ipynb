{
 "cells": [
  {
   "cell_type": "code",
   "execution_count": null,
   "metadata": {},
   "outputs": [],
   "source": [
    "#B\n",
    "from collections import Counter\n",
    "\n",
    "S = input()\n",
    "\n",
    "cnt = Counter(S)\n",
    "\n",
    "#奇数の個数分s_iができる\n",
    "cnt_s = 0\n",
    "for value in cnt.values():\n",
    "    if value%2:\n",
    "        cnt_s += 1\n",
    "\n",
    "if cnt_s:\n",
    "    x = ((len(S)-cnt_s)//2)//cnt_s\n",
    "    print(2*x+1)\n",
    "else:\n",
    "    print(len(S))"
   ]
  }
 ],
 "metadata": {
  "kernelspec": {
   "display_name": "Python 3",
   "language": "python",
   "name": "python3"
  },
  "language_info": {
   "codemirror_mode": {
    "name": "ipython",
    "version": 3
   },
   "file_extension": ".py",
   "mimetype": "text/x-python",
   "name": "python",
   "nbconvert_exporter": "python",
   "pygments_lexer": "ipython3",
   "version": "3.7.3"
  }
 },
 "nbformat": 4,
 "nbformat_minor": 2
}
