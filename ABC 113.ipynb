{
 "cells": [
  {
   "cell_type": "code",
   "execution_count": null,
   "metadata": {},
   "outputs": [],
   "source": [
    "#C\n",
    "n, m = map(int,input().split())\n",
    "\n",
    "d = {}\n",
    "for i in range(m):\n",
    "    p, y = map(int,input().split())\n",
    "    if p not in d:\n",
    "        d[p] = [(y, i)]\n",
    "    else:\n",
    "        d[p].append((y, i))\n",
    "\n",
    "ans = [0]*m\n",
    "for k, v in d.items():\n",
    "    vl = v\n",
    "    vl.sort()\n",
    "    num = 1\n",
    "    for city in vl:\n",
    "        pre = str(k).zfill(6)\n",
    "        c = str(num).zfill(6)\n",
    "        ans[city[1]] = pre+c\n",
    "        num += 1\n",
    "print(*ans,sep=\"\\n\")"
   ]
  }
 ],
 "metadata": {
  "kernelspec": {
   "display_name": "Python 3",
   "language": "python",
   "name": "python3"
  },
  "language_info": {
   "codemirror_mode": {
    "name": "ipython",
    "version": 3
   },
   "file_extension": ".py",
   "mimetype": "text/x-python",
   "name": "python",
   "nbconvert_exporter": "python",
   "pygments_lexer": "ipython3",
   "version": "3.7.3"
  }
 },
 "nbformat": 4,
 "nbformat_minor": 2
}
