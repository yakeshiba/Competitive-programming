{
 "cells": [
  {
   "cell_type": "code",
   "execution_count": null,
   "metadata": {},
   "outputs": [],
   "source": [
    "#D\n",
    "class SegmentTree:\n",
    "    # 初期化処理\n",
    "    # f : SegmentTreeにのせるモノイド\n",
    "    # default : fに対する単位元\n",
    "    def __init__(self, size, f=lambda x,y : x+y, default=0):\n",
    "        self.size = 2**(size-1).bit_length() # 簡単のため要素数Nを2冪にする\n",
    "        self.default = default\n",
    "        self.dat = [default]*(self.size*2) # 要素を単位元で初期化\n",
    "        self.f = f\n",
    "\n",
    "    def update(self, i, x):\n",
    "        i += self.size\n",
    "        self.dat[i] = x\n",
    "        while i > 0:\n",
    "            i >>= 1\n",
    "            self.dat[i] = self.f(self.dat[i*2], self.dat[i*2+1])\n",
    "\n",
    "    def query(self, l, r):\n",
    "        l += self.size\n",
    "        r += self.size\n",
    "        lres, rres = self.default, self.default\n",
    "        while l < r:\n",
    "            if l & 1:\n",
    "                lres = self.f(lres, self.dat[l])\n",
    "                l += 1\n",
    "\n",
    "            if r & 1:\n",
    "                r -= 1\n",
    "                rres = self.f(self.dat[r], rres) # モノイドでは可換律は保証されていないので演算の方向に注意\n",
    "            l >>= 1\n",
    "            r >>= 1\n",
    "        res = self.f(lres, rres)\n",
    "        return res\n",
    "\n",
    "n, k = map(int,input().split())\n",
    "\n",
    "A = []\n",
    "for _ in range(n):\n",
    "    a = int(input())\n",
    "    A.append(a)\n",
    "mx = max(A)\n",
    "#最後に選ぶのがaのとき\n",
    "s = SegmentTree(mx+1, max)\n",
    "for a in A:\n",
    "    now = s.query(max(0,a-k), min(mx,a+k)+1)\n",
    "    replace = now+1\n",
    "    s.update(a, replace)\n",
    "    \n",
    "print(s.query(0,mx+1))"
   ]
  }
 ],
 "metadata": {
  "kernelspec": {
   "display_name": "Python 3",
   "language": "python",
   "name": "python3"
  },
  "language_info": {
   "codemirror_mode": {
    "name": "ipython",
    "version": 3
   },
   "file_extension": ".py",
   "mimetype": "text/x-python",
   "name": "python",
   "nbconvert_exporter": "python",
   "pygments_lexer": "ipython3",
   "version": "3.7.8"
  }
 },
 "nbformat": 4,
 "nbformat_minor": 4
}
