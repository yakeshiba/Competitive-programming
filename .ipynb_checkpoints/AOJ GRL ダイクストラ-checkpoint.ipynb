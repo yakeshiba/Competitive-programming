{
 "cells": [
  {
   "cell_type": "markdown",
   "metadata": {},
   "source": [
    "# GRL_1_A\n",
    "### http://judge.u-aizu.ac.jp/onlinejudge/description.jsp?id=GRL_1_A&lang=ja"
   ]
  },
  {
   "cell_type": "markdown",
   "metadata": {},
   "source": [
    "edgeにappendする際に注意（[距離，行き先]の順に格納したリストをappendすること）"
   ]
  },
  {
   "cell_type": "code",
   "execution_count": null,
   "metadata": {},
   "outputs": [],
   "source": [
    "from heapq import heapify, heappop, heappush\n",
    "# スタート地点，ノードの数，edge\n",
    "def dij(start: int, node_num: int, edge: list) -> list:\n",
    "    d = [float(\"inf\")]*node_num\n",
    "    d[start] = 0\n",
    "    q = [(0,start)]\n",
    " \n",
    "    while len(q) != 0:\n",
    "        ci, i = heappop(q)\n",
    "        if d[i] < ci:\n",
    "            continue\n",
    "        for cj, j in edge[i]:\n",
    "            if d[j] > d[i] + cj:\n",
    "                d[j] = d[i] + cj\n",
    "                heappush(q, (d[j], j))\n",
    "    return d\n",
    "    \n",
    "n, m, r = map(int,input().split())\n",
    "edge = [[] for _ in range(n)]\n",
    "for _ in range(m):\n",
    "    s, t, d = map(int,input().split())\n",
    "    edge[s].append([d, t]) #←ここ注意\n",
    "\n",
    "d = dij(r, n, edge)\n",
    "        \n",
    "for i in d:\n",
    "    if i == float('inf'):\n",
    "        print('INF')\n",
    "    else:\n",
    "        print(i)"
   ]
  }
 ],
 "metadata": {
  "kernelspec": {
   "display_name": "Python 3",
   "language": "python",
   "name": "python3"
  },
  "language_info": {
   "codemirror_mode": {
    "name": "ipython",
    "version": 3
   },
   "file_extension": ".py",
   "mimetype": "text/x-python",
   "name": "python",
   "nbconvert_exporter": "python",
   "pygments_lexer": "ipython3",
   "version": "3.7.8"
  }
 },
 "nbformat": 4,
 "nbformat_minor": 4
}
