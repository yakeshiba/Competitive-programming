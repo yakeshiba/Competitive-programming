{
 "cells": [
  {
   "cell_type": "code",
   "execution_count": null,
   "metadata": {},
   "outputs": [],
   "source": [
    "#B\n",
    "n = int(input())\n",
    "D = list(map(int,input().split()))\n",
    "m = int(input())\n",
    "T = list(map(int,input().split()))\n",
    "\n",
    "p = {}\n",
    "for d in D:\n",
    "    if d not in p:\n",
    "        p[d] = 1\n",
    "    else:\n",
    "        p[d] += 1\n",
    "\n",
    "for t in T:\n",
    "    if t not in p:\n",
    "        print('NO')\n",
    "        exit()\n",
    "    if p[t] == 0:\n",
    "        print('NO')\n",
    "        exit()\n",
    "    p[t] -= 1\n",
    "    \n",
    "print('YES')"
   ]
  }
 ],
 "metadata": {
  "kernelspec": {
   "display_name": "Python 3",
   "language": "python",
   "name": "python3"
  },
  "language_info": {
   "codemirror_mode": {
    "name": "ipython",
    "version": 3
   },
   "file_extension": ".py",
   "mimetype": "text/x-python",
   "name": "python",
   "nbconvert_exporter": "python",
   "pygments_lexer": "ipython3",
   "version": "3.7.8"
  }
 },
 "nbformat": 4,
 "nbformat_minor": 4
}
