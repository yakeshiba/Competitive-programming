{
 "cells": [
  {
   "cell_type": "code",
   "execution_count": null,
   "metadata": {},
   "outputs": [],
   "source": [
    "#C\n",
    "t = int(input())\n",
    "\n",
    "for _ in range(t):\n",
    "    n = int(input())\n",
    "    A = list(map(int,input().split()))\n",
    "    m = max(A)\n",
    "    for i,a in enumerate(A):\n",
    "        if a == m:\n",
    "            if i-1 >= 0 and A[i-1] < A[i]:\n",
    "                print(i+1)\n",
    "                break\n",
    "            if i+1 < n and A[i+1] < A[i]:\n",
    "                print(i+1)\n",
    "                break\n",
    "    else:\n",
    "        print(-1)"
   ]
  },
  {
   "cell_type": "code",
   "execution_count": null,
   "metadata": {},
   "outputs": [],
   "source": [
    "#D\n",
    "t = int(input())\n",
    "\n",
    "for _ in range(t):\n",
    "    n = int(input())\n",
    "    A = list(map(int,input().split()))\n",
    "    if A.count(max(A)) == n:\n",
    "        print('NO')\n",
    "        continue\n",
    "    \n",
    "    print('YES')\n",
    "    ans = []\n",
    "    d = None\n",
    "    el = None\n",
    "    tmp = []\n",
    "    for i,a in enumerate(A):\n",
    "        if d == None:\n",
    "            d = a\n",
    "            continue\n",
    "        if a != d:\n",
    "            if el == None:\n",
    "                el = i+1\n",
    "            ans.append((1, i+1))\n",
    "        else:\n",
    "            if el != None:\n",
    "                ans.append((i+1, el))\n",
    "            else:\n",
    "                tmp.append(i+1)\n",
    "    for t in tmp:\n",
    "        ans.append((t, el))\n",
    "    for p,q in ans:\n",
    "        print(p, q)"
   ]
  },
  {
   "cell_type": "code",
   "execution_count": null,
   "metadata": {},
   "outputs": [],
   "source": [
    "#E\n",
    "import math\n",
    "\n",
    "def permutations_count(n, r):\n",
    "    return math.factorial(n) // math.factorial(n - r)\n",
    "def combinations_count(n, r):\n",
    "    return math.factorial(n) // (math.factorial(n - r) * math.factorial(r))\n",
    "\n",
    "n = int(input())\n",
    "\n",
    "pair = combinations_count(n, n//2)//2\n",
    "\n",
    "print(pair*permutations_count(n//2-1, n//2-1)**2)"
   ]
  }
 ],
 "metadata": {
  "kernelspec": {
   "display_name": "Python 3",
   "language": "python",
   "name": "python3"
  },
  "language_info": {
   "codemirror_mode": {
    "name": "ipython",
    "version": 3
   },
   "file_extension": ".py",
   "mimetype": "text/x-python",
   "name": "python",
   "nbconvert_exporter": "python",
   "pygments_lexer": "ipython3",
   "version": "3.7.8"
  }
 },
 "nbformat": 4,
 "nbformat_minor": 4
}
