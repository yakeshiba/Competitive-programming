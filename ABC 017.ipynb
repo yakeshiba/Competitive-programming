{
 "cells": [
  {
   "cell_type": "code",
   "execution_count": null,
   "metadata": {},
   "outputs": [],
   "source": [
    "#B\n",
    "X = input()\n",
    "check = [\"o\", \"k\", \"u\"]\n",
    "if len(X) == 1:\n",
    "    if X[0] in check:\n",
    "        print('YES')\n",
    "    else:\n",
    "        print('NO')\n",
    "else:\n",
    "    for i in range(len(X)-1):\n",
    "        if X[i] in check:\n",
    "            continue\n",
    "        elif X[i] == \"c\":\n",
    "            if X[i+1] != \"h\":\n",
    "                print('NO')\n",
    "                break\n",
    "        elif X[i] == \"h\":\n",
    "            if i >= 1 and X[i-1] == \"c\":\n",
    "                pass\n",
    "            else:\n",
    "                print('NO')\n",
    "                break\n",
    "        else:\n",
    "            print('NO')\n",
    "            break\n",
    "    else:\n",
    "        if X[-1] in check:\n",
    "            print('YES')\n",
    "        elif X[-1] == \"h\":\n",
    "            if X[-2] == \"c\":\n",
    "                print('YES')\n",
    "            else:\n",
    "                print('NO')\n",
    "        else:\n",
    "            print('NO')"
   ]
  }
 ],
 "metadata": {
  "kernelspec": {
   "display_name": "Python 3",
   "language": "python",
   "name": "python3"
  },
  "language_info": {
   "codemirror_mode": {
    "name": "ipython",
    "version": 3
   },
   "file_extension": ".py",
   "mimetype": "text/x-python",
   "name": "python",
   "nbconvert_exporter": "python",
   "pygments_lexer": "ipython3",
   "version": "3.7.3"
  }
 },
 "nbformat": 4,
 "nbformat_minor": 2
}
