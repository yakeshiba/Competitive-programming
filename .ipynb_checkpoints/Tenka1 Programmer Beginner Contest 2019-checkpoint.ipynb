{
 "cells": [
  {
   "cell_type": "code",
   "execution_count": 6,
   "metadata": {},
   "outputs": [
    {
     "name": "stdout",
     "output_type": "stream",
     "text": [
      "3\n",
      ".#.\n",
      "1\n"
     ]
    }
   ],
   "source": [
    "#C\n",
    "N = int(input())\n",
    "S = input()\n",
    "\n",
    "white = S.count(\".\")\n",
    "\n",
    "#初めの境界は一番左（(ココ↓)..###..#.#.）\n",
    "#境界の左の黒と右の白は変えなきゃならない\n",
    "leftb = 0#はじめ，境界の左の黒の数は０（左には石がない）\n",
    "rightw = white#はじめ，境界の右の白の数は入力された\".\"の数そのもの（右には全部の石がある）\n",
    "\n",
    "ans = min(white,N-white)#全部黒or白に変えるとしたら\n",
    "\n",
    "for stone in S:#左に白の塊，その右に黒の塊にしたい.その境界をiで探す\n",
    "    if stone == \"#\":#ある境界より左にある黒の数\n",
    "        leftb += 1\n",
    "    else:\n",
    "        rightw -= 1#ある境界より右にある白の数\n",
    "    ans = min(ans,leftb+rightw)\n",
    "print(ans)"
   ]
  },
  {
   "cell_type": "code",
   "execution_count": null,
   "metadata": {},
   "outputs": [],
   "source": [
    "#C 解きなおし\n",
    "n = int(input())\n",
    "S = input()\n",
    "#右にある白，左にある黒\n",
    "cnt = [0]*(n+1)\n",
    "white = S.count(\".\")\n",
    "black = 0\n",
    "cnt[0] = white\n",
    "for i in range(n):\n",
    "    if S[i] == \".\":\n",
    "        white -= 1\n",
    "    else:\n",
    "        black += 1\n",
    "    cnt[i+1] = black + white\n",
    "print(min(cnt))"
   ]
  }
 ],
 "metadata": {
  "kernelspec": {
   "display_name": "Python 3",
   "language": "python",
   "name": "python3"
  },
  "language_info": {
   "codemirror_mode": {
    "name": "ipython",
    "version": 3
   },
   "file_extension": ".py",
   "mimetype": "text/x-python",
   "name": "python",
   "nbconvert_exporter": "python",
   "pygments_lexer": "ipython3",
   "version": "3.7.3"
  }
 },
 "nbformat": 4,
 "nbformat_minor": 2
}
