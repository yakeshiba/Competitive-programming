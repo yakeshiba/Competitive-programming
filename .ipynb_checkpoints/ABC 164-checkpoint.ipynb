{
 "cells": [
  {
   "cell_type": "code",
   "execution_count": null,
   "metadata": {},
   "outputs": [],
   "source": [
    "#D\n",
    "S = input()[::-1]\n",
    "\n",
    "now = 0\n",
    "ans = 0\n",
    "ten = 1\n",
    "d = {0:1}\n",
    "for i, s in enumerate(S):\n",
    "    now = (now+int(s)*ten)%2019\n",
    "    ten = 10*ten%2019\n",
    "    if now not in d:\n",
    "        d[now] = 1\n",
    "    else:\n",
    "        ans += d[now]\n",
    "        d[now] += 1\n",
    "    \n",
    "print(ans)"
   ]
  },
  {
   "cell_type": "code",
   "execution_count": null,
   "metadata": {},
   "outputs": [],
   "source": [
    "#D\n",
    "import itertools\n",
    "\n",
    "S = input()[::-1]\n",
    "\n",
    "m = [0]*len(S)\n",
    "tmp = 1\n",
    "for i in range(len(S)):\n",
    "    m[i] = int(S[i])*tmp%2019\n",
    "    tmp = tmp*10%2019\n",
    "\n",
    "cum = [0]+[0]*len(S)\n",
    "for i in range(1,len(S)+1):\n",
    "    cum[i] = (cum[i-1]+m[i-1])%2019\n",
    "\n",
    "d = {}\n",
    "ans = 0\n",
    "for i in range(len(cum)):\n",
    "    if cum[i] not in d:\n",
    "        d[cum[i]] = 1\n",
    "    else:\n",
    "        ans += d[cum[i]]\n",
    "        d[cum[i]] += 1\n",
    "print(ans)"
   ]
  }
 ],
 "metadata": {
  "kernelspec": {
   "display_name": "Python 3",
   "language": "python",
   "name": "python3"
  },
  "language_info": {
   "codemirror_mode": {
    "name": "ipython",
    "version": 3
   },
   "file_extension": ".py",
   "mimetype": "text/x-python",
   "name": "python",
   "nbconvert_exporter": "python",
   "pygments_lexer": "ipython3",
   "version": "3.7.8"
  }
 },
 "nbformat": 4,
 "nbformat_minor": 2
}
