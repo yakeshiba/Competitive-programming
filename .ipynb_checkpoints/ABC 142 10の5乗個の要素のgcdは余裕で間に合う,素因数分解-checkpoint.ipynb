{
 "cells": [
  {
   "cell_type": "code",
   "execution_count": 9,
   "metadata": {},
   "outputs": [
    {
     "name": "stdout",
     "output_type": "stream",
     "text": [
      "99\n",
      "0.5050505050505051\n"
     ]
    }
   ],
   "source": [
    "#A\n",
    "N = int(input())\n",
    "print(-(-N//2)/N)"
   ]
  },
  {
   "cell_type": "code",
   "execution_count": null,
   "metadata": {},
   "outputs": [],
   "source": [
    "#B\n",
    "import numpy as np\n",
    "N,K = map(int,input().split())\n",
    "h = np.array([int(i) for i in input().split()])\n",
    "print(np.count_nonzero(h>=K))"
   ]
  },
  {
   "cell_type": "code",
   "execution_count": 11,
   "metadata": {},
   "outputs": [
    {
     "name": "stdout",
     "output_type": "stream",
     "text": [
      "2\n",
      "2 3 4\n",
      "['2', '3', '4']\n"
     ]
    }
   ],
   "source": [
    "#C\n",
    "N = int(input())\n",
    "h = input().split()\n",
    "hh = [None]*N\n",
    "for i in range(N):\n",
    "    hh[i] = (int(h[i]),i+1)\n",
    "hh.sort()\n",
    "ans = []\n",
    "for i in range(N):\n",
    "    ans.append(hh[i][1])\n",
    "print(*ans)"
   ]
  },
  {
   "cell_type": "code",
   "execution_count": null,
   "metadata": {},
   "outputs": [],
   "source": [
    "#D\n",
    "import fractions\n",
    "\n",
    "A,B = map(int,input().split())\n",
    "gcd = fractions.gcd(A, B)\n",
    "\n",
    "def factorization(n):\n",
    "    arr = []\n",
    "    temp = n\n",
    "    for i in range(2, int(-(-n**0.5//1))+1):\n",
    "        if temp%i==0:\n",
    "            cnt=0\n",
    "            while temp%i==0:\n",
    "                cnt+=1\n",
    "                temp //= i\n",
    "            arr.append([i, cnt])\n",
    "\n",
    "    if temp!=1:\n",
    "        arr.append([temp, 1])\n",
    "\n",
    "    if arr==[]:\n",
    "        arr.append([n, 1])\n",
    "\n",
    "    return arr\n",
    "\n",
    "a = factorization(gcd)\n",
    "#print(a[0])\n",
    "ans = len(a)\n",
    "if ans == 1:\n",
    "    if a[0][0] != 1:\n",
    "        print(2)\n",
    "    else:\n",
    "        print(1)\n",
    "else:\n",
    "    print(ans+1)#\"1\"の分"
   ]
  }
 ],
 "metadata": {
  "kernelspec": {
   "display_name": "Python 3",
   "language": "python",
   "name": "python3"
  },
  "language_info": {
   "codemirror_mode": {
    "name": "ipython",
    "version": 3
   },
   "file_extension": ".py",
   "mimetype": "text/x-python",
   "name": "python",
   "nbconvert_exporter": "python",
   "pygments_lexer": "ipython3",
   "version": "3.7.3"
  }
 },
 "nbformat": 4,
 "nbformat_minor": 2
}
