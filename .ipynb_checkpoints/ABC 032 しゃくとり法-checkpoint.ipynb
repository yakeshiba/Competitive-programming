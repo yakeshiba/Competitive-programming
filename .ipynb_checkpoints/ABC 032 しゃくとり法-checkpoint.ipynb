{
 "cells": [
  {
   "cell_type": "code",
   "execution_count": null,
   "metadata": {},
   "outputs": [],
   "source": [
    "#B\n",
    "s = input()\n",
    "k = int(input())\n",
    "\n",
    "d = {}\n",
    "\n",
    "for i in range(len(s)-k+1):\n",
    "    p = s[i:i+k]\n",
    "    if p not in d:\n",
    "        d[p] = 1\n",
    "    else:\n",
    "        continue\n",
    "\n",
    "print(len(d))"
   ]
  },
  {
   "cell_type": "code",
   "execution_count": null,
   "metadata": {},
   "outputs": [],
   "source": [
    "#C\n",
    "n, k = map(int,input().split())\n",
    "A = []\n",
    "for i in range(n):\n",
    "    a = int(input())\n",
    "    A.append(a)\n",
    "\n",
    "if A.count(0) >= 1:\n",
    "    print(n)\n",
    "    exit()\n",
    "\n",
    "if k == 0:\n",
    "    print(0)\n",
    "    exit()\n",
    "\n",
    "l = 0\n",
    "r = 0\n",
    "ans = 0\n",
    "now = 1\n",
    "while r < n:\n",
    "    while r < n and now <= k:\n",
    "        now *= A[r]\n",
    "        r += 1\n",
    "    while now > k:\n",
    "        ans = max(ans, r-l-1)\n",
    "        now //= A[l]\n",
    "        l += 1\n",
    "        \n",
    "ans = max(ans, r-l)\n",
    "print(ans)"
   ]
  }
 ],
 "metadata": {
  "kernelspec": {
   "display_name": "Python 3",
   "language": "python",
   "name": "python3"
  },
  "language_info": {
   "codemirror_mode": {
    "name": "ipython",
    "version": 3
   },
   "file_extension": ".py",
   "mimetype": "text/x-python",
   "name": "python",
   "nbconvert_exporter": "python",
   "pygments_lexer": "ipython3",
   "version": "3.7.8"
  }
 },
 "nbformat": 4,
 "nbformat_minor": 4
}
