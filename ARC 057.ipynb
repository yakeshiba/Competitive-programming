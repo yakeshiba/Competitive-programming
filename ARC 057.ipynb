{
 "cells": [
  {
   "cell_type": "code",
   "execution_count": null,
   "metadata": {},
   "outputs": [],
   "source": [
    "#A\n",
    "A, K =map(int,input().split())\n",
    "\n",
    "if K == 0:\n",
    "    print(2*10**12-A)\n",
    "else:\n",
    "    ans = 0\n",
    "    while A < 2*10**12:\n",
    "        A = A + 1 + K*A\n",
    "        ans += 1\n",
    "    print(ans)"
   ]
  }
 ],
 "metadata": {
  "kernelspec": {
   "display_name": "Python 3",
   "language": "python",
   "name": "python3"
  },
  "language_info": {
   "codemirror_mode": {
    "name": "ipython",
    "version": 3
   },
   "file_extension": ".py",
   "mimetype": "text/x-python",
   "name": "python",
   "nbconvert_exporter": "python",
   "pygments_lexer": "ipython3",
   "version": "3.7.3"
  }
 },
 "nbformat": 4,
 "nbformat_minor": 2
}
