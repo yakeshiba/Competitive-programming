{
 "cells": [
  {
   "cell_type": "code",
   "execution_count": null,
   "metadata": {},
   "outputs": [],
   "source": [
    "#D\n",
    "import numpy as np\n",
    "\n",
    "def create_prime_list(limit):\n",
    "    x = limit**0.5\n",
    "    primes = []\n",
    "    #print('x={0}'.format(x))\n",
    "    nums = [x for x in range(2, limit+1)]\n",
    "    while nums[0]<=x:\n",
    "        primes.append(nums[0])\n",
    "        current_prime = nums[0]\n",
    "        nums = [x for x in nums if x%current_prime != 0]\n",
    "    primes.extend(nums)\n",
    "    return primes\n",
    "\n",
    "pnlist = set(create_prime_list(100000))\n",
    "\n",
    "leq_primenumber = np.array([None]*100001)\n",
    "leq_primenumber[0] = 0\n",
    "#前処理\n",
    "#l,rが奇数であることに注意\n",
    "nums = 0\n",
    "for i in range(1,100001,2):\n",
    "    if i in pnlist and (i+1)//2 in pnlist:\n",
    "        nums += 1\n",
    "    leq_primenumber[i] = nums\n",
    "\n",
    "#print(leq_primenumber[:20])\n",
    "Q = int(input())\n",
    "for i in range(Q):\n",
    "    l,r = map(int,input().split())\n",
    "    if l == 1:\n",
    "        print(leq_primenumber[r])\n",
    "    else:\n",
    "        print(leq_primenumber[r]-leq_primenumber[l-2])"
   ]
  }
 ],
 "metadata": {
  "kernelspec": {
   "display_name": "Python 3",
   "language": "python",
   "name": "python3"
  },
  "language_info": {
   "codemirror_mode": {
    "name": "ipython",
    "version": 3
   },
   "file_extension": ".py",
   "mimetype": "text/x-python",
   "name": "python",
   "nbconvert_exporter": "python",
   "pygments_lexer": "ipython3",
   "version": "3.7.3"
  }
 },
 "nbformat": 4,
 "nbformat_minor": 2
}
