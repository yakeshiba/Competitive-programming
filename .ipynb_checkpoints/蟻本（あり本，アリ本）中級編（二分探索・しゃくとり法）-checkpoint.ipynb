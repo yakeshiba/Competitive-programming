{
 "cells": [
  {
   "cell_type": "markdown",
   "metadata": {},
   "source": [
    "### 3-1 値の検索だけじゃない！ \"二分探索\""
   ]
  },
  {
   "cell_type": "markdown",
   "metadata": {},
   "source": [
    "二分探索  \n",
    "lower_bound"
   ]
  },
  {
   "cell_type": "code",
   "execution_count": null,
   "metadata": {},
   "outputs": [],
   "source": [
    "#ABC 077 C Snuke Festival\n",
    "import bisect\n",
    "\n",
    "n = int(input())\n",
    "A = list(map(int,input().split()))\n",
    "B = list(map(int,input().split()))\n",
    "C = list(map(int,input().split()))\n",
    "\n",
    "A.sort()\n",
    "C.sort()\n",
    "\n",
    "ans = 0\n",
    "for b in B:\n",
    "    a = bisect.bisect_right(A, b-1)\n",
    "    c = len(C)-bisect.bisect_right(C, b)\n",
    "    ans += a*c\n",
    "print(ans)"
   ]
  },
  {
   "cell_type": "code",
   "execution_count": null,
   "metadata": {},
   "outputs": [],
   "source": [
    "#ARC 037 C 億マス計算\n",
    "import bisect\n",
    "\n",
    "def is_ok(x):\n",
    "    cnt = 0\n",
    "    for a in A:\n",
    "        cnt += bisect.bisect_right(B,x//a)\n",
    "    if cnt >= k:\n",
    "        return True\n",
    "    return False\n",
    "\n",
    "def meguru_bisect(ng, ok):\n",
    "    while (abs(ok - ng) > 1):\n",
    "        mid = (ok + ng) // 2\n",
    "        if is_ok(mid):\n",
    "            ok = mid\n",
    "        else:\n",
    "            ng = mid\n",
    "    return ok\n",
    "\n",
    "n, k = map(int,input().split())\n",
    "A = list(map(int,input().split()))\n",
    "B = list(map(int,input().split()))\n",
    "A.sort()\n",
    "B.sort()\n",
    "\n",
    "print(meguru_bisect(0, 10**18+1))"
   ]
  },
  {
   "cell_type": "code",
   "execution_count": null,
   "metadata": {},
   "outputs": [],
   "source": [
    "#JOI 2008 本選 B ピザ\n",
    "import bisect\n",
    "\n",
    "d = int(input())\n",
    "n = int(input())\n",
    "m = int(input())\n",
    "\n",
    "shop = [0]\n",
    "for _ in range(n-1):\n",
    "    shop.append(int(input()))\n",
    "shop.sort()\n",
    "shop.append(shop[0]+d)\n",
    "\n",
    "\n",
    "ans = 0\n",
    "for _ in range(m):\n",
    "    h = int(input())\n",
    "    ind = bisect.bisect_left(shop, h)\n",
    "    ans += min(abs(h-shop[ind-1]), abs(h-shop[ind]))\n",
    "print(ans)"
   ]
  },
  {
   "cell_type": "code",
   "execution_count": null,
   "metadata": {},
   "outputs": [],
   "source": [
    "#JOI 2007 本選 C ダーツ\n",
    "import bisect\n",
    "import itertools\n",
    "\n",
    "n, m = map(int,input().split())\n",
    "\n",
    "score = [0]\n",
    "for i in range(n):\n",
    "    p = int(input())\n",
    "    score.append(p)\n",
    "score.sort()\n",
    "\n",
    "t_score = []\n",
    "for u, v in itertools.combinations_with_replacement(score, 2):\n",
    "    t_score.append(u+v)\n",
    "t_score.sort()\n",
    "\n",
    "ans = 0\n",
    "for w in t_score:\n",
    "    rest = m - w\n",
    "    ind = bisect.bisect_left(t_score, rest)\n",
    "    if ind == len(t_score):\n",
    "        tmp = t_score[-1]\n",
    "        ans = max(ans, w+tmp)\n",
    "        continue\n",
    "    if rest == t_score[ind]:\n",
    "        tmp = t_score[ind]\n",
    "        ans = max(ans, w+tmp)\n",
    "    else:\n",
    "        if ind == 0:\n",
    "            continue\n",
    "        ans = max(ans, w+t_score[ind-1])\n",
    "print(ans)"
   ]
  },
  {
   "cell_type": "markdown",
   "metadata": {},
   "source": [
    "### 例題 3-1-2　Cable Master (POJ No.1064)"
   ]
  },
  {
   "cell_type": "markdown",
   "metadata": {},
   "source": [
    "二分探索  \n",
    "解を仮定し可能か判定 (判定問題にするテク)  \n",
    "連続値に対する二分探索  \n",
    "方程式を解く二分探索  "
   ]
  },
  {
   "cell_type": "code",
   "execution_count": null,
   "metadata": {},
   "outputs": [],
   "source": [
    "#ABC 023 D 射撃王\n",
    "def is_ok(koudo):\n",
    "    # いちばん上に上がるやつをkoudo以下にできるか\n",
    "    # それぞれの風船について，koudoに至るまでの猶予\n",
    "    timelimit = []\n",
    "    for i in range(n):\n",
    "        timelimit.append((koudo-H[i])//S[i])\n",
    "    timelimit.sort()\n",
    "    for i in range(n):\n",
    "        if timelimit[i] < i:\n",
    "            return False\n",
    "    return True\n",
    "        \n",
    "def meguru_bisect(ng, ok):\n",
    "    while (abs(ok - ng) > 1):\n",
    "        mid = (ok + ng) // 2\n",
    "        if is_ok(mid):\n",
    "            ok = mid\n",
    "        else:\n",
    "            ng = mid\n",
    "    return ok\n",
    "\n",
    "n = int(input())\n",
    "H = []\n",
    "S = []\n",
    "for i in range(n):\n",
    "    h,s = map(int,input().split())\n",
    "    H.append(h)\n",
    "    S.append(s)\n",
    "\n",
    "print(meguru_bisect(0,10**18+1))"
   ]
  },
  {
   "cell_type": "code",
   "execution_count": null,
   "metadata": {},
   "outputs": [],
   "source": [
    "#ARC 050 B 花束\n",
    "def is_ok(hanataba):\n",
    "    red = r-hanataba\n",
    "    blue = b-hanataba\n",
    "    if min(red,blue) < 0:\n",
    "        return False\n",
    "    cnt = red//(x-1) + blue//(y-1)\n",
    "    if cnt >= hanataba:\n",
    "        return True\n",
    "    return False\n",
    "\n",
    "\n",
    "def meguru_bisect(ok, ng):\n",
    "    while (abs(ng - ok) > 1):\n",
    "        mid = (ng + ok) // 2\n",
    "        if is_ok(mid):\n",
    "            ok = mid\n",
    "        else:\n",
    "            ng = mid\n",
    "    return ok\n",
    "\n",
    "r,b = map(int,input().split())\n",
    "x,y = map(int,input().split())\n",
    "\n",
    "print(meguru_bisect(0,10**18+1))"
   ]
  },
  {
   "cell_type": "code",
   "execution_count": null,
   "metadata": {},
   "outputs": [],
   "source": [
    "#ABC 026 D 高橋君ボール1号　\n",
    "import math\n",
    "\n",
    "def f(t):\n",
    "    return a*t + b*math.sin(c*t*math.pi)\n",
    "    \n",
    "a,b,c = map(int,input().split())\n",
    "\n",
    "left = 0\n",
    "right = 1000\n",
    "for i in range(10000):\n",
    "    #中点\n",
    "    mid = (right+left)/2\n",
    "    #100より小さいとき，もっと右に答えがある（関数全体で見ると増加関数なので）\n",
    "    if f(mid) < 100:\n",
    "        left = mid\n",
    "    else:\n",
    "        right = mid\n",
    "\n",
    "print(mid)"
   ]
  },
  {
   "cell_type": "markdown",
   "metadata": {},
   "source": [
    "### 例題 3-1-4　平均最大化"
   ]
  },
  {
   "cell_type": "markdown",
   "metadata": {},
   "source": [
    "二分探索  \n",
    "平均値の最大化  \n",
    "「a[0], ..., a[n-1] の平均が K 以上」を「a[0]-K, ..., a[n-1]-K の総和が 0 以上」にするテク"
   ]
  },
  {
   "cell_type": "code",
   "execution_count": null,
   "metadata": {},
   "outputs": [],
   "source": []
  }
 ],
 "metadata": {
  "kernelspec": {
   "display_name": "Python 3",
   "language": "python",
   "name": "python3"
  },
  "language_info": {
   "codemirror_mode": {
    "name": "ipython",
    "version": 3
   },
   "file_extension": ".py",
   "mimetype": "text/x-python",
   "name": "python",
   "nbconvert_exporter": "python",
   "pygments_lexer": "ipython3",
   "version": "3.7.8"
  }
 },
 "nbformat": 4,
 "nbformat_minor": 4
}
