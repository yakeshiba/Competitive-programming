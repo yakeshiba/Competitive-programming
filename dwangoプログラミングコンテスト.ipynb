{
 "cells": [
  {
   "cell_type": "code",
   "execution_count": null,
   "metadata": {},
   "outputs": [],
   "source": [
    "#B\n",
    "import itertools\n",
    "\n",
    "S = input()\n",
    "c = [0]*len(S)\n",
    "\n",
    "prev = None\n",
    "cnt = 0\n",
    "for i in range(len(S)):\n",
    "    if prev == \"2\" and S[i] == \"5\":\n",
    "        cnt += 1\n",
    "        c[i] = cnt\n",
    "    elif prev == \"5\" and S[i] == \"2\":\n",
    "        pass\n",
    "    else:\n",
    "        cnt = 0\n",
    "    prev = S[i]\n",
    "\n",
    "ans = list(itertools.accumulate(c))\n",
    "print(ans[-1])"
   ]
  }
 ],
 "metadata": {
  "kernelspec": {
   "display_name": "Python 3",
   "language": "python",
   "name": "python3"
  },
  "language_info": {
   "codemirror_mode": {
    "name": "ipython",
    "version": 3
   },
   "file_extension": ".py",
   "mimetype": "text/x-python",
   "name": "python",
   "nbconvert_exporter": "python",
   "pygments_lexer": "ipython3",
   "version": "3.7.3"
  }
 },
 "nbformat": 4,
 "nbformat_minor": 2
}
