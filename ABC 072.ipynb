{
 "cells": [
  {
   "cell_type": "code",
   "execution_count": 2,
   "metadata": {},
   "outputs": [
    {
     "name": "stdout",
     "output_type": "stream",
     "text": [
      "100 17\n",
      "83\n"
     ]
    }
   ],
   "source": [
    "#A\n",
    "x,t = map(int,input().split())\n",
    "print(max(0,x-t))"
   ]
  },
  {
   "cell_type": "code",
   "execution_count": 3,
   "metadata": {},
   "outputs": [
    {
     "name": "stdout",
     "output_type": "stream",
     "text": [
      "abcdefg\n",
      "aceg\n"
     ]
    }
   ],
   "source": [
    "#B\n",
    "s = input()\n",
    "print(s[::2])"
   ]
  },
  {
   "cell_type": "code",
   "execution_count": null,
   "metadata": {},
   "outputs": [],
   "source": [
    "#C\n",
    "import collections\n",
    "\n",
    "N = int(input())\n",
    "A = list(map(int,input().split()))\n",
    "\n",
    "col_A = collections.Counter(A)\n",
    "\n",
    "A = set(A)\n",
    "\n",
    "ans = 0\n",
    "for key in col_A.keys():\n",
    "    tmp = col_A[key]\n",
    "    if key-1 in A:\n",
    "        tmp += col_A[key-1]\n",
    "    if key+1 in A:\n",
    "        tmp += col_A[key+1]\n",
    "    ans = max(ans,tmp)\n",
    "print(ans)"
   ]
  },
  {
   "cell_type": "code",
   "execution_count": null,
   "metadata": {},
   "outputs": [],
   "source": [
    "#D\n",
    "n = int(input())\n",
    "P = [\"D\"] + list(map(int,input().split()))\n",
    "\n",
    "ans = 0\n",
    "for i in range(1,n):\n",
    "    if P[i] == i:\n",
    "        ans += 1\n",
    "        P[i+1] = P[i]\n",
    "if P[-1] == n:\n",
    "    ans += 1\n",
    "print(ans)"
   ]
  }
 ],
 "metadata": {
  "kernelspec": {
   "display_name": "Python 3",
   "language": "python",
   "name": "python3"
  },
  "language_info": {
   "codemirror_mode": {
    "name": "ipython",
    "version": 3
   },
   "file_extension": ".py",
   "mimetype": "text/x-python",
   "name": "python",
   "nbconvert_exporter": "python",
   "pygments_lexer": "ipython3",
   "version": "3.7.8"
  }
 },
 "nbformat": 4,
 "nbformat_minor": 2
}
