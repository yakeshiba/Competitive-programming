{
 "cells": [
  {
   "cell_type": "code",
   "execution_count": null,
   "metadata": {},
   "outputs": [],
   "source": [
    "#B\n",
    "from collections import deque\n",
    "sa = deque(input())\n",
    "sb = deque(input())\n",
    "sc = deque(input())\n",
    "\n",
    "player = \"a\"\n",
    "while True:\n",
    "    if player == \"a\":\n",
    "        if len(sa) == 0:\n",
    "            print(\"A\")\n",
    "            break\n",
    "        player = sa.popleft()\n",
    "    elif player == \"b\":\n",
    "        if len(sb) == 0:\n",
    "            print(\"B\")\n",
    "            break\n",
    "        player = sb.popleft()\n",
    "    else:\n",
    "        if len(sc) == 0:\n",
    "            print(\"C\")\n",
    "            break\n",
    "        player = sc.popleft()"
   ]
  }
 ],
 "metadata": {
  "kernelspec": {
   "display_name": "Python 3",
   "language": "python",
   "name": "python3"
  },
  "language_info": {
   "codemirror_mode": {
    "name": "ipython",
    "version": 3
   },
   "file_extension": ".py",
   "mimetype": "text/x-python",
   "name": "python",
   "nbconvert_exporter": "python",
   "pygments_lexer": "ipython3",
   "version": "3.7.8"
  }
 },
 "nbformat": 4,
 "nbformat_minor": 4
}
