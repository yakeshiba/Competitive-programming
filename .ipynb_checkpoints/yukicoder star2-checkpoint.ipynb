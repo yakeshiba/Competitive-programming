{
 "cells": [
  {
   "cell_type": "markdown",
   "metadata": {},
   "source": [
    "# 提出ID : kbys\n",
    "# 答え見る用のID：yakeshiba"
   ]
  },
  {
   "cell_type": "markdown",
   "metadata": {},
   "source": [
    "# No.316 もっと刺激的なFizzBuzzをください"
   ]
  },
  {
   "cell_type": "code",
   "execution_count": 6,
   "metadata": {},
   "outputs": [
    {
     "name": "stdout",
     "output_type": "stream",
     "text": [
      "346346\n",
      "25 575 2525\n",
      "14563\n"
     ]
    }
   ],
   "source": [
    "from math import gcd\n",
    "\n",
    "def lcm(x, y):\n",
    "    return (x * y) // gcd(x, y)\n",
    "\n",
    "N = int(input())\n",
    "a, b, c = map(int,input().split())\n",
    "\n",
    "na, nb, nc = N//a, N//b, N//c\n",
    "nab, nbc, nca = N//lcm(a,b), N//lcm(b,c), N//lcm(c,a)\n",
    "nabc = N//lcm(lcm(a,b),c)\n",
    "\n",
    "print(na+nb+nc-nab-nbc-nca+nabc)"
   ]
  },
  {
   "cell_type": "markdown",
   "metadata": {},
   "source": [
    "## 数字根\n",
    "数字の各桁の和が１桁になるまで同じ操作を繰り返す"
   ]
  },
  {
   "cell_type": "code",
   "execution_count": 3,
   "metadata": {},
   "outputs": [
    {
     "name": "stdout",
     "output_type": "stream",
     "text": [
      "1\n",
      "432\n",
      "9\n"
     ]
    }
   ],
   "source": [
    "#933\n",
    "N = int(input())\n",
    "P = list(map(int,input().split()))\n",
    "ans = 1\n",
    "for i in P:\n",
    "    if i == 0:\n",
    "        i = 0\n",
    "    elif i%9 == 0:\n",
    "        i = 9\n",
    "    else:\n",
    "        i = i%9\n",
    "    ans *= i\n",
    "\n",
    "while ans >= 10:\n",
    "    tmp = 0\n",
    "    for i in str(ans):\n",
    "        tmp += int(i)\n",
    "    ans = tmp\n",
    "print(ans)"
   ]
  },
  {
   "cell_type": "code",
   "execution_count": 9,
   "metadata": {},
   "outputs": [
    {
     "name": "stdout",
     "output_type": "stream",
     "text": [
      "3\n",
      "1412265465\n"
     ]
    },
    {
     "name": "stderr",
     "output_type": "stream",
     "text": [
      "C:\\Users\\kebay\\Anaconda3\\lib\\site-packages\\ipykernel_launcher.py:25: RuntimeWarning: overflow encountered in long_scalars\n"
     ]
    }
   ],
   "source": [
    "#1058\n",
    "import numpy as np\n",
    "import itertools\n",
    "def create_prime_list(limit):\n",
    "    x = limit**0.5\n",
    "    primes = []\n",
    "    #print('x={0}'.format(x))\n",
    "    nums = [x for x in range(2, limit+1)]\n",
    "    while nums[0]<=x:\n",
    "        primes.append(nums[0])\n",
    "        current_prime = nums[0]\n",
    "        nums = [x for x in nums if x%current_prime != 0]\n",
    "    primes.extend(nums)\n",
    "    return primes\n",
    "\n",
    "N = int(input())\n",
    "\n",
    "ans = [1]\n",
    "\n",
    "s = np.array(create_prime_list(10**5+5*10**4))\n",
    "s = s[s>10**5][:10]\n",
    "#print(s)\n",
    "\n",
    "for i,j in itertools.combinations(s, 2):\n",
    "    ans.append(i*j)\n",
    "for i in s:\n",
    "    ans.append(i**2)\n",
    "\n",
    "ans.sort()\n",
    "#print(ans)\n",
    "\n",
    "print(ans[N-1])"
   ]
  },
  {
   "cell_type": "markdown",
   "metadata": {},
   "source": [
    "# No.672 最長AB列\n",
    "文字'A'と文字'B'からなる文字列\n",
    "S\n",
    "があります。\n",
    "S\n",
    "に含まれる連続した区間で'A'と'B'の数が等しいものの最長の長さを答えよ。\n",
    "https://qiita.com/nomikura/items/a56c97063d4b14931531"
   ]
  },
  {
   "cell_type": "code",
   "execution_count": null,
   "metadata": {},
   "outputs": [],
   "source": [
    "S = input()\n",
    "\n",
    "cumsum = [0]\n",
    "\n",
    "for i,s in enumerate(S):\n",
    "    if s == \"A\":\n",
    "        cumsum.append(cumsum[i]+1)\n",
    "    else:\n",
    "        cumsum.append(cumsum[i]-1)\n",
    "        \n",
    "#print(cumsum)\n",
    "\n",
    "d = {}\n",
    "for i, v in enumerate(cumsum):\n",
    "    if v not in d:\n",
    "        d[v] = [i,0]\n",
    "    else:\n",
    "        d[v][1] = i \n",
    "        \n",
    "ans = 0\n",
    "for v in d.values():\n",
    "    ans = max(ans, v[1]- v[0])\n",
    "    \n",
    "print(ans)"
   ]
  },
  {
   "cell_type": "markdown",
   "metadata": {},
   "source": [
    "# No.786 京都大学の過去問"
   ]
  },
  {
   "cell_type": "code",
   "execution_count": null,
   "metadata": {},
   "outputs": [],
   "source": [
    "#786\n",
    "N = int(input())\n",
    "dp = [0]*N\n",
    "dp[0] = 1\n",
    "dp[1] = 2\n",
    "for i in range(2,N):\n",
    "    dp[i] = dp[i-1] + dp[i-2]\n",
    "print(dp[N-1])"
   ]
  },
  {
   "cell_type": "markdown",
   "metadata": {},
   "source": [
    "# No.1021 Children in Classrooms\n",
    "数列の操作にdequeを利用"
   ]
  },
  {
   "cell_type": "code",
   "execution_count": null,
   "metadata": {},
   "outputs": [],
   "source": [
    "from collections import deque\n",
    "\n",
    "N,M = map(int,input().split())\n",
    "A = deque(list(map(int,input().split())))\n",
    "S = input()\n",
    "\n",
    "for i in S:\n",
    "    if i == \"L\":\n",
    "        a0 = A.popleft()\n",
    "        a1 = A.popleft()\n",
    "        A.appendleft(a0+a1)\n",
    "        A.append(0)\n",
    "    else:\n",
    "        a0 = A.pop()\n",
    "        a1 = A.pop()\n",
    "        A.append(a0+a1)\n",
    "        A.appendleft(0)\n",
    "print(*A)"
   ]
  },
  {
   "cell_type": "markdown",
   "metadata": {},
   "source": [
    "# \tNo.1082 XORのXOR\n",
    "## XOR 同じものを2回XORしたら何もしてないのと同じ"
   ]
  },
  {
   "cell_type": "code",
   "execution_count": null,
   "metadata": {},
   "outputs": [],
   "source": [
    "import itertools\n",
    "\n",
    "N = int(input())\n",
    "A = list(map(int,input().split()))\n",
    "\n",
    "ans = 0\n",
    "for c in itertools.combinations(A, 2):\n",
    "    u, v = c\n",
    "    ans = max(ans, u^v)\n",
    "    \n",
    "print(ans)"
   ]
  },
  {
   "cell_type": "markdown",
   "metadata": {},
   "source": [
    "# No.1072 A Nice XOR Pair"
   ]
  },
  {
   "cell_type": "code",
   "execution_count": null,
   "metadata": {},
   "outputs": [],
   "source": [
    "import collections\n",
    "\n",
    "N, X = map(int,input().split())\n",
    "\n",
    "A = [0]*N\n",
    "for i in range(N):\n",
    "    A[i] = int(input())\n",
    "    \n",
    "cards = set(A)\n",
    "cnt = collections.Counter(A)\n",
    "\n",
    "ans = 0 \n",
    "if X != 0:\n",
    "    for key in cnt.keys():\n",
    "        if X^key in cards:\n",
    "            ans += cnt[X^key]*cnt[key]\n",
    "    ans //= 2\n",
    "else:\n",
    "    for key, value in cnt.items():\n",
    "        ans += cnt[key]*(cnt[key]-1)//2\n",
    "        \n",
    "print(ans)"
   ]
  },
  {
   "cell_type": "code",
   "execution_count": null,
   "metadata": {},
   "outputs": [],
   "source": [
    "#別解　同じペアを数えないようにする（数え方の工夫）\n",
    "N, X = map(int,input().split())\n",
    "\n",
    "A = [0]*N\n",
    "for i in range(N):\n",
    "    A[i] = int(input())\n",
    "    \n",
    "cnt = {}\n",
    "\n",
    "ans = 0\n",
    "for a in A:\n",
    "    if a^X in cnt:\n",
    "        ans += cnt[a^X]\n",
    "    if a not in cnt:\n",
    "        cnt[a] = 1\n",
    "    else:\n",
    "        cnt[a] += 1\n",
    "        \n",
    "print(ans)"
   ]
  },
  {
   "cell_type": "markdown",
   "metadata": {},
   "source": [
    "# No.1071 ベホマラー"
   ]
  },
  {
   "cell_type": "code",
   "execution_count": null,
   "metadata": {},
   "outputs": [],
   "source": [
    "import bisect\n",
    "import sys\n",
    "input=sys.stdin.readline\n",
    "\n",
    "def main(args):\n",
    "    N, K, bhim, bhmr = map(int,input().split())\n",
    "    A = list(map(lambda x:-(-(int(x)-1)//K), input().split()))\n",
    "    A.sort()\n",
    "    \n",
    "    prev = 0#直前の値\n",
    "    ans = 0\n",
    "    #print(\"A :\",A)\n",
    "    for i in range(N):\n",
    "        #print('##############')\n",
    "        if A[i] != prev:#回復に必要な回数が直前と同じだったら，\n",
    "                        #直前までのベホマラーで全快してるからスルー\n",
    "                        \n",
    "            #「今見てる人含め，その人より右の人」一人ずつにベホイミをするか，ベホマラーを1回するか\n",
    "            if bhmr < bhim*(N-i):#ベホイミの方が省エネなら\n",
    "                ans += bhmr*(A[i]-prev)#今見てる人が満タンになるまでベホマラー\n",
    "            else:\n",
    "                #残りはベホイミしたほうがいい\n",
    "                #あとは「今見てるエリアの左端の人から一人ずつベホイミしてく」ことをループする\n",
    "                break\n",
    "            prev = A[i]\n",
    "            #print(ans)\n",
    "        A[i] = 0\n",
    "    \n",
    "    if sum(A) > 0:\n",
    "        #sum(A)←残りの人たちをもし全部ベホイミで回復したときにかかる回数（これまでのベホマラーがなかったとして）\n",
    "        #(N-i)←まだ満タンじゃない人数\n",
    "        #(N-i)*prev←ベホマラーで消費された分(prevがベホマラーの回数，それに人数かけてる)\n",
    "        ans += (sum(A) - (N-i)*prev)*bhim\n",
    "        \n",
    "    print(ans)\n",
    "\n",
    "if __name__ == '__main__':\n",
    "    main(sys.argv[1:])"
   ]
  },
  {
   "cell_type": "markdown",
   "metadata": {},
   "source": [
    "# \tNo.938 賢人を探せ"
   ]
  },
  {
   "cell_type": "code",
   "execution_count": null,
   "metadata": {},
   "outputs": [],
   "source": [
    "N = int(input())\n",
    "\n",
    "bad = [0]*N\n",
    "cand = [0]*N#答えの候補\n",
    "for i in range(N):\n",
    "    b, c = list(input().split())\n",
    "    bad[i] = b\n",
    "    cand[i] = c\n",
    "\n",
    "remove = set(bad)&set(cand)#見られただけかと思いきやカンニングもしてたやつら\n",
    "\n",
    "already = {}\n",
    "\n",
    "for c in cand:\n",
    "    if c not in remove:\n",
    "        if c not in already:\n",
    "            print(c)\n",
    "            already[c] = 0"
   ]
  },
  {
   "cell_type": "markdown",
   "metadata": {},
   "source": [
    "# \tNo.894 二種類のバス"
   ]
  },
  {
   "cell_type": "code",
   "execution_count": null,
   "metadata": {},
   "outputs": [],
   "source": [
    "from math import gcd\n",
    "\n",
    "def lcm(x, y):\n",
    "    return (x*y)//gcd(x, y)\n",
    "\n",
    "T, A, B = map(int, input().split())\n",
    "ta = -(-T//A)\n",
    "tb = -(-T//B)\n",
    "tab = -(-T//lcm(A, B))\n",
    "#print(\"ta\",ta)\n",
    "#print(\"tb\",tb)\n",
    "#print(\"tab\",tab)\n",
    "print(ta+tb-tab)"
   ]
  },
  {
   "cell_type": "markdown",
   "metadata": {},
   "source": [
    "# \tNo.954 Result"
   ]
  },
  {
   "cell_type": "code",
   "execution_count": 1,
   "metadata": {},
   "outputs": [
    {
     "name": "stdout",
     "output_type": "stream",
     "text": [
      "1\n",
      "2\n",
      "3\n"
     ]
    }
   ],
   "source": [
    "A = [int(input()) for _ in range(5)]\n",
    "A = A[::-1]\n",
    "\n",
    "dp = [1,1,2]\n",
    "i = 3\n",
    "while True:\n",
    "    now = dp[i-1]+dp[i-2]\n",
    "    if now > 10**15:\n",
    "        break\n",
    "    dp.append(now)\n",
    "    i += 1\n",
    "\n",
    "#print(dp)\n",
    "\n",
    "ans = 0\n",
    "if A[0] in dp:\n",
    "    ans = 1\n",
    "    ind = dp.index(A[0])\n",
    "    for j in range(1,5):\n",
    "        if A[j] == dp[ind+j]:\n",
    "            ans += 1\n",
    "        else:\n",
    "            break\n",
    "    if A[0] == 1:\n",
    "        tmp = 1\n",
    "        for j in range(1,5):\n",
    "            if A[j] == dp[(ind+1)+j]:\n",
    "                tmp += 1\n",
    "            else:\n",
    "                break\n",
    "        ans = max(ans, tmp)\n",
    "print(ans)"
   ]
  },
  {
   "cell_type": "markdown",
   "metadata": {},
   "source": [
    "# \tNo.921 ずんだアロー"
   ]
  },
  {
   "cell_type": "code",
   "execution_count": null,
   "metadata": {},
   "outputs": [],
   "source": [
    "import sys\n",
    "input=sys.stdin.readline\n",
    "\n",
    "def main(args):\n",
    "    N = int(input())\n",
    "    A = list(map(int,input().split()))\n",
    "    \n",
    "    ans = 0\n",
    "    flag = 0\n",
    "    for i,a in enumerate(A):\n",
    "        #print(\"a\",a)\n",
    "        if not flag:\n",
    "            ans += 1\n",
    "            flag = 1\n",
    "        else:\n",
    "            flag = 0\n",
    "            if a == A[i-1]:\n",
    "                ans += 1\n",
    "                flag = 1\n",
    "        #print(\"ans\",ans)\n",
    "    \n",
    "    print(ans)\n",
    "\n",
    "if __name__ == '__main__':\n",
    "    main(sys.argv[1:])"
   ]
  },
  {
   "cell_type": "code",
   "execution_count": null,
   "metadata": {},
   "outputs": [],
   "source": [
    "#別解\n",
    "import sys\n",
    "input=sys.stdin.readline\n",
    "\n",
    "def main(args):\n",
    "    N = int(input())\n",
    "    A = list(map(int,input().split()))\n",
    "    \n",
    "    #dp[i]:i番目の要素までの中で変化させた餅の最大値(各２パターン)\n",
    "    dp = [[0]*2 for _ in range(N)]#[i][0]:i番目を採用しなかったとき,[i][1]:i番目を採用したとき\n",
    "    dp[0][1] = 1\n",
    "    for i in range(1,N):\n",
    "        dp[i][0] = max(dp[i-1][1], dp[i-1][0])#i番目を採用しなかったら，直前の値の大きい方\n",
    "        dp[i][1] = dp[i-1][0] + 1#i-1番目（直前）を採用してないならi番目を採用する\n",
    "        if A[i] == A[i-1]:#直前と同じなら\n",
    "            dp[i][1] = max(dp[i][1], dp[i-1][1] + 1)#直前を採用した場合(dp[i-1][1])にもi番目を採用できるから，\n",
    "                                                    #そのパターンも考量する\n",
    "    \n",
    "    print(max(dp[-1]))\n",
    "\n",
    "if __name__ == '__main__':\n",
    "    main(sys.argv[1:])"
   ]
  },
  {
   "cell_type": "markdown",
   "metadata": {},
   "source": [
    "# \tNo.1006 Share an Integer"
   ]
  },
  {
   "cell_type": "code",
   "execution_count": null,
   "metadata": {},
   "outputs": [],
   "source": [
    "import sys\n",
    "\n",
    "def main(args):\n",
    "    \n",
    "    X = int(input())\n",
    "    \n",
    "    fn = [i-1 for i in range(X+1)]#約数１の分を引く\n",
    "    \n",
    "    for i in range(2,X+1):\n",
    "        fn[2*i::i] = map(lambda x:x-1,fn[2*i::i])\n",
    "        \n",
    "    #print(fn)\n",
    "        \n",
    "    minimum = float('inf')\n",
    "    for a in range(1,X//2+1):\n",
    "        tmp = abs(fn[a]-fn[X-a])\n",
    "        if tmp < minimum:\n",
    "            ans = {}\n",
    "            ans[tmp] = [(a, X-a)]\n",
    "            minimum = tmp\n",
    "        elif tmp == minimum:\n",
    "            ans[tmp].append((a, X-a))\n",
    "    \n",
    "    for r in ans[minimum]:\n",
    "        u, v = r\n",
    "        print(u, v)\n",
    "    for r in ans[minimum][::-1]:\n",
    "        u, v = r\n",
    "        if u != v:\n",
    "            print(v, u)\n",
    "        \n",
    "if __name__ == '__main__':\n",
    "    main(sys.argv[1:])"
   ]
  }
 ],
 "metadata": {
  "kernelspec": {
   "display_name": "Python 3",
   "language": "python",
   "name": "python3"
  },
  "language_info": {
   "codemirror_mode": {
    "name": "ipython",
    "version": 3
   },
   "file_extension": ".py",
   "mimetype": "text/x-python",
   "name": "python",
   "nbconvert_exporter": "python",
   "pygments_lexer": "ipython3",
   "version": "3.7.3"
  }
 },
 "nbformat": 4,
 "nbformat_minor": 2
}
