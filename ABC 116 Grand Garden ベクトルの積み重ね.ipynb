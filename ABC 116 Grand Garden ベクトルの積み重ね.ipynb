{
 "cells": [
  {
   "cell_type": "code",
   "execution_count": null,
   "metadata": {},
   "outputs": [],
   "source": [
    "#C\n",
    "n = int(input())\n",
    "H = list(map(int,input().split()))\n",
    "\n",
    "def grouping(v):\n",
    "    #隣接する人同士のグルーピング\n",
    "    groups = []\n",
    "    tmp = 0\n",
    "    zeros = 0\n",
    "    for n in v:\n",
    "        if n == 1:\n",
    "            if zeros != 0:#直前まで０だったとき\n",
    "                groups.append(zeros)\n",
    "                zeros = 0#リセット\n",
    "            tmp += 1\n",
    "        elif n == 0:\n",
    "            if tmp != 0:#直前まで１だったとき\n",
    "                groups.append(tmp)\n",
    "                tmp = 0#リセット\n",
    "            zeros -= 1\n",
    "    \n",
    "    #終端の処理\n",
    "    if tmp != 0:\n",
    "        groups.append(tmp)\n",
    "    if zeros != 0:\n",
    "        groups.append(zeros)\n",
    "    \n",
    "    groups = [1 if x > 0 else 0 for x in groups]\n",
    "    return groups\n",
    "\n",
    "ans = 0\n",
    "for i in range(max(H)):\n",
    "    H = list(map(lambda x:x-1, H))\n",
    "    vector = [1 if x >= 0 else 0 for x in H]\n",
    "    ans += sum(grouping(vector))\n",
    "\n",
    "print(ans)    "
   ]
  }
 ],
 "metadata": {
  "kernelspec": {
   "display_name": "Python 3",
   "language": "python",
   "name": "python3"
  },
  "language_info": {
   "codemirror_mode": {
    "name": "ipython",
    "version": 3
   },
   "file_extension": ".py",
   "mimetype": "text/x-python",
   "name": "python",
   "nbconvert_exporter": "python",
   "pygments_lexer": "ipython3",
   "version": "3.7.8"
  }
 },
 "nbformat": 4,
 "nbformat_minor": 4
}
