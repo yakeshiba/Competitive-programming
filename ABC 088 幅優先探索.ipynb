{
 "cells": [
  {
   "cell_type": "code",
   "execution_count": 13,
   "metadata": {},
   "outputs": [
    {
     "name": "stdout",
     "output_type": "stream",
     "text": [
      "3125\n",
      "125\n",
      "Yes\n"
     ]
    }
   ],
   "source": [
    "#A\n",
    "from collections import deque\n",
    "n = int(input())\n",
    "a = int(input())\n",
    "if n%500 <= a:\n",
    "    print(\"Yes\")\n",
    "else:\n",
    "    print(\"No\")"
   ]
  },
  {
   "cell_type": "code",
   "execution_count": 16,
   "metadata": {},
   "outputs": [
    {
     "name": "stdout",
     "output_type": "stream",
     "text": [
      "3\n",
      "2 7 4\n",
      "5\n"
     ]
    }
   ],
   "source": [
    "#B\n",
    "N = int(input())\n",
    "A = list(map(int,input().split()))\n",
    "A.sort()\n",
    "print(abs(sum(A[::2])-sum(A[1::2])))"
   ]
  },
  {
   "cell_type": "code",
   "execution_count": null,
   "metadata": {},
   "outputs": [],
   "source": [
    "#C\n",
    "grid = []\n",
    "for _ in range(3):\n",
    "    grid.append(list(map(int,input().split())))\n",
    "b1, b2, b3 = grid[0][0], grid[0][1], grid[0][2]\n",
    "a1, a2, a3 = 0, grid[1][0]-b1, grid[2][0]-b1\n",
    "if grid[1][1] == a2+b2 and grid[1][2] == a2+b3 and grid[2][1] == a3+b2 and grid[2][2] == a3+b3:\n",
    "    print(\"Yes\")\n",
    "else:\n",
    "    print(\"No\")"
   ]
  },
  {
   "cell_type": "code",
   "execution_count": null,
   "metadata": {},
   "outputs": [],
   "source": [
    "#D Grid Repainting\n",
    "from collections import deque\n",
    "\n",
    "h, w = map(int,input().split())\n",
    "\n",
    "cnt = 0\n",
    "maze = []\n",
    "for i in range(h):\n",
    "    t = list(input())\n",
    "    cnt += t.count('.')\n",
    "    maze.append(t)\n",
    "    \n",
    "dx = [0,0,1,-1]\n",
    "dy = [1,-1,0,0]\n",
    "\n",
    "queue = deque([(0, 0)])\n",
    "\n",
    "distance = [[-1]*w for _ in range(h)]\n",
    "distance[0][0] = 0\n",
    "\n",
    "while queue:\n",
    "    y, x = queue.popleft()\n",
    "    for dxi, dyi in zip(dx, dy):\n",
    "        if (0<=x+dxi<w and 0<=y+dyi<h) and maze[y+dyi][x+dxi] == \".\" and distance[y+dyi][x+dxi] == -1:\n",
    "            distance[y+dyi][x+dxi] = distance[y][x]+1\n",
    "            queue.append((y+dyi, x+dxi))\n",
    "\n",
    "if distance[h-1][w-1] != -1:\n",
    "    print(cnt-(distance[h-1][w-1]+1))\n",
    "else:\n",
    "    print(-1)"
   ]
  }
 ],
 "metadata": {
  "kernelspec": {
   "display_name": "Python 3",
   "language": "python",
   "name": "python3"
  },
  "language_info": {
   "codemirror_mode": {
    "name": "ipython",
    "version": 3
   },
   "file_extension": ".py",
   "mimetype": "text/x-python",
   "name": "python",
   "nbconvert_exporter": "python",
   "pygments_lexer": "ipython3",
   "version": "3.7.8"
  }
 },
 "nbformat": 4,
 "nbformat_minor": 2
}
