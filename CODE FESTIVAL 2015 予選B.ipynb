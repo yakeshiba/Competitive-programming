{
 "cells": [
  {
   "cell_type": "code",
   "execution_count": null,
   "metadata": {},
   "outputs": [],
   "source": [
    "#B\n",
    "from collections import Counter\n",
    "\n",
    "n, m = map(int,input().split())\n",
    "A = list(map(int,input().split()))\n",
    "\n",
    "cnt = Counter(A).most_common()\n",
    "\n",
    "if cnt[0][1] > n//2:\n",
    "    print(cnt[0][0])\n",
    "else:\n",
    "    print('?')"
   ]
  }
 ],
 "metadata": {
  "kernelspec": {
   "display_name": "Python 3",
   "language": "python",
   "name": "python3"
  },
  "language_info": {
   "codemirror_mode": {
    "name": "ipython",
    "version": 3
   },
   "file_extension": ".py",
   "mimetype": "text/x-python",
   "name": "python",
   "nbconvert_exporter": "python",
   "pygments_lexer": "ipython3",
   "version": "3.7.8"
  }
 },
 "nbformat": 4,
 "nbformat_minor": 4
}
