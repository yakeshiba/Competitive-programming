{
 "cells": [
  {
   "cell_type": "code",
   "execution_count": 2,
   "metadata": {},
   "outputs": [
    {
     "name": "stdout",
     "output_type": "stream",
     "text": [
      "27\n",
      "5\n"
     ]
    }
   ],
   "source": [
    "#A\n",
    "A = [1, 1, 1, 2, 1, 2, 1, 5, 2, 2, 1, 5, 1, 2, 1, 14, 1, 5, 1, 5, 2, 2, 1, 15, 2, 2, 5, 4, 1, 4, 1, 51]\n",
    "K = int(input())\n",
    "print(A[K-1])"
   ]
  },
  {
   "cell_type": "code",
   "execution_count": 225,
   "metadata": {},
   "outputs": [
    {
     "name": "stdout",
     "output_type": "stream",
     "text": [
      "1 3\n",
      "1\n"
     ]
    }
   ],
   "source": [
    "#B\n",
    "H, W = map(int,input().split())\n",
    "if W%2 == 0:\n",
    "    m = W//2\n",
    "    l = W//2\n",
    "else:\n",
    "    m = W//2+1\n",
    "    l = W//2\n",
    "if H == 1 or W == 1:\n",
    "    print(1)\n",
    "else:\n",
    "    if H%2 == 0:\n",
    "        print(m*(H//2)+l*(H//2))\n",
    "    else:\n",
    "        print(m*(H//2+1)+l*(H//2))"
   ]
  },
  {
   "cell_type": "code",
   "execution_count": null,
   "metadata": {},
   "outputs": [],
   "source": [
    "H, W = map(int,input().split())"
   ]
  },
  {
   "cell_type": "code",
   "execution_count": 17,
   "metadata": {},
   "outputs": [
    {
     "name": "stdout",
     "output_type": "stream",
     "text": [
      "2 3 9\n",
      "-2.0\n",
      "2.449489742783178\n",
      "Yes\n"
     ]
    }
   ],
   "source": [
    "a,b,c = map(int,input().split())\n",
    "l = (a+b-c)/2\n",
    "r = (a*b)**0.5\n",
    "print(l)\n",
    "print(r)\n",
    "if l < r:\n",
    "    print(\"Yes\")\n",
    "else:\n",
    "    print(\"No\")"
   ]
  },
  {
   "cell_type": "code",
   "execution_count": 24,
   "metadata": {},
   "outputs": [
    {
     "name": "stdout",
     "output_type": "stream",
     "text": [
      "2 3 10\n",
      "Yes\n"
     ]
    }
   ],
   "source": [
    "#C AC\n",
    "a,b,c = map(int,input().split())\n",
    "if a+b-c < 0:\n",
    "    if (a+b-c)**2 > 4*a*b:\n",
    "        print(\"Yes\")\n",
    "    else:\n",
    "        print(\"No\")\n",
    "else:\n",
    "    print(\"No\")"
   ]
  },
  {
   "cell_type": "code",
   "execution_count": null,
   "metadata": {},
   "outputs": [],
   "source": [
    "#D 解きなおし\n",
    "n = int(input())\n",
    "\n",
    "alp = [chr(i) for i in range(97, 97+26)]\n",
    "\n",
    "def dfs(i):\n",
    "    if i == 1:\n",
    "        return [(\"a\", 1)]\n",
    "    else:\n",
    "        ret = []\n",
    "        for i in dfs(i-1):\n",
    "            nowstr, nowmax = i\n",
    "            for j in range(nowmax+1):\n",
    "                ret.append((nowstr+alp[j], max(j+1,nowmax)))\n",
    "        return ret\n",
    "\n",
    "ans = dfs(n)\n",
    "#print(ans)\n",
    "for i in range(len(ans)):\n",
    "    print(ans[i][0])"
   ]
  },
  {
   "cell_type": "code",
   "execution_count": null,
   "metadata": {},
   "outputs": [],
   "source": [
    "#D AC\n",
    "N = int(input())\n",
    "alp = [chr(i) for i in range(97, 97+26)]\n",
    "\n",
    "def dfs(N):\n",
    "    if N==1:\n",
    "        return [(1,\"a\")]#左の数字は「右の文字列に何種類のアルファベットが出てきているか」\n",
    "    ret = []\n",
    "    pre = dfs(N-1)\n",
    "    for num,s in pre:\n",
    "        for i in range(num+1):#例えばこれまでの最大が2(b)なら，2+1で3(c)までをそれぞれ末尾に加える\n",
    "            ret.append((max(num,i+1),s+alp[i]))\n",
    "    return ret\n",
    "\n",
    "ans = sorted(s for num,s in dfs(N))\n",
    "for s in ans:\n",
    "    print(s)"
   ]
  }
 ],
 "metadata": {
  "kernelspec": {
   "display_name": "Python 3",
   "language": "python",
   "name": "python3"
  },
  "language_info": {
   "codemirror_mode": {
    "name": "ipython",
    "version": 3
   },
   "file_extension": ".py",
   "mimetype": "text/x-python",
   "name": "python",
   "nbconvert_exporter": "python",
   "pygments_lexer": "ipython3",
   "version": "3.7.8"
  }
 },
 "nbformat": 4,
 "nbformat_minor": 2
}
