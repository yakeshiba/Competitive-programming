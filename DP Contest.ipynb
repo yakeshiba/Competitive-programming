{
 "cells": [
  {
   "cell_type": "code",
   "execution_count": 13,
   "metadata": {},
   "outputs": [
    {
     "name": "stdout",
     "output_type": "stream",
     "text": [
      "6\n",
      "30 10 60 10 60 50\n",
      "40\n"
     ]
    }
   ],
   "source": [
    "#A\n",
    "N = int(input())\n",
    "h = list(map(int,input().split()))\n",
    "\n",
    "dp_table = [float('inf')]*N #計算結果を保存しておくリスト．無限大で初期化している．\n",
    "\n",
    "dp_table[0] = 0#最初の足場\n",
    "dp_table[1] = abs(h[1]-h[0])#この足場に行く方法は一つだけ\n",
    "for i in range(2,N):#i番目の足場に辿り着くまでにかかった最小コストを計算する\n",
    "    step1 = abs(h[i]-h[i-1])+dp_table[i-1]#一つ前の足場から来た場合の累計コスト\n",
    "    step2 = abs(h[i]-h[i-2])+dp_table[i-2]#二つ目の足場から来た場合の累計コスト\n",
    "    dp_table[i] = min(step1,step2)#小さい方を記録\n",
    "\n",
    "print(dp_table[N-1])"
   ]
  },
  {
   "cell_type": "code",
   "execution_count": 3,
   "metadata": {},
   "outputs": [
    {
     "name": "stdout",
     "output_type": "stream",
     "text": [
      "6\n",
      "30 10 60 10 60 50\n",
      "40\n"
     ]
    }
   ],
   "source": [
    "import numpy as np\n",
    "\n",
    "N, K = map(int,input().split())\n",
    "h = list(map(int,input().split()))\n",
    "h = np.array(h)\n",
    "\n",
    "dp_table = np.zeros(N, dtype=int)\n",
    "\n",
    "for i in range(1,N):\n",
    "    #「足場iの出発点となり得る全ての足場」から来るときのコストの内の最小値を求める\n",
    "    dp_table[i] = (dp_table[max(0,i-K):i] + np.abs(h[i] - h[max(0,i-K):i])).min()\n",
    "print(dp_table[N-1])"
   ]
  },
  {
   "cell_type": "code",
   "execution_count": 1,
   "metadata": {},
   "outputs": [
    {
     "name": "stdout",
     "output_type": "stream",
     "text": [
      "3\n",
      "10 40 70\n",
      "20 50 80\n",
      "30 60 90\n",
      "450\n"
     ]
    }
   ],
   "source": [
    "#C\n",
    "N = int(input())\n",
    "dp = [0]*3\n",
    "for _ in range(N):\n",
    "    a,b,c = map(int,input().split())\n",
    "    #それぞれ「前回a,b,cを選んだ場合の最適解」\n",
    "    now_a = dp[0]\n",
    "    now_b = dp[1]\n",
    "    now_c = dp[2]\n",
    "    \n",
    "    dp[0] = max(now_b,now_c) + a\n",
    "    dp[1] = max(now_a,now_c) + b\n",
    "    dp[2] = max(now_a,now_b) + c\n",
    "print(max(dp))"
   ]
  },
  {
   "cell_type": "code",
   "execution_count": null,
   "metadata": {},
   "outputs": [],
   "source": [
    "#D　TLE\n",
    "import numpy\n",
    "N,W = map(int,input().split())\n",
    "dp = [[-float('inf')]*(W+1) for _ in range(N+1)]\n",
    "weight = [0]\n",
    "value = [0]\n",
    "for _ in range(N):\n",
    "    w,v = map(int,input().split())\n",
    "    weight.append(w)\n",
    "    value.append(v)\n",
    "for i in range():#i番目の品物まで考える\n",
    "    for j in range():#重さjまで許容できるとき\n",
    "        if i == 0:\n",
    "            dp[0][j] = 0\n",
    "            continue\n",
    "        if j == 0:\n",
    "            dp[i][j] = 0\n",
    "            continue\n",
    "        if weight[i] > j:\n",
    "            dp[i][j] = dp[i-1][j]\n",
    "        else:\n",
    "            choice = dp[i-1][j-weight[i]] + value[i]\n",
    "            not_choice = dp[i-1][j]\n",
    "            dp[i][j] = max(choice,not_choice)\n",
    "print(dp[N][W])"
   ]
  },
  {
   "cell_type": "code",
   "execution_count": null,
   "metadata": {},
   "outputs": [],
   "source": [
    "#D AC\n",
    "import sys\n",
    "input = sys.stdin.readline\n",
    "\n",
    "def main():\n",
    "    N,W = map(int,input().split())\n",
    "    dp = [-1 for _ in range(W+1)]\n",
    "    dp[W] = 0\n",
    "    for _ in range(N):\n",
    "        wt,vl = map(int,input().split())\n",
    "        for j in range(wt,W+1):\n",
    "            if dp[j] == -1:\n",
    "                continue\n",
    "            if dp[j-wt] < dp[j] + vl:\n",
    "                dp[j-wt] = dp[j] + vl\n",
    "    print(max(dp))\n",
    "\n",
    "if __name__ == \"__main__\":\n",
    "    main()"
   ]
  },
  {
   "cell_type": "code",
   "execution_count": 4,
   "metadata": {},
   "outputs": [
    {
     "name": "stdout",
     "output_type": "stream",
     "text": [
      "[-1, -1, -1, -1]\n"
     ]
    }
   ],
   "source": [
    "#E\n"
   ]
  }
 ],
 "metadata": {
  "kernelspec": {
   "display_name": "Python 3",
   "language": "python",
   "name": "python3"
  },
  "language_info": {
   "codemirror_mode": {
    "name": "ipython",
    "version": 3
   },
   "file_extension": ".py",
   "mimetype": "text/x-python",
   "name": "python",
   "nbconvert_exporter": "python",
   "pygments_lexer": "ipython3",
   "version": "3.7.3"
  }
 },
 "nbformat": 4,
 "nbformat_minor": 2
}
