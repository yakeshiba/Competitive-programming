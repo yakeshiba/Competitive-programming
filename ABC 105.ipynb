{
 "cells": [
  {
   "cell_type": "code",
   "execution_count": null,
   "metadata": {},
   "outputs": [],
   "source": [
    "#C\n",
    "N =  int(input())\n",
    "ans = []\n",
    "while True:\n",
    "    newN = int(N/-2)\n",
    "    mod = N%(-2)\n",
    "    if abs(newN) >= 2:\n",
    "        N = newN\n",
    "        ans.append(mod)\n",
    "    else:\n",
    "        ans.append(newN)\n",
    "        break\n",
    "print(ans[::-1])"
   ]
  }
 ],
 "metadata": {
  "kernelspec": {
   "display_name": "Python 3",
   "language": "python",
   "name": "python3"
  },
  "language_info": {
   "codemirror_mode": {
    "name": "ipython",
    "version": 3
   },
   "file_extension": ".py",
   "mimetype": "text/x-python",
   "name": "python",
   "nbconvert_exporter": "python",
   "pygments_lexer": "ipython3",
   "version": "3.7.3"
  }
 },
 "nbformat": 4,
 "nbformat_minor": 2
}
