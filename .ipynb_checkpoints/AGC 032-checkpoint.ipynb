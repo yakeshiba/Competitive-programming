{
 "cells": [
  {
   "cell_type": "code",
   "execution_count": null,
   "metadata": {},
   "outputs": [],
   "source": [
    "#A\n",
    "n = int(input())\n",
    "B = list(map(int,input().split()))\n",
    "\n",
    "ans = []\n",
    "while B:\n",
    "    for i,v in enumerate(B[::-1]):\n",
    "        if len(B)-i == v:\n",
    "            a = B.pop(len(B)-i-1)\n",
    "            ans.append(a)\n",
    "            break\n",
    "    else:\n",
    "        break\n",
    "if not B:\n",
    "    print(*ans[::-1],sep='\\n')\n",
    "else:\n",
    "    print(-1)"
   ]
  }
 ],
 "metadata": {
  "kernelspec": {
   "display_name": "Python 3",
   "language": "python",
   "name": "python3"
  },
  "language_info": {
   "codemirror_mode": {
    "name": "ipython",
    "version": 3
   },
   "file_extension": ".py",
   "mimetype": "text/x-python",
   "name": "python",
   "nbconvert_exporter": "python",
   "pygments_lexer": "ipython3",
   "version": "3.7.3"
  }
 },
 "nbformat": 4,
 "nbformat_minor": 2
}
