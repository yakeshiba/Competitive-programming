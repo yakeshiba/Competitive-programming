{
 "cells": [
  {
   "cell_type": "code",
   "execution_count": 1,
   "metadata": {},
   "outputs": [
    {
     "name": "stdout",
     "output_type": "stream",
     "text": [
      "a\n",
      "b\n"
     ]
    }
   ],
   "source": [
    "#A\n",
    "C = input()\n",
    "alp = [chr(i) for i in range(97,97+26)]\n",
    "ind = alp.index(C)\n",
    "print(alp[ind+1])"
   ]
  },
  {
   "cell_type": "code",
   "execution_count": 6,
   "metadata": {},
   "outputs": [
    {
     "name": "stdout",
     "output_type": "stream",
     "text": [
      "4 100 60\n",
      "0 0 0\n",
      "-1\n"
     ]
    }
   ],
   "source": [
    "#B\n",
    "N, K, M = map(int,input().split())\n",
    "A = list(map(int,input().split()))\n",
    "for i in range(K+1):\n",
    "    score = sum(A) + (i)\n",
    "    if score/N >= M:\n",
    "        print(i)\n",
    "        break\n",
    "    if i == K:\n",
    "        print(\"-1\")"
   ]
  },
  {
   "cell_type": "code",
   "execution_count": null,
   "metadata": {},
   "outputs": [],
   "source": [
    "#C\n",
    "N, M = map(int,input().split())\n",
    "penalty = 0\n",
    "correct = 0\n",
    "problem = {}\n",
    "penalty_dict = {}\n",
    "correct_dict = {}\n",
    "for i in range(M):\n",
    "    p, S = map(str,input().split())\n",
    "    if p not in problem:#初提出\n",
    "        problem[p] = S\n",
    "        penalty_dict[p] = 0\n",
    "        correct_dict[p] = 0\n",
    "        if S == \"WA\":#間違えたとき\n",
    "            penalty_dict[p] = 1\n",
    "        elif S == \"AC\":#当たってたとき\n",
    "            correct_dict[p] = 1\n",
    "    else:#既に提出したことがあるとき\n",
    "        if problem[p] == \"AC\":#既に正解しているとき\n",
    "            pass\n",
    "        else:#以前間違えているとき\n",
    "            if S == \"WA\":#また間違えたとき\n",
    "                penalty_dict[p] += 1\n",
    "            else:#今度は正解したとき\n",
    "                correct_dict[p] = 1\n",
    "                problem[p] = \"AC\"\n",
    "for keys in problem.keys():\n",
    "    if problem[keys] == \"AC\":\n",
    "        penalty += penalty_dict[keys]\n",
    "        correct += correct_dict[keys]\n",
    "print(correct,penalty)"
   ]
  },
  {
   "cell_type": "code",
   "execution_count": null,
   "metadata": {},
   "outputs": [],
   "source": [
    "#D\n",
    "from collections import deque\n",
    "import heapq\n",
    "import copy\n",
    "H, W = map(int,input().split())\n",
    "maze = []\n",
    "\n",
    "for _ in range(H):\n",
    "    maze.append(list(map(str,input().split())))\n",
    "\n",
    "ans = 0\n",
    "dx = [0, 0, 1, -1]\n",
    "dy = [1, -1, 0, 0]\n",
    "\n",
    "for row in range(H):\n",
    "    for col in range(W):\n",
    "        if maze[row][col] == \"#\":\n",
    "            continue\n",
    "        maze_copy = copy.deepcopy(maze)\n",
    "        queue = deque([(row,col)]#初期値\n",
    "        distance = deque([0])\n",
    "        distance_history = []\n",
    "        heapq.heapify(distance_history)\n",
    "        while queue:\n",
    "            d = distance.popleft()\n",
    "            distance_history.append(-d)\n",
    "            for dxi,dyi in zip(dx,dy):\n",
    "                if not (0<=x+dxi<W and 0<=y+dyi<H) or maze_copy[y+dyi][x+dxi] == \"#\":#次の行き先が「街の中じゃない」もしくは「壁」\n",
    "                    pass\n",
    "                else:\n",
    "                    queue.append((y+dyi,x+dxi))\n",
    "                    distance.append(d+1)\n",
    "                    maze_copy[y+dyi][x+dxi] = \"#\"\n",
    "        ans = max(ans,heapq.heappop(distance_history))\n",
    "print(ans)"
   ]
  },
  {
   "cell_type": "code",
   "execution_count": 11,
   "metadata": {},
   "outputs": [
    {
     "name": "stdout",
     "output_type": "stream",
     "text": [
      "1 3\n"
     ]
    }
   ],
   "source": [
    "import bisect\n",
    "A = [1,3,5,7,9]\n",
    "a=bisect.bisect_left(A,3)\n",
    "b=bisect.bisect_right(A,5)\n",
    "print(a,b)"
   ]
  }
 ],
 "metadata": {
  "kernelspec": {
   "display_name": "Python 3",
   "language": "python",
   "name": "python3"
  },
  "language_info": {
   "codemirror_mode": {
    "name": "ipython",
    "version": 3
   },
   "file_extension": ".py",
   "mimetype": "text/x-python",
   "name": "python",
   "nbconvert_exporter": "python",
   "pygments_lexer": "ipython3",
   "version": "3.7.3"
  }
 },
 "nbformat": 4,
 "nbformat_minor": 2
}
