{
 "cells": [
  {
   "cell_type": "markdown",
   "metadata": {},
   "source": [
    "# 累積和"
   ]
  },
  {
   "cell_type": "code",
   "execution_count": null,
   "metadata": {},
   "outputs": [],
   "source": [
    "#D\n",
    "n, m, q = map(int,input().split())\n",
    "\n",
    "cnt = [[0]*(n+5) for _ in range(n+5)]\n",
    "for _ in range(m):\n",
    "    l, r = map(int,input().split())\n",
    "    cnt[l][r] += 1\n",
    "\n",
    "#print(cnt)\n",
    "\n",
    "cs = [[0]*(n+5) for _ in range(n+5)]\n",
    "for l in range(1,n+1):\n",
    "    for r in range(2,n+1):\n",
    "        cnt[l][r] += cnt[l][r-1]\n",
    "\n",
    "for _ in range(q):\n",
    "    p, q = map(int,input().split())\n",
    "    ans = 0\n",
    "    #左端がp~qのどれかであればよい\n",
    "    for l in range(p,q+1):\n",
    "        ans += cnt[l][q]\n",
    "    print(ans)"
   ]
  },
  {
   "cell_type": "markdown",
   "metadata": {},
   "source": [
    "# 平面走査  \n",
    "https://competitive.hamadu.net/entry/2017/04/22/185540  \n",
    "対象区間、およびクエリ区間をあわせて、終了位置でソート。それぞれの区間について、左から順番に処理すると解ける。 具体的には、以下のようにする。\n",
    "\n",
    "点更新、区間加算ができるデータ構造を用意する。(ex: セグメント木、BIT\n",
    "両区間を終了位置でソート。\n",
    "対象区間の終了位置に出会った\n",
    "その開始位置に対して +1 する\n",
    "クエリ区間の終了位置に出会った\n",
    "この時点でクエリ区間中の +1 の合計が答えになる。"
   ]
  },
  {
   "cell_type": "code",
   "execution_count": null,
   "metadata": {},
   "outputs": [],
   "source": [
    "#D\n",
    "class SegmentTree:\n",
    "    # 初期化処理\n",
    "    # f : SegmentTreeにのせるモノイド\n",
    "    # default : fに対する単位元\n",
    "    def __init__(self, size, f=lambda x,y : x+y, default=0):\n",
    "        self.size = 2**(size-1).bit_length() # 簡単のため要素数Nを2冪にする\n",
    "        self.default = default\n",
    "        self.dat = [default]*(self.size*2) # 要素を単位元で初期化\n",
    "        self.f = f\n",
    "\n",
    "    def update(self, i, x):\n",
    "        i += self.size\n",
    "        self.dat[i] = x\n",
    "        while i > 0:\n",
    "            i >>= 1\n",
    "            self.dat[i] = self.f(self.dat[i*2], self.dat[i*2+1])\n",
    "\n",
    "    def query(self, l, r):\n",
    "        l += self.size\n",
    "        r += self.size\n",
    "        lres, rres = self.default, self.default\n",
    "        while l < r:\n",
    "            if l & 1:\n",
    "                lres = self.f(lres, self.dat[l])\n",
    "                l += 1\n",
    "\n",
    "            if r & 1:\n",
    "                r -= 1\n",
    "                rres = self.f(self.dat[r], rres) # モノイドでは可換律は保証されていないので演算の方向に注意\n",
    "            l >>= 1\n",
    "            r >>= 1\n",
    "        res = self.f(lres, rres)\n",
    "        return res\n",
    "\n",
    "n, m, q = map(int,input().split())\n",
    "\n",
    "area = []\n",
    "for _ in range(m):\n",
    "    l, r = map(int,input().split())\n",
    "    area.append((l, r, 0))\n",
    "\n",
    "query = []\n",
    "for _ in range(q):\n",
    "    p, q = map(int,input().split())\n",
    "    area.append((p, q, 1))\n",
    "    query.append((p, q))\n",
    "\n",
    "area = sorted(area, reverse=False, key=lambda x: x[1])\n",
    "#print(area)\n",
    "\n",
    "seg = SegmentTree(n+1, lambda a,b:a+b)\n",
    "ans = {}\n",
    "for a in area:\n",
    "    l, r, t = a\n",
    "    if t == 0:\n",
    "        seg.update(l, seg.query(l,l+1)+1)\n",
    "    else:\n",
    "        ans[str(l)+\" \"+str(r)] = seg.query(l,r+1)\n",
    "\n",
    "for q in query:\n",
    "    l, r = q\n",
    "    print(ans[str(l)+\" \"+str(r)])"
   ]
  }
 ],
 "metadata": {
  "kernelspec": {
   "display_name": "Python 3",
   "language": "python",
   "name": "python3"
  },
  "language_info": {
   "codemirror_mode": {
    "name": "ipython",
    "version": 3
   },
   "file_extension": ".py",
   "mimetype": "text/x-python",
   "name": "python",
   "nbconvert_exporter": "python",
   "pygments_lexer": "ipython3",
   "version": "3.7.8"
  }
 },
 "nbformat": 4,
 "nbformat_minor": 4
}
