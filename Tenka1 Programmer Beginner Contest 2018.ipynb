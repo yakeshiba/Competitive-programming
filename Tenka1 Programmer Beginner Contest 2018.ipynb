{
 "cells": [
  {
   "cell_type": "code",
   "execution_count": 2,
   "metadata": {},
   "outputs": [
    {
     "name": "stdout",
     "output_type": "stream",
     "text": [
      "acd\n",
      "dca\n"
     ]
    }
   ],
   "source": [
    "#A\n",
    "S = input()\n",
    "if len(S) == 2:\n",
    "    print(S)\n",
    "else:\n",
    "    print(S[::-1])"
   ]
  },
  {
   "cell_type": "code",
   "execution_count": 13,
   "metadata": {},
   "outputs": [
    {
     "name": "stdout",
     "output_type": "stream",
     "text": [
      "314159265 358979323 84\n",
      "448759046 224379523\n"
     ]
    }
   ],
   "source": [
    "#B\n",
    "A,B,K = map(int,input().split())\n",
    "for i in range(K//2):\n",
    "    if A%2:\n",
    "        A -= 1\n",
    "    B += A//2\n",
    "    A //= 2\n",
    "    if B%2:\n",
    "        B -= 1\n",
    "    A += B//2\n",
    "    B //= 2\n",
    "    \n",
    "if K%2:\n",
    "    if A%2:\n",
    "        A -= 1\n",
    "    B += A//2\n",
    "    A //= 2\n",
    "print(A,B)"
   ]
  },
  {
   "cell_type": "code",
   "execution_count": 17,
   "metadata": {},
   "outputs": [
    {
     "name": "stdout",
     "output_type": "stream",
     "text": [
      "3\n",
      "5\n",
      "5\n",
      "1\n",
      "8\n"
     ]
    }
   ],
   "source": [
    "#C\n",
    "N = int(input())\n",
    "A = [None]*N\n",
    "for i in range(N):\n",
    "    A[i] = int(input())\n",
    "A.sort()\n",
    "\n",
    "if N%2:#Nが奇数\n",
    "    c = N//2#中央のインデックス\n",
    "    tmp_top = 0\n",
    "    tmp_end = 0\n",
    "    for i in range(N//2):\n",
    "        #先に先頭\n",
    "        if i==0:\n",
    "            tmp_top += abs(A[c]-A[i])\n",
    "        else:\n",
    "            tmp_top += abs(A[-i]-A[i])\n",
    "        tmp_top += abs(A[i]-A[-(i+1)])\n",
    "        #先に末尾\n",
    "        if i==0:\n",
    "            tmp_end += abs(A[c]-A[-(i+1)])\n",
    "        else:\n",
    "            tmp_end += abs(A[i-1]-A[-(i+1)])\n",
    "        tmp_end += abs(abs(A[-(i+1)]-A[i]))\n",
    "else:#Nが偶数\n",
    "    c = N//2#中央の対の右側のインデックス\n",
    "    tmp_top = 0#対の右スタート\n",
    "    tmp_end = 0#対の左スタート\n",
    "    for i in range(c-1):#中央の対以外\n",
    "        #右スタート\n",
    "        if i==0:\n",
    "            tmp_top += abs(A[c]-A[i])\n",
    "        else:\n",
    "            tmp_top += abs(A[-i]-A[i])\n",
    "        tmp_top += abs(A[i]-A[-(i+1)])\n",
    "        #左スタート\n",
    "        if i==0:\n",
    "            tmp_end += abs(A[c-1]-A[-(i+1)])\n",
    "        else:\n",
    "            tmp_end += abs(A[i-1]-A[-(i+1)])\n",
    "        tmp_end += abs(A[-(i+1)]-A[i])\n",
    "    tmp_top += abs(A[-(c-1)]-A[c-1])\n",
    "    tmp_end += abs(A[c-1]-A[c])\n",
    "    \n",
    "print(max(tmp_top,tmp_end))"
   ]
  },
  {
   "cell_type": "code",
   "execution_count": null,
   "metadata": {},
   "outputs": [],
   "source": [
    "#D\n"
   ]
  }
 ],
 "metadata": {
  "kernelspec": {
   "display_name": "Python 3",
   "language": "python",
   "name": "python3"
  },
  "language_info": {
   "codemirror_mode": {
    "name": "ipython",
    "version": 3
   },
   "file_extension": ".py",
   "mimetype": "text/x-python",
   "name": "python",
   "nbconvert_exporter": "python",
   "pygments_lexer": "ipython3",
   "version": "3.7.3"
  }
 },
 "nbformat": 4,
 "nbformat_minor": 2
}
