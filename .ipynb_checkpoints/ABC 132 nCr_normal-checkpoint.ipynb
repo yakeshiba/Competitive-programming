{
 "cells": [
  {
   "cell_type": "code",
   "execution_count": 2,
   "metadata": {},
   "outputs": [
    {
     "name": "stdout",
     "output_type": "stream",
     "text": [
      "5 3\n",
      "3\n",
      "6\n",
      "1\n"
     ]
    }
   ],
   "source": [
    "#D\n",
    "N, K = map(int,input().split())\n",
    "mod = 10**9+7\n",
    "\n",
    "import math\n",
    "def cmb(n, r):\n",
    "    if n < r : return 0\n",
    "    else : return math.factorial(n) // (math.factorial(n - r) * math.factorial(r))\n",
    "\n",
    "for i in range(1,K+1):\n",
    "    print(cmb(N-K+1,i)*cmb(K-1,i-1)%mod)"
   ]
  },
  {
   "cell_type": "code",
   "execution_count": null,
   "metadata": {},
   "outputs": [],
   "source": [
    "from operator import mul\n",
    "from functools import reduce\n",
    "\n",
    "def cmb(n,r):\n",
    "    r = min(n-r,r)\n",
    "    if r == 0: return 1\n",
    "    over = reduce(mul, range(n, n - r, -1))\n",
    "    under = reduce(mul, range(1,r + 1))\n",
    "    return over // under\n",
    "\n",
    "a = cmb(n, r)"
   ]
  },
  {
   "cell_type": "code",
   "execution_count": null,
   "metadata": {},
   "outputs": [],
   "source": [
    "#D\n",
    "n, k = map(int,input().split())\n",
    "\n",
    "m = 2001\n",
    "mod = 1000000007\n",
    " \n",
    "fac = [1] * m\n",
    "finv = [1] * m\n",
    "inv = [1] * m\n",
    " \n",
    "def COMinit():\n",
    "    for i in range(2, m):\n",
    "        fac[i] = fac[i - 1] * i % mod\n",
    "        inv[i] = mod - inv[mod % i] * (mod // i) % mod\n",
    "        finv[i] = finv[i - 1] * inv[i] % mod \n",
    "\n",
    "def COM(n, k):\n",
    "    if n < 0 or k < 0 or n < k:\n",
    "        return 0\n",
    "    return fac[n] * (finv[k] * finv[n - k] % mod) % mod\n",
    "\n",
    "COMinit()\n",
    "\n",
    "for i in range(k):\n",
    "    print(COM(n-k+1, i+1) * COM(k-1, i) % mod)"
   ]
  }
 ],
 "metadata": {
  "kernelspec": {
   "display_name": "Python 3",
   "language": "python",
   "name": "python3"
  },
  "language_info": {
   "codemirror_mode": {
    "name": "ipython",
    "version": 3
   },
   "file_extension": ".py",
   "mimetype": "text/x-python",
   "name": "python",
   "nbconvert_exporter": "python",
   "pygments_lexer": "ipython3",
   "version": "3.7.3"
  }
 },
 "nbformat": 4,
 "nbformat_minor": 2
}
