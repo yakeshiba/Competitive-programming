{
 "cells": [
  {
   "cell_type": "code",
   "execution_count": null,
   "metadata": {},
   "outputs": [],
   "source": [
    "#A\n",
    "x,y = map(int,input().split())\n",
    "print(max(x,y))"
   ]
  },
  {
   "cell_type": "code",
   "execution_count": 2,
   "metadata": {},
   "outputs": [
    {
     "name": "stdout",
     "output_type": "stream",
     "text": [
      "chokudai\n",
      "chkd\n"
     ]
    }
   ],
   "source": [
    "#B\n",
    "p = ['a','i','u','e','o']\n",
    "W = list(input())\n",
    "ans = []\n",
    "for i in range(len(W)):\n",
    "    if W[i] not in p:\n",
    "        ans.append(W[i])\n",
    "print(''.join(ans))"
   ]
  },
  {
   "cell_type": "code",
   "execution_count": 3,
   "metadata": {},
   "outputs": [
    {
     "name": "stdout",
     "output_type": "stream",
     "text": [
      "1 0 3 0 2 5\n",
      "5.0\n"
     ]
    }
   ],
   "source": [
    "#C\n",
    "xa,ya,xb,yb,xc,yc = map(int,input().split())\n",
    "xb -= xa\n",
    "xc -= xa\n",
    "yb -= ya\n",
    "yc -= ya\n",
    "xa,ya = 0,0\n",
    "print(abs(xb*yc-yb*xc)/2)"
   ]
  },
  {
   "cell_type": "code",
   "execution_count": null,
   "metadata": {},
   "outputs": [],
   "source": [
    "#D ビット全探索\n",
    "N,M = map(int,input().split())\n",
    "edge = [[] for _ in range(N)]\n",
    "\n",
    "ans = 1\n",
    "for i in range(M):\n",
    "    x,y = map(int,input().split())\n",
    "    edge[x-1].append(y-1)\n",
    "    edge[y-1].append(x-1)\n",
    "    \n",
    "#print(edge)    \n",
    "\n",
    "for state in range(1<<N):\n",
    "    connection = []#この人たちが知り合い同士か調べる\n",
    "    friend = True\n",
    "    for mask in range(N):\n",
    "        if state & (1<<mask):\n",
    "            connection.append(mask)\n",
    "    for j in range(len(connection)-1):\n",
    "        for i in range(len(connection)-(1+j)):\n",
    "            if connection[j+i+1] in edge[connection[j]]:\n",
    "                pass\n",
    "            else:\n",
    "                friend = False\n",
    "                break\n",
    "        if not friend:\n",
    "            break\n",
    "    else:\n",
    "        ans = max(len(connection),ans)\n",
    "print(ans)"
   ]
  },
  {
   "cell_type": "code",
   "execution_count": null,
   "metadata": {},
   "outputs": [],
   "source": [
    "#D 再帰\n",
    "N,M = map(int,input().split())\n",
    "acq = [[0]*N for _ in range(N)]#互いに知り合いなら１\n",
    "\n",
    "def dfs(tmp_cnct,k):\n",
    "    global ans\n",
    "    if k == N:\n",
    "        print(tmp_cnct)\n",
    "        for i in range(len(tmp_cnct)):\n",
    "            for j in range(i+1,len(tmp_cnct)):\n",
    "                if acq[tmp_cnct[i]][tmp_cnct[j]] == 0:\n",
    "                    return#continue的な感じ\n",
    "        ans = max(ans,len(tmp_cnct))\n",
    "        print(ans)\n",
    "    else:\n",
    "        print(tmp_cnct)\n",
    "        dfs(tmp_cnct,k+1)#現在の仮グループで\n",
    "        tmp_cnct.append(k)\n",
    "        print(tmp_cnct)\n",
    "        dfs(tmp_cnct,k+1)\n",
    "        tmp_cnct.pop()\n",
    "\n",
    "for i in range(M):\n",
    "    x,y = map(int,input().split())\n",
    "    x -= 1\n",
    "    y -= 1\n",
    "    acq[x][y] = 1\n",
    "    acq[y][x] = 1#ここは無くてもいい(探索上x<yを満たす位置の要素しか確認しないから)\n",
    "    \n",
    "ans = 0\n",
    "dfs([],0)\n",
    "print(ans)"
   ]
  }
 ],
 "metadata": {
  "kernelspec": {
   "display_name": "Python 3",
   "language": "python",
   "name": "python3"
  },
  "language_info": {
   "codemirror_mode": {
    "name": "ipython",
    "version": 3
   },
   "file_extension": ".py",
   "mimetype": "text/x-python",
   "name": "python",
   "nbconvert_exporter": "python",
   "pygments_lexer": "ipython3",
   "version": "3.7.8"
  }
 },
 "nbformat": 4,
 "nbformat_minor": 2
}
