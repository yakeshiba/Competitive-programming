{
 "cells": [
  {
   "cell_type": "code",
   "execution_count": null,
   "metadata": {},
   "outputs": [],
   "source": [
    "#C\n",
    "n = int(input())\n",
    "A = list(map(int,input().split()))\n",
    "\n",
    "p = sum(A)//n\n",
    "q = p+1\n",
    "r = p-1\n",
    "\n",
    "ans = float(\"inf\")\n",
    "for x in [p,q,r]:\n",
    "    tmp = 0\n",
    "    for a in A:\n",
    "        tmp += (a-x)**2\n",
    "    ans = min(ans, tmp)\n",
    "    \n",
    "print(ans)"
   ]
  }
 ],
 "metadata": {
  "kernelspec": {
   "display_name": "Python 3",
   "language": "python",
   "name": "python3"
  },
  "language_info": {
   "codemirror_mode": {
    "name": "ipython",
    "version": 3
   },
   "file_extension": ".py",
   "mimetype": "text/x-python",
   "name": "python",
   "nbconvert_exporter": "python",
   "pygments_lexer": "ipython3",
   "version": "3.7.8"
  }
 },
 "nbformat": 4,
 "nbformat_minor": 4
}
