{
 "cells": [
  {
   "cell_type": "code",
   "execution_count": null,
   "metadata": {},
   "outputs": [],
   "source": [
    "#C\n",
    "n = int(input())\n",
    "A = list(map(int,input().split()))\n",
    "\n",
    "A.sort()\n",
    "\n",
    "mod = 10**9+7\n",
    "\n",
    "f = True\n",
    "if n%2:#nは奇数\n",
    "    if A[0] != 0:\n",
    "        f = False\n",
    "    else:\n",
    "        check = 2\n",
    "        for i in range(1,(n-1)//2+1):\n",
    "            if not (A[2*i-1] == check and A[2*i] == check):\n",
    "                f = False\n",
    "                break\n",
    "            check += 2\n",
    "else:#nは偶数\n",
    "    check = 1\n",
    "    for i in range(1,n//2+1):\n",
    "        if not (A[2*i-2] == check and A[2*i-1] == check):\n",
    "            f = False\n",
    "            break\n",
    "        check += 2\n",
    "if f:\n",
    "    if n%2:\n",
    "        print(pow(2, (n-1)//2, mod))\n",
    "    else:\n",
    "        print(pow(2, n//2, mod))\n",
    "else:\n",
    "    print(0)"
   ]
  }
 ],
 "metadata": {
  "kernelspec": {
   "display_name": "Python 3",
   "language": "python",
   "name": "python3"
  },
  "language_info": {
   "codemirror_mode": {
    "name": "ipython",
    "version": 3
   },
   "file_extension": ".py",
   "mimetype": "text/x-python",
   "name": "python",
   "nbconvert_exporter": "python",
   "pygments_lexer": "ipython3",
   "version": "3.7.3"
  }
 },
 "nbformat": 4,
 "nbformat_minor": 2
}
