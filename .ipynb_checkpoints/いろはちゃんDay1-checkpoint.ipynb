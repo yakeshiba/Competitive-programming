{
 "cells": [
  {
   "cell_type": "code",
   "execution_count": null,
   "metadata": {},
   "outputs": [],
   "source": [
    "#A\n",
    "s = input()\n",
    "print(s[0])"
   ]
  },
  {
   "cell_type": "code",
   "execution_count": 1,
   "metadata": {},
   "outputs": [
    {
     "name": "stdout",
     "output_type": "stream",
     "text": [
      "a\n",
      "2\n",
      "a\n"
     ]
    }
   ],
   "source": [
    "#B\n",
    "S = input()\n",
    "K = int(input())\n",
    "ans = []\n",
    "for i in range(K):\n",
    "    j = i%len(S)\n",
    "    ans.append(S[j])\n",
    "if len(ans) >= len(S):\n",
    "    print(\"\".join(ans[::-1][:len(S)][::-1]))\n",
    "else:\n",
    "    print(S[K:] + \"\".join(ans[::-1][:len(S)][::-1]))"
   ]
  },
  {
   "cell_type": "code",
   "execution_count": null,
   "metadata": {},
   "outputs": [],
   "source": [
    "#C\n",
    "n = int(input())\n",
    "\n",
    "ans = []\n",
    "for i in range(8):\n",
    "    ans.append(n-i)\n",
    "\n",
    "for d in ans[::-1]:\n",
    "    print(d)"
   ]
  },
  {
   "cell_type": "code",
   "execution_count": null,
   "metadata": {},
   "outputs": [],
   "source": [
    "#D\n",
    "n, x, y = map(int,input().split())\n",
    "A = list(map(int,input().split()))\n",
    "A.sort(reverse=True)\n",
    "\n",
    "takahashi = x\n",
    "aoki = y\n",
    "for i in range(n//2):\n",
    "    takahashi += A[2*i] \n",
    "    aoki += A[2*i+1]\n",
    "\n",
    "if takahashi > aoki:\n",
    "    print('Takahashi')\n",
    "elif aoki > takahashi:\n",
    "    print('Aoki')\n",
    "else:\n",
    "    print('Draw')"
   ]
  },
  {
   "cell_type": "code",
   "execution_count": null,
   "metadata": {},
   "outputs": [],
   "source": [
    "#E\n",
    "n, a, b = map(int,input().split())\n",
    "if not b:\n",
    "    print(0)\n",
    "else:\n",
    "    D = list(map(int,input().split()))\n",
    "    D.sort()\n",
    "    \n",
    "    date = 0\n",
    "    for i in range(b-1):\n",
    "        diff = D[i+1]-D[i]\n",
    "        if diff > a:\n",
    "            date += 1\n",
    "    \n",
    "    date += -(-D[0]//a)-1\n",
    "    \n",
    "    if n-D[-1] >= a:\n",
    "        date += (n-D[-1])//a\n",
    "    \n",
    "    print(n-(date+b))"
   ]
  },
  {
   "cell_type": "code",
   "execution_count": null,
   "metadata": {},
   "outputs": [],
   "source": [
    "#F\n",
    "def factorize(n):\n",
    "    fct = []  # prime factor\n",
    "    b, e = 2, 0  # base, exponent\n",
    "    while b * b <= n:\n",
    "        while n % b == 0:\n",
    "            n = n // b\n",
    "            e = e + 1\n",
    "        if e > 0:\n",
    "            fct.append((b, e))\n",
    "        b, e = b + 1, 0\n",
    "    if n > 1:\n",
    "        fct.append((n, 1))\n",
    "    return fct\n",
    "\n",
    "n, k = map(int,input().split())\n",
    "\n",
    "factors = []\n",
    "for num,kosu in factorize(n):\n",
    "    tmp = [num]*kosu\n",
    "    factors += tmp\n",
    "\n",
    "#print(factors)\n",
    "\n",
    "if len(factors) >= k:\n",
    "    ans = [1]*k\n",
    "    for i in range(k-1):\n",
    "        ans[i] = factors[i]\n",
    "    for i in factors[k-1:]:\n",
    "        ans[k-1] *= i\n",
    "    print(*ans)\n",
    "else:\n",
    "    print(-1)"
   ]
  }
 ],
 "metadata": {
  "kernelspec": {
   "display_name": "Python 3",
   "language": "python",
   "name": "python3"
  },
  "language_info": {
   "codemirror_mode": {
    "name": "ipython",
    "version": 3
   },
   "file_extension": ".py",
   "mimetype": "text/x-python",
   "name": "python",
   "nbconvert_exporter": "python",
   "pygments_lexer": "ipython3",
   "version": "3.7.8"
  }
 },
 "nbformat": 4,
 "nbformat_minor": 4
}
