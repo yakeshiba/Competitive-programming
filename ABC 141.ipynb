{
 "cells": [
  {
   "cell_type": "code",
   "execution_count": 4,
   "metadata": {},
   "outputs": [
    {
     "name": "stdout",
     "output_type": "stream",
     "text": [
      "2 3\n",
      "12 3 2\n",
      "2\n"
     ]
    }
   ],
   "source": [
    "import heapq\n",
    "\n",
    "N, M = map(int,input().split())\n",
    "A = list(map(lambda x: -int(x),input().split()))\n",
    "\n",
    "heapq.heapify(A)\n",
    "\n",
    "for i in range(M):\n",
    "    tmp = -heapq.heappop(A)\n",
    "    heapq.heappush(A,-(tmp//2))\n",
    "print(-sum(A))"
   ]
  },
  {
   "cell_type": "code",
   "execution_count": null,
   "metadata": {},
   "outputs": [],
   "source": []
  }
 ],
 "metadata": {
  "kernelspec": {
   "display_name": "Python 3",
   "language": "python",
   "name": "python3"
  },
  "language_info": {
   "codemirror_mode": {
    "name": "ipython",
    "version": 3
   },
   "file_extension": ".py",
   "mimetype": "text/x-python",
   "name": "python",
   "nbconvert_exporter": "python",
   "pygments_lexer": "ipython3",
   "version": "3.7.3"
  }
 },
 "nbformat": 4,
 "nbformat_minor": 2
}
