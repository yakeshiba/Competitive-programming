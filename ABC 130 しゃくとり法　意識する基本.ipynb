{
 "cells": [
  {
   "cell_type": "code",
   "execution_count": null,
   "metadata": {},
   "outputs": [],
   "source": [
    "#C\n",
    "W,H,x,y = map(int,input().split())\n",
    "\n",
    "if x == W/2 and y == H/2:\n",
    "    print(W*H/2, 1)\n",
    "else:\n",
    "    print(W*H/2, 0)"
   ]
  },
  {
   "cell_type": "code",
   "execution_count": null,
   "metadata": {},
   "outputs": [],
   "source": [
    "#私の意識するしゃくとり法の基本はたったのふたつです。\n",
    "#条件を満たさなければ右端を進めて区間を広げる。\n",
    "#条件を満たしていれば左端を進めて区間を狭める。\n",
    "#from → https://komiyam.hatenadiary.org/entry/20120802/1343894601)"
   ]
  },
  {
   "cell_type": "code",
   "execution_count": null,
   "metadata": {},
   "outputs": [],
   "source": [
    "#D\n",
    "N, K = map(int,input().split())\n",
    "A = list(map(int,input().split()))\n",
    "\n",
    "right = 0\n",
    "left = 0\n",
    "ans = 0\n",
    "areasum = 0\n",
    "while right < N:\n",
    "    #条件を満たすまで\n",
    "    while right < N and areasum < K:#right<N and 満たしてほしい条件の逆\n",
    "        areasum += A[right]\n",
    "        right += 1\n",
    "        \n",
    "    while areasum >= K:#条件を満たしているとき\n",
    "        ans += N-(right-1)\n",
    "        areasum -= A[left]\n",
    "        left += 1\n",
    "\n",
    "print(ans)"
   ]
  },
  {
   "cell_type": "code",
   "execution_count": null,
   "metadata": {},
   "outputs": [],
   "source": [
    "#D 別解（累積和を使った尺取り法）\n",
    "from itertools import accumulate\n",
    "n,k = map(int, input().split())\n",
    "a = list(map(int, input().split()))\n",
    "a = list(accumulate(a))\n",
    "a = [0] + a\n",
    "ans = 0\n",
    "l = 0\n",
    "r = 0\n",
    "while r < n + 1:\n",
    "    if a[r] - a[l] >= k:\n",
    "        ans += n - r + 1\n",
    "        l += 1\n",
    "    else:\n",
    "        r += 1\n",
    "print(ans)"
   ]
  }
 ],
 "metadata": {
  "kernelspec": {
   "display_name": "Python 3",
   "language": "python",
   "name": "python3"
  },
  "language_info": {
   "codemirror_mode": {
    "name": "ipython",
    "version": 3
   },
   "file_extension": ".py",
   "mimetype": "text/x-python",
   "name": "python",
   "nbconvert_exporter": "python",
   "pygments_lexer": "ipython3",
   "version": "3.7.8"
  }
 },
 "nbformat": 4,
 "nbformat_minor": 2
}
