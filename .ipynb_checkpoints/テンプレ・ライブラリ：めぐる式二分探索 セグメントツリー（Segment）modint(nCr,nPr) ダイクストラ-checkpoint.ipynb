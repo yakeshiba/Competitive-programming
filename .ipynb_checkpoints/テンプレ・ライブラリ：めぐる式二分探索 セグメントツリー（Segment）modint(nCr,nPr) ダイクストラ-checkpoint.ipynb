{
 "cells": [
  {
   "cell_type": "markdown",
   "metadata": {},
   "source": [
    "# めぐる式二分探索"
   ]
  },
  {
   "cell_type": "code",
   "execution_count": null,
   "metadata": {},
   "outputs": [],
   "source": [
    "def is_ok(arg):\n",
    "    # 条件を満たすかどうか？問題ごとに定義\n",
    "    pass\n",
    "\n",
    "\n",
    "def meguru_bisect(ng, ok):\n",
    "    '''\n",
    "    初期値のng,okを受け取り,is_okを満たす最小(最大)のokを返す\n",
    "    まずis_okを定義すべし\n",
    "    ng ok は  とり得る最小の値-1 とり得る最大の値+1\n",
    "    最大最小が逆の場合はよしなにひっくり返す\n",
    "    '''\n",
    "    while (abs(ok - ng) > 1):\n",
    "        mid = (ok + ng) // 2\n",
    "        if is_ok(mid):\n",
    "            ok = mid\n",
    "        else:\n",
    "            ng = mid\n",
    "    return ok"
   ]
  },
  {
   "cell_type": "markdown",
   "metadata": {},
   "source": [
    "# ModInt"
   ]
  },
  {
   "cell_type": "code",
   "execution_count": null,
   "metadata": {},
   "outputs": [],
   "source": [
    "class Mint:\n",
    "    MOD = temp  # Must be a prime\n",
    "    CACHE_FACTORIALS = [1, 1]\n",
    " \n",
    "    def __init__(self, v):\n",
    "        if self.__isally(v):\n",
    "            self.v = v.v\n",
    "        else:\n",
    "            self.v = v % self.MOD\n",
    " \n",
    "    @property\n",
    "    def inv(self):\n",
    "        return Mint(self.__minv(self.v))\n",
    " \n",
    "    @classmethod\n",
    "    def factorial(cls, v):\n",
    "        for i in range(len(cls.CACHE_FACTORIALS), int(v) + 1):\n",
    "            cls.CACHE_FACTORIALS.append(cls.CACHE_FACTORIALS[-1] * i % cls.MOD)\n",
    "        return Mint(cls.CACHE_FACTORIALS[int(v)])\n",
    " \n",
    "    @classmethod\n",
    "    def perm(cls, n, r):\n",
    "        if n < r or r < 0:\n",
    "            return 0\n",
    "        return cls.factorial(n) // cls.factorial(n - r)\n",
    " \n",
    "    @classmethod\n",
    "    def comb(cls, n, r):\n",
    "        if n < r or r < 0:\n",
    "            return 0\n",
    "        return cls.perm(n, r) // cls.factorial(r)\n",
    " \n",
    "    @classmethod\n",
    "    def __isally(cls, v) -> bool:\n",
    "        return isinstance(v, cls)\n",
    " \n",
    "    @classmethod\n",
    "    def __minv(cls, v) -> int:\n",
    "        return pow(v, cls.MOD - 2, cls.MOD)\n",
    " \n",
    "    @classmethod\n",
    "    def __mpow(cls, v, w) -> int:\n",
    "        return pow(v, w, cls.MOD)\n",
    " \n",
    "    def __str__(self):\n",
    "        return str(self.v)\n",
    "    __repr__ = __str__\n",
    " \n",
    "    def __int__(self):\n",
    "        return self.v\n",
    " \n",
    "    def __eq__(self, w):\n",
    "        return self.v == w.v if self.__isally(w) else self.v == w\n",
    " \n",
    "    def __add__(self, w):\n",
    "        return Mint(self.v + w.v) if self.__isally(w) else Mint(self.v + w)\n",
    "    __radd__ = __add__\n",
    " \n",
    "    def __sub__(self, w):\n",
    "        return Mint(self.v - w.v) if self.__isally(w) else Mint(self.v - w)\n",
    " \n",
    "    def __rsub__(self, u):\n",
    "        return Mint(u.v - self.v) if self.__isally(u) else Mint(u - self.v)\n",
    " \n",
    "    def __mul__(self, w):\n",
    "        return Mint(self.v * w.v) if self.__isally(w) else Mint(self.v * w)\n",
    "    __rmul__ = __mul__\n",
    " \n",
    "    def __floordiv__(self, w):\n",
    "        return Mint(self.v * self.__minv(w.v)) if self.__isally(w) else Mint(self.v * self.__minv(w))\n",
    " \n",
    "    def __rfloordiv__(self, u):\n",
    "        return Mint(u.v * self.__minv(self.v)) if self.__isally(u) else Mint(u * self.__minv(self.v))\n",
    " \n",
    "    def __pow__(self, w):\n",
    "        return Mint(self.__mpow(self.v, w.v)) if self.__isally(w) else Mint(self.__mpow(self.v, w))\n",
    " \n",
    "    def __rpow__(self, u):\n",
    "        return Mint(self.__mpow(u.v, self.v)) if self.__isally(u) else Mint(self.__mpow(u, self.v))\n",
    "\n",
    "n, k = map(int,input().split())\n",
    "for i in range(1, K + 1):\n",
    "    print(Mint.comb(N - K + 1, i) * Mint.comb(K - 1, i - 1))"
   ]
  },
  {
   "cell_type": "markdown",
   "metadata": {},
   "source": [
    "# セグメントツリー"
   ]
  },
  {
   "cell_type": "code",
   "execution_count": 1,
   "metadata": {
    "scrolled": true
   },
   "outputs": [
    {
     "name": "stdout",
     "output_type": "stream",
     "text": [
      "a\n"
     ]
    },
    {
     "ename": "ValueError",
     "evalue": "invalid literal for int() with base 10: 'a'",
     "output_type": "error",
     "traceback": [
      "\u001b[1;31m---------------------------------------------------------------------------\u001b[0m",
      "\u001b[1;31mValueError\u001b[0m                                Traceback (most recent call last)",
      "\u001b[1;32m<ipython-input-1-cea77cdc20f5>\u001b[0m in \u001b[0;36m<module>\u001b[1;34m\u001b[0m\n\u001b[0;32m     33\u001b[0m         \u001b[1;32mreturn\u001b[0m \u001b[0mres\u001b[0m\u001b[1;33m\u001b[0m\u001b[1;33m\u001b[0m\u001b[0m\n\u001b[0;32m     34\u001b[0m \u001b[1;33m\u001b[0m\u001b[0m\n\u001b[1;32m---> 35\u001b[1;33m \u001b[0mn\u001b[0m\u001b[1;33m,\u001b[0m \u001b[0mq\u001b[0m \u001b[1;33m=\u001b[0m \u001b[0mmap\u001b[0m\u001b[1;33m(\u001b[0m\u001b[0mint\u001b[0m\u001b[1;33m,\u001b[0m \u001b[0minput\u001b[0m\u001b[1;33m(\u001b[0m\u001b[1;33m)\u001b[0m\u001b[1;33m.\u001b[0m\u001b[0msplit\u001b[0m\u001b[1;33m(\u001b[0m\u001b[1;33m)\u001b[0m\u001b[1;33m)\u001b[0m\u001b[1;33m\u001b[0m\u001b[1;33m\u001b[0m\u001b[0m\n\u001b[0m\u001b[0;32m     36\u001b[0m \u001b[1;33m\u001b[0m\u001b[0m\n\u001b[0;32m     37\u001b[0m \u001b[1;31m# 要素数nの数列,2^31-1で初期化\u001b[0m\u001b[1;33m\u001b[0m\u001b[1;33m\u001b[0m\u001b[1;33m\u001b[0m\u001b[0m\n",
      "\u001b[1;31mValueError\u001b[0m: invalid literal for int() with base 10: 'a'"
     ]
    }
   ],
   "source": [
    "class SegmentTree:\n",
    "    # 初期化処理\n",
    "    # f : SegmentTreeにのせるモノイド\n",
    "    # default : fに対する単位元\n",
    "    def __init__(self, size, f=lambda x,y : x+y, default=0):\n",
    "        self.size = 2**(size-1).bit_length() # 簡単のため要素数Nを2冪にする\n",
    "        self.default = default\n",
    "        self.dat = [default]*(self.size*2) # 要素を単位元で初期化\n",
    "        self.f = f\n",
    "\n",
    "    def update(self, i, x):\n",
    "        i += self.size\n",
    "        self.dat[i] = x\n",
    "        while i > 0:\n",
    "            i >>= 1\n",
    "            self.dat[i] = self.f(self.dat[i*2], self.dat[i*2+1])\n",
    "\n",
    "    def query(self, l, r):\n",
    "        l += self.size\n",
    "        r += self.size\n",
    "        lres, rres = self.default, self.default\n",
    "        while l < r:\n",
    "            if l & 1:\n",
    "                lres = self.f(lres, self.dat[l])\n",
    "                l += 1\n",
    "\n",
    "            if r & 1:\n",
    "                r -= 1\n",
    "                rres = self.f(self.dat[r], rres) # モノイドでは可換律は保証されていないので演算の方向に注意\n",
    "            l >>= 1\n",
    "            r >>= 1\n",
    "        res = self.f(lres, rres)\n",
    "        return res\n",
    "\n",
    "n, q = map(int, input().split())\n",
    "\n",
    "# min,math.gcd など，関数を入力することでqueryで行う演算を指定\n",
    "# 区間和，区間積は lambda a,b:a+b や lambda a,b:a*b で指定\n",
    "s = SegmentTree(n, min)\n",
    "\n",
    "#s[i]をxに置換\n",
    "s.update(i, x)\n",
    "\n",
    "# 半開区間 x～yならx,y+1を指定\n",
    "s.query(x, y+1)"
   ]
  },
  {
   "cell_type": "markdown",
   "metadata": {},
   "source": [
    "# ダイクストラ法"
   ]
  },
  {
   "cell_type": "markdown",
   "metadata": {},
   "source": [
    "入力が  \n",
    "n, m  \n",
    "s,t,d  \n",
    "のとき  \n",
    "\n",
    "edge = [[] for _ in range(n)]  \n",
    "for _ in range(m):  \n",
    "　　edge[s-1].append([d, t-1])  ←/*ここ注意*/[コスト, 行き先] の順番\n",
    "\n",
    "node_numはlen(edge)=n  \n",
    "startは始点"
   ]
  },
  {
   "cell_type": "code",
   "execution_count": null,
   "metadata": {},
   "outputs": [],
   "source": [
    "from heapq import heapify, heappop, heappush\n",
    "def dij(start: int, node_num: int, edge: list) -> list:\n",
    "    d = [float(\"inf\")]*node_num\n",
    "    d[start] = 0\n",
    "    q = [(0,start)]\n",
    " \n",
    "    while len(q) != 0:\n",
    "        ci, i = heappop(q)\n",
    "        if d[i] < ci:\n",
    "            continue\n",
    "        for cj, j in edge[i]:\n",
    "            if d[j] > d[i] + cj:\n",
    "                d[j] = d[i] + cj\n",
    "                heappush(q, (d[j], j))\n",
    "    return d"
   ]
  }
 ],
 "metadata": {
  "kernelspec": {
   "display_name": "Python 3",
   "language": "python",
   "name": "python3"
  },
  "language_info": {
   "codemirror_mode": {
    "name": "ipython",
    "version": 3
   },
   "file_extension": ".py",
   "mimetype": "text/x-python",
   "name": "python",
   "nbconvert_exporter": "python",
   "pygments_lexer": "ipython3",
   "version": "3.7.8"
  }
 },
 "nbformat": 4,
 "nbformat_minor": 2
}
