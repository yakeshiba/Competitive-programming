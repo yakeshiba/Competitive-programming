{
 "cells": [
  {
   "cell_type": "code",
   "execution_count": 1,
   "metadata": {},
   "outputs": [
    {
     "name": "stdout",
     "output_type": "stream",
     "text": [
      "a d\n",
      "da\n"
     ]
    }
   ],
   "source": [
    "#A\n",
    "S,T  = map(str,input().split())\n",
    "print(T+S)"
   ]
  },
  {
   "cell_type": "code",
   "execution_count": 13,
   "metadata": {},
   "outputs": [
    {
     "name": "stdout",
     "output_type": "stream",
     "text": [
      "2 3 6\n",
      "0 -1\n"
     ]
    }
   ],
   "source": [
    "#B\n",
    "A,B,K = map(int,input().split())\n",
    "if A-K<=0:\n",
    "    tkhs = 0\n",
    "    aok = B + (A-K)\n",
    "    if aok < 0:\n",
    "        aok = 0\n",
    "else:\n",
    "    tkhs = A-K\n",
    "    aok = B\n",
    "print(tkhs,aok)"
   ]
  },
  {
   "cell_type": "code",
   "execution_count": 39,
   "metadata": {},
   "outputs": [
    {
     "name": "stdout",
     "output_type": "stream",
     "text": [
      "4\n",
      "5\n"
     ]
    }
   ],
   "source": [
    "#C\n",
    "X = int(input())\n",
    "flag = True\n",
    "now = X\n",
    "if X <= 3:\n",
    "    print(X)\n",
    "else:\n",
    "    while flag:\n",
    "        a = int(now**(1/2))\n",
    "        for i in range(2,a+1):\n",
    "            #print(now,i)\n",
    "            v = now/i\n",
    "            if v == int(v):\n",
    "                break\n",
    "            if i == a:#割り切れず，かつ最後の時\n",
    "                flag = False\n",
    "                ans = now\n",
    "                break\n",
    "        now += 1\n",
    "    print(ans)"
   ]
  },
  {
   "cell_type": "code",
   "execution_count": null,
   "metadata": {},
   "outputs": [],
   "source": [
    "#D\n",
    "N,K = map(int,input().split())\n",
    "R,S,P = map(int,input().split())\n",
    "T = input()\n",
    "dp = [[0,\"yet\"] for _ in range(3)]\n",
    "for i in range(N):\n",
    "    rival = T[i]\n",
    "    #Rを出したとき\n",
    "    if rival == \"s\":\n",
    "        RK_previous = []\n",
    "        for j in range(3):\n",
    "            if dp[j][1] != \"r\":\n",
    "                RK_previous.append(dp[j][0])\n",
    "        dp[0][0] += max(RK_previous) + R\n",
    "    if i >= K :\n",
    "        dp[0][1] = \"r\"\n",
    "    #S\n",
    "    if rival == \"p\":\n",
    "        SK_previous = []\n",
    "        for j in range(3):\n",
    "            if dp[j][1] != \"s\":\n",
    "                SK_previous.append(dp[j][0])\n",
    "        dp[1][0] += max(SK_previous) + S\n",
    "    if i >= K :\n",
    "        dp[1][1] = \"s\"\n",
    "    #P\n",
    "    if rival == \"r\":\n",
    "        PK_previous = []\n",
    "        for j in range(3):\n",
    "            if dp[j][1] != \"p\":\n",
    "                PK_previous.append(dp[j][0])\n",
    "        dp[2][0] += max(PK_previous) + P\n",
    "    if i >= K :\n",
    "        dp[2][1] = \"r\"\n",
    "print(max(dp[0][0],dp[1][0],dp[2][0]))"
   ]
  },
  {
   "cell_type": "code",
   "execution_count": null,
   "metadata": {},
   "outputs": [],
   "source": [
    "#D\n",
    "import copy\n",
    "N,K = map(int,input().split())\n",
    "R,S,P = map(int,input().split())\n",
    "T = input()\n",
    "flag = False#K回前を参照できるか\n",
    "dp = [[0,\"\"] for _ in range(3)]\n",
    "for i in range(N):\n",
    "    dp_prev = [copy.deepcopy(dp[0]),copy.deepcopy(dp[1]),copy.deepcopy(dp[2])]\n",
    "    rival = T[i]\n",
    "    if len(dp_prev[0][1]) > K and not flag:\n",
    "        flag = True\n",
    "    #K回前にrを選んでないやつ\n",
    "    kp_r = []\n",
    "    for j in range(3):\n",
    "        if flag:\n",
    "            if dp_prev[j][1][-K] != \"r\":\n",
    "                kp_r.append(dp_prev[j][0])\n",
    "        else:\n",
    "            kp_r.append(dp_prev[j][0])\n",
    "    if rival == \"s\":\n",
    "        dp[0][0] = max(kp_r) + R\n",
    "    dp[0][1] += \"r\"\n",
    "    #K回前にsを選んでないやつ\n",
    "    kp_s = []\n",
    "    for j in range(3):\n",
    "        if flag:\n",
    "            if dp_prev[j][1][-K] != \"s\":\n",
    "                kp_r.append(dp_prev[j][0])\n",
    "        else:\n",
    "            kp_s.append(dp_prev[j][0])\n",
    "    if rival == \"p\":\n",
    "        dp[1][0] = max(kp_s) + S\n",
    "    dp[1][1] += \"s\"\n",
    "    #K回前にpを選んでないやつ\n",
    "    kp_p = []\n",
    "    for j in range(3):\n",
    "        if flag:\n",
    "            if dp_prev[j][1][-K] != \"s\":\n",
    "                kp_r.append(dp_prev[j][0])\n",
    "        else:\n",
    "            kp_p.append(dp_prev[j][0])\n",
    "    if rival == \"r\":\n",
    "        dp[2][0] = max(kp_p) + P\n",
    "    dp[2][1] += \"p\"\n",
    "    print(dp)\n",
    "print(max(dp[0][0],dp[1][0],dp[2][0]))"
   ]
  },
  {
   "cell_type": "code",
   "execution_count": null,
   "metadata": {},
   "outputs": [],
   "source": [
    "#D\n",
    "N,K = map(int,input().split())\n",
    "R,S,P = map(int,input().split())\n",
    "T = input()\n",
    "win = {\"r\":\"p\",\"s\":\"r\",\"p\":\"s\"}#相手が左のとき右を出せば勝てる\n",
    "score = {\"r\":R,\"s\":S,\"p\":P}\n",
    "ans = 0\n",
    "previous = \"Any\"\n",
    "for i in range(N-1):\n",
    "    rival = T[i]\n",
    "    me = win[rival]\n",
    "    if me != previous:\n",
    "        ans += score[me]\n",
    "        previous = me\n",
    "    else:#前回と被ってるとき\n",
    "        next_rival = T[i+1]#次に相手が出す手\n",
    "        next_me = win[next_rival]#次に自分が出したい手\n",
    "        "
   ]
  },
  {
   "cell_type": "code",
   "execution_count": null,
   "metadata": {},
   "outputs": [],
   "source": [
    "#D\n",
    "import sys\n",
    "input=sys.stdin.readline\n",
    "\n",
    "def main():\n",
    "    N,K = map(int,input().split())\n",
    "    R,S,P = map(int,input().split())\n",
    "    T = list(input())\n",
    "    score = {'r': P, 's': R, 'p': S}\n",
    "    \n",
    "    ans = 0\n",
    "    for i in range(K):\n",
    "        #print(ans)\n",
    "        j = i+K\n",
    "        ans += score[T[j-K]]\n",
    "        #print(ans)\n",
    "        if j >= N:\n",
    "            break\n",
    "        while j < N:\n",
    "            if T[j] != T[j-K]:\n",
    "                ans += score[T[j]]\n",
    "            else:\n",
    "                T[j] = \"any\"\n",
    "            j += K\n",
    "    print(ans)\n",
    "main()"
   ]
  },
  {
   "cell_type": "code",
   "execution_count": 8,
   "metadata": {},
   "outputs": [
    {
     "name": "stdout",
     "output_type": "stream",
     "text": [
      "ag\n",
      "bh\n",
      "ci\n",
      "dj\n",
      "e\n",
      "f\n"
     ]
    }
   ],
   "source": [
    "t = \"abcdefghij\"\n",
    "\n",
    "for i in range(K):\n",
    "    print(t[i::K])"
   ]
  }
 ],
 "metadata": {
  "kernelspec": {
   "display_name": "Python 3",
   "language": "python",
   "name": "python3"
  },
  "language_info": {
   "codemirror_mode": {
    "name": "ipython",
    "version": 3
   },
   "file_extension": ".py",
   "mimetype": "text/x-python",
   "name": "python",
   "nbconvert_exporter": "python",
   "pygments_lexer": "ipython3",
   "version": "3.7.3"
  }
 },
 "nbformat": 4,
 "nbformat_minor": 2
}
