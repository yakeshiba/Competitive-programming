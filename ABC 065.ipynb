{
 "cells": [
  {
   "cell_type": "code",
   "execution_count": null,
   "metadata": {},
   "outputs": [],
   "source": [
    "#C\n",
    "import sys\n",
    "\n",
    "mod = 10**9 + 7\n",
    "n = 10**6\n",
    " \n",
    "fact = [1]*(n+1)\n",
    "rfact = [1]*(n+1)\n",
    "r = 1\n",
    "for i in range(1, n+1):\n",
    "    fact[i] = r = r * i % mod\n",
    "rfact[n] = r = pow(fact[n], mod-2, mod)\n",
    "for i in range(n, 0, -1):\n",
    "    rfact[i-1] = r = r * i % mod\n",
    "\n",
    "#nPk (mod MOD) を求める\n",
    "def perm(n, k):\n",
    "    return fact[n] * rfact[n-k] % mod\n",
    " \n",
    "# nCk (mod MOD) を求める\n",
    "def comb(n, k):\n",
    "    return fact[n] * rfact[k] * rfact[n-k] % mod\n",
    "\n",
    "n, m = map(int,input().split())\n",
    "\n",
    "if abs(n-m) > 1:\n",
    "    print('0')\n",
    "    sys.exit()\n",
    "\n",
    "print(2*(perm(n,n)*perm(m,m))%mod) if n == m else print((perm(n,n)*perm(m,m))%mod)"
   ]
  }
 ],
 "metadata": {
  "kernelspec": {
   "display_name": "Python 3",
   "language": "python",
   "name": "python3"
  },
  "language_info": {
   "codemirror_mode": {
    "name": "ipython",
    "version": 3
   },
   "file_extension": ".py",
   "mimetype": "text/x-python",
   "name": "python",
   "nbconvert_exporter": "python",
   "pygments_lexer": "ipython3",
   "version": "3.7.8"
  }
 },
 "nbformat": 4,
 "nbformat_minor": 4
}
