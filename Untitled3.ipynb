{
 "cells": [
  {
   "cell_type": "code",
   "execution_count": 2,
   "metadata": {},
   "outputs": [
    {
     "name": "stdout",
     "output_type": "stream",
     "text": [
      "5\n"
     ]
    }
   ],
   "source": [
    "n = int(input())\n",
    "x = input()\n",
    "\n",
    "def popcount(num):\n",
    "    return num.count('1')\n",
    "\n",
    "popc = [-1]*(n+1)\n",
    "dp = [-1]*(n+1)\n",
    "\n",
    "for i in range(1,n+1):\n",
    "    now = list(x)\n",
    "    if now[i-1] == '0':\n",
    "        now[i-1] = \"1\"\n",
    "    else:\n",
    "        now[i-1] = \"0\"\n",
    "    now = \"\".join(now)\n",
    "    \n",
    "    ans = 0\n",
    "    while True:\n",
    "        if popc[int(now,2)] == -1:\n",
    "            popc[int(now,2)] = popcount(now)\n",
    "        if dp[int(now,2)] == -1:\n",
    "            dp[int(now,2)] = int(now,2)%popc[int(now,2)]\n",
    "        now = dp[int(now,2)]\n",
    "        ans += 1\n",
    "        if now == 0:\n",
    "            break\n",
    "    \n",
    "\n",
    "    print(ans) "
   ]
  },
  {
   "cell_type": "code",
   "execution_count": 26,
   "metadata": {},
   "outputs": [
    {
     "name": "stdout",
     "output_type": "stream",
     "text": [
      "31\n",
      "1\n"
     ]
    }
   ],
   "source": [
    "n = \"111111\"\n",
    "print(int(n,2))\n",
    "amari = int(n,2)%n.count(\"1\")\n",
    "print(amari)"
   ]
  },
  {
   "cell_type": "code",
   "execution_count": null,
   "metadata": {},
   "outputs": [],
   "source": [
    "n = int(input())\n",
    "x = input()\n",
    "\n",
    "def popcount(num):\n",
    "    return num.count('1')\n",
    "\n",
    "popc = [-1]*(n+1)\n",
    "dp = [-1]*(n+1)#index=わったあまり\n",
    "\n",
    "for i in range(1,n+1):\n",
    "    now = list(x)\n",
    "    if now[i-1] == '0':\n",
    "        now[i-1] = \"1\"\n",
    "    else:\n",
    "        now[i-1] = \"0\"\n",
    "    now = \"\".join(now)\n",
    "    \n",
    "    ans = 0\n",
    "    hozon = int(now,2)%popcount(now)\n",
    "    while True:\n",
    "        \"\"\"\n",
    "        if popc[int(now,2)] == -1:\n",
    "            popc[int(now,2)] = popcount(now)\n",
    "        \"\"\"\n",
    "        \n",
    "        amari = int(now,2)%popcount(now) \n",
    "        if dp[amari] != -1:\n",
    "            ans += dp[amari]\n",
    "            dp[hozon] = ans\n",
    "            break\n",
    "        now = amari\n",
    "        ans += 1\n",
    "        if now == 0:\n",
    "            break\n",
    "        now = bin(now)[2:]\n",
    "    \n",
    "    print(ans) "
   ]
  }
 ],
 "metadata": {
  "kernelspec": {
   "display_name": "Python 3",
   "language": "python",
   "name": "python3"
  },
  "language_info": {
   "codemirror_mode": {
    "name": "ipython",
    "version": 3
   },
   "file_extension": ".py",
   "mimetype": "text/x-python",
   "name": "python",
   "nbconvert_exporter": "python",
   "pygments_lexer": "ipython3",
   "version": "3.7.3"
  }
 },
 "nbformat": 4,
 "nbformat_minor": 2
}
