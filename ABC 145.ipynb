{
 "cells": [
  {
   "cell_type": "code",
   "execution_count": null,
   "metadata": {},
   "outputs": [],
   "source": [
    "#A\n",
    "r = int(input())\n",
    "print(r**2)"
   ]
  },
  {
   "cell_type": "code",
   "execution_count": 4,
   "metadata": {},
   "outputs": [
    {
     "name": "stdout",
     "output_type": "stream",
     "text": [
      "1\n",
      "z\n",
      "No\n",
      "Yes\n"
     ]
    }
   ],
   "source": [
    "#B\n",
    "N = int(input())\n",
    "S = input()\n",
    "flag = True\n",
    "if N%2 != 0:\n",
    "    flag = False\n",
    "    print(\"No\")\n",
    "else:\n",
    "    for i in range(N//2):\n",
    "        if S[i] != S[i+N//2]:\n",
    "            flag = False\n",
    "            print(\"No\")\n",
    "            break\n",
    "if flag:\n",
    "    print(\"Yes\")"
   ]
  },
  {
   "cell_type": "code",
   "execution_count": 9,
   "metadata": {},
   "outputs": [
    {
     "name": "stdout",
     "output_type": "stream",
     "text": [
      "3\n",
      "1 1\n",
      "1 1\n",
      "1 1\n",
      "[(0, 1, 2), (0, 2, 1), (1, 0, 2), (1, 2, 0), (2, 0, 1), (2, 1, 0)]\n"
     ]
    }
   ],
   "source": [
    "#C\n",
    "import itertools\n",
    "N = [i for i in range(int(input()))]\n",
    "x = []\n",
    "y = []\n",
    "way = []\n",
    "ans = 0\n",
    "for _ in range(len(N)):\n",
    "    a, b = map(int,input().split())\n",
    "    x.append(a)\n",
    "    y.append(b)\n",
    "for i in itertools.permutations(N):\n",
    "    way.append(i)\n",
    "for town in way:\n",
    "    start = (x[town[0]],y[town[0]])\n",
    "    tmp = 0\n",
    "    for j in range(len(i)-1):\n",
    "        tmp += ((start[0]-x[town[j+1]])**2+((start[1])-y[town[j+1]])**2)**(1/2)\n",
    "        start = (x[town[j+1]],y[town[j+1]])\n",
    "    ans += tmp\n",
    "    \n",
    "def kaijo(n):\n",
    "    if n == 1:\n",
    "        return n\n",
    "    return n * kaijo(n-1)\n",
    "\n",
    "print(ans/kaijo(len(N)))"
   ]
  },
  {
   "cell_type": "code",
   "execution_count": 23,
   "metadata": {},
   "outputs": [
    {
     "name": "stdout",
     "output_type": "stream",
     "text": [
      "3 3\n",
      "0 0 0 0\n",
      "0 1 0 0\n",
      "0 0 1 0\n",
      "0 0 0 0\n",
      "2\n"
     ]
    }
   ],
   "source": [
    "#D 長すぎ\n",
    "X, Y = map(int,input().split())\n",
    "dp = [[0]*(X+1) for _ in range(Y+1)]\n",
    "dp[1][2] = 1\n",
    "dp[2][1] = 1\n",
    "for row in dp[::-1]:\n",
    "    print(*row)\n",
    "for i in range(2,X+1):\n",
    "    for j in range(2,Y+1):\n",
    "        dp[i][j] += (dp[i-1][j-2] + dp[i-2][j-1])%(10**9+7)\n",
    "print(dp[X][Y])"
   ]
  },
  {
   "cell_type": "code",
   "execution_count": 15,
   "metadata": {},
   "outputs": [
    {
     "name": "stdout",
     "output_type": "stream",
     "text": [
      "306868 132419\n",
      "0\n"
     ]
    }
   ],
   "source": [
    "#D\n",
    "mod = 10**9+7\n",
    "\n",
    "def modInverse(a,p):\n",
    "    # Fermat's little theorem, a**(p-1) = 1 mod p\n",
    "    return pow(a,p-2,p)\n",
    "\n",
    "def nCr(n,r,p=mod):\n",
    "    num = 1\n",
    "    den = 1\n",
    "    for i in range(r):\n",
    "        num = (num*(n-i)) % p\n",
    "        den = (den*(i+1)) % p\n",
    "    return num*modInverse(den,p)% p\n",
    "\n",
    "X, Y = map(int,input().split())\n",
    "if (X + Y)%3 != 0:\n",
    "    print(0)\n",
    "else:\n",
    "    n = int((2*Y-X)/3)\n",
    "    m = int((2*X-Y)/3)\n",
    "    if n < 0 or m < 0:\n",
    "        print(0)\n",
    "    else:\n",
    "        print(nCr(n+m,n,mod))"
   ]
  }
 ],
 "metadata": {
  "kernelspec": {
   "display_name": "Python 3",
   "language": "python",
   "name": "python3"
  },
  "language_info": {
   "codemirror_mode": {
    "name": "ipython",
    "version": 3
   },
   "file_extension": ".py",
   "mimetype": "text/x-python",
   "name": "python",
   "nbconvert_exporter": "python",
   "pygments_lexer": "ipython3",
   "version": "3.7.8"
  }
 },
 "nbformat": 4,
 "nbformat_minor": 2
}
