{
 "cells": [
  {
   "cell_type": "code",
   "execution_count": null,
   "metadata": {},
   "outputs": [],
   "source": [
    "#A\n",
    "S = input()\n",
    "T = input()\n",
    "ans = 0\n",
    "for i in range(3):\n",
    "    if S[i] == T[i]:\n",
    "        ans += 1\n",
    "print(ans)"
   ]
  },
  {
   "cell_type": "code",
   "execution_count": 29,
   "metadata": {},
   "outputs": [
    {
     "name": "stdout",
     "output_type": "stream",
     "text": [
      "4 8\n",
      "3\n"
     ]
    }
   ],
   "source": [
    "#B\n",
    "A, B = map(int,input().split())\n",
    "t = 1\n",
    "ans = 0\n",
    "while t < B:\n",
    "    t -= 1\n",
    "    t += A\n",
    "    ans += 1\n",
    "print(ans)"
   ]
  },
  {
   "cell_type": "code",
   "execution_count": 34,
   "metadata": {},
   "outputs": [
    {
     "name": "stdout",
     "output_type": "stream",
     "text": [
      "5\n",
      "10 4 8 7 3\n",
      "2\n"
     ]
    }
   ],
   "source": [
    "#C\n",
    "N = int(input())\n",
    "H = list(map(int,input().split()))\n",
    "previous = H[0]\n",
    "ans = 0\n",
    "tmp = 0\n",
    "for i in range(1,N):\n",
    "    if previous >= H[i]:\n",
    "        previous = H[i]\n",
    "        tmp += 1\n",
    "    else:\n",
    "        previous = H[i]\n",
    "        ans = max(ans,tmp)\n",
    "        tmp = 0\n",
    "ans = max(ans,tmp)\n",
    "print(ans)"
   ]
  },
  {
   "cell_type": "code",
   "execution_count": 55,
   "metadata": {},
   "outputs": [
    {
     "name": "stdout",
     "output_type": "stream",
     "text": [
      "13\n",
      "78\n"
     ]
    }
   ],
   "source": [
    "#D\n",
    "N = int(input())\n",
    "print(N*(N-1)//2)"
   ]
  }
 ],
 "metadata": {
  "kernelspec": {
   "display_name": "Python 3",
   "language": "python",
   "name": "python3"
  },
  "language_info": {
   "codemirror_mode": {
    "name": "ipython",
    "version": 3
   },
   "file_extension": ".py",
   "mimetype": "text/x-python",
   "name": "python",
   "nbconvert_exporter": "python",
   "pygments_lexer": "ipython3",
   "version": "3.7.3"
  }
 },
 "nbformat": 4,
 "nbformat_minor": 2
}
