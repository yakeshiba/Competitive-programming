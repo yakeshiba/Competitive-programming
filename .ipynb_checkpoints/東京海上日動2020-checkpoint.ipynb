{
 "cells": [
  {
   "cell_type": "code",
   "execution_count": null,
   "metadata": {},
   "outputs": [],
   "source": [
    "#A\n",
    "print(input()[0:3])"
   ]
  },
  {
   "cell_type": "code",
   "execution_count": null,
   "metadata": {},
   "outputs": [],
   "source": [
    "#B\n",
    "A,V = map(int,input().split())\n",
    "B,W = map(int,input().split())\n",
    "T = int(input())\n",
    "dist = V-W\n",
    "if A < B:\n",
    "    if A+V*T >= B+W*T:\n",
    "        print('YES')\n",
    "    else:\n",
    "        print('NO')\n",
    "else:\n",
    "    if A-V*T <= B - W*T:\n",
    "        print('YES')\n",
    "    else:\n",
    "        print('NO')"
   ]
  },
  {
   "cell_type": "code",
   "execution_count": 2,
   "metadata": {},
   "outputs": [
    {
     "name": "stdout",
     "output_type": "stream",
     "text": [
      "[2 4 6]\n"
     ]
    }
   ],
   "source": [
    "#C\n",
    "import sys\n",
    "import copy\n",
    "from itertools import accumulate\n",
    "input=sys.stdin.readline\n",
    "def main():\n",
    "    N,K = map(int,input().split())\n",
    "    A = list(map(int,input().split()))\n",
    "    ans = copy.deepcopy(A)\n",
    "    for _ in range(K):\n",
    "        cumsum = [0]*N\n",
    "        for i,a in enumerate(ans):\n",
    "            l = max(0,i-a)\n",
    "            r = min(N-1,i+a)\n",
    "            cumsum[l] += 1\n",
    "            if r+1 < N:\n",
    "                cumsum[r+1] -= 1\n",
    "        ans = list(accumulate(cumsum))\n",
    "        if ans[0] == N:\n",
    "            break\n",
    "    print(*ans)\n",
    "    \n",
    "if __name__ == '__main__':\n",
    "    main()"
   ]
  }
 ],
 "metadata": {
  "kernelspec": {
   "display_name": "Python 3",
   "language": "python",
   "name": "python3"
  },
  "language_info": {
   "codemirror_mode": {
    "name": "ipython",
    "version": 3
   },
   "file_extension": ".py",
   "mimetype": "text/x-python",
   "name": "python",
   "nbconvert_exporter": "python",
   "pygments_lexer": "ipython3",
   "version": "3.7.3"
  }
 },
 "nbformat": 4,
 "nbformat_minor": 2
}
