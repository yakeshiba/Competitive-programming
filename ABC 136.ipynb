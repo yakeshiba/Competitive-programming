{
 "cells": [
  {
   "cell_type": "code",
   "execution_count": null,
   "metadata": {},
   "outputs": [],
   "source": [
    "#D\n",
    "import bisect\n",
    "\n",
    "S = input()\n",
    "\n",
    "R = []\n",
    "L = []\n",
    "for i,s in enumerate(S):\n",
    "    if s==\"R\":\n",
    "        R.append(i)\n",
    "    else:\n",
    "        L.append(i)\n",
    "\n",
    "ans = [0]*len(S)    \n",
    "for i,s in enumerate(S):\n",
    "    if s==\"R\":#一番近い，「このRより右にあるL」の位置（＝L[l]）を求める\n",
    "        l = bisect.bisect_left(L, i)\n",
    "        if (L[l]-i)%2 == 1:\n",
    "            ans[L[l]-1] += 1\n",
    "        else:\n",
    "            ans[L[l]] += 1\n",
    "    else:\n",
    "        r = bisect.bisect_left(R, i)-1\n",
    "        if (i-R[r])%2 == 1:\n",
    "            ans[R[r]+1] += 1\n",
    "        else:\n",
    "            ans[R[r]] += 1\n",
    "            \n",
    "print(*ans)"
   ]
  },
  {
   "cell_type": "code",
   "execution_count": null,
   "metadata": {},
   "outputs": [],
   "source": [
    "#D\n",
    "S = input()\n",
    "ans = [0]*len(S)\n",
    "\n",
    "previous = S[0]\n",
    "tmp = 1\n",
    "for i in range(1,len(S)):\n",
    "    #print(\"pre\",previous,\"now\",S[i])\n",
    "    #print(\"tmp\",tmp)\n",
    "    if previous == S[i]:\n",
    "        previous = S[i]\n",
    "        tmp += 1\n",
    "    elif previous == \"R\" and S[i] == \"L\":#境界RL\n",
    "        previous = S[i]\n",
    "        index = i#RLのLの場所\n",
    "        ans[i-1] += -(-tmp//2)#R上 奇数距離のR\n",
    "        ans[i] += tmp//2#L上 偶数距離のR\n",
    "        tmp = 1\n",
    "    elif previous == \"L\" and S[i] == \"R\":#境界LR\n",
    "        previous = S[i]\n",
    "        ans[index] += -(-tmp//2)#L上\n",
    "        ans[index-1] += tmp//2#R上\n",
    "        tmp = 1\n",
    "        \n",
    "ans[index] += -(-tmp//2)#L上\n",
    "ans[index-1] += tmp//2#R上\n",
    "\n",
    "print(*ans)"
   ]
  }
 ],
 "metadata": {
  "kernelspec": {
   "display_name": "Python 3",
   "language": "python",
   "name": "python3"
  },
  "language_info": {
   "codemirror_mode": {
    "name": "ipython",
    "version": 3
   },
   "file_extension": ".py",
   "mimetype": "text/x-python",
   "name": "python",
   "nbconvert_exporter": "python",
   "pygments_lexer": "ipython3",
   "version": "3.7.8"
  }
 },
 "nbformat": 4,
 "nbformat_minor": 2
}
