{
 "cells": [
  {
   "cell_type": "code",
   "execution_count": 3,
   "metadata": {},
   "outputs": [
    {
     "name": "stdout",
     "output_type": "stream",
     "text": [
      "5 3 2\n",
      "NO\n"
     ]
    }
   ],
   "source": [
    "#A\n",
    "A,B,X = map(int,input().split())\n",
    "if A + B < X or A > X:\n",
    "    print(\"NO\")\n",
    "else:\n",
    "    print(\"YES\")"
   ]
  },
  {
   "cell_type": "code",
   "execution_count": 5,
   "metadata": {},
   "outputs": [
    {
     "name": "stdout",
     "output_type": "stream",
     "text": [
      "10 7 5\n",
      "1 2 3 4 6 8 9\n",
      "16\n"
     ]
    }
   ],
   "source": [
    "#B\n",
    "import numpy as np\n",
    "N,M,X = map(int,input().split())\n",
    "A = np.array(list(map(int,input().split())))\n",
    "print(min(len(A[A<X]),len(A[A>X]))"
   ]
  },
  {
   "cell_type": "code",
   "execution_count": 6,
   "metadata": {},
   "outputs": [
    {
     "name": "stdout",
     "output_type": "stream",
     "text": [
      "3\n",
      "3 2 4 1\n",
      "[1, 2, 3, 4]\n"
     ]
    }
   ],
   "source": [
    "#C\n",
    "N = int(input())\n",
    "X = list(map(int,input().split()))\n",
    "t = sorted(X)\n",
    "right = t[N//2]\n",
    "left = t[N//2-1]\n",
    "for i in range(N):\n",
    "    if X[i] <= left:\n",
    "        print(right)\n",
    "    else:\n",
    "        print(left)"
   ]
  },
  {
   "cell_type": "code",
   "execution_count": 8,
   "metadata": {},
   "outputs": [
    {
     "name": "stdout",
     "output_type": "stream",
     "text": [
      "3\n",
      "2\n",
      "0\n"
     ]
    }
   ],
   "source": [
    "#D\n",
    "n = int(input())\n",
    "x = list(map(int, input().split()))\n",
    "a = max(x)\n",
    "x.remove(a)\n",
    "b = a\n",
    "for i in x:\n",
    "    if abs(a/2 - i) <= abs(a/2 - b):#iのほうがa/2に近いとき\n",
    "        b = i\n",
    "print(a, b)"
   ]
  }
 ],
 "metadata": {
  "kernelspec": {
   "display_name": "Python 3",
   "language": "python",
   "name": "python3"
  },
  "language_info": {
   "codemirror_mode": {
    "name": "ipython",
    "version": 3
   },
   "file_extension": ".py",
   "mimetype": "text/x-python",
   "name": "python",
   "nbconvert_exporter": "python",
   "pygments_lexer": "ipython3",
   "version": "3.7.3"
  }
 },
 "nbformat": 4,
 "nbformat_minor": 2
}
