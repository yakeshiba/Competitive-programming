{
 "cells": [
  {
   "cell_type": "code",
   "execution_count": null,
   "metadata": {},
   "outputs": [],
   "source": [
    "#B\n",
    "p = float(input())\n",
    "\n",
    "def f(x):\n",
    "    return x + p*2**(-x/1.5)\n",
    "\n",
    "l = 0\n",
    "r = 10**18\n",
    "for _ in range(500):\n",
    "    c1 = (2*l+r)/3\n",
    "    c2 = (l+2*r)/3\n",
    "    \n",
    "    if f(c1) > f(c2):\n",
    "        l = c1\n",
    "    else:\n",
    "        r = c2\n",
    "        \n",
    "print(f(l))"
   ]
  }
 ],
 "metadata": {
  "kernelspec": {
   "display_name": "Python 3",
   "language": "python",
   "name": "python3"
  },
  "language_info": {
   "codemirror_mode": {
    "name": "ipython",
    "version": 3
   },
   "file_extension": ".py",
   "mimetype": "text/x-python",
   "name": "python",
   "nbconvert_exporter": "python",
   "pygments_lexer": "ipython3",
   "version": "3.7.8"
  }
 },
 "nbformat": 4,
 "nbformat_minor": 4
}
