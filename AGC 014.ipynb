{
 "cells": [
  {
   "cell_type": "code",
   "execution_count": null,
   "metadata": {},
   "outputs": [],
   "source": [
    "#A\n",
    "a, b, c = map(int,input().split())\n",
    "\n",
    "if a==b and b==c and c==a:\n",
    "    if a%2:\n",
    "        print(0)\n",
    "    else:\n",
    "        print(-1)\n",
    "    exit()\n",
    "\n",
    "cnt = 0\n",
    "while True:\n",
    "    if (a%2+b%2+c%2)%3 == 0:\n",
    "        cnt += 1\n",
    "        a, b, c = (b+c)//2, (c+a)//2, (a+b)//2\n",
    "    else:\n",
    "        break\n",
    "        \n",
    "print(cnt)"
   ]
  },
  {
   "cell_type": "code",
   "execution_count": null,
   "metadata": {},
   "outputs": [],
   "source": [
    "#B\n",
    "from collections import defaultdict\n",
    "\n",
    "n, m = map(int,input().split())\n",
    "\n",
    "d = defaultdict(int)\n",
    "for _ in range(m):\n",
    "    a, b = map(int,input().split())\n",
    "    d[a] += 1\n",
    "    d[b] += 1\n",
    "    \n",
    "for key in d.keys():\n",
    "    if d[key]%2:\n",
    "        print('NO')\n",
    "        exit()\n",
    "        \n",
    "print('YES')"
   ]
  }
 ],
 "metadata": {
  "kernelspec": {
   "display_name": "Python 3",
   "language": "python",
   "name": "python3"
  },
  "language_info": {
   "codemirror_mode": {
    "name": "ipython",
    "version": 3
   },
   "file_extension": ".py",
   "mimetype": "text/x-python",
   "name": "python",
   "nbconvert_exporter": "python",
   "pygments_lexer": "ipython3",
   "version": "3.7.8"
  }
 },
 "nbformat": 4,
 "nbformat_minor": 4
}
