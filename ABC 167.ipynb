{
 "cells": [
  {
   "cell_type": "code",
   "execution_count": 2,
   "metadata": {},
   "outputs": [
    {
     "name": "stdout",
     "output_type": "stream",
     "text": [
      "acb\n",
      "abcd\n",
      "No\n"
     ]
    }
   ],
   "source": [
    "#A\n",
    "S = input()\n",
    "T = input()\n",
    "if S == T[:len(S)]:\n",
    "    print('Yes')\n",
    "else:\n",
    "    print('No')"
   ]
  },
  {
   "cell_type": "code",
   "execution_count": 5,
   "metadata": {},
   "outputs": [
    {
     "name": "stdout",
     "output_type": "stream",
     "text": [
      "2000000000 0 0 2000000000\n",
      "2000000000\n"
     ]
    }
   ],
   "source": [
    "#B\n",
    "A,B,C,K = map(int,input().split())\n",
    "ans = 0\n",
    "ans += min(A,K)\n",
    "K -= min(A,K)\n",
    "if K > 0:\n",
    "    K -= min(B,K)\n",
    "if K > 0:\n",
    "    ans -= min(C,K)\n",
    "print(ans)"
   ]
  },
  {
   "cell_type": "code",
   "execution_count": null,
   "metadata": {},
   "outputs": [],
   "source": [
    "#C\n",
    "import numpy as np\n",
    "\n",
    "N, M, X = map(int,input().split())\n",
    "price = np.array([None]*N)\n",
    "skill = [None]*N\n",
    "for i in range(N):\n",
    "    tmp = list(map(int,input().split()))\n",
    "    price[i] = tmp[0]\n",
    "    skill[i] = np.array(tmp[1:])\n",
    "\n",
    "ans = float('inf')\n",
    "for pattern in range(1<<N):\n",
    "    takahashi_level = np.array([0]*M)\n",
    "    sum_of_price = 0\n",
    "    #print(takahashi_level)\n",
    "    for mask in range(N):\n",
    "        if pattern&(1<<mask):\n",
    "            sum_of_price += price[mask]\n",
    "            takahashi_level += skill[mask]\n",
    "    #print(takahashi_level[takahashi_level>=X])\n",
    "    if len(takahashi_level[takahashi_level>=X]) == M:\n",
    "        ans = min(sum_of_price,ans)\n",
    "\n",
    "if ans < float('inf'):\n",
    "    print(ans)\n",
    "else:\n",
    "    print(-1)"
   ]
  },
  {
   "cell_type": "code",
   "execution_count": 6,
   "metadata": {},
   "outputs": [
    {
     "name": "stdout",
     "output_type": "stream",
     "text": [
      "[4 4 7]\n"
     ]
    }
   ],
   "source": [
    "#D\n",
    "N, K = map(int,input().split())\n",
    "A = list(map(int,input().split()))\n",
    "\n",
    "now = 0\n",
    "visited = [0]\n",
    "visited_set = set([0])\n",
    "\n",
    "for i in range(K):\n",
    "    now = A[now] - 1\n",
    "    if now in visited_set:\n",
    "        break\n",
    "    visited.append(now)\n",
    "    visited_set.add(now)\n",
    "if len(visited) == N:\n",
    "    print(visited[K-1]+1)\n",
    "else:    \n",
    "    ind = visited.index(now)\n",
    "    roop = visited[ind:]\n",
    "    print(roop[(K-ind)%len(roop)]+1)"
   ]
  },
  {
   "cell_type": "code",
   "execution_count": null,
   "metadata": {},
   "outputs": [],
   "source": [
    "#E\n",
    "N, M, K = map(int,input().split())\n"
   ]
  },
  {
   "cell_type": "code",
   "execution_count": 4,
   "metadata": {},
   "outputs": [
    {
     "name": "stdout",
     "output_type": "stream",
     "text": [
      "1048576\n"
     ]
    }
   ],
   "source": [
    "print(2**20)"
   ]
  }
 ],
 "metadata": {
  "kernelspec": {
   "display_name": "Python 3",
   "language": "python",
   "name": "python3"
  },
  "language_info": {
   "codemirror_mode": {
    "name": "ipython",
    "version": 3
   },
   "file_extension": ".py",
   "mimetype": "text/x-python",
   "name": "python",
   "nbconvert_exporter": "python",
   "pygments_lexer": "ipython3",
   "version": "3.7.3"
  }
 },
 "nbformat": 4,
 "nbformat_minor": 2
}
