{
 "cells": [
  {
   "cell_type": "code",
   "execution_count": null,
   "metadata": {},
   "outputs": [],
   "source": [
    "#A\n",
    "q = int(input())\n",
    "for _ in range(q):\n",
    "    n = int(input())\n",
    "    A = list(map(int,input().split()))\n",
    "    for i in range(n-1):\n",
    "        if abs(A[i]-A[i+1]) == 1:\n",
    "            continue\n",
    "        else:\n",
    "            if (A[i+1] == 1 or A[i] == 1) and(A[i+1] == n or A[i] == n):\n",
    "                continue\n",
    "            else:\n",
    "                print('NO')\n",
    "                break\n",
    "    else:\n",
    "        print(\"YES\")"
   ]
  },
  {
   "cell_type": "code",
   "execution_count": 1,
   "metadata": {},
   "outputs": [
    {
     "name": "stdout",
     "output_type": "stream",
     "text": [
      "19900000\n"
     ]
    }
   ],
   "source": [
    "#B\n",
    "q = int(input())\n",
    "for _ in range(q):\n",
    "    n = int(input())\n",
    "    A = list(map(int,input().split()))\n",
    "    A.sort()\n",
    "    area = A[0]*A[-1]\n",
    "    for i in range(n):\n",
    "        if A[2*i] != A[2*i+1] or A[4*n-2*i-1] != A[4*n-2*i-2]:\n",
    "            ans = \"NO\"\n",
    "            break\n",
    "        if area != A[2*i]*A[4*n-2*i-1]:\n",
    "            ans =\"NO\"\n",
    "            break\n",
    "    else:\n",
    "        ans = \"YES\"\n",
    "    print(ans)"
   ]
  },
  {
   "cell_type": "code",
   "execution_count": null,
   "metadata": {},
   "outputs": [],
   "source": [
    "#C\n",
    "import math\n",
    "\n",
    "def make_divisors(n):\n",
    "    from collections import deque\n",
    "    divisors = deque([])\n",
    "    for i in range(1, int(n**0.5)+1):\n",
    "        if n % i == 0:\n",
    "            divisors.append(i)\n",
    "            if i != n // i:\n",
    "                divisors.append(n//i)\n",
    "    lst_divisors = list(divisors)\n",
    "    lst_divisors.sort()\n",
    "    return lst_divisors\n",
    "\n",
    "n = int(input())\n",
    "A = list(map(int,input().split()))\n",
    "\n",
    "a = A[0]\n",
    "for i in range(1,n):\n",
    "    a = math.gcd(a, A[i])\n",
    "    \n",
    "print(len(make_divisors(a)))"
   ]
  },
  {
   "cell_type": "code",
   "execution_count": null,
   "metadata": {},
   "outputs": [],
   "source": [
    "#D\n",
    "s = input()\n",
    "t = input()\n",
    "\n",
    "nxt = [[0]*26 for _ in range(len(s))]\n",
    "for i in range(len(s)-1,-1,-1):\n",
    "    for j in range(26):\n",
    "        nxt[i][j] = nxt[i+1][j]\n",
    "    nxt[i][ord(S[i])-97] = i\n",
    "\n",
    "for i,v in enumerate(t):\n",
    "    "
   ]
  },
  {
   "cell_type": "code",
   "execution_count": null,
   "metadata": {},
   "outputs": [],
   "source": [
    "#E\n",
    "n = int(input())\n",
    "A = list(map(int,input().split()))\n",
    "\n",
    "A.sort()\n",
    "\n",
    "d = {}\n",
    "for a in A:\n",
    "    if a-1 > 0 and a-1 not in d:\n",
    "        d[a-1] = 1\n",
    "    elif a not in d:\n",
    "        d[a] = 1\n",
    "    elif a+1 not in d:\n",
    "        d[a+1] = 1\n",
    "\n",
    "print(len(d.keys()))"
   ]
  }
 ],
 "metadata": {
  "kernelspec": {
   "display_name": "Python 3",
   "language": "python",
   "name": "python3"
  },
  "language_info": {
   "codemirror_mode": {
    "name": "ipython",
    "version": 3
   },
   "file_extension": ".py",
   "mimetype": "text/x-python",
   "name": "python",
   "nbconvert_exporter": "python",
   "pygments_lexer": "ipython3",
   "version": "3.7.8"
  }
 },
 "nbformat": 4,
 "nbformat_minor": 4
}
