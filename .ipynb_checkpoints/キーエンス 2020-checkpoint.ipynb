{
 "cells": [
  {
   "cell_type": "code",
   "execution_count": 6,
   "metadata": {},
   "outputs": [
    {
     "name": "stdout",
     "output_type": "stream",
     "text": [
      "2\n",
      "100\n",
      "200\n",
      "2\n"
     ]
    }
   ],
   "source": [
    "#A\n",
    "H = int(input())\n",
    "W = int(input())\n",
    "N = int(input())\n",
    "b = max(H,W)\n",
    "\n",
    "black = 0\n",
    "ans = 0\n",
    "for i in range(int(H*W/max(H,W))):\n",
    "    if black >= N:\n",
    "        print(ans)\n",
    "        break\n",
    "    black += max(W,H)\n",
    "    ans += 1\n",
    "    if i == int(H*W/max(H,W))-1:\n",
    "        print(ans)"
   ]
  },
  {
   "cell_type": "code",
   "execution_count": 4,
   "metadata": {},
   "outputs": [
    {
     "name": "stdout",
     "output_type": "stream",
     "text": [
      "3\n",
      "1 3\n",
      "4 5\n",
      "2 3\n",
      "[[1, 3], [2, 3], [4, 5]]\n"
     ]
    }
   ],
   "source": [
    "#B\n",
    "N = int(input())\n",
    "robot = []\n",
    "for i in range(N):\n",
    "    t = list(map(int,input().split()))\n",
    "    robot.append([t[0]+t[1],t[0]-t[1]])\n",
    "robot.sort()\n",
    "\n",
    "ans = 1\n",
    "    \n",
    "#print(robot)\n",
    "\n",
    "right = robot[0][0]\n",
    "for i in range(N):\n",
    "    left = robot[i][1]\n",
    "    #print(\"check if\",left,\">=\",right)\n",
    "    if left >= right:\n",
    "        #print(\"Yes\")\n",
    "        ans += 1\n",
    "        right = robot[i][0]\n",
    "print(ans)"
   ]
  },
  {
   "cell_type": "code",
   "execution_count": 18,
   "metadata": {},
   "outputs": [
    {
     "name": "stdout",
     "output_type": "stream",
     "text": [
      "5 3 100\n",
      "101 101 100 100 100\n"
     ]
    }
   ],
   "source": [
    "#C\n",
    "N,K,S = map(int,input().split())\n",
    "ans = []\n",
    "num_of_rest_element = N - K\n",
    "for i in range(K):\n",
    "    ans.append(S)\n",
    "for i in range(num_of_rest_element):\n",
    "    if S == 10**9:\n",
    "        ans.append(S-1)\n",
    "    else:\n",
    "        ans.append(S+1)\n",
    "print(*ans)"
   ]
  },
  {
   "cell_type": "code",
   "execution_count": null,
   "metadata": {},
   "outputs": [],
   "source": [
    "#D\n",
    "N = int(input())\n",
    "A = list(map(int,input().split()))\n",
    "B = list(map(int,input().split()))\n"
   ]
  }
 ],
 "metadata": {
  "kernelspec": {
   "display_name": "Python 3",
   "language": "python",
   "name": "python3"
  },
  "language_info": {
   "codemirror_mode": {
    "name": "ipython",
    "version": 3
   },
   "file_extension": ".py",
   "mimetype": "text/x-python",
   "name": "python",
   "nbconvert_exporter": "python",
   "pygments_lexer": "ipython3",
   "version": "3.7.3"
  }
 },
 "nbformat": 4,
 "nbformat_minor": 2
}
