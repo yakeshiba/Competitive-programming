{
 "cells": [
  {
   "cell_type": "code",
   "execution_count": null,
   "metadata": {},
   "outputs": [],
   "source": [
    "#D\n",
    "mod = 10**9+7\n",
    "\n",
    "n = int(input())\n",
    "\n",
    "dp = [0]*(n+1)\n",
    "if n < 3:\n",
    "    print(0)\n",
    "    exit()\n",
    "dp[3] = 1\n",
    "\n",
    "for i in range(4,n+1):\n",
    "    for j in range(0,i-3+1):\n",
    "        dp[i] = (dp[i]+dp[j])%mod\n",
    "    dp[i] = (dp[i]+1)%mod\n",
    "\n",
    "print(dp[n]%mod)"
   ]
  },
  {
   "cell_type": "code",
   "execution_count": null,
   "metadata": {},
   "outputs": [],
   "source": [
    "mod = 10**9 + 7\n",
    "n = 10**6\n",
    " \n",
    "fact = [1]*(n+1)\n",
    "rfact = [1]*(n+1)\n",
    "r = 1\n",
    "for i in range(1, n+1):\n",
    "    fact[i] = r = r * i % mod\n",
    "rfact[n] = r = pow(fact[n], mod-2, mod)\n",
    "for i in range(n, 0, -1):\n",
    "    rfact[i-1] = r = r * i % mod\n",
    "\n",
    "#nPk (mod MOD) を求める\n",
    "def perm(n, k):\n",
    "    return fact[n] * rfact[n-k] % mod\n",
    " \n",
    "# nCk (mod MOD) を求める\n",
    "def comb(n, k):\n",
    "    return fact[n] * rfact[k] * rfact[n-k] % mod\n",
    "    \n",
    "s = int(input())\n",
    "\n",
    "ans = 0\n",
    "for place in range(s+2):\n",
    "    nonzero = 0\n",
    "    for shikiri in range(s):\n",
    "        nonzero = (nonzero + comb(s-1,shikiri))%mod\n",
    "    nonone = 0\n",
    "    "
   ]
  }
 ],
 "metadata": {
  "kernelspec": {
   "display_name": "Python 3",
   "language": "python",
   "name": "python3"
  },
  "language_info": {
   "codemirror_mode": {
    "name": "ipython",
    "version": 3
   },
   "file_extension": ".py",
   "mimetype": "text/x-python",
   "name": "python",
   "nbconvert_exporter": "python",
   "pygments_lexer": "ipython3",
   "version": "3.7.8"
  }
 },
 "nbformat": 4,
 "nbformat_minor": 4
}
