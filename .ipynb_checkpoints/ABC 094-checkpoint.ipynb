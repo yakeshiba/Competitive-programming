{
 "cells": [
  {
   "cell_type": "code",
   "execution_count": 3,
   "metadata": {},
   "outputs": [
    {
     "name": "stdout",
     "output_type": "stream",
     "text": [
      "5 3 2\n",
      "NO\n"
     ]
    }
   ],
   "source": [
    "#A\n",
    "A,B,X = map(int,input().split())\n",
    "if A + B < X or A > X:\n",
    "    print(\"NO\")\n",
    "else:\n",
    "    print(\"YES\")"
   ]
  },
  {
   "cell_type": "code",
   "execution_count": 5,
   "metadata": {},
   "outputs": [
    {
     "name": "stdout",
     "output_type": "stream",
     "text": [
      "10 7 5\n",
      "1 2 3 4 6 8 9\n",
      "16\n"
     ]
    }
   ],
   "source": [
    "#B\n",
    "import numpy as np\n",
    "N,M,X = map(int,input().split())\n",
    "A = np.array(list(map(int,input().split())))\n",
    "print(min(len(A[A<X]),len(A[A>X]))"
   ]
  },
  {
   "cell_type": "code",
   "execution_count": 6,
   "metadata": {},
   "outputs": [
    {
     "name": "stdout",
     "output_type": "stream",
     "text": [
      "3\n",
      "3 2 4 1\n",
      "[1, 2, 3, 4]\n"
     ]
    }
   ],
   "source": [
    "#C\n",
    "N = int(input())\n",
    "X = list(map(int,input().split()))\n",
    "t = sorted(X)\n",
    "right = t[N//2]\n",
    "left = t[N//2-1]\n",
    "for i in range(N):\n",
    "    if X[i] <= left:\n",
    "        print(right)\n",
    "    else:\n",
    "        print(left)"
   ]
  },
  {
   "cell_type": "code",
   "execution_count": null,
   "metadata": {},
   "outputs": [],
   "source": [
    "#C\n",
    "import copy\n",
    "\n",
    "n = int(input())\n",
    "\n",
    "X = list(map(int,input().split()))\n",
    "\n",
    "XX = copy.deepcopy(X)\n",
    "XX.sort()\n",
    "high = XX[n//2]\n",
    "low = XX[n//2-1]\n",
    "\n",
    "for i in range(n):\n",
    "    if high == low:\n",
    "        print(high)\n",
    "        continue\n",
    "    if X[i] < high:\n",
    "        print(high)\n",
    "    else:\n",
    "        print(low)"
   ]
  },
  {
   "cell_type": "code",
   "execution_count": 8,
   "metadata": {},
   "outputs": [
    {
     "name": "stdout",
     "output_type": "stream",
     "text": [
      "3\n",
      "2\n",
      "0\n"
     ]
    }
   ],
   "source": [
    "#D\n",
    "n = int(input())\n",
    "x = list(map(int, input().split()))\n",
    "a = max(x)\n",
    "x.remove(a)\n",
    "b = a\n",
    "for i in x:\n",
    "    if abs(a/2 - i) <= abs(a/2 - b):#iのほうがa/2に近いとき\n",
    "        b = i\n",
    "print(a, b)"
   ]
  },
  {
   "cell_type": "code",
   "execution_count": null,
   "metadata": {},
   "outputs": [],
   "source": [
    "#D　別解\n",
    "import bisect\n",
    "import sys\n",
    "\n",
    "def main(args):\n",
    "    \n",
    "    n = int(input())\n",
    "    A = list(map(int,input().split()))\n",
    "    \n",
    "    A.sort()\n",
    "    \n",
    "    ans = [max(A), 0]\n",
    "    ind = bisect.bisect_left(A ,ans[0]//2)\n",
    "    if A[ind] == ans[0]//2:\n",
    "        ans[1] = ans[0]//2\n",
    "    else:\n",
    "        r1 = min(A[ind],ans[0]-A[ind])\n",
    "        r2 = min(A[ind-1],ans[0]-A[ind-1])\n",
    "        if r1 > r2:\n",
    "            ans[1] = A[ind]\n",
    "        else:\n",
    "            ans[1] = A[ind-1]\n",
    "    \n",
    "    print(*ans)\n",
    "    \n",
    "if __name__ == '__main__':\n",
    "    main(sys.argv[1:])"
   ]
  }
 ],
 "metadata": {
  "kernelspec": {
   "display_name": "Python 3",
   "language": "python",
   "name": "python3"
  },
  "language_info": {
   "codemirror_mode": {
    "name": "ipython",
    "version": 3
   },
   "file_extension": ".py",
   "mimetype": "text/x-python",
   "name": "python",
   "nbconvert_exporter": "python",
   "pygments_lexer": "ipython3",
   "version": "3.7.8"
  }
 },
 "nbformat": 4,
 "nbformat_minor": 2
}
