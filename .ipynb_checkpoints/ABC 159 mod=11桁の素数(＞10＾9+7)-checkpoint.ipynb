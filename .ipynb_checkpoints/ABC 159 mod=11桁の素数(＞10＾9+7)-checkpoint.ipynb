{
 "cells": [
  {
   "cell_type": "code",
   "execution_count": 18,
   "metadata": {},
   "outputs": [
    {
     "name": "stdout",
     "output_type": "stream",
     "text": [
      "13 3\n",
      "81\n"
     ]
    }
   ],
   "source": [
    "#A\n",
    "N, M = map(int,input().split())\n",
    "print(N*(N-1)//2+M*(M-1)//2)"
   ]
  },
  {
   "cell_type": "code",
   "execution_count": 29,
   "metadata": {},
   "outputs": [
    {
     "name": "stdout",
     "output_type": "stream",
     "text": [
      "atcoder\n",
      "No\n"
     ]
    }
   ],
   "source": [
    "#B\n",
    "S = input()\n",
    "flag = False\n",
    "if S == S[::-1]:\n",
    "    if S[:(len(S)-1)//2] == S[:(len(S)-1)//2][::-1]:\n",
    "        if S[(len(S)+3)//2-1:] == S[(len(S)+3)//2-1:][::-1]:\n",
    "            flag = True\n",
    "if flag:\n",
    "    print(\"Yes\")\n",
    "else:\n",
    "    print(\"No\")"
   ]
  },
  {
   "cell_type": "code",
   "execution_count": 31,
   "metadata": {},
   "outputs": [
    {
     "name": "stdout",
     "output_type": "stream",
     "text": [
      "999\n",
      "36926037.0\n"
     ]
    }
   ],
   "source": [
    "#C\n",
    "L = int(input())\n",
    "s = L/3\n",
    "print(s**3)"
   ]
  },
  {
   "cell_type": "code",
   "execution_count": 2,
   "metadata": {},
   "outputs": [
    {
     "name": "stdout",
     "output_type": "stream",
     "text": [
      "5\n",
      "1 1 2 1 2\n",
      "2\n",
      "2\n",
      "3\n",
      "2\n",
      "3\n"
     ]
    }
   ],
   "source": [
    "#D\n",
    "from collections import Counter\n",
    "N = int(input())\n",
    "A = list(map(int,input().split()))\n",
    "\n",
    "A_count = Counter(A)\n",
    "combs = {}\n",
    "\n",
    "ans = 0\n",
    "for a in A:\n",
    "    if a not in combs:\n",
    "        combs[a] = A_count[a]*(A_count[a]-1)//2\n",
    "        ans += combs[a]\n",
    "    else:\n",
    "        pass\n",
    "for a in A:\n",
    "    print(ans - combs[a] + combs[a]*(A_count[a]-2)//A_count[a])"
   ]
  },
  {
   "cell_type": "code",
   "execution_count": 4,
   "metadata": {
    "scrolled": true
   },
   "outputs": [
    {
     "ename": "ValueError",
     "evalue": "invalid literal for int() with base 10: ''",
     "output_type": "error",
     "traceback": [
      "\u001b[1;31m---------------------------------------------------------------------------\u001b[0m",
      "\u001b[1;31mValueError\u001b[0m                                Traceback (most recent call last)",
      "\u001b[1;32m<ipython-input-4-ede089d3a1f7>\u001b[0m in \u001b[0;36m<module>\u001b[1;34m\u001b[0m\n\u001b[0;32m     40\u001b[0m         \u001b[0mprint\u001b[0m\u001b[1;33m(\u001b[0m\u001b[0mans\u001b[0m\u001b[1;33m)\u001b[0m\u001b[1;33m\u001b[0m\u001b[1;33m\u001b[0m\u001b[0m\n\u001b[0;32m     41\u001b[0m \u001b[1;32mif\u001b[0m \u001b[0m__name__\u001b[0m \u001b[1;33m==\u001b[0m \u001b[1;34m'__main__'\u001b[0m\u001b[1;33m:\u001b[0m\u001b[1;33m\u001b[0m\u001b[1;33m\u001b[0m\u001b[0m\n\u001b[1;32m---> 42\u001b[1;33m     \u001b[0mmain\u001b[0m\u001b[1;33m(\u001b[0m\u001b[1;33m)\u001b[0m\u001b[1;33m\u001b[0m\u001b[1;33m\u001b[0m\u001b[0m\n\u001b[0m",
      "\u001b[1;32m<ipython-input-4-ede089d3a1f7>\u001b[0m in \u001b[0;36mmain\u001b[1;34m()\u001b[0m\n\u001b[0;32m     17\u001b[0m \u001b[1;33m\u001b[0m\u001b[0m\n\u001b[0;32m     18\u001b[0m \u001b[1;32mdef\u001b[0m \u001b[0mmain\u001b[0m\u001b[1;33m(\u001b[0m\u001b[1;33m)\u001b[0m\u001b[1;33m:\u001b[0m\u001b[1;33m\u001b[0m\u001b[1;33m\u001b[0m\u001b[0m\n\u001b[1;32m---> 19\u001b[1;33m     \u001b[0mN\u001b[0m \u001b[1;33m=\u001b[0m \u001b[0mint\u001b[0m\u001b[1;33m(\u001b[0m\u001b[0minput\u001b[0m\u001b[1;33m(\u001b[0m\u001b[1;33m)\u001b[0m\u001b[1;33m)\u001b[0m\u001b[1;33m\u001b[0m\u001b[1;33m\u001b[0m\u001b[0m\n\u001b[0m\u001b[0;32m     20\u001b[0m     \u001b[0mA\u001b[0m \u001b[1;33m=\u001b[0m \u001b[0mlist\u001b[0m\u001b[1;33m(\u001b[0m\u001b[0mmap\u001b[0m\u001b[1;33m(\u001b[0m\u001b[0mint\u001b[0m\u001b[1;33m,\u001b[0m\u001b[0minput\u001b[0m\u001b[1;33m(\u001b[0m\u001b[1;33m)\u001b[0m\u001b[1;33m.\u001b[0m\u001b[0msplit\u001b[0m\u001b[1;33m(\u001b[0m\u001b[1;33m)\u001b[0m\u001b[1;33m)\u001b[0m\u001b[1;33m)\u001b[0m\u001b[1;33m\u001b[0m\u001b[1;33m\u001b[0m\u001b[0m\n\u001b[0;32m     21\u001b[0m \u001b[1;33m\u001b[0m\u001b[0m\n",
      "\u001b[1;31mValueError\u001b[0m: invalid literal for int() with base 10: ''"
     ]
    }
   ],
   "source": [
    "#D\n",
    "import sys\n",
    "input=sys.stdin.readline\n",
    "mod = 52245748903\n",
    "\n",
    "def modInverse(a,p):\n",
    "    # Fermat's little theorem, a**(p-1) = 1 mod p\n",
    "    return pow(a,p-2,p)\n",
    "\n",
    "def nCr(n,r,p=mod):\n",
    "    num = 1\n",
    "    den = 1\n",
    "    for i in range(r):\n",
    "        num = (num*(n-i)) % p\n",
    "        den = (den*(i+1)) % p\n",
    "    return num*modInverse(den,p)% p\n",
    "\n",
    "def main():\n",
    "    N = int(input())\n",
    "    A = list(map(int,input().split()))\n",
    "\n",
    "    vals = {}\n",
    "\n",
    "    for val in A:#なんのボールが何個あるか\n",
    "        if val not in vals:\n",
    "            vals[val] = 1\n",
    "        else:\n",
    "            vals[val] += 1\n",
    "    #print(vals)\n",
    "\n",
    "    cmbs = {}\n",
    "    for key in vals.keys():#その数の組み合わせの総数\n",
    "        cmbs[key] = nCr(vals[key],2)\n",
    "\n",
    "    #print(balls)\n",
    "    total = sum(cmbs.values())\n",
    "\n",
    "    for val in A:\n",
    "        ans = total - cmbs[val] + nCr(vals[val]-1,2)\n",
    "        print(ans)\n",
    "if __name__ == '__main__':\n",
    "    main()"
   ]
  },
  {
   "cell_type": "code",
   "execution_count": null,
   "metadata": {},
   "outputs": [],
   "source": [
    "#E\n",
    "from collections import deque\n",
    "import numpy as np\n",
    "H,W,K = map(int,input().split())\n",
    "ch = [None]*H\n",
    "ans = float('inf')\n",
    "for i in range(H):\n",
    "    ch[i] = list(input())\n",
    "for state in range(2**(H-1)):#どこで横に割るか\n",
    "    tmp = 0\n",
    "    split_row = []\n",
    "    for mask in range(H-1):\n",
    "        if state & (1<<mask):\n",
    "            split_row.append(mask)\n",
    "    for row in split_row:\n",
    "        for i in range(W-1):#そこで割るかどうか\n",
    "            #そのブロック内の白がK以下かチェック\n",
    "            if ch[:row+1][]"
   ]
  }
 ],
 "metadata": {
  "kernelspec": {
   "display_name": "Python 3",
   "language": "python",
   "name": "python3"
  },
  "language_info": {
   "codemirror_mode": {
    "name": "ipython",
    "version": 3
   },
   "file_extension": ".py",
   "mimetype": "text/x-python",
   "name": "python",
   "nbconvert_exporter": "python",
   "pygments_lexer": "ipython3",
   "version": "3.7.3"
  }
 },
 "nbformat": 4,
 "nbformat_minor": 2
}
