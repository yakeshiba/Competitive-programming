{
 "cells": [
  {
   "cell_type": "code",
   "execution_count": 2,
   "metadata": {},
   "outputs": [
    {
     "name": "stdout",
     "output_type": "stream",
     "text": [
      "5\n",
      "3 8 7 5 5\n",
      "2 4 12 2 8\n"
     ]
    }
   ],
   "source": [
    "#D\n",
    "import numpy as np\n",
    "N = int(input())\n",
    "A = np.array(list(map(int,input().split())))\n",
    "ans = np.array([0]*N)\n",
    "ans[0] = sum(A) - sum(np.array(A[1::2])*2)\n",
    "for i in range(N-1):\n",
    "    ans[-(i+1)] = 2*A[-(i+1)] - ans[-i]\n",
    "print(*list(ans))"
   ]
  },
  {
   "cell_type": "code",
   "execution_count": 4,
   "metadata": {},
   "outputs": [
    {
     "name": "stdout",
     "output_type": "stream",
     "text": [
      "8\n"
     ]
    }
   ],
   "source": [
    "import numpy as np\n",
    "A = np.array([0,1,2,3,4])\n",
    "print(sum(2*A[1::2]))"
   ]
  }
 ],
 "metadata": {
  "kernelspec": {
   "display_name": "Python 3",
   "language": "python",
   "name": "python3"
  },
  "language_info": {
   "codemirror_mode": {
    "name": "ipython",
    "version": 3
   },
   "file_extension": ".py",
   "mimetype": "text/x-python",
   "name": "python",
   "nbconvert_exporter": "python",
   "pygments_lexer": "ipython3",
   "version": "3.7.3"
  }
 },
 "nbformat": 4,
 "nbformat_minor": 2
}
