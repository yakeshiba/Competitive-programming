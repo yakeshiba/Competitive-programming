{
 "cells": [
  {
   "cell_type": "code",
   "execution_count": null,
   "metadata": {},
   "outputs": [],
   "source": [
    "#B\n",
    "mod = 998244353\n",
    "\n",
    "n = int(input())\n",
    "D = list(map(int,input().split()))\n",
    "\n",
    "if D[0] != 0:\n",
    "    print(0)\n",
    "else:\n",
    "    nums = [0]*n\n",
    "    for d in D:\n",
    "        nums[d] += 1\n",
    "    \n",
    "    imp = False\n",
    "    end = False\n",
    "    \n",
    "    if nums[0] > 1:\n",
    "        imp = True\n",
    "        \n",
    "    for i in range(1,n):\n",
    "        if nums[i] == 0:\n",
    "            end = True\n",
    "        else:\n",
    "            if end:\n",
    "                imp = True\n",
    "                break\n",
    "            \n",
    "    if imp:\n",
    "        print(0)\n",
    "    else:\n",
    "        ans = 1\n",
    "        for i in range(1,n):\n",
    "            if nums[i] == 0:\n",
    "                break\n",
    "            ans = ans*pow(nums[i-1], nums[i], mod)%mod\n",
    "        print(ans)"
   ]
  }
 ],
 "metadata": {
  "kernelspec": {
   "display_name": "Python 3",
   "language": "python",
   "name": "python3"
  },
  "language_info": {
   "codemirror_mode": {
    "name": "ipython",
    "version": 3
   },
   "file_extension": ".py",
   "mimetype": "text/x-python",
   "name": "python",
   "nbconvert_exporter": "python",
   "pygments_lexer": "ipython3",
   "version": "3.7.3"
  }
 },
 "nbformat": 4,
 "nbformat_minor": 2
}
