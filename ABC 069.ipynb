{
 "cells": [
  {
   "cell_type": "code",
   "execution_count": null,
   "metadata": {},
   "outputs": [],
   "source": [
    "#A\n",
    "n,m = map(int,input().split())\n",
    "print((n-1)*(m-1))"
   ]
  },
  {
   "cell_type": "code",
   "execution_count": 3,
   "metadata": {},
   "outputs": [
    {
     "name": "stdout",
     "output_type": "stream",
     "text": [
      "xyz\n",
      "x1z\n"
     ]
    }
   ],
   "source": [
    "#B\n",
    "s = input()\n",
    "ls = len(s)\n",
    "print(s[0]+str(ls-2)+s[-1])"
   ]
  },
  {
   "cell_type": "code",
   "execution_count": 7,
   "metadata": {},
   "outputs": [
    {
     "name": "stdout",
     "output_type": "stream",
     "text": [
      "4\n",
      "4 4 8 12\n",
      "4\n"
     ]
    }
   ],
   "source": [
    "#C\n",
    "import numpy as np\n",
    "N = int(input())\n",
    "A = np.array(list(map(int,input().split())))\n",
    "four = np.count_nonzero(A[A%4==0])#4の倍数\n",
    "two = np.count_nonzero(A[A%2==0]) - four#2の倍数だけど4の倍数じゃない\n",
    "non = N-four-two#2を素因数に持たないので，4の倍数と隣り合わなきゃならないやつ\n",
    "\n",
    "if non > four:\n",
    "    if non == four+1:\n",
    "        if two > 0:\n",
    "            print('No')\n",
    "        else:\n",
    "            print('Yes')\n",
    "    else:\n",
    "        print('No')\n",
    "else:\n",
    "    print('Yes')"
   ]
  },
  {
   "cell_type": "code",
   "execution_count": null,
   "metadata": {},
   "outputs": [],
   "source": [
    "#D\n",
    "H,W = map(int,input().split())\n",
    "\n",
    "N = int(input())\n",
    "A = list(map(int,input().split()))\n",
    "\n",
    "maze = [[None]*W for _ in range(H)]\n",
    "\n",
    "#左上スタートで蛇行すればいい\n",
    "row = 0\n",
    "col = 0\n",
    "rev = False\n",
    "for i,a in enumerate(A):\n",
    "    for paint in range(a):\n",
    "        maze[row][col] = i+1\n",
    "        if not rev:\n",
    "            col += 1\n",
    "        else:\n",
    "            col -= 1\n",
    "        if col == W:\n",
    "            col = W-1\n",
    "            row += 1\n",
    "            rev = not rev\n",
    "        if col == -1:\n",
    "            col = 0\n",
    "            row += 1\n",
    "            rev = not rev\n",
    "for r in maze:\n",
    "    print(*r)"
   ]
  }
 ],
 "metadata": {
  "kernelspec": {
   "display_name": "Python 3",
   "language": "python",
   "name": "python3"
  },
  "language_info": {
   "codemirror_mode": {
    "name": "ipython",
    "version": 3
   },
   "file_extension": ".py",
   "mimetype": "text/x-python",
   "name": "python",
   "nbconvert_exporter": "python",
   "pygments_lexer": "ipython3",
   "version": "3.7.3"
  }
 },
 "nbformat": 4,
 "nbformat_minor": 2
}
