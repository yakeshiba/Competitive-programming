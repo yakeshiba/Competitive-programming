{
 "cells": [
  {
   "cell_type": "code",
   "execution_count": null,
   "metadata": {},
   "outputs": [],
   "source": [
    "#C\n",
    "from collections import deque\n",
    "s = deque(input())\n",
    "\n",
    "ans = 0\n",
    "while s:\n",
    "    top = s[0]\n",
    "    end = s[-1]\n",
    "    if top != end:\n",
    "        if not (top == \"x\" or end == \"x\"):\n",
    "            print(-1)\n",
    "            break\n",
    "        else:\n",
    "            if top == \"x\":\n",
    "                s.popleft()\n",
    "            else:\n",
    "                s.pop()\n",
    "            ans += 1\n",
    "    else:\n",
    "        s.popleft()\n",
    "        if s:\n",
    "            s.pop()\n",
    "else:\n",
    "    print(ans)"
   ]
  }
 ],
 "metadata": {
  "kernelspec": {
   "display_name": "Python 3",
   "language": "python",
   "name": "python3"
  },
  "language_info": {
   "codemirror_mode": {
    "name": "ipython",
    "version": 3
   },
   "file_extension": ".py",
   "mimetype": "text/x-python",
   "name": "python",
   "nbconvert_exporter": "python",
   "pygments_lexer": "ipython3",
   "version": "3.7.3"
  }
 },
 "nbformat": 4,
 "nbformat_minor": 2
}
