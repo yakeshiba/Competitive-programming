{
 "cells": [
  {
   "cell_type": "code",
   "execution_count": null,
   "metadata": {},
   "outputs": [],
   "source": [
    "#A\n",
    "x = list(map(int,input().split()))\n",
    "print(x.index(0)+1)"
   ]
  },
  {
   "cell_type": "code",
   "execution_count": null,
   "metadata": {},
   "outputs": [],
   "source": [
    "#B\n",
    "X,Y = map(int,input().split())\n",
    "for turu in range(0,X+1):\n",
    "    if 2*turu+4*(X-turu) == Y:\n",
    "        print('Yes')\n",
    "        break\n",
    "else:\n",
    "    print('No')"
   ]
  },
  {
   "cell_type": "code",
   "execution_count": null,
   "metadata": {},
   "outputs": [],
   "source": [
    "#C\n",
    "X,N = map(int,input().split())\n",
    "if N != 0:\n",
    "    p = list(map(int,input().split()))\n",
    "    setp = set(p)\n",
    "    ans_plus = X\n",
    "    ans_minus = X\n",
    "    val = 0\n",
    "    while True:\n",
    "        ans_plus = X + val\n",
    "        ans_minus = X - val\n",
    "        if ans_minus not in setp:\n",
    "            print(ans_minus)\n",
    "            break\n",
    "        elif ans_plus not in setp:\n",
    "            print(ans_plus)\n",
    "            break\n",
    "        else:\n",
    "            val += 1\n",
    "else:\n",
    "    print(X)"
   ]
  },
  {
   "cell_type": "code",
   "execution_count": null,
   "metadata": {},
   "outputs": [],
   "source": [
    "#D\n",
    "import numpy as np\n",
    "N = int(input())\n",
    "A = list(map(int,input().split()))\n",
    "\n",
    "chofuku_dict = {}\n",
    "chofuku = []\n",
    "\n",
    "for a in A:\n",
    "    if a not in chofuku_dict:\n",
    "        chofuku_dict[a] = 1\n",
    "    else:\n",
    "        chofuku.append(a)\n",
    "        \n",
    "chofuku = set(chofuku)\n",
    "\n",
    "A = list(set(A))\n",
    "A.sort()\n",
    "\n",
    "bl = np.array([0] + [1]*A[-1])\n",
    "\n",
    "ans = 0\n",
    "for a in A:\n",
    "    if bl[a] == 0:\n",
    "        continue\n",
    "    if a not in chofuku:\n",
    "        ans += 1\n",
    "    bl[2*a::a] = 0\n",
    "print(ans)"
   ]
  }
 ],
 "metadata": {
  "kernelspec": {
   "display_name": "Python 3",
   "language": "python",
   "name": "python3"
  },
  "language_info": {
   "codemirror_mode": {
    "name": "ipython",
    "version": 3
   },
   "file_extension": ".py",
   "mimetype": "text/x-python",
   "name": "python",
   "nbconvert_exporter": "python",
   "pygments_lexer": "ipython3",
   "version": "3.7.3"
  }
 },
 "nbformat": 4,
 "nbformat_minor": 2
}
