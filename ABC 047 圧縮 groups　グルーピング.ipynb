{
 "cells": [
  {
   "cell_type": "code",
   "execution_count": null,
   "metadata": {},
   "outputs": [],
   "source": [
    "#C\n",
    "S = [1 if x==\"W\" else 0 for x in input()]\n",
    "\n",
    "groups = []\n",
    "tmp = 0\n",
    "zeros = 0\n",
    "for n in S:\n",
    "    if n == 1:\n",
    "        if zeros != 0:#直前まで０だったとき\n",
    "            groups.append(zeros)\n",
    "            zeros = 0#リセット\n",
    "        tmp += 1\n",
    "    elif n == 0:\n",
    "        if tmp != 0:#直前まで１だったとき\n",
    "            groups.append(tmp)\n",
    "            tmp = 0#リセット\n",
    "        zeros -= 1\n",
    "#終端の処理\n",
    "if tmp != 0:\n",
    "    groups.append(tmp)\n",
    "if zeros != 0:\n",
    "    groups.append(zeros)\n",
    "    \n",
    "print(len(groups)-1)"
   ]
  }
 ],
 "metadata": {
  "kernelspec": {
   "display_name": "Python 3",
   "language": "python",
   "name": "python3"
  },
  "language_info": {
   "codemirror_mode": {
    "name": "ipython",
    "version": 3
   },
   "file_extension": ".py",
   "mimetype": "text/x-python",
   "name": "python",
   "nbconvert_exporter": "python",
   "pygments_lexer": "ipython3",
   "version": "3.7.8"
  }
 },
 "nbformat": 4,
 "nbformat_minor": 4
}
