{
 "cells": [
  {
   "cell_type": "code",
   "execution_count": null,
   "metadata": {},
   "outputs": [],
   "source": [
    "#B\n",
    "a, b, c = map(int,input().split())\n",
    "\n",
    "amari = []\n",
    "for i in range(1,1000):\n",
    "    tmp = (a*i)%b\n",
    "    if tmp not in amari:\n",
    "        amari.append(tmp)\n",
    "    else:\n",
    "        break\n",
    "    \n",
    "if c in amari:\n",
    "    print('YES')\n",
    "else:\n",
    "    print('NO')"
   ]
  },
  {
   "cell_type": "code",
   "execution_count": null,
   "metadata": {},
   "outputs": [],
   "source": [
    "#C\n",
    "N, T = map(int,input().split())\n",
    "ts = list(map(int,input().split()))+[float('inf')]\n",
    "\n",
    "ans = 0\n",
    "for i in range(N):\n",
    "    if ts[i] + T <= ts[i+1]:\n",
    "        ans += T\n",
    "    else:\n",
    "        ans += ts[i+1] - ts[i]\n",
    "        \n",
    "print(ans)"
   ]
  }
 ],
 "metadata": {
  "kernelspec": {
   "display_name": "Python 3",
   "language": "python",
   "name": "python3"
  },
  "language_info": {
   "codemirror_mode": {
    "name": "ipython",
    "version": 3
   },
   "file_extension": ".py",
   "mimetype": "text/x-python",
   "name": "python",
   "nbconvert_exporter": "python",
   "pygments_lexer": "ipython3",
   "version": "3.7.8"
  }
 },
 "nbformat": 4,
 "nbformat_minor": 4
}
