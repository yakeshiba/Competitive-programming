{
 "cells": [
  {
   "cell_type": "code",
   "execution_count": 13,
   "metadata": {},
   "outputs": [
    {
     "name": "stdout",
     "output_type": "stream",
     "text": [
      "3125\n",
      "125\n",
      "Yes\n"
     ]
    }
   ],
   "source": [
    "#A\n",
    "from collections import deque\n",
    "n = int(input())\n",
    "a = int(input())\n",
    "if n%500 <= a:\n",
    "    print(\"Yes\")\n",
    "else:\n",
    "    print(\"No\")"
   ]
  },
  {
   "cell_type": "code",
   "execution_count": 16,
   "metadata": {},
   "outputs": [
    {
     "name": "stdout",
     "output_type": "stream",
     "text": [
      "3\n",
      "2 7 4\n",
      "5\n"
     ]
    }
   ],
   "source": [
    "#B\n",
    "N = int(input())\n",
    "A = list(map(int,input().split()))\n",
    "A.sort()\n",
    "print(abs(sum(A[::2])-sum(A[1::2])))"
   ]
  },
  {
   "cell_type": "code",
   "execution_count": null,
   "metadata": {},
   "outputs": [],
   "source": [
    "#C\n",
    "grid = []\n",
    "for _ in range(3):\n",
    "    grid.append(list(map(int,input().split())))\n",
    "b1, b2, b3 = grid[0][0], grid[0][1], grid[0][2]\n",
    "a1, a2, a3 = 0, grid[1][0]-b1, grid[2][0]-b1\n",
    "if grid[1][1] == a2+b2 and grid[1][2] == a2+b3 and grid[2][1] == a3+b2 and grid[2][2] == a3+b3:\n",
    "    print(\"Yes\")\n",
    "else:\n",
    "    print(\"No\")"
   ]
  },
  {
   "cell_type": "code",
   "execution_count": null,
   "metadata": {},
   "outputs": [],
   "source": [
    "#D\n"
   ]
  }
 ],
 "metadata": {
  "kernelspec": {
   "display_name": "Python 3",
   "language": "python",
   "name": "python3"
  },
  "language_info": {
   "codemirror_mode": {
    "name": "ipython",
    "version": 3
   },
   "file_extension": ".py",
   "mimetype": "text/x-python",
   "name": "python",
   "nbconvert_exporter": "python",
   "pygments_lexer": "ipython3",
   "version": "3.7.3"
  }
 },
 "nbformat": 4,
 "nbformat_minor": 2
}
