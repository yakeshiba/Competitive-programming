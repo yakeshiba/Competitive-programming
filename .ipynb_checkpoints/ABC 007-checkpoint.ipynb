{
 "cells": [
  {
   "cell_type": "code",
   "execution_count": null,
   "metadata": {},
   "outputs": [],
   "source": [
    "from collections import deque\n",
    "#入力の受け取り\n",
    "R,C = map(int,input().split())\n",
    "sy,sx = map(int,input().split())\n",
    "gy,gx = map(int,input().split())\n",
    "maze = [list(input()) for _ in range(R)]\n",
    "\n",
    "#探索の準備\n",
    "duplication = [[0]*C for _ in range(R)]\n",
    "steps = 0 #費やした歩数\n",
    "goal = False #while文用\n",
    " \n",
    "maze[gy-1][gx-1] = 'g' #goalの設定\n",
    " \n",
    "queue = deque[(sy-1,sx-1)] #startの座標\n",
    "distance = [0] #各座標ごとの、startからの最短距離の管理\n",
    "while not goal:\n",
    "    y,x = queue.popleft() # 先頭の要素の取り出し\n",
    "    past_count = distance.popleft()\n",
    "    for dxi,dyi in [0,-1],[-1,0],[0,1],[1,0]:\n",
    "        if (0<=x+dxi< C) and (0<=y+dyi<R) and maze[y+dyi][x+dxi] != '#' and duplication[y+dyi][x+dxi] == 0:\n",
    "            if maze[y + dyi][x + dxi] == 'g':\n",
    "                flag = False\n",
    "                break\n",
    "            duplication[y + dyi][x + dxi] = 1\n",
    "            queue.append((y + dyi,x + dxi))\n",
    "            distance.append(past_count + 1)\n",
    "            maze[y][x] = '#' #visited\n",
    "print(past_count + 1)"
   ]
  },
  {
   "cell_type": "code",
   "execution_count": null,
   "metadata": {},
   "outputs": [],
   "source": [
    "from collections import deque\n",
    "#入力の受け取り\n",
    "R,C = map(int,input().split())\n",
    "sy,sx = map(int,input().split())\n",
    "gy,gx = map(int,input().split())\n",
    "maze = [list(input()) for _ in range(R)]\n",
    "\n",
    "#探索の準備\n",
    "goal = False #探索終了のフラグ \n",
    "maze[gy-1][gx-1] = \"g\"#goalの設定\n",
    "\n",
    "queue = deque([(sy-1,sx-1)]) #キューの初期値としてstartの座標を入れる\n",
    "distance = deque([0]) #各座標ごとのstartからの距離を管理\n",
    "maze[sy-1][sx-1] = \"#\" #スタート地点を壁とする\n",
    "\n",
    "dx = [0,0,1,-1]#自分のx座標を動かすための値\n",
    "dy = [1,-1,0,0]#自分のy座標を動かすための値\n",
    "\n",
    "#探索\n",
    "while not goal:#goalがFalseの間\n",
    "    y,x = queue.popleft() #キューの要素の取り出し\n",
    "    past_count = distance.popleft()#その探索地点のスタートからの距離\n",
    "    for dxi,dyi in zip(dx,dy):#その地点の上下左右を調べる\n",
    "        if not (0<=x+dxi<C and 0<=y+dyi<R) or maze[y+dyi][x+dxi] == \"#\":#次の行き先が「街の中じゃない」もしくは「壁」\n",
    "            pass\n",
    "        else:\n",
    "            if maze[y+dyi][x+dxi] == \"g\":#ゴールなら探索終了\n",
    "                goal= True\n",
    "                break\n",
    "            queue.append((y+dyi,x+dxi))#ゴールじゃなかったけど行けるところを追加\n",
    "            distance.append(past_count + 1)#追加された地点のスタートからの距離\n",
    "            maze[y+dyi][x+dxi] = \"#\" #次に行くところ（探索先）を壁扱いする（他の分岐から同じ場所を調べなおす必要が無いように）\n",
    "print(past_count+1)"
   ]
  }
 ],
 "metadata": {
  "kernelspec": {
   "display_name": "Python 3",
   "language": "python",
   "name": "python3"
  },
  "language_info": {
   "codemirror_mode": {
    "name": "ipython",
    "version": 3
   },
   "file_extension": ".py",
   "mimetype": "text/x-python",
   "name": "python",
   "nbconvert_exporter": "python",
   "pygments_lexer": "ipython3",
   "version": "3.7.3"
  }
 },
 "nbformat": 4,
 "nbformat_minor": 2
}
