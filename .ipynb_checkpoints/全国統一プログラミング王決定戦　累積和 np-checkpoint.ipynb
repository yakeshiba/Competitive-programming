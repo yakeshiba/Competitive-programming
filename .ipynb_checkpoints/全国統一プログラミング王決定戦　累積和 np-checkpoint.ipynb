{
 "cells": [
  {
   "cell_type": "code",
   "execution_count": null,
   "metadata": {},
   "outputs": [],
   "source": [
    "#A\n",
    "import numpy as np\n",
    "\n",
    "N = int(input())\n",
    "A = np.array([0] + list(map(int,input().split())))\n",
    "\n",
    "cumsum = np.cumsum(A)\n",
    "\n",
    "for i in range(1,N+1):\n",
    "    V = cumsum[i:] - cumsum[:-i]#[:-i]とすると最後からi個を除いた部分を切り取れる\n",
    "    print(np.max(V))"
   ]
  }
 ],
 "metadata": {
  "kernelspec": {
   "display_name": "Python 3",
   "language": "python",
   "name": "python3"
  },
  "language_info": {
   "codemirror_mode": {
    "name": "ipython",
    "version": 3
   },
   "file_extension": ".py",
   "mimetype": "text/x-python",
   "name": "python",
   "nbconvert_exporter": "python",
   "pygments_lexer": "ipython3",
   "version": "3.7.3"
  }
 },
 "nbformat": 4,
 "nbformat_minor": 2
}
