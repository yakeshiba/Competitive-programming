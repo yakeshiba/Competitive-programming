{
 "cells": [
  {
   "cell_type": "code",
   "execution_count": null,
   "metadata": {},
   "outputs": [],
   "source": [
    "from collections import deque\n",
    "n, m = map(int,input().split())\n",
    "\n",
    "edge = [[] for _ in range(n)]\n",
    "for i in range(m):\n",
    "    a, b = map(int,input().split())\n",
    "    edge[a-1].append(b-1)\n",
    "    edge[b-1].append(a-1)\n",
    "    \n",
    "visited = [0]*n\n",
    "visited[0] = 1\n",
    "q = deque([0])\n",
    "\n",
    "ans = 0\n",
    "\n",
    "while sum(visited) < n:\n",
    "    while q:\n",
    "        now = q.popleft()\n",
    "        for to in edge[now]:\n",
    "            if visited[to] == 0:\n",
    "                q.append(to)\n",
    "                visited[to] = 1\n",
    "    #print(visited)\n",
    "    if sum(visited) < n:\n",
    "        ans += 1\n",
    "        for i,v in enumerate(visited):\n",
    "            if v == 0:\n",
    "                q.append(i)\n",
    "                visited[i] = 1\n",
    "                break\n",
    "\n",
    "print(ans)"
   ]
  }
 ],
 "metadata": {
  "kernelspec": {
   "display_name": "Python 3",
   "language": "python",
   "name": "python3"
  },
  "language_info": {
   "codemirror_mode": {
    "name": "ipython",
    "version": 3
   },
   "file_extension": ".py",
   "mimetype": "text/x-python",
   "name": "python",
   "nbconvert_exporter": "python",
   "pygments_lexer": "ipython3",
   "version": "3.7.8"
  }
 },
 "nbformat": 4,
 "nbformat_minor": 4
}
