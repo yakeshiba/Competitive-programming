{
 "cells": [
  {
   "cell_type": "code",
   "execution_count": null,
   "metadata": {},
   "outputs": [],
   "source": [
    "#C\n",
    "from collections import Counter\n",
    "\n",
    "n = int(input())\n",
    "A = list(map(int,input().split()))\n",
    "\n",
    "cnt = Counter(A)\n",
    "\n",
    "parts = []\n",
    "for k in sorted(cnt.keys(),reverse=True):\n",
    "    if cnt[k] >= 4:\n",
    "        parts += [k,k]\n",
    "    elif cnt[k] >= 2:\n",
    "        parts.append(k)\n",
    "\n",
    "if len(parts) >= 2:\n",
    "    print(parts[0]*parts[1])\n",
    "else:\n",
    "    print(0)"
   ]
  }
 ],
 "metadata": {
  "kernelspec": {
   "display_name": "Python 3",
   "language": "python",
   "name": "python3"
  },
  "language_info": {
   "codemirror_mode": {
    "name": "ipython",
    "version": 3
   },
   "file_extension": ".py",
   "mimetype": "text/x-python",
   "name": "python",
   "nbconvert_exporter": "python",
   "pygments_lexer": "ipython3",
   "version": "3.7.8"
  }
 },
 "nbformat": 4,
 "nbformat_minor": 4
}
