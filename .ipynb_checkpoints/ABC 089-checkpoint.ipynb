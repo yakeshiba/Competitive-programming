{
 "cells": [
  {
   "cell_type": "code",
   "execution_count": null,
   "metadata": {},
   "outputs": [],
   "source": [
    "#C\n",
    "import itertools\n",
    "\n",
    "n = int(input())\n",
    "\n",
    "name = {\"M\":[],\"A\":[],\"R\":[],\"C\":[],\"H\":[]}\n",
    "for i in range(n):\n",
    "    s = input()\n",
    "    if s[0] not in name:\n",
    "        continue\n",
    "    else:\n",
    "        name[s[0]].append(s)\n",
    "\n",
    "ans = 0\n",
    "for p,q,r in itertools.combinations(name.keys(), 3):\n",
    "    ans += len(name[p])*len(name[q])*len(name[r])\n",
    "    \n",
    "print(ans)"
   ]
  }
 ],
 "metadata": {
  "kernelspec": {
   "display_name": "Python 3",
   "language": "python",
   "name": "python3"
  },
  "language_info": {
   "codemirror_mode": {
    "name": "ipython",
    "version": 3
   },
   "file_extension": ".py",
   "mimetype": "text/x-python",
   "name": "python",
   "nbconvert_exporter": "python",
   "pygments_lexer": "ipython3",
   "version": "3.7.8"
  }
 },
 "nbformat": 4,
 "nbformat_minor": 4
}
