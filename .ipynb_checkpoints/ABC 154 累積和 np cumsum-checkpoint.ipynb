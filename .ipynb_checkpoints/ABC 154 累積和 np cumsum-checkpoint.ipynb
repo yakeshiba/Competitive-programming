{
 "cells": [
  {
   "cell_type": "code",
   "execution_count": 1,
   "metadata": {},
   "outputs": [
    {
     "name": "stdout",
     "output_type": "stream",
     "text": [
      "red blue\n",
      "3 4\n",
      "red\n",
      "2 4\n"
     ]
    }
   ],
   "source": [
    "#A\n",
    "S, T = map(str,input().split())\n",
    "A,B = map(int,input().split())\n",
    "U = input()\n",
    "if U == S:\n",
    "    print(A-1,B)\n",
    "else:\n",
    "    print(A,B-1)"
   ]
  },
  {
   "cell_type": "code",
   "execution_count": 5,
   "metadata": {},
   "outputs": [
    {
     "name": "stdout",
     "output_type": "stream",
     "text": [
      "sasasa\n",
      "xxxxxx\n"
     ]
    }
   ],
   "source": [
    "#B\n",
    "l = len(input())\n",
    "print('x'*l)"
   ]
  },
  {
   "cell_type": "code",
   "execution_count": null,
   "metadata": {},
   "outputs": [],
   "source": [
    "#C\n",
    "N = int(input())\n",
    "A = list(map(int,input().split()))\n",
    "flag = True\n",
    "a = set(A)\n",
    "if len(a) != N:\n",
    "    print(\"NO\")\n",
    "else:\n",
    "    print(\"YES\")"
   ]
  },
  {
   "cell_type": "code",
   "execution_count": null,
   "metadata": {},
   "outputs": [],
   "source": [
    "#D　累積和\n",
    "import numpy as np\n",
    "N, K = map(int,input().split())\n",
    "P = list(map(int,input().split()))\n",
    "\n",
    "ex = [0]*N\n",
    "\n",
    "for i,p in enumerate(P):\n",
    "    ex[i] = (p+1)*(1/2)\n",
    "\n",
    "ex = [0] + ex\n",
    "cumsum = np.cumsum(ex)\n",
    "\n",
    "B = cumsum[K:] - cumsum[:-K]\n",
    "\n",
    "print(np.max(B))"
   ]
  },
  {
   "cell_type": "code",
   "execution_count": null,
   "metadata": {},
   "outputs": [],
   "source": [
    "#D　別解\n",
    "N, K = map(int,input().split())\n",
    "p = list(map(int,input().split()))\n",
    "ex = [0]*1000\n",
    "ex[0] = 1\n",
    "for i in range(1,1000):\n",
    "    ex[i] = ex[i-1]+(i+1)\n",
    "for i in range(0,1000):\n",
    "    ex[i] = ex[i]/(i+1)\n",
    "\n",
    "ans = 0\n",
    "for i in range(0,K):\n",
    "    ans += ex[p[i]-1]\n",
    "\n",
    "tmp = ans\n",
    "for i in range(K,N):\n",
    "    tmp -= ex[p[i-K]-1]\n",
    "    tmp += ex[p[i]-1]\n",
    "    ans = max(ans,tmp)\n",
    "print(ans)"
   ]
  },
  {
   "cell_type": "code",
   "execution_count": null,
   "metadata": {},
   "outputs": [],
   "source": [
    "#D別解　（今見るとよくわからない Qiitaの記事を参照した記憶がある）\n",
    "N, K = map(int,input().split())\n",
    "p = list(map(int,input().split()))\n",
    "for i in range(len(p)):\n",
    "    p[i] = ((1/2)*p[i]*(p[i]-1))/p[i]\n",
    "addnum = sum(p[0:K+1])\n",
    "p_removed = p[K+1:]\n",
    "p_removed = [0] + p_removed\n",
    "for i in range(len(p_removed)-1):\n",
    "    p_removed[i+1] += p_removed[i]\n",
    "for i in range(len(p_removed)):\n",
    "    p_removed[i] += addnum\n",
    "print(max(p_removed))"
   ]
  },
  {
   "cell_type": "code",
   "execution_count": 8,
   "metadata": {},
   "outputs": [
    {
     "name": "stdout",
     "output_type": "stream",
     "text": [
      "3333\n",
      "2\n",
      "[[[0, 0], [0, 0]], [[0, 0], [0, 0]], [[0, 0], [0, 0]], [[0, 0], [0, 0]]]\n"
     ]
    }
   ],
   "source": [
    "#E\n",
    "N = int(input())\n",
    "K = int(input())\n",
    "dp = [[[0]*2 for _ in range(K+1)] for _ in range(len(str(N)))]\n",
    "\n",
    "for digit in range(len(str(N))):\n",
    "    "
   ]
  },
  {
   "cell_type": "code",
   "execution_count": 7,
   "metadata": {},
   "outputs": [
    {
     "ename": "TypeError",
     "evalue": "'int' object is not subscriptable",
     "output_type": "error",
     "traceback": [
      "\u001b[1;31m---------------------------------------------------------------------------\u001b[0m",
      "\u001b[1;31mTypeError\u001b[0m                                 Traceback (most recent call last)",
      "\u001b[1;32m<ipython-input-7-310881769bff>\u001b[0m in \u001b[0;36m<module>\u001b[1;34m\u001b[0m\n\u001b[0;32m      1\u001b[0m \u001b[0ma\u001b[0m \u001b[1;33m=\u001b[0m \u001b[1;33m[\u001b[0m\u001b[1;36m1\u001b[0m\u001b[1;33m,\u001b[0m\u001b[1;36m1\u001b[0m\u001b[1;33m]\u001b[0m\u001b[1;33m\u001b[0m\u001b[1;33m\u001b[0m\u001b[0m\n\u001b[1;32m----> 2\u001b[1;33m \u001b[0mprint\u001b[0m\u001b[1;33m(\u001b[0m\u001b[0ma\u001b[0m\u001b[1;33m[\u001b[0m\u001b[1;36m1\u001b[0m\u001b[1;33m]\u001b[0m\u001b[1;33m[\u001b[0m\u001b[1;36m0\u001b[0m\u001b[1;33m]\u001b[0m\u001b[1;33m)\u001b[0m\u001b[1;33m\u001b[0m\u001b[1;33m\u001b[0m\u001b[0m\n\u001b[0m",
      "\u001b[1;31mTypeError\u001b[0m: 'int' object is not subscriptable"
     ]
    }
   ],
   "source": []
  },
  {
   "cell_type": "code",
   "execution_count": 8,
   "metadata": {},
   "outputs": [
    {
     "name": "stdout",
     "output_type": "stream",
     "text": [
      "1 1 3 4\n",
      "[[0, 0], [0, 0], [0, 0]]\n"
     ]
    }
   ],
   "source": [
    "#F\n",
    "r1,c1,r2,c2 = map(int,input().split())\n",
    "dp = [[0]*(r2-1) for _ in range(c2-1)]\n",
    "dp[0][0] = 2\n",
    "dp[0][1] = 3\n",
    "dp[1][0] = 3\n",
    "dp[1][1] = 6\n"
   ]
  }
 ],
 "metadata": {
  "kernelspec": {
   "display_name": "Python 3",
   "language": "python",
   "name": "python3"
  },
  "language_info": {
   "codemirror_mode": {
    "name": "ipython",
    "version": 3
   },
   "file_extension": ".py",
   "mimetype": "text/x-python",
   "name": "python",
   "nbconvert_exporter": "python",
   "pygments_lexer": "ipython3",
   "version": "3.7.3"
  }
 },
 "nbformat": 4,
 "nbformat_minor": 2
}
