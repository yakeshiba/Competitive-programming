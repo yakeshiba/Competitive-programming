{
 "cells": [
  {
   "cell_type": "code",
   "execution_count": 3,
   "metadata": {},
   "outputs": [
    {
     "name": "stdout",
     "output_type": "stream",
     "text": [
      "BBB\n",
      "No\n"
     ]
    }
   ],
   "source": [
    "#A\n",
    "S = (input())\n",
    "a = set(S)\n",
    "if len(a) == 1:\n",
    "    print(\"No\")\n",
    "else:\n",
    "    print(\"Yes\")"
   ]
  },
  {
   "cell_type": "code",
   "execution_count": 24,
   "metadata": {},
   "outputs": [
    {
     "name": "stdout",
     "output_type": "stream",
     "text": [
      "6 2 4\n",
      "2\n"
     ]
    }
   ],
   "source": [
    "#B\n",
    "N,A,B = map(int,input().split())\n",
    "AB = N//(A+B)\n",
    "rest = N - (A+B)*AB\n",
    "\n",
    "if rest > A:\n",
    "    rest = A\n",
    "print(AB*A+rest)"
   ]
  },
  {
   "cell_type": "code",
   "execution_count": 25,
   "metadata": {},
   "outputs": [
    {
     "name": "stdout",
     "output_type": "stream",
     "text": [
      "2 2\n",
      "2\n"
     ]
    }
   ],
   "source": [
    "#C\n",
    "A,B = map(int,input().split())\n",
    "x = A/1.08\n",
    "y = B/1.10\n",
    "flagA = 0\n",
    "flagB = 0\n",
    "if int(int(x)*1.08) != A and int((int(x)+1)*1.08) != A:\n",
    "    flagA = 1\n",
    "else:\n",
    "    if int(int(A)*1.08) == A:\n",
    "        A_value = int(A)\n",
    "    else:\n",
    "        A_value = (int(A)+1)\n",
    "\n",
    "if int(int(y)*1.10) != B and int((int(y)+1)*1.10) != B:\n",
    "    flagB = 1\n",
    "else:\n",
    "    if int(int(B)*1.10) == B:\n",
    "        B_value = int(B)\n",
    "    else:\n",
    "        B_value = (int(B)+1)\n",
    "        \n",
    "if flagA or flagB:\n",
    "    print(-1)\n",
    "else:\n",
    "    print(min(A_value,B_value))"
   ]
  },
  {
   "cell_type": "code",
   "execution_count": 31,
   "metadata": {},
   "outputs": [
    {
     "name": "stdout",
     "output_type": "stream",
     "text": [
      "19 99\n",
      "-1\n"
     ]
    }
   ],
   "source": [
    "#C\n",
    "A,B = map(int,input().split())\n",
    "for i in range(1,10001):\n",
    "    if int(i*0.08) == A and int(i*0.1) == B:\n",
    "        print(i)\n",
    "        break\n",
    "else:\n",
    "    print(-1)"
   ]
  },
  {
   "cell_type": "code",
   "execution_count": 27,
   "metadata": {},
   "outputs": [
    {
     "data": {
      "text/plain": [
       "20.0"
      ]
     },
     "execution_count": 27,
     "metadata": {},
     "output_type": "execute_result"
    }
   ],
   "source": [
    "#D\n",
    "from collections import deque\n",
    "S = deque(input())\n",
    "Q = int(input())\n",
    "rev = False\n",
    "for i in range(Q):\n",
    "    query = input()\n",
    "    if query[0] == '1':\n",
    "        rev = not rev\n",
    "    else:\n",
    "        qtype = query[2]\n",
    "        qstr = query[4]\n",
    "        if qtype == \"1\":#先頭\n",
    "            if not rev:\n",
    "                S.appendleft(qstr)\n",
    "            else:\n",
    "                S.append(qstr)\n",
    "        else:\n",
    "            if not rev:\n",
    "                S.append(qstr)\n",
    "            else:\n",
    "                S.appendleft(qstr)\n",
    "if rev:\n",
    "    print(*list(S)[::-1],sep=\"\")\n",
    "else:\n",
    "    print(*S,sep=\"\")"
   ]
  }
 ],
 "metadata": {
  "kernelspec": {
   "display_name": "Python 3",
   "language": "python",
   "name": "python3"
  },
  "language_info": {
   "codemirror_mode": {
    "name": "ipython",
    "version": 3
   },
   "file_extension": ".py",
   "mimetype": "text/x-python",
   "name": "python",
   "nbconvert_exporter": "python",
   "pygments_lexer": "ipython3",
   "version": "3.7.3"
  }
 },
 "nbformat": 4,
 "nbformat_minor": 2
}
