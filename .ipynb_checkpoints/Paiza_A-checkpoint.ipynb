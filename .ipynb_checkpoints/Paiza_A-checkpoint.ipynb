{
 "cells": [
  {
   "cell_type": "code",
   "execution_count": null,
   "metadata": {},
   "outputs": [],
   "source": [
    "### A031\n",
    "p1, p2, p3, k = map(int,input().split())\n",
    "num_list = []\n",
    "for i in range(0,100):\n",
    "    for j in range(0,100):\n",
    "        for l in range(0,100):\n",
    "            num_list.append((p1**i)*(p2**j)*(p3**(l)))\n",
    "num_list.sort()\n",
    "print(num_list[k-1])"
   ]
  },
  {
   "cell_type": "code",
   "execution_count": null,
   "metadata": {},
   "outputs": [],
   "source": [
    "#A009\n",
    "H,W = map(int,input().split())\n",
    "ray_direction = \"R\"\n",
    "ans = 0\n",
    "box = []\n",
    "for i in range(H):\n",
    "    row = list(input())\n",
    "    box.append(row)\n",
    "now = [0,0]\n",
    "move = {\"R\":[1,0],\"U\":[0,-1],\"L\":[-1,0],\"D\":[0,1]}\n",
    "while True:\n",
    "    if now[0] >= W or now[0] <= -1 or now[1] >= H or now[1] <= -1:\n",
    "        break\n",
    "    else:\n",
    "        ans += 1\n",
    "    terrain = box[now[1]][now[0]]\n",
    "    if terrain == \"_\":#鏡が無いとき\n",
    "        pass\n",
    "    elif terrain == \"/\":\n",
    "        if ray_direction == \"R\":\n",
    "            ray_direction = \"U\"\n",
    "        elif ray_direction == \"U\":\n",
    "            ray_direction = \"R\"\n",
    "        elif ray_direction == \"L\":\n",
    "            ray_direction = \"D\"\n",
    "        else:\n",
    "            ray_direction = \"L\"\n",
    "    else:\n",
    "        if ray_direction == \"R\":\n",
    "            ray_direction = \"D\"\n",
    "        elif ray_direction == \"U\":\n",
    "            ray_direction = \"L\"\n",
    "        elif ray_direction == \"L\":\n",
    "            ray_direction = \"U\"\n",
    "        else:\n",
    "            ray_direction = \"R\"\n",
    "    \n",
    "    for i in range(2):\n",
    "            now[i] += move[ray_direction][i]\n",
    "print(ans)"
   ]
  },
  {
   "cell_type": "code",
   "execution_count": 1,
   "metadata": {},
   "outputs": [
    {
     "name": "stdout",
     "output_type": "stream",
     "text": [
      "[1, 1, 2, 2]\n"
     ]
    }
   ],
   "source": [
    "a = [1,1]\n",
    "b = [2,2]\n",
    "print(a+b)"
   ]
  }
 ],
 "metadata": {
  "kernelspec": {
   "display_name": "Python 3",
   "language": "python",
   "name": "python3"
  },
  "language_info": {
   "codemirror_mode": {
    "name": "ipython",
    "version": 3
   },
   "file_extension": ".py",
   "mimetype": "text/x-python",
   "name": "python",
   "nbconvert_exporter": "python",
   "pygments_lexer": "ipython3",
   "version": "3.7.3"
  }
 },
 "nbformat": 4,
 "nbformat_minor": 2
}
