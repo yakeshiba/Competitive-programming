{
 "cells": [
  {
   "cell_type": "code",
   "execution_count": null,
   "metadata": {},
   "outputs": [],
   "source": [
    "#C\n",
    "N,Y = map(int,input().split())\n",
    "for i in range(N+1):\n",
    "    for j in range(N-i+1):\n",
    "        cash = Y\n",
    "        cash -= 1000*i\n",
    "        if cash < 0:\n",
    "            continue\n",
    "        cash -= 5000*j\n",
    "        #print(\"cash\",cash,\"i\",i,\"j\",j)\n",
    "        if cash % 10000 == 0:\n",
    "            rest = N-i-j\n",
    "            if cash-5000*rest==0:\n",
    "                print(0,j+rest,i)\n",
    "                break\n",
    "            elif cash-10000*rest==0:\n",
    "                print(N-i-j,j,i)\n",
    "                break\n",
    "    else:\n",
    "        continue\n",
    "    break\n",
    "else:\n",
    "    print(-1,-1,-1)"
   ]
  },
  {
   "cell_type": "code",
   "execution_count": 7,
   "metadata": {},
   "outputs": [
    {
     "name": "stdout",
     "output_type": "stream",
     "text": [
      "3 3\n",
      "2 4\n",
      "2 4\n",
      "1 3\n",
      "6\n"
     ]
    }
   ],
   "source": [
    "#D\n",
    "import numpy as np\n",
    "import sys\n",
    "input=sys.stdin.readline\n",
    "\n",
    "n, h = map(int,input().split())\n",
    "\n",
    "throw = np.array([None]*n)\n",
    "attack = 0\n",
    "\n",
    "for i in range(n):\n",
    "    a,b = map(int,input().split())\n",
    "    attack = max(a,attack)\n",
    "    throw[i] = b\n",
    "\n",
    "throw = np.sort(throw)[::-1]\n",
    "#k = np.count_nonzero(throw[throw>=attack])\n",
    "ans = 0\n",
    "for i in range(n):\n",
    "    if h <= 0:\n",
    "        break\n",
    "    if throw[i] > attack:\n",
    "        ans += 1\n",
    "        h -= throw[i]\n",
    "    \n",
    "#h -= np.sum(throw[:k])\n",
    "if h > 0:\n",
    "    s = -(-h//attack)\n",
    "    ans += s\n",
    "\n",
    "print(ans)"
   ]
  }
 ],
 "metadata": {
  "kernelspec": {
   "display_name": "Python 3",
   "language": "python",
   "name": "python3"
  },
  "language_info": {
   "codemirror_mode": {
    "name": "ipython",
    "version": 3
   },
   "file_extension": ".py",
   "mimetype": "text/x-python",
   "name": "python",
   "nbconvert_exporter": "python",
   "pygments_lexer": "ipython3",
   "version": "3.7.3"
  }
 },
 "nbformat": 4,
 "nbformat_minor": 2
}
