{
 "cells": [
  {
   "cell_type": "code",
   "execution_count": 3,
   "metadata": {},
   "outputs": [
    {
     "name": "stdout",
     "output_type": "stream",
     "text": [
      "2 5\n",
      "dsddd\n",
      "ddddd\n",
      "0\n",
      "(0, 1)\n"
     ]
    }
   ],
   "source": [
    "#入力\n",
    "H, W = map(int,input().split())\n",
    "maze = [list(input()) for _ in range(H)]\n",
    "\n",
    "#初期値の決定\n",
    "start = None#スタート地点の位置を入れる変数\n",
    "for i in range(H):#スタート地点の探索\n",
    "    for j in range(W):\n",
    "        if maze[i][j] == \"s\":\n",
    "            start = (i, j)\n",
    "            break\n",
    "    if start:#startに値が入っているなら\n",
    "        break\n",
    "\n",
    "#探索の準備\n",
    "stack = [start]#探索の分岐を保存するためのスタック\n",
    "goal = False#ゴールに到達したかを判断するフラグ\n",
    "dx = [0,0,1,-1]#自分のx座標を動かすための値\n",
    "dy = [1,-1,0,0]#自分のy座標を動かすための値\n",
    "\n",
    "#探索\n",
    "while stack:#１ループの終了時にSが空でなければ無限ループ\n",
    "    y, x = stack.pop()#現在の座標を取得\n",
    "    if maze[y][x] == \"g\":#ゴールだったら探索を終了\n",
    "        print(\"Yes\")\n",
    "        goal = True\n",
    "        break\n",
    "    for dxi, dyi in zip(dx, dy):#zip関数：dx,dyのインデックスが同じ要素を順に代入\n",
    "        #現在の座標の上下左右のマスを見て，行けるところがないか調べる\n",
    "        if not (0<=y+dyi<H and 0<=x+dxi<W) or maze[y+dyi][x+dxi] == \"#\":#次の行き先が「街の中じゃない」もしくは「壁」\n",
    "            pass\n",
    "        else:\n",
    "            stack.append((y+dyi, x+dxi))#探索の余地がある座標をstackに追加\n",
    "            maze[y][x] = \"#\"#一度行ったところは壁扱いして，二度と探索しない\n",
    "\n",
    "#行けるところのすべてを探索した結果ゴールが無かったとき\n",
    "if not goal:\n",
    "    print(\"No\")"
   ]
  }
 ],
 "metadata": {
  "kernelspec": {
   "display_name": "Python 3",
   "language": "python",
   "name": "python3"
  },
  "language_info": {
   "codemirror_mode": {
    "name": "ipython",
    "version": 3
   },
   "file_extension": ".py",
   "mimetype": "text/x-python",
   "name": "python",
   "nbconvert_exporter": "python",
   "pygments_lexer": "ipython3",
   "version": "3.7.3"
  }
 },
 "nbformat": 4,
 "nbformat_minor": 2
}
