{
 "cells": [
  {
   "cell_type": "code",
   "execution_count": 1,
   "metadata": {},
   "outputs": [
    {
     "name": "stdout",
     "output_type": "stream",
     "text": [
      "1 2 3\n",
      "3 1 2\n"
     ]
    }
   ],
   "source": [
    "#A\n",
    "x,y,z = map(int,input().split())\n",
    "newx = z\n",
    "newy = x\n",
    "newz = y\n",
    "print(newx,newy,newz)"
   ]
  },
  {
   "cell_type": "code",
   "execution_count": null,
   "metadata": {},
   "outputs": [],
   "source": [
    "#B\n",
    "N,M = map(int,input().split())\n",
    "A = list(map(int,input().split()))\n",
    "total = sum(A)\n",
    "ans = []\n",
    "for n in A:\n",
    "    if 4*M*n < total:\n",
    "        pass\n",
    "    else:\n",
    "        ans.append(n)\n",
    "if len(ans) >= M:\n",
    "    print('Yes')\n",
    "else:\n",
    "    print(\"No\")"
   ]
  },
  {
   "cell_type": "code",
   "execution_count": 4,
   "metadata": {},
   "outputs": [
    {
     "name": "stdout",
     "output_type": "stream",
     "text": [
      "1000000000000000000 1\n",
      "0\n"
     ]
    }
   ],
   "source": [
    "#C\n",
    "N,K = map(int,input().split())\n",
    "times = N//K\n",
    "newN = N - K*times\n",
    "ans = abs(newN-K)\n",
    "print(min(newN,ans))"
   ]
  },
  {
   "cell_type": "code",
   "execution_count": null,
   "metadata": {},
   "outputs": [],
   "source": [
    "#D\n",
    "from collections import deque\n",
    "K = int(input())\n",
    "\n",
    "q = deque([1,2,3,4,5,6,7,8,9])\n",
    "\n",
    "for _ in range(K):\n",
    "    x = q.popleft()\n",
    "    ichi_no_kurai = x%10\n",
    "    if ichi_no_kurai == 0:\n",
    "        q.append(10*x+ichi_no_kurai)\n",
    "        q.append(10*x+ichi_no_kurai+1)\n",
    "    elif x%10 == 9:\n",
    "        q.append(10*x+ichi_no_kurai-1)\n",
    "        q.append(10*x+ichi_no_kurai)\n",
    "    else:\n",
    "        q.append(10*x+ichi_no_kurai-1)\n",
    "        q.append(10*x+ichi_no_kurai)\n",
    "        q.append(10*x+ichi_no_kurai+1)\n",
    "print(x)"
   ]
  }
 ],
 "metadata": {
  "kernelspec": {
   "display_name": "Python 3",
   "language": "python",
   "name": "python3"
  },
  "language_info": {
   "codemirror_mode": {
    "name": "ipython",
    "version": 3
   },
   "file_extension": ".py",
   "mimetype": "text/x-python",
   "name": "python",
   "nbconvert_exporter": "python",
   "pygments_lexer": "ipython3",
   "version": "3.7.3"
  }
 },
 "nbformat": 4,
 "nbformat_minor": 2
}
