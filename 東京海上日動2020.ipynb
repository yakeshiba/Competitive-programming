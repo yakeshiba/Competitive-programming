{
 "cells": [
  {
   "cell_type": "code",
   "execution_count": null,
   "metadata": {},
   "outputs": [],
   "source": [
    "#A\n",
    "print(input()[0:3])"
   ]
  },
  {
   "cell_type": "code",
   "execution_count": null,
   "metadata": {},
   "outputs": [],
   "source": [
    "#B\n",
    "A,V = map(int,input().split())\n",
    "B,W = map(int,input().split())\n",
    "T = int(input())\n",
    "dist = V-W\n",
    "if A < B:\n",
    "    if A+V*T >= B+W*T:\n",
    "        print('YES')\n",
    "    else:\n",
    "        print('NO')\n",
    "else:\n",
    "    if A-V*T <= B - W*T:\n",
    "        print('YES')\n",
    "    else:\n",
    "        print('NO')"
   ]
  },
  {
   "cell_type": "code",
   "execution_count": 2,
   "metadata": {},
   "outputs": [
    {
     "name": "stdout",
     "output_type": "stream",
     "text": [
      "[2 4 6]\n"
     ]
    }
   ],
   "source": [
    "#C\n",
    "import itertools\n",
    "\n",
    "n, k = map(int,input().split())\n",
    "A = list(map(int,input().split()))\n",
    "\n",
    "for _ in range(k):\n",
    "    lamps = [0]*(n+10)\n",
    "    for i,a in enumerate(A):\n",
    "        lamps[max(0,i-a)] += 1\n",
    "        if i+a+1 < n:\n",
    "            lamps[i+a+1] -= 1\n",
    "    lamps = list(itertools.accumulate(lamps))\n",
    "    A = lamps[:n]\n",
    "    if min(A) == n:\n",
    "        break\n",
    "    \n",
    "print(*A)"
   ]
  }
 ],
 "metadata": {
  "kernelspec": {
   "display_name": "Python 3",
   "language": "python",
   "name": "python3"
  },
  "language_info": {
   "codemirror_mode": {
    "name": "ipython",
    "version": 3
   },
   "file_extension": ".py",
   "mimetype": "text/x-python",
   "name": "python",
   "nbconvert_exporter": "python",
   "pygments_lexer": "ipython3",
   "version": "3.7.8"
  }
 },
 "nbformat": 4,
 "nbformat_minor": 2
}
