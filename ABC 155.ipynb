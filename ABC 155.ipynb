{
 "cells": [
  {
   "cell_type": "code",
   "execution_count": 4,
   "metadata": {},
   "outputs": [
    {
     "name": "stdout",
     "output_type": "stream",
     "text": [
      "1 2 3\n",
      "No\n"
     ]
    }
   ],
   "source": [
    "A = list(map(int,input().split()))\n",
    "l = set(A)\n",
    "if len(l) == 2:\n",
    "    print(\"Yes\")\n",
    "else:\n",
    "    print(\"No\")"
   ]
  },
  {
   "cell_type": "code",
   "execution_count": 10,
   "metadata": {},
   "outputs": [
    {
     "name": "stdout",
     "output_type": "stream",
     "text": [
      "3\n",
      "28 27 24\n",
      "DENIED\n"
     ]
    }
   ],
   "source": [
    "N = int(input())\n",
    "A = list(map(int,input().split()))\n",
    "flag = False\n",
    "for i in range(N):\n",
    "    if A[i]%2 == 0:\n",
    "        if A[i]%3 == 0 or A[i]%5 == 0:\n",
    "            pass\n",
    "        else:\n",
    "            flag = True\n",
    "            print(\"DENIED\")\n",
    "            break\n",
    "if not flag:\n",
    "    print(\"APPROVED\")"
   ]
  },
  {
   "cell_type": "code",
   "execution_count": null,
   "metadata": {},
   "outputs": [],
   "source": [
    "import collections\n",
    "N = int(input())\n",
    "words = []\n",
    "for i in range(N):\n",
    "    words.append(input())\n",
    "\n",
    "cnt = collections.Counter(words)\n",
    "cnt_c = cnt.most_common()\n",
    "\n",
    "ans = []\n",
    "maximum = cnt_c[0][1]\n",
    "ans.append(cnt_c[0][0])\n",
    "for i in range(len(cnt_c)-1):\n",
    "    if len(cnt_c) == 1:\n",
    "        break\n",
    "    else:\n",
    "        if cnt_c[i+1][1] == maximum:\n",
    "            ans.append(cnt_c[i+1][0])\n",
    "        else:\n",
    "            break\n",
    "ans.sort()\n",
    "for s in ans:\n",
    "    print(s)"
   ]
  },
  {
   "cell_type": "code",
   "execution_count": null,
   "metadata": {},
   "outputs": [],
   "source": []
  }
 ],
 "metadata": {
  "kernelspec": {
   "display_name": "Python 3",
   "language": "python",
   "name": "python3"
  },
  "language_info": {
   "codemirror_mode": {
    "name": "ipython",
    "version": 3
   },
   "file_extension": ".py",
   "mimetype": "text/x-python",
   "name": "python",
   "nbconvert_exporter": "python",
   "pygments_lexer": "ipython3",
   "version": "3.7.3"
  }
 },
 "nbformat": 4,
 "nbformat_minor": 2
}
