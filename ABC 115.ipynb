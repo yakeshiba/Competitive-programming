{
 "cells": [
  {
   "cell_type": "code",
   "execution_count": null,
   "metadata": {},
   "outputs": [],
   "source": [
    "#D\n",
    "#0 #P\n",
    "#1 #BPPPB\n",
    "#2 #B+BPPPB+P+BPPPB+B = BBPPPBPBPPPBB\n",
    "#3 #B+BBPPPBPBPPPBB+P+BBPPPBPBPPPBB+B = BBBPPPBPBPPPBBPBBPPPBPBPPPBBB\n",
    "#4 #BBBBPPPBPBPPPBBPBBPPPBPBPPPBBBPBBBPPPBPBPPPBBPBBPPPBPBPPPBBBB\n",
    "N, X = map(int,input().split())\n",
    "layer = [0]*(N+1)\n",
    "p = [0]*(N+1)\n",
    "for i in range(1,N+1):\n",
    "    layer[i] = 2*layer[i-1]+3\n",
    "    p[i] = 2*p[i-1]+1\n",
    "\n",
    "def f(N, X): # X <= 0 や X > a_N を許容し解説本文から簡略化\n",
    "    if N == 0:\n",
    "        return 0 if X <= 0 else 1\n",
    "    elif X <= 1 + a[N-1]:\n",
    "        return f(N-1, X-1)\n",
    "    else:\n",
    "        return p[N-1] + 1 + f(N-1, X-2-a[N-1])"
   ]
  }
 ],
 "metadata": {
  "kernelspec": {
   "display_name": "Python 3",
   "language": "python",
   "name": "python3"
  },
  "language_info": {
   "codemirror_mode": {
    "name": "ipython",
    "version": 3
   },
   "file_extension": ".py",
   "mimetype": "text/x-python",
   "name": "python",
   "nbconvert_exporter": "python",
   "pygments_lexer": "ipython3",
   "version": "3.7.3"
  }
 },
 "nbformat": 4,
 "nbformat_minor": 2
}
