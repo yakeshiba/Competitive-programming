{
 "cells": [
  {
   "cell_type": "code",
   "execution_count": null,
   "metadata": {},
   "outputs": [],
   "source": [
    "#C\n",
    "n = int(input())\n",
    "A = [0]*10**7\n",
    "\n",
    "for x in range(1,100):\n",
    "    for y in range(1,100):\n",
    "        for z in range(1,100):\n",
    "            A[x**2+y**2+z**2+x*y+y*z+z*x] += 1\n",
    "                \n",
    "print(*A[1:n+1],sep='\\n')"
   ]
  },
  {
   "cell_type": "code",
   "execution_count": null,
   "metadata": {},
   "outputs": [],
   "source": [
    "#D\n",
    "n = int(input())\n",
    "X = input()\n",
    "\n",
    "cnt = [0]*(200001)\n",
    "for i in range(1,200001):\n",
    "    pc = bin(i).count('1')\n",
    "    cnt[i] = cnt[i%pc] + 1\n",
    "    \n",
    "plus = X.count(\"1\")+1\n",
    "minus = X.count(\"1\")-1\n",
    "\n",
    "defp = int(X, 2)%plus\n",
    "if minus:\n",
    "    defm = int(X, 2)%minus\n",
    "else:\n",
    "    defm = None\n",
    "\n",
    "pl = 1\n",
    "mi = 1\n",
    "ans = []\n",
    "for i, x in enumerate(X[::-1]):\n",
    "    if x == \"0\":\n",
    "        ans.append(cnt[(defp+pl)%plus]+1)\n",
    "    else:\n",
    "        if minus:\n",
    "            ans.append(cnt[(defm-mi)%minus]+1)\n",
    "        else:\n",
    "            ans.append(0)\n",
    "    pl = 2*pl%plus\n",
    "    if minus:\n",
    "        mi = 2*mi%minus\n",
    "\n",
    "print(*ans[::-1], sep=\"\\n\")"
   ]
  }
 ],
 "metadata": {
  "kernelspec": {
   "display_name": "Python 3",
   "language": "python",
   "name": "python3"
  },
  "language_info": {
   "codemirror_mode": {
    "name": "ipython",
    "version": 3
   },
   "file_extension": ".py",
   "mimetype": "text/x-python",
   "name": "python",
   "nbconvert_exporter": "python",
   "pygments_lexer": "ipython3",
   "version": "3.7.3"
  }
 },
 "nbformat": 4,
 "nbformat_minor": 2
}
