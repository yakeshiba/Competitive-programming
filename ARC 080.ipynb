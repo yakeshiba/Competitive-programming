{
 "cells": [
  {
   "cell_type": "code",
   "execution_count": null,
   "metadata": {},
   "outputs": [],
   "source": [
    "#D\n",
    "h, w = map(int,input().split())\n",
    "n = int(input())\n",
    "a = list(map(int,input().split()))\n",
    "\n",
    "color = []\n",
    "for i in range(n):\n",
    "    color += [i+1]*a[i]\n",
    "    \n",
    "#print(color)\n",
    "\n",
    "ans = [[0]*w for _ in range(h)]\n",
    "\n",
    "now = 0\n",
    "for row in range(h):\n",
    "    for col in range(w):\n",
    "        if row%2 == 0:\n",
    "            ans[row][col] = color[now]\n",
    "        else:\n",
    "            ans[row][-(col+1)] = color[now]\n",
    "        now += 1\n",
    "        \n",
    "for r in ans:\n",
    "    print(*r)"
   ]
  }
 ],
 "metadata": {
  "kernelspec": {
   "display_name": "Python 3",
   "language": "python",
   "name": "python3"
  },
  "language_info": {
   "codemirror_mode": {
    "name": "ipython",
    "version": 3
   },
   "file_extension": ".py",
   "mimetype": "text/x-python",
   "name": "python",
   "nbconvert_exporter": "python",
   "pygments_lexer": "ipython3",
   "version": "3.7.3"
  }
 },
 "nbformat": 4,
 "nbformat_minor": 2
}
