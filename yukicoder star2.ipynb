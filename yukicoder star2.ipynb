{
 "cells": [
  {
   "cell_type": "code",
   "execution_count": 6,
   "metadata": {},
   "outputs": [
    {
     "name": "stdout",
     "output_type": "stream",
     "text": [
      "346346\n",
      "25 575 2525\n",
      "14563\n"
     ]
    }
   ],
   "source": [
    "#316 FizzBuzz ３つの定数のうち，どれかの倍数の個数　最小公倍数\n",
    "import fractions\n",
    "def lcm(a,b):\n",
    "    l = a * b // fractions.gcd(a, b)\n",
    "    return l\n",
    "N = int(input())\n",
    "a,b,c = map(int,input().split())\n",
    "print(N//a+N//b+N//c-N//lcm(a,b)-N//lcm(a,c)-N//lcm(b,c)+N//lcm(lcm(a,b),c))"
   ]
  },
  {
   "cell_type": "code",
   "execution_count": 8,
   "metadata": {},
   "outputs": [
    {
     "name": "stdout",
     "output_type": "stream",
     "text": [
      "2 4 1000\n",
      "1\n"
     ]
    }
   ],
   "source": [
    "#338\n"
   ]
  }
 ],
 "metadata": {
  "kernelspec": {
   "display_name": "Python 3",
   "language": "python",
   "name": "python3"
  },
  "language_info": {
   "codemirror_mode": {
    "name": "ipython",
    "version": 3
   },
   "file_extension": ".py",
   "mimetype": "text/x-python",
   "name": "python",
   "nbconvert_exporter": "python",
   "pygments_lexer": "ipython3",
   "version": "3.7.3"
  }
 },
 "nbformat": 4,
 "nbformat_minor": 2
}
