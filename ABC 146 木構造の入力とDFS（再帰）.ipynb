{
 "cells": [
  {
   "cell_type": "code",
   "execution_count": 1,
   "metadata": {},
   "outputs": [
    {
     "name": "stdout",
     "output_type": "stream",
     "text": [
      "SAT\n",
      "1\n"
     ]
    }
   ],
   "source": [
    "#A\n",
    "S = input()\n",
    "week = [\"SUN\",\"MON\",\"TUE\",\"WED\",\"THU\",\"FRI\",\"SAT\"]\n",
    "index = week.index(S)\n",
    "print(7-index)"
   ]
  },
  {
   "cell_type": "code",
   "execution_count": 7,
   "metadata": {},
   "outputs": [
    {
     "name": "stdout",
     "output_type": "stream",
     "text": [
      "13\n",
      "ABCDEFGHIJKLMNOPQRSTUVWXYZ\n",
      "NOPQRSTUVWXYZABCDEFGHIJKLM\n"
     ]
    }
   ],
   "source": [
    "#B\n",
    "alphabet = [chr(i) for i in range(65, 65+26)]\n",
    "N = int(input())\n",
    "S = input()\n",
    "ans = str()\n",
    "for s in S:\n",
    "    index = alphabet.index(s)\n",
    "    if index+N >= 26:\n",
    "        index = (index+N)-(26+N)\n",
    "    ans += alphabet[index+N]\n",
    "print(ans)"
   ]
  },
  {
   "cell_type": "code",
   "execution_count": null,
   "metadata": {},
   "outputs": [],
   "source": [
    "#C\n",
    "A, B, money = map(int,input().split())\n",
    "\n",
    "def afford(N):\n",
    "    p = A*N+B*len(str(N))\n",
    "    if p <= money:\n",
    "        return 1\n",
    "    else:\n",
    "        return 0\n",
    "\n",
    "left = 0\n",
    "right = 10**9\n",
    "ans = 0\n",
    "\n",
    "while left <= right:\n",
    "    middle = left+(right-left)//2\n",
    "    if afford(middle):\n",
    "        ans = middle\n",
    "        left = middle+1\n",
    "    else:\n",
    "        right = middle-1\n",
    "print(ans)"
   ]
  },
  {
   "cell_type": "markdown",
   "metadata": {},
   "source": [
    "# 木構造の入力 繋がってるところ"
   ]
  },
  {
   "cell_type": "code",
   "execution_count": 4,
   "metadata": {},
   "outputs": [
    {
     "name": "stdout",
     "output_type": "stream",
     "text": [
      "3\n",
      "1 2\n",
      "2 3\n",
      "2\n",
      "1\n",
      "2\n"
     ]
    }
   ],
   "source": [
    "#D\n",
    "import sys\n",
    "input = sys.stdin.readline\n",
    "sys.setrecursionlimit(10**9)#再帰回数の上限\n",
    "\n",
    "N = int(input())\n",
    "E = [[] for _ in range(N)]\n",
    "for i in range(N-1):\n",
    "    a,b = map(int,input().split())\n",
    "    a,b = a-1,b-1\n",
    "    E[a].append([b,i])\n",
    "\n",
    "ans = [None]*(N-1)\n",
    "\n",
    "def paint(now,color):\n",
    "    No = 1\n",
    "    for (to, en) in E[now]:\n",
    "        if No == color:\n",
    "            No += 1\n",
    "        ans[en] = No\n",
    "        paint(to,No)\n",
    "        No += 1\n",
    "\n",
    "paint(0,0)\n",
    "print(max(ans))\n",
    "print(*ans, sep=\"\\n\")"
   ]
  },
  {
   "cell_type": "code",
   "execution_count": 9,
   "metadata": {},
   "outputs": [
    {
     "name": "stdout",
     "output_type": "stream",
     "text": [
      "2\n",
      "1 2\n",
      "1\n",
      "1\n"
     ]
    }
   ],
   "source": [
    "import sys\n",
    "input = sys.stdin.readline\n",
    "sys.setrecursionlimit(10**9)\n",
    "\n",
    "N = int(input())\n",
    "E = [[] for _ in range(N)]\n",
    "for i in range(N-1):\n",
    "    a,b = map(int,input().split())\n",
    "    a,b = a-1,b-1\n",
    "    E[a].append([b,i])\n",
    "\n",
    "ans = [None]*(N-1)\n",
    "\n",
    "def paint(now,color):\n",
    "    No = 1\n",
    "    for (to, en) in E[now]:\n",
    "        if No == color:\n",
    "            No += 1\n",
    "        ans[en] = No\n",
    "        paint(to,No)\n",
    "        No += 1\n",
    "\n",
    "paint(0,0)\n",
    "print(max(ans))\n",
    "print(*ans, sep=\"\\n\")"
   ]
  },
  {
   "cell_type": "code",
   "execution_count": 8,
   "metadata": {},
   "outputs": [
    {
     "ename": "TypeError",
     "evalue": "'>' not supported between instances of 'NoneType' and 'int'",
     "output_type": "error",
     "traceback": [
      "\u001b[1;31m---------------------------------------------------------------------------\u001b[0m",
      "\u001b[1;31mTypeError\u001b[0m                                 Traceback (most recent call last)",
      "\u001b[1;32m<ipython-input-8-a20a4884ddd9>\u001b[0m in \u001b[0;36m<module>\u001b[1;34m\u001b[0m\n\u001b[0;32m      1\u001b[0m \u001b[0ms\u001b[0m \u001b[1;33m=\u001b[0m \u001b[1;33m[\u001b[0m\u001b[1;36m1\u001b[0m\u001b[1;33m,\u001b[0m\u001b[1;36m2\u001b[0m\u001b[1;33m,\u001b[0m\u001b[1;32mNone\u001b[0m\u001b[1;33m]\u001b[0m\u001b[1;33m\u001b[0m\u001b[1;33m\u001b[0m\u001b[0m\n\u001b[1;32m----> 2\u001b[1;33m \u001b[0mprint\u001b[0m\u001b[1;33m(\u001b[0m\u001b[0mmax\u001b[0m\u001b[1;33m(\u001b[0m\u001b[0ms\u001b[0m\u001b[1;33m)\u001b[0m\u001b[1;33m)\u001b[0m\u001b[1;33m\u001b[0m\u001b[1;33m\u001b[0m\u001b[0m\n\u001b[0m",
      "\u001b[1;31mTypeError\u001b[0m: '>' not supported between instances of 'NoneType' and 'int'"
     ]
    }
   ],
   "source": [
    "s = [1,2,None]\n",
    "print(max(s))"
   ]
  }
 ],
 "metadata": {
  "kernelspec": {
   "display_name": "Python 3",
   "language": "python",
   "name": "python3"
  },
  "language_info": {
   "codemirror_mode": {
    "name": "ipython",
    "version": 3
   },
   "file_extension": ".py",
   "mimetype": "text/x-python",
   "name": "python",
   "nbconvert_exporter": "python",
   "pygments_lexer": "ipython3",
   "version": "3.7.8"
  }
 },
 "nbformat": 4,
 "nbformat_minor": 2
}
