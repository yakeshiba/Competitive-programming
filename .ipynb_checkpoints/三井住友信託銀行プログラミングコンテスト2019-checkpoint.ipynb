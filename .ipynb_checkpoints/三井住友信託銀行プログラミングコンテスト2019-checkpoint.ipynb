{
 "cells": [
  {
   "cell_type": "code",
   "execution_count": null,
   "metadata": {},
   "outputs": [],
   "source": [
    "#A\n",
    "M1,D1 = map(int,input().split())\n",
    "M2,D2 = map(int,input().split())\n",
    "if M1 != M2:\n",
    "    print(1)\n",
    "else:\n",
    "    print(0)"
   ]
  },
  {
   "cell_type": "code",
   "execution_count": 28,
   "metadata": {},
   "outputs": [
    {
     "name": "stdout",
     "output_type": "stream",
     "text": [
      "432\n",
      "400\n"
     ]
    }
   ],
   "source": [
    "#B\n",
    "N = int(input())\n",
    "should_pay = N/1.08\n",
    "if int(int(should_pay)*1.08) != N and int((int(should_pay)+1)*1.08) != N:\n",
    "    print(\":(\")\n",
    "else:\n",
    "    if int(int(should_pay)*1.08) == N:\n",
    "        print(int(should_pay))\n",
    "    else:\n",
    "        print(int(should_pay)+1)"
   ]
  },
  {
   "cell_type": "code",
   "execution_count": 92,
   "metadata": {},
   "outputs": [
    {
     "name": "stdout",
     "output_type": "stream",
     "text": [
      "210\n",
      "1\n"
     ]
    }
   ],
   "source": [
    "# C\n",
    "X = int(input())\n",
    "if X <= 99:\n",
    "    print(\"0\")\n",
    "else:\n",
    "    dp = [0]*(X+1)\n",
    "    dp[0] = 1\n",
    "    for i in range(100,X+1):\n",
    "        for j in range(6):\n",
    "            if dp[i-(100+j)] == 1:\n",
    "                dp[i] = 1\n",
    "                break\n",
    "    ok = False\n",
    "    for i in range(6):\n",
    "        if dp[X-(100+i)] == 1:\n",
    "            print(1)\n",
    "            ok = True\n",
    "            break\n",
    "    if not ok:\n",
    "        print(0)"
   ]
  },
  {
   "cell_type": "markdown",
   "metadata": {},
   "source": [
    "# 配列Aの中にsは存在するか，\n",
    "# 存在するならindexは何か\n",
    "### if s in A ならA.index(s)あるいは find が爆速\n",
    "### １個ずつ if A[i] == s でindex=i とかやると遅い"
   ]
  },
  {
   "cell_type": "code",
   "execution_count": null,
   "metadata": {},
   "outputs": [],
   "source": [
    "#D TLE\n",
    "N = int(input())\n",
    "S = input()\n",
    "ans = 0\n",
    "for i in range(1000):\n",
    "    digit1 = False\n",
    "    digit2 = False\n",
    "    digit3 = False\n",
    "    if i <= 9 :\n",
    "        check = \"00\"+str(i)\n",
    "    elif i <= 99:\n",
    "        check = \"0\"+str(i)\n",
    "    else:\n",
    "        check = str(i)\n",
    "    for j in range(N):\n",
    "        if not digit1:\n",
    "            if check[0] == S[j]:\n",
    "                digit1 = True:\n",
    "        else:\n",
    "            if not digit2:\n",
    "                if check[1] == S[j]:\n",
    "                    digit2 = True:\n",
    "            else:\n",
    "                if not digit3:\n",
    "                    if check[2] = S[j]:\n",
    "                        digit3 = True\n",
    "                        break\n",
    "    if digit3 = True:\n",
    "        ans += 1\n",
    "print(ans)"
   ]
  },
  {
   "cell_type": "code",
   "execution_count": 33,
   "metadata": {},
   "outputs": [
    {
     "name": "stdout",
     "output_type": "stream",
     "text": [
      "1\n"
     ]
    }
   ],
   "source": [
    "#D AC\n",
    "N = int(input())\n",
    "S = input()\n",
    "ans = 0\n",
    "for i in range(1000):\n",
    "    ind = 0\n",
    "    check = str(i).zfill(3)#str(i)が3桁ないとき，3桁になるように左に0を付け足す\n",
    "    for num in check:\n",
    "        if num in S[ind:]:\n",
    "            ind += S[ind:].index(num) + 1\n",
    "        else:\n",
    "            break\n",
    "    else:\n",
    "        ans += 1\n",
    "print(ans)"
   ]
  },
  {
   "cell_type": "code",
   "execution_count": 103,
   "metadata": {},
   "outputs": [
    {
     "name": "stdout",
     "output_type": "stream",
     "text": [
      "4\n"
     ]
    }
   ],
   "source": [
    "#E\n",
    "mod = 10**9 + 7\n",
    "\n",
    "N = int(input())\n",
    "A = list(map(int,input().split()))\n",
    "\n",
    "ans = 1\n",
    "nums = [3]#その数字のところに入り得る色がいくつあるか\n",
    "\n",
    "for i in range(N):\n",
    "        now = A[i]\n",
    "        try:\n",
    "            ans *= nums[now]\n",
    "        except IndexError:#入力が「0から始まらないなど，ありえない数列」の場合もある\n",
    "            print(0)\n",
    "            break\n",
    "        nums[now] -= 1\n",
    "        try:\n",
    "            nums[now+1] += 1\n",
    "        except IndexError:\n",
    "            nums.append(1)\n",
    "else:\n",
    "    print(ans%mod)"
   ]
  },
  {
   "cell_type": "code",
   "execution_count": 117,
   "metadata": {},
   "outputs": [
    {
     "name": "stdout",
     "output_type": "stream",
     "text": [
      "6\n",
      "0 1 2 3 4 5\n",
      "3\n"
     ]
    }
   ],
   "source": [
    "#F\n"
   ]
  }
 ],
 "metadata": {
  "kernelspec": {
   "display_name": "Python 3",
   "language": "python",
   "name": "python3"
  },
  "language_info": {
   "codemirror_mode": {
    "name": "ipython",
    "version": 3
   },
   "file_extension": ".py",
   "mimetype": "text/x-python",
   "name": "python",
   "nbconvert_exporter": "python",
   "pygments_lexer": "ipython3",
   "version": "3.7.3"
  }
 },
 "nbformat": 4,
 "nbformat_minor": 2
}
