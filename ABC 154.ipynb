{
 "cells": [
  {
   "cell_type": "code",
   "execution_count": 1,
   "metadata": {},
   "outputs": [
    {
     "name": "stdout",
     "output_type": "stream",
     "text": [
      "red blue\n",
      "3 4\n",
      "red\n",
      "2 4\n"
     ]
    }
   ],
   "source": [
    "#A\n",
    "S, T = map(str,input().split())\n",
    "A,B = map(int,input().split())\n",
    "U = input()\n",
    "if U == S:\n",
    "    print(A-1,B)\n",
    "else:\n",
    "    print(A,B-1)"
   ]
  },
  {
   "cell_type": "code",
   "execution_count": 5,
   "metadata": {},
   "outputs": [
    {
     "name": "stdout",
     "output_type": "stream",
     "text": [
      "sasasa\n",
      "xxxxxx\n"
     ]
    }
   ],
   "source": [
    "#B\n",
    "S = input()\n",
    "ans = []\n",
    "for s in S:\n",
    "    ans.append(\"x\")\n",
    "print(\"\".join(ans))"
   ]
  },
  {
   "cell_type": "code",
   "execution_count": null,
   "metadata": {},
   "outputs": [],
   "source": [
    "#C\n",
    "N = int(input())\n",
    "A = list(map(int,input().split()))\n",
    "flag = True\n",
    "a = set(A)\n",
    "if len(a) != N:\n",
    "    print(\"NO\")\n",
    "else:\n",
    "    print(\"YES\")"
   ]
  },
  {
   "cell_type": "code",
   "execution_count": null,
   "metadata": {},
   "outputs": [],
   "source": [
    "#D\n",
    "N, K = map(int,input().split())\n",
    "p = list(map(int,input().split()))\n",
    "for i in range(len(p)):\n",
    "    p[i] = ((1/2)*p[i]*(p[i]-1))/p[i]\n",
    "addnum = sum(p[0:K+1])\n",
    "p_removed = p[K+1:]\n",
    "p_removed = [0] + p_removed\n",
    "for i in range(len(p_removed)-1):\n",
    "    p_removed[i+1] += p_removed[i]\n",
    "for i in range(len(p_removed)):\n",
    "    p_removed[i] += addnum\n",
    "print(max(p_removed))"
   ]
  },
  {
   "cell_type": "code",
   "execution_count": null,
   "metadata": {},
   "outputs": [],
   "source": [
    "#E\n",
    "N = int(input())\n",
    "K = int(input())\n",
    "len_N = len(str(N))\n",
    "dp = [[0]*K for _ in range(len_N)]\n",
    "\n",
    "if N >= 10:\n",
    "    dp[0][0] = 9\n",
    "else:\n",
    "    ans = N\n",
    "    \n",
    "for i in range(1,len_N):#K=1の時\n",
    "    dp[i][0] = 9\n",
    "    if i == (len_N-1):\n",
    "        dp[i][0] = int(str(N[0]))\n",
    "\n",
    "if K >= 2:\n",
    "    dp[0][1] = 0\n",
    "    for i in range(1,len_S):\n",
    "        if i != len_S:\n",
    "            dp[i][1] = 9*dp[i-1][0] + dp[i-1][1]\n",
    "        else:\n",
    "            "
   ]
  },
  {
   "cell_type": "code",
   "execution_count": 8,
   "metadata": {},
   "outputs": [
    {
     "name": "stdout",
     "output_type": "stream",
     "text": [
      "1 1 3 4\n",
      "[[0, 0], [0, 0], [0, 0]]\n"
     ]
    }
   ],
   "source": [
    "#F\n",
    "r1,c1,r2,c2 = map(int,input().split())\n",
    "dp = [[0]*(r2-1) for _ in range(c2-1)]\n",
    "dp[0][0] = 2\n",
    "dp[0][1] = 3\n",
    "dp[1][0] = 3\n",
    "dp[1][1] = 6\n"
   ]
  }
 ],
 "metadata": {
  "kernelspec": {
   "display_name": "Python 3",
   "language": "python",
   "name": "python3"
  },
  "language_info": {
   "codemirror_mode": {
    "name": "ipython",
    "version": 3
   },
   "file_extension": ".py",
   "mimetype": "text/x-python",
   "name": "python",
   "nbconvert_exporter": "python",
   "pygments_lexer": "ipython3",
   "version": "3.7.3"
  }
 },
 "nbformat": 4,
 "nbformat_minor": 2
}
