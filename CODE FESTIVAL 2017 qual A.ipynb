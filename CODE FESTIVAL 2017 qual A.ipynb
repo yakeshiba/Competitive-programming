{
 "cells": [
  {
   "cell_type": "code",
   "execution_count": null,
   "metadata": {},
   "outputs": [],
   "source": [
    "#B\n",
    "n, m, k = map(int,input().split())\n",
    "\n",
    "for i in range(min(n,m)+1):\n",
    "    for j in range(max(n,m)+1):\n",
    "        tmp = max(n,m)*i + min(n,m)*j - 2*i*j\n",
    "        if tmp == k:\n",
    "            print('Yes')\n",
    "            exit()\n",
    "                \n",
    "print('No')"
   ]
  }
 ],
 "metadata": {
  "kernelspec": {
   "display_name": "Python 3",
   "language": "python",
   "name": "python3"
  },
  "language_info": {
   "codemirror_mode": {
    "name": "ipython",
    "version": 3
   },
   "file_extension": ".py",
   "mimetype": "text/x-python",
   "name": "python",
   "nbconvert_exporter": "python",
   "pygments_lexer": "ipython3",
   "version": "3.7.8"
  }
 },
 "nbformat": 4,
 "nbformat_minor": 4
}
