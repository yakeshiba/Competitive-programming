{
 "cells": [
  {
   "cell_type": "code",
   "execution_count": null,
   "metadata": {},
   "outputs": [],
   "source": [
    "### A031\n",
    "p1, p2, p3, k = map(int,input().split())\n",
    "num_list = []\n",
    "for i in range(0,100):\n",
    "    for j in range(0,100):\n",
    "        for l in range(0,100):\n",
    "            num_list.append((p1**i)*(p2**j)*(p3**(l)))\n",
    "num_list.sort()\n",
    "print(num_list[k-1])"
   ]
  }
 ],
 "metadata": {
  "kernelspec": {
   "display_name": "Python 3",
   "language": "python",
   "name": "python3"
  },
  "language_info": {
   "codemirror_mode": {
    "name": "ipython",
    "version": 3
   },
   "file_extension": ".py",
   "mimetype": "text/x-python",
   "name": "python",
   "nbconvert_exporter": "python",
   "pygments_lexer": "ipython3",
   "version": "3.7.3"
  }
 },
 "nbformat": 4,
 "nbformat_minor": 2
}
