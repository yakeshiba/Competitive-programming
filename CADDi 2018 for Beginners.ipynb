{
 "cells": [
  {
   "cell_type": "code",
   "execution_count": 3,
   "metadata": {},
   "outputs": [
    {
     "name": "stdout",
     "output_type": "stream",
     "text": [
      "3121\n",
      "1\n"
     ]
    }
   ],
   "source": [
    "#A\n",
    "N = input()\n",
    "print(N.count(\"2\"))"
   ]
  },
  {
   "cell_type": "code",
   "execution_count": 4,
   "metadata": {},
   "outputs": [
    {
     "name": "stdout",
     "output_type": "stream",
     "text": [
      "3 5 2\n",
      "10 3\n",
      "5 2\n",
      "2 5\n",
      "2\n"
     ]
    }
   ],
   "source": [
    "#B\n",
    "N,H,W = map(int,input().split())\n",
    "ans = 0\n",
    "for i in range(N):\n",
    "    a,b = map(int,input().split())\n",
    "    if a >= H and b >= W:\n",
    "        ans += 1\n",
    "print(ans)"
   ]
  },
  {
   "cell_type": "code",
   "execution_count": 13,
   "metadata": {},
   "outputs": [
    {
     "name": "stdout",
     "output_type": "stream",
     "text": [
      "4 972439611840\n",
      "206\n"
     ]
    }
   ],
   "source": [
    "#C\n",
    "N, P = map(int,input().split())\n",
    "factor = {}\n",
    "for i in range(2,int(P**(1/2))+1):\n",
    "    times = 0\n",
    "    while P%i == 0:\n",
    "        P = int(P/i)\n",
    "        times += 1\n",
    "    factor[i] = times\n",
    "if P != 1:\n",
    "    factor[P] = 1\n",
    "#print(factor)\n",
    "ans = 1\n",
    "for keys in factor.keys():\n",
    "    ans = ans*(keys)**(factor[keys]//N)\n",
    "print(ans)"
   ]
  },
  {
   "cell_type": "code",
   "execution_count": 11,
   "metadata": {},
   "outputs": [
    {
     "data": {
      "text/plain": [
       "37.0"
      ]
     },
     "execution_count": 11,
     "metadata": {},
     "output_type": "execute_result"
    }
   ],
   "source": [
    "#D\n",
    "N = int(input())\n",
    "a = [None]*N\n",
    "flag = False\n",
    "for i in range(N):\n",
    "    a[i] = int(input())\n",
    "    if a[i]%2:\n",
    "        flag = True\n",
    "if flag:\n",
    "    print(\"first\")\n",
    "else:\n",
    "    print(\"second\")"
   ]
  }
 ],
 "metadata": {
  "kernelspec": {
   "display_name": "Python 3",
   "language": "python",
   "name": "python3"
  },
  "language_info": {
   "codemirror_mode": {
    "name": "ipython",
    "version": 3
   },
   "file_extension": ".py",
   "mimetype": "text/x-python",
   "name": "python",
   "nbconvert_exporter": "python",
   "pygments_lexer": "ipython3",
   "version": "3.7.3"
  }
 },
 "nbformat": 4,
 "nbformat_minor": 2
}
