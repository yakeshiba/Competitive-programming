{
 "cells": [
  {
   "cell_type": "code",
   "execution_count": null,
   "metadata": {},
   "outputs": [],
   "source": [
    "#A\n",
    "n = int(input())\n",
    "if n%2 == 0:\n",
    "    if n%4 == 0:\n",
    "        print(0)\n",
    "    else:\n",
    "        print(1)\n",
    "else:\n",
    "    if n%4 == 1:\n",
    "        print(1)\n",
    "    else:\n",
    "        print(0)"
   ]
  },
  {
   "cell_type": "code",
   "execution_count": null,
   "metadata": {},
   "outputs": [],
   "source": [
    "#B\n",
    "from collections import Counter\n",
    "\n",
    "n, k = map(int,input().split())\n",
    "A = list(map(int,input().split()))\n",
    "\n",
    "cnt = Counter(A)\n",
    "\n",
    "if max(cnt.values()) > k or n < k:\n",
    "    print('NO')\n",
    "    exit()\n",
    "\n",
    "P = []\n",
    "for i,a in enumerate(A):\n",
    "    P.append([a, i])\n",
    "P.sort()\n",
    "\n",
    "ans = [0]*n\n",
    "for i in range(n):\n",
    "    a, ind = P[i]\n",
    "    ans[ind] = i%k+1\n",
    "\n",
    "print('YES')\n",
    "print(*ans)"
   ]
  }
 ],
 "metadata": {
  "kernelspec": {
   "display_name": "Python 3",
   "language": "python",
   "name": "python3"
  },
  "language_info": {
   "codemirror_mode": {
    "name": "ipython",
    "version": 3
   },
   "file_extension": ".py",
   "mimetype": "text/x-python",
   "name": "python",
   "nbconvert_exporter": "python",
   "pygments_lexer": "ipython3",
   "version": "3.7.8"
  }
 },
 "nbformat": 4,
 "nbformat_minor": 4
}
