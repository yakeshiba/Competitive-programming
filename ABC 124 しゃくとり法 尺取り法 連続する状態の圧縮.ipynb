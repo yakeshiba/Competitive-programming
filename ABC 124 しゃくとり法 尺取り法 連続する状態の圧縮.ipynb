{
 "cells": [
  {
   "cell_type": "code",
   "execution_count": 1,
   "metadata": {},
   "outputs": [
    {
     "name": "stdout",
     "output_type": "stream",
     "text": [
      "14 2\n",
      "11101010110011\n",
      "[0]\n"
     ]
    }
   ],
   "source": [
    "#D\n",
    "#import sys\n",
    "#input=sys.stdin.readline\n",
    "def main():\n",
    "    N,K = map(int,input().split())\n",
    "    S = list(map(int,input()))\n",
    "    #print(S)\n",
    "    \n",
    "    #隣接する人同士のグルーピング\n",
    "    groups = []\n",
    "    tmp = 0\n",
    "    zeros = 0\n",
    "    for n in S:\n",
    "        if n == 1:\n",
    "            if zeros != 0:#直前まで０だったとき\n",
    "                groups.append(zeros)\n",
    "                zeros = 0#リセット\n",
    "            tmp += 1\n",
    "        elif n == 0:\n",
    "            if tmp != 0:#直前まで１だったとき\n",
    "                groups.append(tmp)\n",
    "                tmp = 0#リセット\n",
    "            zeros -= 1\n",
    "    \n",
    "    #終端の処理\n",
    "    if tmp != 0:\n",
    "        groups.append(tmp)\n",
    "    if zeros != 0:\n",
    "        groups.append(zeros)\n",
    "        \n",
    "    #print(groups)\n",
    "    \n",
    "    left,right = 0,0\n",
    "    ans,tmp = 0,0\n",
    "    minus = 0\n",
    "    while right < len(groups):#右端が範囲内の間\n",
    "        if minus <= K:#右に広げる\n",
    "            if groups[right] < 0:\n",
    "                minus += 1\n",
    "            if minus > K:#そこでマイナスがオーバーしたら\n",
    "                ans = max(tmp,ans)\n",
    "            tmp += abs(groups[right])\n",
    "            right += 1\n",
    "        else:#左から縮める\n",
    "            if groups[left] < 0:\n",
    "                minus -= 1\n",
    "            tmp -= abs(groups[left])\n",
    "            left += 1\n",
    "    #最後がマイナスオーバーのまま範囲外に出てしまったとき\n",
    "    if minus > K:\n",
    "        while minus > K:\n",
    "            if groups[left] < 0:\n",
    "                minus -= 1\n",
    "            tmp -= abs(groups[left])\n",
    "            left += 1\n",
    "    print(max(ans,tmp))\n",
    "if __name__ == '__main__':\n",
    "    main()"
   ]
  }
 ],
 "metadata": {
  "kernelspec": {
   "display_name": "Python 3",
   "language": "python",
   "name": "python3"
  },
  "language_info": {
   "codemirror_mode": {
    "name": "ipython",
    "version": 3
   },
   "file_extension": ".py",
   "mimetype": "text/x-python",
   "name": "python",
   "nbconvert_exporter": "python",
   "pygments_lexer": "ipython3",
   "version": "3.7.8"
  }
 },
 "nbformat": 4,
 "nbformat_minor": 2
}
