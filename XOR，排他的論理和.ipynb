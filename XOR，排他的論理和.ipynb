{
 "cells": [
  {
   "cell_type": "code",
   "execution_count": null,
   "metadata": {},
   "outputs": [],
   "source": [
    "# ABC121D XOR World\n",
    "def cum_xor(n):\n",
    "    if n%4 == 0:\n",
    "        return n\n",
    "    elif n%4 == 1:\n",
    "        return 1\n",
    "    elif n%4 == 2:\n",
    "        return n+1\n",
    "    else:\n",
    "        return 0\n",
    "\n",
    "a, b = map(int,input().split())\n",
    "print(cum_xor(a-1)^cum_xor(b))"
   ]
  },
  {
   "cell_type": "code",
   "execution_count": null,
   "metadata": {},
   "outputs": [],
   "source": [
    "# ABC171E Red Scarf\n",
    "n = int(input())\n",
    "A = list(map(int,input().split()))\n",
    "\n",
    "aa = A[0]\n",
    "for i in range(1,n):\n",
    "    aa ^= A[i]\n",
    "    \n",
    "ans = []\n",
    "for a in A:\n",
    "    ans.append(aa^a)\n",
    "    \n",
    "print(*ans)"
   ]
  }
 ],
 "metadata": {
  "kernelspec": {
   "display_name": "Python 3",
   "language": "python",
   "name": "python3"
  },
  "language_info": {
   "codemirror_mode": {
    "name": "ipython",
    "version": 3
   },
   "file_extension": ".py",
   "mimetype": "text/x-python",
   "name": "python",
   "nbconvert_exporter": "python",
   "pygments_lexer": "ipython3",
   "version": "3.7.8"
  }
 },
 "nbformat": 4,
 "nbformat_minor": 4
}
