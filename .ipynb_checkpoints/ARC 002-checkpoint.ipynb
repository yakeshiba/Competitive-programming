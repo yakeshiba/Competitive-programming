{
 "cells": [
  {
   "cell_type": "code",
   "execution_count": null,
   "metadata": {},
   "outputs": [],
   "source": [
    "#A\n",
    "Y = int(input())\n",
    "\n",
    "if Y%4 == 0:\n",
    "    ok = True\n",
    "    if Y%100 == 0:\n",
    "        ok = False\n",
    "        if Y%400 == 0:\n",
    "            ok = True\n",
    "    else:\n",
    "        pass\n",
    "else:\n",
    "    ok = False\n",
    "        \n",
    "if ok:\n",
    "    print('YES')\n",
    "else:\n",
    "    print('NO')"
   ]
  },
  {
   "cell_type": "code",
   "execution_count": null,
   "metadata": {},
   "outputs": [],
   "source": [
    "#C\n",
    "import itertools\n",
    "\n",
    "N = int(input())\n",
    "C = input()\n",
    "\n",
    "b = [\"A\",\"B\",\"X\",\"Y\"]\n",
    "\n",
    "b_pattern = [\"AA\",\"BB\",\"XX\",\"YY\"]\n",
    "for r in itertools.permutations(b, 2):\n",
    "    x,y = r\n",
    "    b_pattern.append(x+y)\n",
    "\n",
    "#全探索\n",
    "ans = N\n",
    "for r in itertools.combinations(b_pattern, 2):\n",
    "    L,R = r\n",
    "    tmp = 0\n",
    "    i = 0\n",
    "    while i+1 < N:\n",
    "        if C[i] == L[0]:\n",
    "            if C[i+1] == L[1]:\n",
    "                tmp += 1\n",
    "                i += 2\n",
    "                if i+1 >= N:\n",
    "                    break\n",
    "                continue\n",
    "        if C[i] == R[0]:\n",
    "            if C[i+1] == R[1]:\n",
    "                tmp += 1\n",
    "                i += 2\n",
    "                if i+1 >= N:\n",
    "                    break\n",
    "                continue\n",
    "        i += 1\n",
    "    res = N - 2*tmp\n",
    "    ans = min(ans,tmp+res)\n",
    "\n",
    "print(ans)"
   ]
  }
 ],
 "metadata": {
  "kernelspec": {
   "display_name": "Python 3",
   "language": "python",
   "name": "python3"
  },
  "language_info": {
   "codemirror_mode": {
    "name": "ipython",
    "version": 3
   },
   "file_extension": ".py",
   "mimetype": "text/x-python",
   "name": "python",
   "nbconvert_exporter": "python",
   "pygments_lexer": "ipython3",
   "version": "3.7.3"
  }
 },
 "nbformat": 4,
 "nbformat_minor": 2
}
