{
 "cells": [
  {
   "cell_type": "code",
   "execution_count": 2,
   "metadata": {},
   "outputs": [
    {
     "name": "stdout",
     "output_type": "stream",
     "text": [
      "7\n",
      "500 600\n",
      "OK\n"
     ]
    }
   ],
   "source": [
    "#A\n",
    "K = int(input())\n",
    "A,B = map(int,input().split())\n",
    "for i in range(A,B+1):\n",
    "    if i%K == 0:\n",
    "        print('OK')\n",
    "        break\n",
    "else:\n",
    "    print('NG')"
   ]
  },
  {
   "cell_type": "code",
   "execution_count": 6,
   "metadata": {},
   "outputs": [
    {
     "name": "stdout",
     "output_type": "stream",
     "text": [
      "1333333333\n",
      "1706\n"
     ]
    }
   ],
   "source": [
    "#B\n",
    "X = int(input())\n",
    "dep = 100\n",
    "cnt = 0\n",
    "while dep<X:\n",
    "    dep += dep*0.01//1\n",
    "    cnt += 1\n",
    "print(cnt)"
   ]
  },
  {
   "cell_type": "code",
   "execution_count": 8,
   "metadata": {},
   "outputs": [
    {
     "name": "stdout",
     "output_type": "stream",
     "text": [
      "2 3 4\n",
      "[1, 2, 3]\n"
     ]
    }
   ],
   "source": [
    "#C\n",
    "import itertools\n",
    "\n",
    "def point(abcd,lst):\n",
    "    p = 0\n",
    "    for i in range(Q):\n",
    "        a,b,c,d = abcd[i]\n",
    "        if lst[b-1] - lst[a-1] == c:\n",
    "            p += d\n",
    "    return p\n",
    "\n",
    "N,M,Q = map(int,input().split())\n",
    "check = [None]*Q\n",
    "for i in range(Q):\n",
    "    check[i] = list(map(int,input().split()))\n",
    "\n",
    "#print(check)\n",
    "#print(check[1])\n",
    "\n",
    "nums = list(range(1,M+1))\n",
    "ans = 0\n",
    "\n",
    "for comb in itertools.combinations_with_replacement(nums, N):\n",
    "    #print(sorted(comb))\n",
    "    ans = max(point(check,sorted(comb)),ans)\n",
    "print(ans)"
   ]
  },
  {
   "cell_type": "code",
   "execution_count": 3,
   "metadata": {},
   "outputs": [
    {
     "name": "stdout",
     "output_type": "stream",
     "text": [
      "5 7 4\n",
      "2\n"
     ]
    }
   ],
   "source": [
    "#D\n",
    "A,B,N = map(int,input().split())\n",
    "if N >= B:\n",
    "    print((A*(B-1))//B)\n",
    "else:\n",
    "    print((A*N)//B-A*(N//B))"
   ]
  }
 ],
 "metadata": {
  "kernelspec": {
   "display_name": "Python 3",
   "language": "python",
   "name": "python3"
  },
  "language_info": {
   "codemirror_mode": {
    "name": "ipython",
    "version": 3
   },
   "file_extension": ".py",
   "mimetype": "text/x-python",
   "name": "python",
   "nbconvert_exporter": "python",
   "pygments_lexer": "ipython3",
   "version": "3.7.3"
  }
 },
 "nbformat": 4,
 "nbformat_minor": 2
}
