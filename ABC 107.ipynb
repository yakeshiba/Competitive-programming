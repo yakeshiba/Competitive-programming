{
 "cells": [
  {
   "cell_type": "code",
   "execution_count": null,
   "metadata": {},
   "outputs": [],
   "source": [
    "#B\n",
    "import numpy as np\n",
    " \n",
    "H, W = map(int, input().split())\n",
    "maze = np.array([list(input()) for _ in range(H)]) == '#'\n",
    "\n",
    "tmp = []\n",
    "for row in range(H):\n",
    "    if True in maze[row]:\n",
    "        tmp.append(maze[row])\n",
    "    \n",
    "tmp = np.rot90(tmp)\n",
    "\n",
    "ans = []\n",
    "for row in range(len(tmp)):\n",
    "    if True in tmp[row]:\n",
    "        ans.append(tmp[row])\n",
    "\n",
    "for _ in range(3):\n",
    "    ans = np.rot90(ans)\n",
    "\n",
    "for row in ans:\n",
    "    t = []\n",
    "    for s in row:\n",
    "        if s == True:\n",
    "            t.append(\"#\")\n",
    "        else:\n",
    "            t.append(\".\")\n",
    "    print(''.join(t))"
   ]
  },
  {
   "cell_type": "code",
   "execution_count": 2,
   "metadata": {},
   "outputs": [
    {
     "name": "stdout",
     "output_type": "stream",
     "text": [
      "3 4\n",
      "-1 3 4\n",
      "[-1, 0, 3, 4]\n"
     ]
    }
   ],
   "source": [
    "#C\n",
    "N,K = map(int,input().split())\n",
    "x = list(map(int,input().split()))\n",
    "left = 0\n",
    "right = K-1\n",
    "\n",
    "ans = float('inf')\n",
    "while right < N:\n",
    "    tmp_l = abs(x[left])+abs(x[right]-x[left])\n",
    "    tmp_r = abs(x[right])+abs(x[right]-x[left])\n",
    "    left += 1\n",
    "    right += 1\n",
    "    #print(\"l\",tmp_l)\n",
    "    #print(\"r\",tmp_r)\n",
    "    ans = min(ans,tmp_l,tmp_r)\n",
    "print(ans)"
   ]
  },
  {
   "cell_type": "code",
   "execution_count": 12,
   "metadata": {},
   "outputs": [
    {
     "name": "stdout",
     "output_type": "stream",
     "text": [
      "[3, 4, 5, 6]\n"
     ]
    }
   ],
   "source": [
    "A = [1,2,3,4,5,6]\n",
    "print(A[2:7])"
   ]
  }
 ],
 "metadata": {
  "kernelspec": {
   "display_name": "Python 3",
   "language": "python",
   "name": "python3"
  },
  "language_info": {
   "codemirror_mode": {
    "name": "ipython",
    "version": 3
   },
   "file_extension": ".py",
   "mimetype": "text/x-python",
   "name": "python",
   "nbconvert_exporter": "python",
   "pygments_lexer": "ipython3",
   "version": "3.7.3"
  }
 },
 "nbformat": 4,
 "nbformat_minor": 2
}
