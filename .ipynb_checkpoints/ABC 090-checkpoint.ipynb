{
 "cells": [
  {
   "cell_type": "code",
   "execution_count": 1,
   "metadata": {},
   "outputs": [
    {
     "name": "stdout",
     "output_type": "stream",
     "text": [
      "asd\n",
      "fre\n",
      "hrf\n",
      "arf\n"
     ]
    }
   ],
   "source": [
    "#A\n",
    "a = []\n",
    "for i in range(3):\n",
    "    a.append(input()[i])\n",
    "print(\"\".join(a))"
   ]
  },
  {
   "cell_type": "code",
   "execution_count": 2,
   "metadata": {},
   "outputs": [
    {
     "name": "stdout",
     "output_type": "stream",
     "text": [
      "11009 11332\n",
      "4\n"
     ]
    }
   ],
   "source": [
    "#B\n",
    "A,B = map(int,input().split())\n",
    "ans = 0\n",
    "for i in range(A,B+1):\n",
    "    if str(i) == str(i)[::-1]:\n",
    "        ans += 1\n",
    "print(ans)"
   ]
  },
  {
   "cell_type": "code",
   "execution_count": 4,
   "metadata": {},
   "outputs": [
    {
     "name": "stdout",
     "output_type": "stream",
     "text": [
      "1 7\n",
      "5\n"
     ]
    }
   ],
   "source": [
    "#C\n",
    "N,M = map(int,input().split())\n",
    "if N==1 and M==1:\n",
    "    print(1)\n",
    "elif N==1 or M==1:\n",
    "    print(max(N,M)-2)\n",
    "else:\n",
    "    print(N*M-2*M-2*N+4)"
   ]
  },
  {
   "cell_type": "code",
   "execution_count": null,
   "metadata": {},
   "outputs": [],
   "source": [
    "#D\n",
    "n, k = map(int, input().split())\n",
    "cnt=0\n",
    "if k==0:\n",
    "    print(n*n)\n",
    "else:\n",
    "    for b in range(k+1,n+1):\n",
    "        a_=int(n/b)\n",
    "        cnt+=(b-k)*(a_)\n",
    "        cnt+=max(n%b-k+1, 0)\n",
    "    print(cnt)"
   ]
  },
  {
   "cell_type": "code",
   "execution_count": 7,
   "metadata": {},
   "outputs": [
    {
     "name": "stdout",
     "output_type": "stream",
     "text": [
      "[0, 1, 2, 3, 4, 5, 6, 7, 8, 9]\n"
     ]
    }
   ],
   "source": [
    "import numpy as np\n",
    "s = list(range(10))\n",
    "print(s)"
   ]
  }
 ],
 "metadata": {
  "kernelspec": {
   "display_name": "Python 3",
   "language": "python",
   "name": "python3"
  },
  "language_info": {
   "codemirror_mode": {
    "name": "ipython",
    "version": 3
   },
   "file_extension": ".py",
   "mimetype": "text/x-python",
   "name": "python",
   "nbconvert_exporter": "python",
   "pygments_lexer": "ipython3",
   "version": "3.7.3"
  }
 },
 "nbformat": 4,
 "nbformat_minor": 2
}
