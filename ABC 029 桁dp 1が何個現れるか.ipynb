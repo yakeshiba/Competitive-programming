{
 "cells": [
  {
   "cell_type": "code",
   "execution_count": null,
   "metadata": {},
   "outputs": [],
   "source": [
    "#A\n",
    "s = input()\n",
    "print(s+'s')"
   ]
  },
  {
   "cell_type": "code",
   "execution_count": null,
   "metadata": {},
   "outputs": [],
   "source": [
    "#B\n",
    "ans = 0\n",
    "for i in range(12):\n",
    "    s = input()\n",
    "    if 'r' in s:\n",
    "        ans += 1\n",
    "print(ans)"
   ]
  },
  {
   "cell_type": "code",
   "execution_count": null,
   "metadata": {},
   "outputs": [],
   "source": [
    "#C\n",
    "import sys\n",
    "sys.setrecursionlimit(10**9)\n",
    "\n",
    "n = int(input())\n",
    "\n",
    "app = [\"a\", \"b\", \"c\"]\n",
    "\n",
    "def dfs(i, head):\n",
    "    if i == 1:\n",
    "        return [head]\n",
    "    ret = []\n",
    "    pre = dfs(i-1, head)\n",
    "    for s in pre:\n",
    "        for i in range(3):\n",
    "            ret.append(s+app[i])\n",
    "    return ret\n",
    "\n",
    "ans = dfs(n, \"a\")+dfs(n, \"b\")+dfs(n, \"c\")\n",
    "print(*ans, sep=\"\\n\")"
   ]
  },
  {
   "cell_type": "code",
   "execution_count": null,
   "metadata": {},
   "outputs": [],
   "source": [
    "#D\n",
    "n = int(input())\n",
    "\n",
    "limit = list(map(int,list(str(n))))\n",
    "\n",
    "lenn = len(str(n))\n",
    "\n",
    "#桁，余裕があるか，１が何個でてるか(何個出てるかに関してはIndexError対策で大きめの配列をとる)\n",
    "dp = [[[0]*(lenn+2) for _ in range(2)] for _ in range(lenn+1)]\n",
    "dp[0][0][0] = 1\n",
    "\n",
    "for i in range(lenn):\n",
    "    for yoyu in range(2):\n",
    "        for kosu in range(lenn+1):\n",
    "            c = limit[i]\n",
    "            for nxt in range(10):\n",
    "                if c < nxt and not yoyu:\n",
    "                    continue\n",
    "                nxt_yoyu = yoyu\n",
    "                if nxt < c:#次に付け足される数字が限界未満なら\n",
    "                    nxt_yoyu = 1\n",
    "                nxt_kosu = kosu\n",
    "                if nxt == 1:\n",
    "                    nxt_kosu += 1\n",
    "                dp[i+1][nxt_yoyu][nxt_kosu] += dp[i][yoyu][kosu]\n",
    "\n",
    "ans = 0\n",
    "for i in range(lenn+1):\n",
    "    ans += i*dp[lenn][0][i] + i*dp[lenn][1][i]\n",
    "print(ans)"
   ]
  }
 ],
 "metadata": {
  "kernelspec": {
   "display_name": "Python 3",
   "language": "python",
   "name": "python3"
  },
  "language_info": {
   "codemirror_mode": {
    "name": "ipython",
    "version": 3
   },
   "file_extension": ".py",
   "mimetype": "text/x-python",
   "name": "python",
   "nbconvert_exporter": "python",
   "pygments_lexer": "ipython3",
   "version": "3.7.3"
  }
 },
 "nbformat": 4,
 "nbformat_minor": 2
}
