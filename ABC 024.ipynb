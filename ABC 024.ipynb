{
 "cells": [
  {
   "cell_type": "code",
   "execution_count": null,
   "metadata": {},
   "outputs": [],
   "source": [
    "#C\n",
    "import sys\n",
    "input=sys.stdin.readline\n",
    "\n",
    "def main(args):\n",
    "    N, D, K = map(int,input().split())\n",
    "    L = [0]*D\n",
    "    R = [0]*D\n",
    "    \n",
    "    table = [[None]*K for _ in range(D+1)]\n",
    "    T = [0]*K\n",
    "    for i in range(D):\n",
    "        L[i], R[i] = map(lambda x:int(x)-1,input().split())\n",
    "    for i in range(K):\n",
    "        S, T[i] = map(lambda x:int(x)-1,input().split())\n",
    "        table[0][i] = (S,S)\n",
    "    \n",
    "    L = [\"Dammy\"] + L\n",
    "    R = [\"Dammy\"] + R\n",
    "    \n",
    "    ans = [0]*K\n",
    "    \n",
    "    for d in range(1,D+1):\n",
    "        for k in range(K):\n",
    "            if table[d-1][k] == None:\n",
    "                continue\n",
    "            l, r = table[d-1][k]\n",
    "            if L[d] <= r and l <= R[d]:#二つの線分が重なる条件\n",
    "                table[d][k] = (min(l, L[d]), max(r, R[d]))\n",
    "            else:\n",
    "                table[d][k] = l, r\n",
    "            if table[d][k][0] <= T[k] <= table[d][k][1] and ans[k] == 0:\n",
    "                ans[k] = d\n",
    "                table[d][k] = None\n",
    "    #print(T)\n",
    "    #print(table)\n",
    "    print(*ans,sep=\"\\n\")\n",
    "    \n",
    "if __name__ == '__main__':\n",
    "    main(sys.argv[1:])"
   ]
  }
 ],
 "metadata": {
  "kernelspec": {
   "display_name": "Python 3",
   "language": "python",
   "name": "python3"
  },
  "language_info": {
   "codemirror_mode": {
    "name": "ipython",
    "version": 3
   },
   "file_extension": ".py",
   "mimetype": "text/x-python",
   "name": "python",
   "nbconvert_exporter": "python",
   "pygments_lexer": "ipython3",
   "version": "3.7.3"
  }
 },
 "nbformat": 4,
 "nbformat_minor": 2
}
