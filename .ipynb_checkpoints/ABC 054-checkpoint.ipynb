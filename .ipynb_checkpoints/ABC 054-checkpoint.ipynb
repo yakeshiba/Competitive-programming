{
 "cells": [
  {
   "cell_type": "code",
   "execution_count": null,
   "metadata": {},
   "outputs": [],
   "source": [
    "#A\n",
    "a, b = map(int,input().split())\n",
    "if a == b:\n",
    "    print(\"Draw\")\n",
    "elif a < b:\n",
    "    if a == 1:\n",
    "        print('Alice')\n",
    "    else:\n",
    "        print('Bob')\n",
    "else:\n",
    "    if b == 1:\n",
    "        print('Bob')\n",
    "    else:\n",
    "        print('Alice')"
   ]
  },
  {
   "cell_type": "code",
   "execution_count": null,
   "metadata": {},
   "outputs": [],
   "source": [
    "#B\n",
    "n, m = map(int,input().split())\n",
    "A = [[] for _ in range(n)]\n",
    "for i in range(n):\n",
    "    A[i] = input()\n",
    "B = [[] for _ in range(m)]\n",
    "for i in range(m):\n",
    "    B[i] = input()\n",
    "    \n",
    "flag = False\n",
    "for tate_begin in range(n-m+1):\n",
    "    for yoko_begin in range(len(A[0])-len(B[0])+1):\n",
    "        for check in range(m):\n",
    "            a_yoko = A[tate_begin+check][yoko_begin:yoko_begin+len(B[0])]\n",
    "            if a_yoko != B[check]:\n",
    "                break\n",
    "        else:\n",
    "            flag = True\n",
    "            print('Yes')\n",
    "    if flag:\n",
    "        break\n",
    "else:\n",
    "    print('No')"
   ]
  },
  {
   "cell_type": "code",
   "execution_count": null,
   "metadata": {},
   "outputs": [],
   "source": [
    "#C\n",
    "import itertools\n",
    "from collections import deque\n",
    "\n",
    "n, m = map(int,input().split())\n",
    "edge = [[] for _ in range(n)]\n",
    "for _ in range(m):\n",
    "    a,b = map(int,input().split())\n",
    "    edge[a-1].append(b-1)\n",
    "    edge[b-1].append(a-1)\n",
    "    \n",
    "ans = 0\n",
    "for p in itertools.permutations([i+1 for i in range(n-1)]):\n",
    "    pp = [0]+list(p)\n",
    "    #print('pp',pp)\n",
    "    now = pp[0]\n",
    "    for i in range(1,n):\n",
    "        if pp[i] in edge[now]:\n",
    "            now = pp[i]\n",
    "        else:\n",
    "            break\n",
    "    else:\n",
    "        ans += 1\n",
    "    \n",
    "print(ans)"
   ]
  }
 ],
 "metadata": {
  "kernelspec": {
   "display_name": "Python 3",
   "language": "python",
   "name": "python3"
  },
  "language_info": {
   "codemirror_mode": {
    "name": "ipython",
    "version": 3
   },
   "file_extension": ".py",
   "mimetype": "text/x-python",
   "name": "python",
   "nbconvert_exporter": "python",
   "pygments_lexer": "ipython3",
   "version": "3.7.3"
  }
 },
 "nbformat": 4,
 "nbformat_minor": 2
}
