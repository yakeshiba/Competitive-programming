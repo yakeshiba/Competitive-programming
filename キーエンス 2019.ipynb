{
 "cells": [
  {
   "cell_type": "code",
   "execution_count": null,
   "metadata": {},
   "outputs": [],
   "source": [
    "#C\n",
    "n = int(input())\n",
    "A = list(map(int,input().split()))\n",
    "B = list(map(int,input().split()))\n",
    "\n",
    "insufficient = 0\n",
    "yoyu = []\n",
    "\n",
    "ans = 0\n",
    "for i in range(n):\n",
    "    p = A[i] - B[i]\n",
    "    if p < 0:#足りない\n",
    "        insufficient += abs(p)\n",
    "        ans += 1\n",
    "    else:\n",
    "        yoyu.append(p)\n",
    "yoyu.sort(reverse=True)\n",
    "\n",
    "if sum(yoyu) < insufficient:\n",
    "    print(-1)\n",
    "    exit()\n",
    "\n",
    "ind = 0    \n",
    "while insufficient > 0:\n",
    "    insufficient -= yoyu[ind]\n",
    "    ind += 1\n",
    "\n",
    "print(ans+ind)"
   ]
  }
 ],
 "metadata": {
  "kernelspec": {
   "display_name": "Python 3",
   "language": "python",
   "name": "python3"
  },
  "language_info": {
   "codemirror_mode": {
    "name": "ipython",
    "version": 3
   },
   "file_extension": ".py",
   "mimetype": "text/x-python",
   "name": "python",
   "nbconvert_exporter": "python",
   "pygments_lexer": "ipython3",
   "version": "3.7.8"
  }
 },
 "nbformat": 4,
 "nbformat_minor": 4
}
