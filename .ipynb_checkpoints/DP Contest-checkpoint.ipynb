{
 "cells": [
  {
   "cell_type": "code",
   "execution_count": 13,
   "metadata": {},
   "outputs": [
    {
     "name": "stdout",
     "output_type": "stream",
     "text": [
      "6\n",
      "30 10 60 10 60 50\n",
      "40\n"
     ]
    }
   ],
   "source": [
    "N = int(input())\n",
    "h = list(map(int,input().split()))\n",
    "dp = [0]*N\n",
    "\n",
    "for i in range(1,N):\n",
    "    if i == 1:\n",
    "        dp[1] = abs(h[1]-h[0])\n",
    "    else:\n",
    "        i1 = abs(h[i]-h[i-1]) + dp[i-1]\n",
    "        i2 = abs(h[i]-h[i-2]) + dp[i-2]\n",
    "        dp[i] = min(i1,i2)\n",
    "print(dp[N-1])"
   ]
  },
  {
   "cell_type": "code",
   "execution_count": null,
   "metadata": {},
   "outputs": [],
   "source": [
    "N, K = map(int,input().split())"
   ]
  }
 ],
 "metadata": {
  "kernelspec": {
   "display_name": "Python 3",
   "language": "python",
   "name": "python3"
  },
  "language_info": {
   "codemirror_mode": {
    "name": "ipython",
    "version": 3
   },
   "file_extension": ".py",
   "mimetype": "text/x-python",
   "name": "python",
   "nbconvert_exporter": "python",
   "pygments_lexer": "ipython3",
   "version": "3.7.3"
  }
 },
 "nbformat": 4,
 "nbformat_minor": 2
}
