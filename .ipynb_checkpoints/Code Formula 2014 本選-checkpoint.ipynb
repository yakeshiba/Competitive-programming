{
 "cells": [
  {
   "cell_type": "code",
   "execution_count": null,
   "metadata": {},
   "outputs": [],
   "source": [
    "#C\n",
    "S = list(input().split())\n",
    "d = {}\n",
    "for s in S:\n",
    "    ind = [i for i,v in enumerate(s) if v == \"@\"]\n",
    "    if not ind:\n",
    "        continue\n",
    "    user = []\n",
    "    for i in range(len(ind)-1):\n",
    "        if ind[i+1] == ind[i]+1:\n",
    "            continue\n",
    "        u = s[ind[i]+1:ind[i+1]]\n",
    "        user.append(u)\n",
    "    if ind[-1] != len(s)-1:\n",
    "        user.append(s[ind[-1]+1:])\n",
    "    \n",
    "    for u in user:\n",
    "        if u not in d:\n",
    "            d[u] = 1\n",
    "\n",
    "ans = list(d.keys())\n",
    "ans.sort()\n",
    "print(*ans,sep=\"\\n\")"
   ]
  }
 ],
 "metadata": {
  "kernelspec": {
   "display_name": "Python 3",
   "language": "python",
   "name": "python3"
  },
  "language_info": {
   "codemirror_mode": {
    "name": "ipython",
    "version": 3
   },
   "file_extension": ".py",
   "mimetype": "text/x-python",
   "name": "python",
   "nbconvert_exporter": "python",
   "pygments_lexer": "ipython3",
   "version": "3.7.8"
  }
 },
 "nbformat": 4,
 "nbformat_minor": 4
}
