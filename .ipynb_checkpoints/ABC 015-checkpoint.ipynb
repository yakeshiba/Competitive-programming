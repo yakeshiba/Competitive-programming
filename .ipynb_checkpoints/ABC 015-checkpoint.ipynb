{
 "cells": [
  {
   "cell_type": "code",
   "execution_count": null,
   "metadata": {},
   "outputs": [],
   "source": [
    "#C 組み合わせの列挙\n",
    "import itertools\n",
    "\n",
    "n, k = map(int,input().split())\n",
    "T = []\n",
    "for i in range(n):\n",
    "    T.append(list(map(int,input().split())))\n",
    "\n",
    "flag = True\n",
    "for r in itertools.combinations_with_replacement([i for i in range(k)], n):\n",
    "    if not flag:\n",
    "        break\n",
    "    for c in itertools.permutations(r, n):\n",
    "        row = 0\n",
    "        tmp = None\n",
    "        for i in c:\n",
    "            if tmp == None:\n",
    "                tmp = T[row][i]\n",
    "            else:\n",
    "                tmp ^= T[row][i]\n",
    "            row += 1\n",
    "        if tmp == 0:\n",
    "            print('Found')\n",
    "            flag = False\n",
    "            break\n",
    "if flag:\n",
    "    print(\"Nothing\")"
   ]
  },
  {
   "cell_type": "code",
   "execution_count": null,
   "metadata": {},
   "outputs": [],
   "source": [
    "#C 再帰関数\n",
    "def dfs(i, v):\n",
    "    if i==n:\n",
    "        return v==0\n",
    "    for j in range(k):\n",
    "        if dfs(i+1, v^T[i][j]):\n",
    "            return True\n",
    "    return False\n",
    "\n",
    "n, k = map(int,input().split())\n",
    "T = []\n",
    "for i in range(n):\n",
    "    T.append(list(map(int,input().split())))\n",
    "    \n",
    "if dfs(0, 0):\n",
    "    print('Found')\n",
    "else:\n",
    "    print('Nothing')"
   ]
  }
 ],
 "metadata": {
  "kernelspec": {
   "display_name": "Python 3",
   "language": "python",
   "name": "python3"
  },
  "language_info": {
   "codemirror_mode": {
    "name": "ipython",
    "version": 3
   },
   "file_extension": ".py",
   "mimetype": "text/x-python",
   "name": "python",
   "nbconvert_exporter": "python",
   "pygments_lexer": "ipython3",
   "version": "3.7.3"
  }
 },
 "nbformat": 4,
 "nbformat_minor": 2
}
