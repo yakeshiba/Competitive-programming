{
 "cells": [
  {
   "cell_type": "code",
   "execution_count": null,
   "metadata": {},
   "outputs": [],
   "source": [
    "#C\n",
    "n, k = map(int,input().split())\n",
    "ans = 0\n",
    "for i in range(1,n+1):\n",
    "    if i >= k:\n",
    "        ans += 1/n\n",
    "        continue\n",
    "    cnt = 0\n",
    "    now = i\n",
    "    while now < k:\n",
    "        cnt += 1\n",
    "        now *= 2\n",
    "    ans += (1/n)*(1/2)**cnt\n",
    "print(ans)"
   ]
  },
  {
   "cell_type": "code",
   "execution_count": null,
   "metadata": {},
   "outputs": [],
   "source": [
    "#D\n",
    "from collections import deque\n",
    "\n",
    "N = int(input())\n",
    "edge = [[] for _ in range(N)]\n",
    "for _ in range(N-1):#辺の数はN-1本\n",
    "    u, v, w = map(int,input().split())\n",
    "    edge[u-1].append([v-1,w])\n",
    "    edge[v-1].append([u-1,w])\n",
    "\n",
    "ans = [-1]*N\n",
    "\n",
    "#適当に0番のエッジを根とする．\n",
    "#グラフ全体（のイメージ図）を回転すれば，任意のエッジが根となっているグラフの絵が描ける\n",
    "#これは無向グラフの特徴\n",
    "ans[0] = 0\n",
    "\n",
    "q = deque([0])\n",
    "\n",
    "while q:\n",
    "    now = q.popleft()#今注目しているエッジ（元のエッジ）の番号\n",
    "    for v, w in edge[now]:#元のエッジと繋がっているエッジ（先のエッジ）v，その距離w\n",
    "        if ans[v] != -1:#not equal -1 …先のエッジの根からの距離がすでに計算済みなら\n",
    "            continue\n",
    "        ans[v] = ans[now] + w#DFSなので，「元のエッジの根からの距離」に「元のエッジと先のエッジの距離」を足せばよい\n",
    "        q.append(v)\n",
    "\n",
    "for c in ans:\n",
    "    if c%2 == 0:\n",
    "        print(1)\n",
    "    else:\n",
    "        print(0)"
   ]
  },
  {
   "cell_type": "code",
   "execution_count": null,
   "metadata": {},
   "outputs": [],
   "source": [
    "#D\n",
    "from collections import deque\n",
    "\n",
    "n = int(input())\n",
    "edge = [[] for _ in range(n)]\n",
    "for _ in range(n-1):\n",
    "    u, v, w = map(int,input().split())\n",
    "    edge[u-1].append((v-1, w))\n",
    "    edge[v-1].append((u-1, w))\n",
    "\n",
    "ans = [-1]*n\n",
    "ans[0] = 0\n",
    "q = deque([0])\n",
    "while q:\n",
    "    i = q.popleft()\n",
    "    for to, d in edge[i]:\n",
    "        if ans[to] == -1:\n",
    "            q.append(to)\n",
    "            if d%2:\n",
    "                ans[to] = int(not ans[i])\n",
    "            else:\n",
    "                ans[to] = ans[i]\n",
    "                \n",
    "print(*ans, sep=\"\\n\")"
   ]
  },
  {
   "cell_type": "code",
   "execution_count": 6,
   "metadata": {},
   "outputs": [
    {
     "name": "stdout",
     "output_type": "stream",
     "text": [
      "0 4\n",
      "4\n"
     ]
    }
   ],
   "source": [
    "a,b = map(int,input().split())\n",
    "print(a^b)"
   ]
  }
 ],
 "metadata": {
  "kernelspec": {
   "display_name": "Python 3",
   "language": "python",
   "name": "python3"
  },
  "language_info": {
   "codemirror_mode": {
    "name": "ipython",
    "version": 3
   },
   "file_extension": ".py",
   "mimetype": "text/x-python",
   "name": "python",
   "nbconvert_exporter": "python",
   "pygments_lexer": "ipython3",
   "version": "3.7.8"
  }
 },
 "nbformat": 4,
 "nbformat_minor": 2
}
