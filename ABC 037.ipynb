{
 "cells": [
  {
   "cell_type": "code",
   "execution_count": null,
   "metadata": {},
   "outputs": [],
   "source": [
    "#C\n",
    "N, K = map(int,input().split())\n",
    "A = list(map(int,input().split()))\n",
    "cumsum = []\n",
    "cumsum.append(A[0])\n",
    "for i in range(N-1):\n",
    "    cumsum.append(A[i+1]+A[i])\n",
    "ans_sum = []\n",
    "for j in range(N-K+1):\n",
    "    if j == 0:\n",
    "        ans_sum.append(cumsum[K-1])\n",
    "    else:\n",
    "        ans_sum.append(cumsum[j+K-1]-sumcum[j-1])\n",
    "print(sum(ans_sum))"
   ]
  }
 ],
 "metadata": {
  "kernelspec": {
   "display_name": "Python 3",
   "language": "python",
   "name": "python3"
  },
  "language_info": {
   "codemirror_mode": {
    "name": "ipython",
    "version": 3
   },
   "file_extension": ".py",
   "mimetype": "text/x-python",
   "name": "python",
   "nbconvert_exporter": "python",
   "pygments_lexer": "ipython3",
   "version": "3.7.3"
  }
 },
 "nbformat": 4,
 "nbformat_minor": 2
}
