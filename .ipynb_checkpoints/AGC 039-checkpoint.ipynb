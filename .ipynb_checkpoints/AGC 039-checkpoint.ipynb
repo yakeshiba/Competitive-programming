{
 "cells": [
  {
   "cell_type": "code",
   "execution_count": null,
   "metadata": {},
   "outputs": [],
   "source": [
    "#A\n",
    "S = input()\n",
    "k = int(input())\n",
    "\n",
    "prev = S[0]\n",
    "cnt = 0\n",
    "for i in range(1,len(S)):\n",
    "    if prev == S[i]:\n",
    "        cnt += 1\n",
    "        prev = \"$\"\n",
    "        continue\n",
    "    prev = S[i]\n",
    "\n",
    "ans = k*cnt\n",
    "\n",
    "if S[0] == S[-1]:\n",
    "    m = 0\n",
    "    for s in S:\n",
    "        if s == S[0]:\n",
    "            m += 1\n",
    "        else:\n",
    "            break\n",
    "    a = 0\n",
    "    for s in S[::-1]:\n",
    "        if s == S[-1]:\n",
    "            a += 1\n",
    "        else:\n",
    "            break\n",
    "    if a%2 and m%2:\n",
    "        ans += k-1\n",
    "if len(set(S)) == 1:\n",
    "    ans = (len(S)*k//2)\n",
    "print(ans)"
   ]
  }
 ],
 "metadata": {
  "kernelspec": {
   "display_name": "Python 3",
   "language": "python",
   "name": "python3"
  },
  "language_info": {
   "codemirror_mode": {
    "name": "ipython",
    "version": 3
   },
   "file_extension": ".py",
   "mimetype": "text/x-python",
   "name": "python",
   "nbconvert_exporter": "python",
   "pygments_lexer": "ipython3",
   "version": "3.7.8"
  }
 },
 "nbformat": 4,
 "nbformat_minor": 4
}
