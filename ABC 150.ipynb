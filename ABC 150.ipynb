{
 "cells": [
  {
   "cell_type": "code",
   "execution_count": 1,
   "metadata": {},
   "outputs": [
    {
     "name": "stdout",
     "output_type": "stream",
     "text": [
      "4 2000\n",
      "Yes\n"
     ]
    }
   ],
   "source": [
    "#A\n",
    "K, X = map(int,input().split())\n",
    "if 500*K >= X:\n",
    "    print(\"Yes\")\n",
    "else:\n",
    "    print(\"No\")"
   ]
  },
  {
   "cell_type": "code",
   "execution_count": 3,
   "metadata": {},
   "outputs": [
    {
     "name": "stdout",
     "output_type": "stream",
     "text": [
      "10\n",
      "ZABCDBABCQ\n",
      "2\n"
     ]
    }
   ],
   "source": [
    "#B\n",
    "N = int(input())\n",
    "S = input()\n",
    "ans = 0\n",
    "for i in range(N-2):\n",
    "    if S[i]+S[i+1]+S[i+2] == \"ABC\":\n",
    "        ans += 1\n",
    "print(ans)"
   ]
  },
  {
   "cell_type": "code",
   "execution_count": 6,
   "metadata": {},
   "outputs": [
    {
     "name": "stdout",
     "output_type": "stream",
     "text": [
      "3\n",
      "2 1 3\n",
      "1 2 3\n",
      "[(1, 2, 3), (1, 3, 2), (2, 1, 3), (2, 3, 1), (3, 1, 2), (3, 2, 1)]\n",
      "2\n"
     ]
    }
   ],
   "source": [
    "#C\n",
    "import itertools\n",
    "\n",
    "N = int(input())\n",
    "P = list(map(int,input().split()))\n",
    "Q = list(map(int,input().split()))\n",
    "\n",
    "perms = []\n",
    "\n",
    "for j in itertools.permutations([i for i in range(1,N+1)]):\n",
    "    perms.append(j)\n",
    "print(abs(perms.index(tuple(P))-perms.index(tuple(Q))))"
   ]
  },
  {
   "cell_type": "code",
   "execution_count": 5,
   "metadata": {},
   "outputs": [
    {
     "name": "stdout",
     "output_type": "stream",
     "text": [
      "5 3\n",
      "2 4\n",
      "3 1\n",
      "2 4\n",
      "2 5\n",
      "1 3\n",
      "{2: [5, 4, 4], 3: [1], 1: [3]}\n"
     ]
    }
   ],
   "source": [
    "#D\n",
    "N, M = map(int,input().split())\n",
    "salary = {}\n",
    "for i in range(N):\n",
    "    a,b = map(int,input().split())\n",
    "    if a not in salary:\n",
    "        salary[a] = [b]\n",
    "    else:\n",
    "        salary[a].append(b)\n",
    "for key in salary.keys():\n",
    "    salary[key].sort(reverse=True)\n",
    "print(salary)"
   ]
  },
  {
   "cell_type": "code",
   "execution_count": null,
   "metadata": {},
   "outputs": [],
   "source": [
    "import bisect\n",
    "N, M = map(int,input().split())\n",
    "salary = [None]*(10**5+1)#M日後に得られる\n",
    "ans = 0\n",
    "for i in range(N):\n",
    "    a,b = map(int,input().split())\n",
    "    if salary[a] == None:\n",
    "        salary[a] = [b]\n",
    "    else:\n",
    "        bisect.insort_left(salary[a], b)\n",
    "t = M\n",
    "now = 1#今何日目か\n",
    "while t > 0 :#間に合うやつ（1日後～M日後）\n",
    "    if salary[t] == None:\n",
    "        t -= 1\n",
    "    else:\n",
    "        today = salary[t].pop()\n",
    "        print(\"何日後に受け取れる仕事か\",t)\n",
    "        print(\"todays salary\",today)\n",
    "        print(\"今日は\",now,\"日目\")\n",
    "        ans += today\n",
    "        now += 1\n",
    "        if M- now <= t:\n",
    "            t -= 1\n",
    "print(ans)"
   ]
  },
  {
   "cell_type": "code",
   "execution_count": 1,
   "metadata": {},
   "outputs": [
    {
     "name": "stdout",
     "output_type": "stream",
     "text": [
      "[1, 2, 3]\n"
     ]
    }
   ],
   "source": [
    "a = [1,3,2]\n",
    "a.sort()\n",
    "print(a)"
   ]
  }
 ],
 "metadata": {
  "kernelspec": {
   "display_name": "Python 3",
   "language": "python",
   "name": "python3"
  },
  "language_info": {
   "codemirror_mode": {
    "name": "ipython",
    "version": 3
   },
   "file_extension": ".py",
   "mimetype": "text/x-python",
   "name": "python",
   "nbconvert_exporter": "python",
   "pygments_lexer": "ipython3",
   "version": "3.7.3"
  }
 },
 "nbformat": 4,
 "nbformat_minor": 2
}
