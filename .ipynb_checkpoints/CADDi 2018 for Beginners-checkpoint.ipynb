{
 "cells": [
  {
   "cell_type": "code",
   "execution_count": 3,
   "metadata": {},
   "outputs": [
    {
     "name": "stdout",
     "output_type": "stream",
     "text": [
      "3121\n",
      "1\n"
     ]
    }
   ],
   "source": [
    "#A\n",
    "N = input()\n",
    "print(N.count(\"2\"))"
   ]
  },
  {
   "cell_type": "code",
   "execution_count": 4,
   "metadata": {},
   "outputs": [
    {
     "name": "stdout",
     "output_type": "stream",
     "text": [
      "3 5 2\n",
      "10 3\n",
      "5 2\n",
      "2 5\n",
      "2\n"
     ]
    }
   ],
   "source": [
    "#B\n",
    "N,H,W = map(int,input().split())\n",
    "ans = 0\n",
    "for i in range(N):\n",
    "    a,b = map(int,input().split())\n",
    "    if a >= H and b >= W:\n",
    "        ans += 1\n",
    "print(ans)"
   ]
  },
  {
   "cell_type": "code",
   "execution_count": 13,
   "metadata": {},
   "outputs": [
    {
     "name": "stdout",
     "output_type": "stream",
     "text": [
      "4 972439611840\n",
      "206\n"
     ]
    }
   ],
   "source": [
    "#C\n",
    "def factorize(n):\n",
    "    fct = []  # prime factor\n",
    "    b, e = 2, 0  # base, exponent\n",
    "    while b * b <= n:\n",
    "        while n % b == 0:\n",
    "            n = n // b\n",
    "            e = e + 1\n",
    "        if e > 0:\n",
    "            fct.append((b, e))\n",
    "        b, e = b + 1, 0\n",
    "    if n > 1:\n",
    "        fct.append((n, 1))\n",
    "    return fct\n",
    "\n",
    "n, p = map(int,input().split())\n",
    "\n",
    "fac = factorize(p)\n",
    "\n",
    "ans = 1\n",
    "for v, k in fac:\n",
    "    ans *= v**(k//n)\n",
    "\n",
    "print(ans)"
   ]
  },
  {
   "cell_type": "code",
   "execution_count": 11,
   "metadata": {},
   "outputs": [
    {
     "data": {
      "text/plain": [
       "37.0"
      ]
     },
     "execution_count": 11,
     "metadata": {},
     "output_type": "execute_result"
    }
   ],
   "source": [
    "#D\n",
    "N = int(input())\n",
    "a = [None]*N\n",
    "flag = False\n",
    "for i in range(N):\n",
    "    a[i] = int(input())\n",
    "    if a[i]%2:\n",
    "        flag = True\n",
    "if flag:\n",
    "    print(\"first\")\n",
    "else:\n",
    "    print(\"second\")"
   ]
  }
 ],
 "metadata": {
  "kernelspec": {
   "display_name": "Python 3",
   "language": "python",
   "name": "python3"
  },
  "language_info": {
   "codemirror_mode": {
    "name": "ipython",
    "version": 3
   },
   "file_extension": ".py",
   "mimetype": "text/x-python",
   "name": "python",
   "nbconvert_exporter": "python",
   "pygments_lexer": "ipython3",
   "version": "3.7.8"
  }
 },
 "nbformat": 4,
 "nbformat_minor": 2
}
