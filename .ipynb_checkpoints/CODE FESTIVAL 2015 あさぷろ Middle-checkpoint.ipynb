{
 "cells": [
  {
   "cell_type": "code",
   "execution_count": null,
   "metadata": {},
   "outputs": [],
   "source": [
    "#A\n",
    "n, k, m, r = map(int,input().split())\n",
    "\n",
    "S = []\n",
    "for _ in range(n-1):\n",
    "    S.append(int(input()))\n",
    "\n",
    "S.sort(reverse=True)\n",
    "\n",
    "if sum(S[:k])-k*r >= 0:\n",
    "    print(0)\n",
    "else:\n",
    "    an = k*r - sum(S[:k-1])\n",
    "    ans = -(-an//1)\n",
    "    if ans <= m:\n",
    "        print(ans)\n",
    "    else:\n",
    "        print(-1)"
   ]
  }
 ],
 "metadata": {
  "kernelspec": {
   "display_name": "Python 3",
   "language": "python",
   "name": "python3"
  },
  "language_info": {
   "codemirror_mode": {
    "name": "ipython",
    "version": 3
   },
   "file_extension": ".py",
   "mimetype": "text/x-python",
   "name": "python",
   "nbconvert_exporter": "python",
   "pygments_lexer": "ipython3",
   "version": "3.7.3"
  }
 },
 "nbformat": 4,
 "nbformat_minor": 2
}
