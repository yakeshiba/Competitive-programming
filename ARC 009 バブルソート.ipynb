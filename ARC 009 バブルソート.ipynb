{
 "cells": [
  {
   "cell_type": "code",
   "execution_count": null,
   "metadata": {},
   "outputs": [],
   "source": [
    "#B\n",
    "B = list(map(int,input().split()))\n",
    "order = {}\n",
    "for i in range(10):\n",
    "    order[str(B[i])] = i\n",
    "\n",
    "n = int(input())\n",
    "\n",
    "def neworder(v):\n",
    "    strv = str(v)\n",
    "    newvalue = 0\n",
    "    for keta in range(len(strv)):\n",
    "        newvalue += order[strv[-(keta+1)]]*(10**keta)\n",
    "    return newvalue\n",
    "\n",
    "def otogisort(lst):\n",
    "    isEnd = False\n",
    "    last = 1\n",
    "    while not isEnd:\n",
    "        thisroop = False\n",
    "        for i in range(len(lst)-last):\n",
    "            if neworder(lst[i]) > neworder(lst[i+1]):\n",
    "                lst[i], lst[i+1] = lst[i+1], lst[i]\n",
    "                thisroop = True\n",
    "        if not thisroop:\n",
    "            isEnd = True\n",
    "        last += 1\n",
    "        \n",
    "\n",
    "A = [0]*n\n",
    "for i in range(n):\n",
    "    A[i] = int(input())\n",
    "\n",
    "otogisort(A)\n",
    "\n",
    "print(*A,sep='\\n')"
   ]
  }
 ],
 "metadata": {
  "kernelspec": {
   "display_name": "Python 3",
   "language": "python",
   "name": "python3"
  },
  "language_info": {
   "codemirror_mode": {
    "name": "ipython",
    "version": 3
   },
   "file_extension": ".py",
   "mimetype": "text/x-python",
   "name": "python",
   "nbconvert_exporter": "python",
   "pygments_lexer": "ipython3",
   "version": "3.7.3"
  }
 },
 "nbformat": 4,
 "nbformat_minor": 2
}
