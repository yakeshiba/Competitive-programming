{
 "cells": [
  {
   "cell_type": "code",
   "execution_count": null,
   "metadata": {},
   "outputs": [],
   "source": [
    "#S010\n",
    "T, B, U, D, L, R = map(int,input().split())\n",
    "dice = {T:\"T\", B:\"B\", U:\"U\", D:\"D\", L:\"L\", R:\"R\"}\n",
    "N = int(input())\n",
    "state = \"T\"#初期値\n",
    "ans = 0\n",
    "for i in range(N):\n",
    "    p = int(input())\n",
    "    nxt = dice[p]\n",
    "    if state == nxt:\n",
    "        pass\n",
    "    else:\n",
    "        if state == \"T\":\n",
    "            if nxt == \"B\":\n",
    "                ans += 2\n",
    "            else:\n",
    "                ans += 1\n",
    "        elif state == \"B\":\n",
    "            if nxt == \"T\":\n",
    "                ans += 2\n",
    "            else:\n",
    "                ans += 1\n",
    "        elif state == \"U\":\n",
    "            if nxt == \"D\":\n",
    "                ans += 2\n",
    "            else:\n",
    "                ans += 1\n",
    "        elif state == \"D\":\n",
    "            if nxt == \"U\":\n",
    "                ans += 2\n",
    "            else:\n",
    "                ans += 1\n",
    "        elif state == \"L\":\n",
    "            if nxt == \"R\":\n",
    "                ans += 2\n",
    "            else:\n",
    "                ans += 1\n",
    "        else:\n",
    "            if nxt == \"L\":\n",
    "                ans += 2\n",
    "            else:\n",
    "                ans += 1\n",
    "        state = nxt\n",
    "print(ans)"
   ]
  }
 ],
 "metadata": {
  "kernelspec": {
   "display_name": "Python 3",
   "language": "python",
   "name": "python3"
  },
  "language_info": {
   "codemirror_mode": {
    "name": "ipython",
    "version": 3
   },
   "file_extension": ".py",
   "mimetype": "text/x-python",
   "name": "python",
   "nbconvert_exporter": "python",
   "pygments_lexer": "ipython3",
   "version": "3.7.3"
  }
 },
 "nbformat": 4,
 "nbformat_minor": 2
}
