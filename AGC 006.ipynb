{
 "cells": [
  {
   "cell_type": "code",
   "execution_count": null,
   "metadata": {},
   "outputs": [],
   "source": [
    "#A\n",
    "N = int(input())\n",
    "s = input()\n",
    "t = input()\n",
    "\n",
    "ans = len(s) + len(t)\n",
    "for i in range(len(s)):\n",
    "    if t[:i+1] in s:\n",
    "        ans = min(ans, len(s) + len(t) - (i+1))\n",
    "        \n",
    "print(ans)"
   ]
  },
  {
   "cell_type": "code",
   "execution_count": null,
   "metadata": {},
   "outputs": [],
   "source": [
    "#A 想定解\n",
    "N = int(input())\n",
    "s = input()\n",
    "t = input()\n",
    "\n",
    "ans = 2*N\n",
    "for i in range(N):\n",
    "    if s[N-(i+1):] == t[:i+1]:\n",
    "        ans = 2*N - (i+1)\n",
    "        \n",
    "print(ans)"
   ]
  }
 ],
 "metadata": {
  "kernelspec": {
   "display_name": "Python 3",
   "language": "python",
   "name": "python3"
  },
  "language_info": {
   "codemirror_mode": {
    "name": "ipython",
    "version": 3
   },
   "file_extension": ".py",
   "mimetype": "text/x-python",
   "name": "python",
   "nbconvert_exporter": "python",
   "pygments_lexer": "ipython3",
   "version": "3.7.3"
  }
 },
 "nbformat": 4,
 "nbformat_minor": 2
}
