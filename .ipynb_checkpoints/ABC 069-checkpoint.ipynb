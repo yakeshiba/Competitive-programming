{
 "cells": [
  {
   "cell_type": "code",
   "execution_count": null,
   "metadata": {},
   "outputs": [],
   "source": [
    "#A\n",
    "n,m = map(int,input().split())\n",
    "print((n-1)*(m-1))"
   ]
  },
  {
   "cell_type": "code",
   "execution_count": 3,
   "metadata": {},
   "outputs": [
    {
     "name": "stdout",
     "output_type": "stream",
     "text": [
      "xyz\n",
      "x1z\n"
     ]
    }
   ],
   "source": [
    "#B\n",
    "s = input()\n",
    "ls = len(s)\n",
    "print(s[0]+str(ls-2)+s[-1])"
   ]
  },
  {
   "cell_type": "code",
   "execution_count": 7,
   "metadata": {},
   "outputs": [
    {
     "name": "stdout",
     "output_type": "stream",
     "text": [
      "4\n",
      "4 4 8 12\n",
      "4\n"
     ]
    }
   ],
   "source": [
    "#C\n",
    "import numpy as np\n",
    "N = int(input())\n",
    "A = np.array(list(map(int,input().split())))\n",
    "four = np.count_nonzero(A[A%4==0])#4の倍数\n",
    "two = np.count_nonzero(A[A%2==0]) - four#2の倍数だけど4の倍数じゃない\n",
    "non = N-four#4の倍数と隣り合わなきゃならないやつ"
   ]
  }
 ],
 "metadata": {
  "kernelspec": {
   "display_name": "Python 3",
   "language": "python",
   "name": "python3"
  },
  "language_info": {
   "codemirror_mode": {
    "name": "ipython",
    "version": 3
   },
   "file_extension": ".py",
   "mimetype": "text/x-python",
   "name": "python",
   "nbconvert_exporter": "python",
   "pygments_lexer": "ipython3",
   "version": "3.7.3"
  }
 },
 "nbformat": 4,
 "nbformat_minor": 2
}
