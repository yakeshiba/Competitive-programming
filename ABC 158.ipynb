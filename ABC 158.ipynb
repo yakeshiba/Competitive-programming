{
 "cells": [
  {
   "cell_type": "code",
   "execution_count": 3,
   "metadata": {},
   "outputs": [
    {
     "name": "stdout",
     "output_type": "stream",
     "text": [
      "BBB\n",
      "No\n"
     ]
    }
   ],
   "source": [
    "#A\n",
    "S = (input())\n",
    "a = set(S)\n",
    "if len(a) == 1:\n",
    "    print(\"No\")\n",
    "else:\n",
    "    print(\"Yes\")"
   ]
  },
  {
   "cell_type": "code",
   "execution_count": 24,
   "metadata": {},
   "outputs": [
    {
     "name": "stdout",
     "output_type": "stream",
     "text": [
      "6 2 4\n",
      "2\n"
     ]
    }
   ],
   "source": [
    "#B\n",
    "N,A,B = map(int,input().split())\n",
    "AB = N//(A+B)\n",
    "rest = N - (A+B)*AB\n",
    "\n",
    "if rest > A:\n",
    "    rest = A\n",
    "print(AB*A+rest)"
   ]
  },
  {
   "cell_type": "code",
   "execution_count": 25,
   "metadata": {},
   "outputs": [
    {
     "name": "stdout",
     "output_type": "stream",
     "text": [
      "2 2\n",
      "2\n"
     ]
    }
   ],
   "source": [
    "#C\n",
    "A,B = map(int,input().split())\n",
    "x = A/1.08\n",
    "y = B/1.10\n",
    "flagA = 0\n",
    "flagB = 0\n",
    "if int(int(x)*1.08) != A and int((int(x)+1)*1.08) != A:\n",
    "    flagA = 1\n",
    "else:\n",
    "    if int(int(A)*1.08) == A:\n",
    "        A_value = int(A)\n",
    "    else:\n",
    "        A_value = (int(A)+1)\n",
    "\n",
    "if int(int(y)*1.10) != B and int((int(y)+1)*1.10) != B:\n",
    "    flagB = 1\n",
    "else:\n",
    "    if int(int(B)*1.10) == B:\n",
    "        B_value = int(B)\n",
    "    else:\n",
    "        B_value = (int(B)+1)\n",
    "        \n",
    "if flagA or flagB:\n",
    "    print(-1)\n",
    "else:\n",
    "    print(min(A_value,B_value))"
   ]
  },
  {
   "cell_type": "code",
   "execution_count": 31,
   "metadata": {},
   "outputs": [
    {
     "name": "stdout",
     "output_type": "stream",
     "text": [
      "19 99\n",
      "-1\n"
     ]
    }
   ],
   "source": [
    "#C\n",
    "A,B = map(int,input().split())\n",
    "for i in range(1,10001):\n",
    "    if int(i*0.08) == A and int(i*0.1) == B:\n",
    "        print(i)\n",
    "        break\n",
    "else:\n",
    "    print(-1)"
   ]
  },
  {
   "cell_type": "code",
   "execution_count": 27,
   "metadata": {},
   "outputs": [
    {
     "data": {
      "text/plain": [
       "20.0"
      ]
     },
     "execution_count": 27,
     "metadata": {},
     "output_type": "execute_result"
    }
   ],
   "source": [
    "#D\n",
    "import numpy as np\n",
    "S = input()\n",
    "Q = int(input())\n",
    "alp = {}\n",
    "ls = len(S)\n",
    "for i in range(ls):\n",
    "    if S[i] not in alp:\n",
    "        alp[S[i]] = np.array([i])\n",
    "    else:\n",
    "        alp[S[i]].append(i)\n",
    "shift = 0\n",
    "for _ in range(Q):\n",
    "    q = input()\n",
    "    if q[0] == \"1\":#反転\n",
    "        for i in range(97,97+26):\n",
    "            alp[chr(i)] = ls - ((alp[chr(i)]+shift)+1)\n",
    "            shift = 0\n",
    "    else:\n",
    "        ls += 1\n",
    "        F = q[2]\n",
    "        C = q[4]\n",
    "        if F == \"1\":#先頭\n",
    "            shift += 1\n",
    "            np.insert(alp[C], 0, -1)\n",
    "        else:#末尾\n",
    "            np.append(alp[C],ls)\n",
    "\n",
    "ans = [None]*ls\n",
    "for i in range(97,97+26):\n",
    "    for ind in alp[chr(i)]:\n",
    "        ans[ind] = chr(i)\n",
    "\n",
    "print(*ans,sep=\"\")"
   ]
  },
  {
   "cell_type": "code",
   "execution_count": null,
   "metadata": {},
   "outputs": [],
   "source": [
    "#D\n",
    "import numpy as np\n",
    "S = list(input())\n",
    "Q = int(input())\n",
    "\n",
    "shift = 0\n",
    "top = []\n",
    "end = []\n",
    "for _ in range(Q):\n",
    "    q = input()\n",
    "    if q[0] == \"1\":#反転\n",
    "        S = top[::-1] + S + end\n",
    "        S = S[::-1]\n",
    "        top = []\n",
    "        end = []\n",
    "    else:\n",
    "        F = q[2]\n",
    "        C = q[4]\n",
    "        if F == \"1\":#先頭\n",
    "            top.append(C)\n",
    "        else:#末尾\n",
    "            end.append(C)\n",
    "\n",
    "print(*S,sep=\"\")"
   ]
  },
  {
   "cell_type": "code",
   "execution_count": null,
   "metadata": {},
   "outputs": [],
   "source": [
    "import coolections import deque\n",
    "\n",
    "S = deque(list(input()))\n",
    "Q = int(input())\n",
    "\n",
    "rev = False\n",
    "\n",
    "for _ in range(Q):\n",
    "    q = input()\n",
    "    if q[0] == \"1\":#反転\n",
    "        rev = not rev\n",
    "    else:\n",
    "        F = q[2]\n",
    "        C = q[4]\n",
    "        if F == \"1\":#先頭\n",
    "            if not rev:\n",
    "                S.appendleft(C)\n",
    "            else:\n",
    "                S.append(C)\n",
    "        else:#末尾\n",
    "            if not rev:\n",
    "                S.append(C)\n",
    "            else:\n",
    "                S.appendleft(C)\n",
    "if not rev:\n",
    "    print(*S, sep=\"\")\n",
    "else:\n",
    "    print(*reversed(S),sep=\"\")"
   ]
  },
  {
   "cell_type": "code",
   "execution_count": 4,
   "metadata": {},
   "outputs": [
    {
     "name": "stdout",
     "output_type": "stream",
     "text": [
      "[1, 2, 10, 3]\n"
     ]
    }
   ],
   "source": [
    "S = list(input())\n",
    "Q = int(input())\n",
    "\n",
    "rev = False\n",
    "\n",
    "for _ in range(Q):\n",
    "    q = input()\n",
    "    if q[0] == \"1\":#反転\n",
    "        rev = not rev\n",
    "    else:\n",
    "        F = q[2]\n",
    "        C = q[4]\n",
    "        if F == \"1\":#先頭\n",
    "            if not rev:\n",
    "                S.insert(0,C)\n",
    "            else:\n",
    "                S.append(C)\n",
    "        else:#末尾\n",
    "            if not rev:\n",
    "                S.append(C)\n",
    "            else:\n",
    "                S.insert(0,C)\n",
    "if not rev:\n",
    "    print(*S, sep=\"\")\n",
    "else:\n",
    "    print(*reversed(S),sep=\"\")"
   ]
  },
  {
   "cell_type": "code",
   "execution_count": 11,
   "metadata": {},
   "outputs": [
    {
     "name": "stdout",
     "output_type": "stream",
     "text": [
      "bcde\n"
     ]
    }
   ],
   "source": [
    "S = \"bcde\"\n",
    "a = \"abcde\"\n",
    "b = a[::-1][0:len(S)]\n",
    "b = b[::-1]\n",
    "print(b)"
   ]
  }
 ],
 "metadata": {
  "kernelspec": {
   "display_name": "Python 3",
   "language": "python",
   "name": "python3"
  },
  "language_info": {
   "codemirror_mode": {
    "name": "ipython",
    "version": 3
   },
   "file_extension": ".py",
   "mimetype": "text/x-python",
   "name": "python",
   "nbconvert_exporter": "python",
   "pygments_lexer": "ipython3",
   "version": "3.7.3"
  }
 },
 "nbformat": 4,
 "nbformat_minor": 2
}
