{
 "cells": [
  {
   "cell_type": "code",
   "execution_count": null,
   "metadata": {},
   "outputs": [],
   "source": [
    "#C\n",
    "n, t = map(int,input().split())\n",
    "\n",
    "diff = []\n",
    "time = 0\n",
    "for i in range(n):\n",
    "    a, b = map(int,input().split())\n",
    "    diff.append(a-b)\n",
    "    time += a\n",
    "diff.sort(reverse=True)\n",
    "\n",
    "ans = 0\n",
    "while time > t:\n",
    "    if ans == n:\n",
    "        print(-1)\n",
    "        exit()\n",
    "    time -= diff[ans]\n",
    "    ans += 1\n",
    "    \n",
    "print(ans)"
   ]
  }
 ],
 "metadata": {
  "kernelspec": {
   "display_name": "Python 3",
   "language": "python",
   "name": "python3"
  },
  "language_info": {
   "codemirror_mode": {
    "name": "ipython",
    "version": 3
   },
   "file_extension": ".py",
   "mimetype": "text/x-python",
   "name": "python",
   "nbconvert_exporter": "python",
   "pygments_lexer": "ipython3",
   "version": "3.7.8"
  }
 },
 "nbformat": 4,
 "nbformat_minor": 4
}
