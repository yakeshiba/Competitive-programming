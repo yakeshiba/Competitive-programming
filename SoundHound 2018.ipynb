{
 "cells": [
  {
   "cell_type": "code",
   "execution_count": null,
   "metadata": {},
   "outputs": [],
   "source": [
    "#C\n",
    "n, m, d = map(int,input().split())\n",
    "b = 0\n",
    "for i in range(m):\n",
    "    b += 2*i*Mint.comb(m-1,i)\n",
    "    print(i,b)\n",
    "\n",
    "print(b)\n",
    "\n",
    "div = 0\n",
    "for i in range(m):\n",
    "    div += 2*Mint.comb(m-1,i)\n",
    "    \n",
    "print(int(b)/int(div))"
   ]
  }
 ],
 "metadata": {
  "kernelspec": {
   "display_name": "Python 3",
   "language": "python",
   "name": "python3"
  },
  "language_info": {
   "codemirror_mode": {
    "name": "ipython",
    "version": 3
   },
   "file_extension": ".py",
   "mimetype": "text/x-python",
   "name": "python",
   "nbconvert_exporter": "python",
   "pygments_lexer": "ipython3",
   "version": "3.7.8"
  }
 },
 "nbformat": 4,
 "nbformat_minor": 4
}
