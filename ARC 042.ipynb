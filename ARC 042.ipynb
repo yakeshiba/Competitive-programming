{
 "cells": [
  {
   "cell_type": "code",
   "execution_count": null,
   "metadata": {},
   "outputs": [],
   "source": [
    "#A\n",
    "N, M = map(int,input().split())\n",
    " \n",
    "kakiko = [(0,0)]*N\n",
    "for i in range(M):\n",
    "    a = int(input())\n",
    "    kakiko[a-1] = (i,a)\n",
    "    \n",
    "kakiko.sort(reverse=True)\n",
    "    \n",
    "ans = []\n",
    "appeared = [0]*N\n",
    "for k in kakiko:\n",
    "    tmp = k[1]\n",
    "    if tmp != 0:\n",
    "        ans.append(tmp)\n",
    "        appeared[tmp-1] = 1\n",
    "    else:\n",
    "        break\n",
    "\n",
    "for f in range(N):\n",
    "    if not appeared[f]:\n",
    "        ans.append(f+1)\n",
    "\n",
    "print(*ans,sep='\\n')"
   ]
  }
 ],
 "metadata": {
  "kernelspec": {
   "display_name": "Python 3",
   "language": "python",
   "name": "python3"
  },
  "language_info": {
   "codemirror_mode": {
    "name": "ipython",
    "version": 3
   },
   "file_extension": ".py",
   "mimetype": "text/x-python",
   "name": "python",
   "nbconvert_exporter": "python",
   "pygments_lexer": "ipython3",
   "version": "3.7.3"
  }
 },
 "nbformat": 4,
 "nbformat_minor": 2
}
