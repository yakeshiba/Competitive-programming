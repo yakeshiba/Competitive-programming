{
 "cells": [
  {
   "cell_type": "code",
   "execution_count": null,
   "metadata": {},
   "outputs": [],
   "source": [
    "#\t0652:   Social Game\n",
    "a, b, c = map(int,input().split())\n",
    "\n",
    "week = 7*a+b\n",
    "\n",
    "ans = 7*(c//week)\n",
    "\n",
    "rest = c - week*(c//week)\n",
    "if 6*a >= rest:\n",
    "    ans += -(-rest//a)\n",
    "else:\n",
    "    ans += 7\n",
    "\n",
    "print(ans)"
   ]
  },
  {
   "cell_type": "code",
   "execution_count": null,
   "metadata": {},
   "outputs": [],
   "source": [
    "#\t0653:   Sugoroku and Pieces\n",
    "n = int(input())\n",
    "X = [0]+list(map(int,input().split()))\n",
    "m = int(input())\n",
    "A = list(map(int,input().split()))\n",
    "\n",
    "dominated = [0]*2020\n",
    "for x in X:\n",
    "    dominated[x] = 1\n",
    "    \n",
    "for a in A:\n",
    "    if X[a]+1 == 2020:\n",
    "        continue\n",
    "    if dominated[X[a]+1]:\n",
    "        continue\n",
    "    dominated[X[a]] = 0\n",
    "    dominated[X[a]+1] = 1\n",
    "    X[a] += 1\n",
    "\n",
    "print(*X[1:],sep=\"\\n\")"
   ]
  },
  {
   "cell_type": "code",
   "execution_count": 2,
   "metadata": {},
   "outputs": [
    {
     "name": "stdout",
     "output_type": "stream",
     "text": [
      "10.0\n",
      "10\n"
     ]
    }
   ],
   "source": [
    "#\t0654:   Circle Cross Stamps\n",
    "n = int(input())\n",
    "S = input()\n",
    "\n",
    "continue_flag = False\n",
    "ans = 0\n",
    "for i in range(n-1):\n",
    "    if continue_flag:\n",
    "        continue_flag = False\n",
    "        continue\n",
    "    if (S[i] == \"O\" and S[i+1] == \"X\") or (S[i] == \"X\" and S[i+1] == \"O\"):\n",
    "        ans += 1\n",
    "        continue_flag = True\n",
    "        \n",
    "print(ans)"
   ]
  },
  {
   "cell_type": "code",
   "execution_count": null,
   "metadata": {},
   "outputs": [],
   "source": [
    "#\t0656:   Illumination\n"
   ]
  }
 ],
 "metadata": {
  "kernelspec": {
   "display_name": "Python 3",
   "language": "python",
   "name": "python3"
  },
  "language_info": {
   "codemirror_mode": {
    "name": "ipython",
    "version": 3
   },
   "file_extension": ".py",
   "mimetype": "text/x-python",
   "name": "python",
   "nbconvert_exporter": "python",
   "pygments_lexer": "ipython3",
   "version": "3.7.8"
  }
 },
 "nbformat": 4,
 "nbformat_minor": 4
}
