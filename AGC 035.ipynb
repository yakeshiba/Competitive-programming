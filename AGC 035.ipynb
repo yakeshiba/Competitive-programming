{
 "cells": [
  {
   "cell_type": "code",
   "execution_count": null,
   "metadata": {},
   "outputs": [],
   "source": [
    "#A\n",
    "from collections import Counter\n",
    "\n",
    "n = int(input())\n",
    "A = list(map(int,input().split()))\n",
    "\n",
    "cnt = Counter(A)\n",
    "\n",
    "if len(cnt) == 1:\n",
    "    if cnt[0] == n:\n",
    "        print('Yes')\n",
    "    else:\n",
    "        print('No')\n",
    "elif len(cnt) == 2:\n",
    "    if cnt[0] == n/3:\n",
    "        print('Yes')\n",
    "    else:\n",
    "        print('No')\n",
    "elif len(cnt) == 3:\n",
    "    test = 0\n",
    "    for p in cnt.keys():\n",
    "        if cnt[p] != n/3:\n",
    "            print('No')\n",
    "            break\n",
    "        test ^= p\n",
    "    else:\n",
    "        if not test:\n",
    "            print('Yes')\n",
    "        else:\n",
    "            print('No')\n",
    "else:\n",
    "    print('No')"
   ]
  }
 ],
 "metadata": {
  "kernelspec": {
   "display_name": "Python 3",
   "language": "python",
   "name": "python3"
  },
  "language_info": {
   "codemirror_mode": {
    "name": "ipython",
    "version": 3
   },
   "file_extension": ".py",
   "mimetype": "text/x-python",
   "name": "python",
   "nbconvert_exporter": "python",
   "pygments_lexer": "ipython3",
   "version": "3.7.8"
  }
 },
 "nbformat": 4,
 "nbformat_minor": 4
}
