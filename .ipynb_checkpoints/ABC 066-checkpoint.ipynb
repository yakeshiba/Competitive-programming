{
 "cells": [
  {
   "cell_type": "code",
   "execution_count": null,
   "metadata": {},
   "outputs": [],
   "source": [
    "#C\n",
    "from collections import deque\n",
    "\n",
    "n = int(input())\n",
    "A = list(map(int,input().split()))\n",
    "B = deque([])\n",
    "\n",
    "\n",
    "for i in range(n):\n",
    "    if i%2 == 0:\n",
    "        B.append(A[i])\n",
    "    else:\n",
    "        B.appendleft(A[i])\n",
    "\n",
    "if n%2:\n",
    "    B = list(B)[::-1]\n",
    "        \n",
    "print(*B)"
   ]
  }
 ],
 "metadata": {
  "kernelspec": {
   "display_name": "Python 3",
   "language": "python",
   "name": "python3"
  },
  "language_info": {
   "codemirror_mode": {
    "name": "ipython",
    "version": 3
   },
   "file_extension": ".py",
   "mimetype": "text/x-python",
   "name": "python",
   "nbconvert_exporter": "python",
   "pygments_lexer": "ipython3",
   "version": "3.7.3"
  }
 },
 "nbformat": 4,
 "nbformat_minor": 2
}
