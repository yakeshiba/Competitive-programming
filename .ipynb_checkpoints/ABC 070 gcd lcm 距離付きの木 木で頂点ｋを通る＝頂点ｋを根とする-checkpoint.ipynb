{
 "cells": [
  {
   "cell_type": "code",
   "execution_count": 1,
   "metadata": {},
   "outputs": [
    {
     "name": "stdout",
     "output_type": "stream",
     "text": [
      "575\n",
      "Yes\n"
     ]
    }
   ],
   "source": [
    "#A\n",
    "n = input()\n",
    "if n == n[::-1]:\n",
    "    print('Yes')\n",
    "else:\n",
    "    print('No')"
   ]
  },
  {
   "cell_type": "code",
   "execution_count": 3,
   "metadata": {},
   "outputs": [
    {
     "name": "stdout",
     "output_type": "stream",
     "text": [
      "0 33 66 99\n",
      "0\n"
     ]
    }
   ],
   "source": [
    "#B\n",
    "a,b,c,d = map(int,input().split())\n",
    "print(max(min(b,d)-max(a,c),0))"
   ]
  },
  {
   "cell_type": "code",
   "execution_count": 13,
   "metadata": {},
   "outputs": [
    {
     "name": "stdout",
     "output_type": "stream",
     "text": [
      "4\n",
      "2\n",
      "6\n",
      "5\n",
      "9\n",
      "90\n"
     ]
    }
   ],
   "source": [
    "#C\n",
    "import math\n",
    "\n",
    "def lcm(a,b):\n",
    "    return a*b//math.gcd(a,b)\n",
    "\n",
    "n = int(input())\n",
    "\n",
    "ans = 1\n",
    "for i in range(n):\n",
    "    ans = lcm(ans, int(input()))\n",
    "\n",
    "print(ans)"
   ]
  },
  {
   "cell_type": "code",
   "execution_count": null,
   "metadata": {},
   "outputs": [],
   "source": [
    "#D\n",
    "from collections import deque\n",
    "N = int(input())\n",
    "edge = [[] for _ in range(N)]\n",
    "for _ in range(N-1):\n",
    "    a,b,c = map(int,input().split())\n",
    "    edge[a-1].append([b-1,c])\n",
    "    edge[b-1].append([a-1,c])\n",
    "\n",
    "distance = [-1]*N\n",
    "    \n",
    "Q,k = map(int,input().split())\n",
    "\n",
    "#根をk番目の頂点にする\n",
    "distance[k-1] = 0\n",
    "\n",
    "#注目する頂点の番号キュー\n",
    "q = deque([k-1])\n",
    "\n",
    "while q:\n",
    "    now = q.popleft()\n",
    "    for v,w in edge[now]:\n",
    "        if distance[v] != -1:#計算済み\n",
    "            continue\n",
    "        distance[v] = distance[now] + w\n",
    "        q.append(v)\n",
    "for i in range(Q):\n",
    "    x,y = map(int,input().split())\n",
    "    print(distance[x-1]+distance[y-1])"
   ]
  }
 ],
 "metadata": {
  "kernelspec": {
   "display_name": "Python 3",
   "language": "python",
   "name": "python3"
  },
  "language_info": {
   "codemirror_mode": {
    "name": "ipython",
    "version": 3
   },
   "file_extension": ".py",
   "mimetype": "text/x-python",
   "name": "python",
   "nbconvert_exporter": "python",
   "pygments_lexer": "ipython3",
   "version": "3.7.8"
  }
 },
 "nbformat": 4,
 "nbformat_minor": 2
}
