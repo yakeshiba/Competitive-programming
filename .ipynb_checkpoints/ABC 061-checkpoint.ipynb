{
 "cells": [
  {
   "cell_type": "code",
   "execution_count": 1,
   "metadata": {},
   "outputs": [
    {
     "name": "stdout",
     "output_type": "stream",
     "text": [
      "3 3\n",
      "2 1\n",
      "3 5\n",
      "1 4\n",
      "[(1, 4), (2, 1), (3, 5)]\n"
     ]
    }
   ],
   "source": [
    "N,K = map(int,input().split())\n",
    "num = [None]*N\n",
    "for i in range(N):\n",
    "    a,b = map(int,input().split())\n",
    "    num[i] = (a,b)\n",
    "num.sort()\n",
    "\n",
    "cnt = 0\n",
    "for v,n in num:\n",
    "    cnt += n\n",
    "    if cnt >= K:\n",
    "        print(v)\n",
    "        break"
   ]
  }
 ],
 "metadata": {
  "kernelspec": {
   "display_name": "Python 3",
   "language": "python",
   "name": "python3"
  },
  "language_info": {
   "codemirror_mode": {
    "name": "ipython",
    "version": 3
   },
   "file_extension": ".py",
   "mimetype": "text/x-python",
   "name": "python",
   "nbconvert_exporter": "python",
   "pygments_lexer": "ipython3",
   "version": "3.7.3"
  }
 },
 "nbformat": 4,
 "nbformat_minor": 2
}
