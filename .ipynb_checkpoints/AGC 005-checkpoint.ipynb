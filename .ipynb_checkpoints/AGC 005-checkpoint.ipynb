{
 "cells": [
  {
   "cell_type": "code",
   "execution_count": null,
   "metadata": {},
   "outputs": [],
   "source": [
    "X = input()\n",
    "\n",
    "ans = len(X)\n",
    "s = 0\n",
    "for x in X:\n",
    "    if x == \"S\":\n",
    "        s += 1\n",
    "    else:\n",
    "        if s:\n",
    "            ans -= 2\n",
    "            s -= 1\n",
    "print(ans)"
   ]
  }
 ],
 "metadata": {
  "kernelspec": {
   "display_name": "Python 3",
   "language": "python",
   "name": "python3"
  },
  "language_info": {
   "codemirror_mode": {
    "name": "ipython",
    "version": 3
   },
   "file_extension": ".py",
   "mimetype": "text/x-python",
   "name": "python",
   "nbconvert_exporter": "python",
   "pygments_lexer": "ipython3",
   "version": "3.7.3"
  }
 },
 "nbformat": 4,
 "nbformat_minor": 2
}
