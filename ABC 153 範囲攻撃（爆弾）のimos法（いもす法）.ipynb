{
 "cells": [
  {
   "cell_type": "code",
   "execution_count": null,
   "metadata": {},
   "outputs": [],
   "source": [
    "#A\n",
    "H, A = map(int,input().split())\n",
    "print(-(-H//A))"
   ]
  },
  {
   "cell_type": "code",
   "execution_count": null,
   "metadata": {},
   "outputs": [],
   "source": [
    "#B\n",
    "h, n = map(int,input().split())\n",
    "A = list(map(int,input().split()))\n",
    "\n",
    "if h <= sum(A):\n",
    "    print('Yes')\n",
    "else:\n",
    "    print('No')"
   ]
  },
  {
   "cell_type": "code",
   "execution_count": null,
   "metadata": {},
   "outputs": [],
   "source": [
    "#C\n",
    "N,K = map(int,input().split())\n",
    "HP = list(map(int,input().split()))\n",
    "HP.sort(reverse=True)\n",
    "ans = sum(HP[K:])\n",
    "print(ans)"
   ]
  },
  {
   "cell_type": "code",
   "execution_count": null,
   "metadata": {},
   "outputs": [],
   "source": [
    "#D\n",
    "h = int(input())\n",
    "\n",
    "cnt = 0\n",
    "while h:\n",
    "    h //= 2\n",
    "    cnt += 1\n",
    "\n",
    "print(2**cnt-1)"
   ]
  },
  {
   "cell_type": "code",
   "execution_count": null,
   "metadata": {},
   "outputs": [],
   "source": [
    "#E\n",
    "import sys\n",
    "\n",
    "def main(args):\n",
    "    h, n = map(int,input().split())\n",
    "    \n",
    "    magic = [0]*n\n",
    "    maxim = 0\n",
    "    for i in range(n):\n",
    "        dam, mp = map(int,input().split())\n",
    "        magic[i] = (dam, mp)\n",
    "        maxim = max(maxim, dam)\n",
    "    \n",
    "    damage = [float('inf')]*(2*10**4)\n",
    "    damage[0] = 0\n",
    "    for i in range(max(2*h, 2*maxim)):\n",
    "        for m in magic:\n",
    "            dam, mp = m\n",
    "            damage[i] = min(damage[i-dam]+mp, damage[i])\n",
    "    \n",
    "    print(min(damage[h:]))\n",
    "\n",
    "if __name__ == '__main__':\n",
    "    main(sys.argv[1:])"
   ]
  },
  {
   "cell_type": "code",
   "execution_count": null,
   "metadata": {},
   "outputs": [],
   "source": [
    "#F\n",
    "import bisect\n",
    "import itertools\n",
    "import sys\n",
    "\n",
    "input=sys.stdin.readline\n",
    "\n",
    "def main(args):\n",
    "    n, d, a = map(int,input().split())\n",
    "    \n",
    "    monster = [0]*n\n",
    "    pos = [0]*n\n",
    "    for i in range(n):\n",
    "        x, h = map(int,input().split())\n",
    "        monster[i] = (x, -(-h//a))\n",
    "        pos[i] = x\n",
    "    \n",
    "    pos.sort()\n",
    "    monster.sort()\n",
    "    \n",
    "    limit = [0]*n\n",
    "    #そのモンスターを攻撃したとき巻き添えにできるやつらの中で一番右のヤツのindex\n",
    "    for i in range(n):\n",
    "        limit[i] = bisect.bisect_right(pos, pos[i]+2*d)-1\n",
    "    \n",
    "    #print(limit)\n",
    "    \n",
    "    damage = [0]*(n+1)\n",
    "    ans = 0\n",
    "    for i in range(n):\n",
    "        if damage[i] >= monster[i][1]:\n",
    "            pass\n",
    "        else:\n",
    "            plus = monster[i][1] - damage[i]\n",
    "            ans += plus\n",
    "            damage[i] += plus\n",
    "            damage[limit[i]+1] -= plus\n",
    "        #print(damage)\n",
    "        \n",
    "        damage[i+1] += damage[i]\n",
    "    \n",
    "    print(ans)\n",
    "\n",
    "if __name__ == '__main__':\n",
    "    main(sys.argv[1:])"
   ]
  }
 ],
 "metadata": {
  "kernelspec": {
   "display_name": "Python 3",
   "language": "python",
   "name": "python3"
  },
  "language_info": {
   "codemirror_mode": {
    "name": "ipython",
    "version": 3
   },
   "file_extension": ".py",
   "mimetype": "text/x-python",
   "name": "python",
   "nbconvert_exporter": "python",
   "pygments_lexer": "ipython3",
   "version": "3.7.3"
  }
 },
 "nbformat": 4,
 "nbformat_minor": 2
}
