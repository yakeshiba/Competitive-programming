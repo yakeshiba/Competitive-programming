{
 "cells": [
  {
   "cell_type": "code",
   "execution_count": 4,
   "metadata": {},
   "outputs": [
    {
     "name": "stdout",
     "output_type": "stream",
     "text": [
      "1 2 3\n",
      "No\n"
     ]
    }
   ],
   "source": [
    "A = list(map(int,input().split()))\n",
    "l = set(A)\n",
    "if len(l) == 2:\n",
    "    print(\"Yes\")\n",
    "else:\n",
    "    print(\"No\")"
   ]
  },
  {
   "cell_type": "code",
   "execution_count": 10,
   "metadata": {},
   "outputs": [
    {
     "name": "stdout",
     "output_type": "stream",
     "text": [
      "3\n",
      "28 27 24\n",
      "DENIED\n"
     ]
    }
   ],
   "source": [
    "N = int(input())\n",
    "A = list(map(int,input().split()))\n",
    "for i in range(N):\n",
    "    if A[i]%2 == 0:\n",
    "        if A[i]%3 == 0 or A[i]%5 == 0:\n",
    "            pass\n",
    "        else:\n",
    "            print(\"DENIED\")\n",
    "            break\n",
    "else:\n",
    "    print(\"APPROVED\")"
   ]
  },
  {
   "cell_type": "code",
   "execution_count": null,
   "metadata": {},
   "outputs": [],
   "source": [
    "from collections import Counter\n",
    "N = int(input())\n",
    "words = [0]*N\n",
    "for i in range(N):\n",
    "    words[i] = input()\n",
    "counter = Counter(words)\n",
    "cnt = max(counter.values())\n",
    "ans = []\n",
    "for key,value in counter.items():\n",
    "    if value == cnt:\n",
    "        ans.append(key)\n",
    "ans.sort()\n",
    "print(*ans,sep=\"\\n\")"
   ]
  },
  {
   "cell_type": "code",
   "execution_count": null,
   "metadata": {},
   "outputs": [],
   "source": []
  }
 ],
 "metadata": {
  "kernelspec": {
   "display_name": "Python 3",
   "language": "python",
   "name": "python3"
  },
  "language_info": {
   "codemirror_mode": {
    "name": "ipython",
    "version": 3
   },
   "file_extension": ".py",
   "mimetype": "text/x-python",
   "name": "python",
   "nbconvert_exporter": "python",
   "pygments_lexer": "ipython3",
   "version": "3.7.3"
  }
 },
 "nbformat": 4,
 "nbformat_minor": 2
}
