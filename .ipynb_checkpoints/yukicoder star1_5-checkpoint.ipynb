{
 "cells": [
  {
   "cell_type": "code",
   "execution_count": 4,
   "metadata": {},
   "outputs": [
    {
     "name": "stdout",
     "output_type": "stream",
     "text": [
      "2 7\n",
      "20.833333331249882\n"
     ]
    }
   ],
   "source": [
    "#1009\n",
    "def f(x):\n",
    "    return (x-a)*(x-b)\n",
    "\n",
    "a,b = map(int,input().split())\n",
    "\n",
    "N = 100000\n",
    "step = (b-a)/N\n",
    "ans = 0\n",
    "for i in range(N):\n",
    "    x = a + step*i\n",
    "    ans += step*abs(f(x))\n",
    "print(ans)"
   ]
  },
  {
   "cell_type": "code",
   "execution_count": null,
   "metadata": {},
   "outputs": [],
   "source": [
    "#1005\n",
    "S = input()\n",
    "T = input()\n",
    "if len(T)==1:\n",
    "    if T in S:\n",
    "        print(-1)\n",
    "    else:\n",
    "        print(0)\n",
    "else:\n",
    "    ans = 0\n",
    "    i = 0\n",
    "    while i < len(S):\n",
    "        if S[i] == T[0]:\n",
    "            if S[i:i+len(T)] == T:\n",
    "                ans += 1\n",
    "                i += len(T)-1\n",
    "            else:\n",
    "                i += 1\n",
    "        else:\n",
    "            i += 1\n",
    "    print(ans)"
   ]
  },
  {
   "cell_type": "code",
   "execution_count": 10,
   "metadata": {},
   "outputs": [
    {
     "name": "stdout",
     "output_type": "stream",
     "text": [
      "2 1\n",
      "1 2\n",
      "0\n"
     ]
    }
   ],
   "source": [
    "#994\n",
    "N,K = map(int,input().split())\n",
    "edge = [[] for _ in range(N)]\n",
    "for _ in range(N-1):\n",
    "    a,b = map(int,input().split())\n",
    "    edge[a-1].append(b-1)\n",
    "    edge[b-1].append(a-1)\n",
    "if N < K:\n",
    "    print(-1)\n",
    "else:\n",
    "    print(K-1)"
   ]
  },
  {
   "cell_type": "code",
   "execution_count": 15,
   "metadata": {
    "scrolled": true
   },
   "outputs": [
    {
     "name": "stdout",
     "output_type": "stream",
     "text": [
      "s\n"
     ]
    },
    {
     "ename": "ValueError",
     "evalue": "invalid literal for int() with base 10: 's'",
     "output_type": "error",
     "traceback": [
      "\u001b[1;31m---------------------------------------------------------------------------\u001b[0m",
      "\u001b[1;31mValueError\u001b[0m                                Traceback (most recent call last)",
      "\u001b[1;32m<ipython-input-15-ace6e8cc0862>\u001b[0m in \u001b[0;36m<module>\u001b[1;34m\u001b[0m\n\u001b[0;32m      1\u001b[0m \u001b[1;31m#988\u001b[0m\u001b[1;33m\u001b[0m\u001b[1;33m\u001b[0m\u001b[1;33m\u001b[0m\u001b[0m\n\u001b[0;32m      2\u001b[0m \u001b[1;32mimport\u001b[0m \u001b[0mcollections\u001b[0m\u001b[1;33m\u001b[0m\u001b[1;33m\u001b[0m\u001b[0m\n\u001b[1;32m----> 3\u001b[1;33m \u001b[0mN\u001b[0m\u001b[1;33m,\u001b[0m\u001b[0mM\u001b[0m\u001b[1;33m,\u001b[0m\u001b[0mK\u001b[0m \u001b[1;33m=\u001b[0m \u001b[0mmap\u001b[0m\u001b[1;33m(\u001b[0m\u001b[0mint\u001b[0m\u001b[1;33m,\u001b[0m\u001b[0minput\u001b[0m\u001b[1;33m(\u001b[0m\u001b[1;33m)\u001b[0m\u001b[1;33m.\u001b[0m\u001b[0msplit\u001b[0m\u001b[1;33m(\u001b[0m\u001b[1;33m)\u001b[0m\u001b[1;33m)\u001b[0m\u001b[1;33m\u001b[0m\u001b[1;33m\u001b[0m\u001b[0m\n\u001b[0m\u001b[0;32m      4\u001b[0m \u001b[0mB\u001b[0m \u001b[1;33m=\u001b[0m \u001b[0minput\u001b[0m\u001b[1;33m(\u001b[0m\u001b[1;33m)\u001b[0m\u001b[1;33m\u001b[0m\u001b[1;33m\u001b[0m\u001b[0m\n\u001b[0;32m      5\u001b[0m \u001b[0mop\u001b[0m \u001b[1;33m=\u001b[0m \u001b[0mB\u001b[0m\u001b[1;33m[\u001b[0m\u001b[1;36m0\u001b[0m\u001b[1;33m]\u001b[0m\u001b[1;33m\u001b[0m\u001b[1;33m\u001b[0m\u001b[0m\n",
      "\u001b[1;31mValueError\u001b[0m: invalid literal for int() with base 10: 's'"
     ]
    }
   ],
   "source": [
    "#988\n",
    "N,M,K = map(int,input().split())\n",
    "B = input()\n",
    "op = B[0]\n",
    "B = list(map(int,B[1:].split()))\n",
    "\n",
    "A = [None]*N\n",
    "for i in range(N):\n",
    "    A[i] = int(input())\n",
    "\n",
    "if op == \"+\":\n",
    "    print((N*sum(B)+M*sum(A))%K)\n",
    "else:\n",
    "    ans = 0\n",
    "    sb = sum(B)\n",
    "    for a in A:\n",
    "        ans += a*sb\n",
    "    print(ans%K)"
   ]
  },
  {
   "cell_type": "code",
   "execution_count": 19,
   "metadata": {},
   "outputs": [
    {
     "name": "stdout",
     "output_type": "stream",
     "text": [
      "1152919305583591425\n",
      "3377698646784256\n"
     ]
    }
   ],
   "source": [
    "#976\n",
    "M = int(input())\n",
    "print(pow(2,128,M))"
   ]
  },
  {
   "cell_type": "code",
   "execution_count": 53,
   "metadata": {},
   "outputs": [
    {
     "name": "stdout",
     "output_type": "stream",
     "text": [
      "321\n",
      "312\n"
     ]
    }
   ],
   "source": [
    "#927\n",
    "import numpy as np\n",
    "X = list(map(int,input()))\n",
    "X.sort(reverse=True)\n",
    "npX = np.array(X)\n",
    "mins = np.count_nonzero(npX==X[-1])\n",
    "#print(npX)\n",
    "#print(mins)\n",
    "if X[0] == X[-1]:\n",
    "    print(-1)\n",
    "else:\n",
    "    ans = X[:len(X)-(mins+1)]+[X[-1]]+[X[-(mins+1)]]+[X[-1]]*(mins-1)\n",
    "    if ans[0] == 0:\n",
    "        print(-1)\n",
    "    else:\n",
    "        print(\"\".join(map(str,list(ans))))"
   ]
  },
  {
   "cell_type": "code",
   "execution_count": null,
   "metadata": {},
   "outputs": [],
   "source": [
    "#897\n",
    "#K分木の高さ\n",
    "import sys\n",
    "input=sys.stdin.readline\n",
    "def main():\n",
    "    Q = int(input())\n",
    "    for i in range(Q):\n",
    "        tmp = 1\n",
    "        i = 1\n",
    "        N,K = map(int,input().split())\n",
    "        if K == 1:\n",
    "            print(N-1)\n",
    "        else:\n",
    "            while tmp < N:\n",
    "                tmp += K**i\n",
    "                i += 1\n",
    "            print(i-1)\n",
    "if __name__ == '__main__':\n",
    "    main()"
   ]
  },
  {
   "cell_type": "code",
   "execution_count": null,
   "metadata": {},
   "outputs": [],
   "source": [
    "#893\n",
    "from collections import deque\n",
    "N = int(input())\n",
    "P = [0]*N\n",
    "A = [[None] for _ in range(N)]\n",
    "ans = deque([])\n",
    "for i in range(N):\n",
    "    tmp = list(map(int,input().split()))\n",
    "    P[i] = tmp[0]\n",
    "    A[i] = tmp[1:]\n",
    "\n",
    "for i in range(max(P)):\n",
    "    for j in range(N):\n",
    "        try:\n",
    "            ans.append(A[j][i]) \n",
    "        except IndexError:\n",
    "            continue\n",
    "print(*ans)"
   ]
  },
  {
   "cell_type": "code",
   "execution_count": 93,
   "metadata": {},
   "outputs": [
    {
     "name": "stdout",
     "output_type": "stream",
     "text": [
      "2\n",
      "Sosu!\n"
     ]
    }
   ],
   "source": [
    "#889\n",
    "#完全数\n",
    "N = int(input())\n",
    "\n",
    "flag = True\n",
    "yakusu = []\n",
    "for i in range(2,N//2+2):\n",
    "    if N%i == 0:\n",
    "        if N/(i**2) == 1:\n",
    "            print(\"Heihosu!\")\n",
    "            flag = False\n",
    "        if N/(i**3) == 1:\n",
    "            print('Ripposu!')\n",
    "            flag = False\n",
    "        yakusu.append(i)\n",
    "if flag:\n",
    "    if len(yakusu) == 0:\n",
    "        if N==1 or N==0:\n",
    "            print(N)\n",
    "        else:\n",
    "            print(\"Sosu!\")\n",
    "    else:\n",
    "        if sum(yakusu)+1 == N:\n",
    "            print('Kanzensu!')\n",
    "        else:\n",
    "            if N==2:\n",
    "                print('Sosu!')\n",
    "            else:\n",
    "                print(N)"
   ]
  },
  {
   "cell_type": "code",
   "execution_count": 106,
   "metadata": {},
   "outputs": [
    {
     "name": "stdout",
     "output_type": "stream",
     "text": [
      "1\n",
      "1\n"
     ]
    }
   ],
   "source": [
    "#888 約数の総和 公式あり\n",
    "N = int(input())\n",
    "def factorization(n):\n",
    "    arr = []\n",
    "    temp = n\n",
    "    for i in range(2, int(-(-n**0.5//1))+1):\n",
    "        if temp%i==0:\n",
    "            cnt=0\n",
    "            while temp%i==0:\n",
    "                cnt+=1\n",
    "                temp //= i\n",
    "            arr.append([i, cnt])\n",
    "\n",
    "    if temp!=1:\n",
    "        arr.append([temp, 1])\n",
    "\n",
    "    if arr==[]:\n",
    "        arr.append([n, 1])\n",
    "\n",
    "    return arr\n",
    "if N==1:\n",
    "    print(1)\n",
    "else:\n",
    "    p = factorization(N)\n",
    "    ans = 1\n",
    "    for lst in p:\n",
    "        ans *= int((lst[0]**(lst[1]+1)-1)/(lst[0]-1))\n",
    "    print(ans)"
   ]
  },
  {
   "cell_type": "code",
   "execution_count": 109,
   "metadata": {},
   "outputs": [
    {
     "name": "stdout",
     "output_type": "stream",
     "text": [
      "5 8 2\n",
      "2\n"
     ]
    }
   ],
   "source": [
    "#810 割ったあまりの個数（種類数）\n",
    "l,r,m = map(int,input().split())\n",
    "if r - l >= m:\n",
    "    print(m)\n",
    "else:\n",
    "    if l%m > r%m:\n",
    "        print((m-(l%m)+1)+r%m)\n",
    "    else:\n",
    "        print(r%m-l%m+1)"
   ]
  },
  {
   "cell_type": "code",
   "execution_count": 113,
   "metadata": {},
   "outputs": [
    {
     "name": "stdout",
     "output_type": "stream",
     "text": [
      "4\n",
      "UMGU\n",
      "{0, 3}\n"
     ]
    }
   ],
   "source": [
    "#805\n",
    "from collections import deque\n",
    "N = int(input())\n",
    "S = input()\n",
    "\n",
    "U = deque([])\n",
    "M = deque([])\n",
    "G = deque([])\n",
    "\n",
    "for i,s in enumerate(S):\n",
    "    if s == \"U\":\n",
    "        U.append(i)\n",
    "    elif s == \"M\":\n",
    "        M.append(i)\n",
    "    else:\n",
    "        G.append(i)\n",
    "\n",
    "U,M,G = set(U),set(M),set(G)\n",
    "ans = 0\n",
    "\n",
    "flag = True\n",
    "try:\n",
    "    minU = min(U)\n",
    "    maxM = max(M)\n",
    "    maxG = max(G)\n",
    "except ValueError:\n",
    "    flag = False\n",
    "    print(0)\n",
    "\n",
    "step = 1\n",
    "if flag:\n",
    "    while True:\n",
    "        if minU+step > maxM or minU+2*step > maxG:\n",
    "            break\n",
    "        for n in U:\n",
    "            if n+step in M and n+2*step in G:\n",
    "                ans += 1\n",
    "        step += 1\n",
    "    print(ans)"
   ]
  },
  {
   "cell_type": "code",
   "execution_count": null,
   "metadata": {},
   "outputs": [],
   "source": [
    "#754 畳み込みの和\n",
    "mod = 10**9+7\n",
    "n = int(input())\n",
    "a = [None]*(n+1)\n",
    "b = [None]*(n+1)\n",
    "for i in range(n+1):\n",
    "    a[i] = int(input())\n",
    "for i in range(n+1):\n",
    "    b[i] = int(input())\n",
    "\n",
    "ans = 0\n",
    "sumb = sum(b)\n",
    "for i in range(1,n+2):\n",
    "    ans += a[i-1]*sumb%mod\n",
    "    sumb -= b[-i]\n",
    "\n",
    "print(ans%mod)"
   ]
  },
  {
   "cell_type": "code",
   "execution_count": null,
   "metadata": {},
   "outputs": [],
   "source": [
    "#846\n",
    "p,q,r = map(int,input().split())\n",
    "gold,sil,bro = map(int,input().split())\n",
    "\n",
    "gold_l = (gold-1)*p+1#金の情報だけで推測できるNの最小値\n",
    "gold_r = gold*p#最大値\n",
    "\n",
    "#print(gold_l,gold_r)\n",
    "\n",
    "sil_l = (sil+gold-1)*q+1\n",
    "sil_r = (sil+gold)*q\n",
    "\n",
    "#print(sil_l,sil_r)\n",
    "\n",
    "bro_l = (bro+gold+sil-1)*r+1\n",
    "bro_r = (bro+gold+sil)*r\n",
    "\n",
    "left = max(gold_l,sil_l,bro_l)\n",
    "right = min(gold_r,sil_r,bro_r)\n",
    "if left>right:\n",
    "    print(-1)\n",
    "else:\n",
    "    print(left,right)"
   ]
  },
  {
   "cell_type": "code",
   "execution_count": 123,
   "metadata": {},
   "outputs": [
    {
     "name": "stdout",
     "output_type": "stream",
     "text": [
      "-123 -456\n",
      "56088\n"
     ]
    }
   ],
   "source": [
    "#722\n",
    "a,b = map(int,input().split())\n",
    "def calc(a,b):\n",
    "    if abs(a*b) > 99999999:\n",
    "        return 'E'\n",
    "    else:\n",
    "        return a*b\n",
    "if a==0 or b==0:\n",
    "    print(0)\n",
    "elif a-(a//abs(a))*int(str(abs(a))[0])*(10**(len(str(abs(a)))-1)) == 0 and  b-(b//abs(b))*int(str(abs(b))[0])*(10**(len(str(abs(b)))-1)) == 0:\n",
    "    if abs(a) >= 100 and abs(b) >= 100:\n",
    "        print(a*b//10)\n",
    "    else:\n",
    "        print(calc(a,b))\n",
    "else:\n",
    "    print(calc(a,b))"
   ]
  },
  {
   "cell_type": "code",
   "execution_count": 125,
   "metadata": {},
   "outputs": [
    {
     "name": "stdout",
     "output_type": "stream",
     "text": [
      "16777216\n"
     ]
    }
   ],
   "source": [
    "#785 色くい虫\n",
    "r = input()\n",
    "g = input()\n",
    "b = input()\n",
    "col = []\n",
    "if r != 'NONE':\n",
    "    col.append(list(r.split(\",\")))\n",
    "if g != 'NONE':\n",
    "    col.append(list(g.split(\",\")))\n",
    "if b != 'NONE':\n",
    "    col.append(list(b.split(\",\")))\n",
    "ans = 1\n",
    "for s in col:\n",
    "    ans *= (16-len(s))**2\n",
    "ans2 = ans*(16**2)**(3-len(col))\n",
    "print(max(ans,ans2))"
   ]
  },
  {
   "cell_type": "code",
   "execution_count": 127,
   "metadata": {},
   "outputs": [
    {
     "name": "stdout",
     "output_type": "stream",
     "text": [
      "11289600\n"
     ]
    }
   ],
   "source": [
    "#745 letinopia raoha\n",
    "a,b,c,d = map(int,input().split())\n",
    "if d >= 10:\n",
    "    print('Impossible')\n",
    "else:\n",
    "    combo = a+b\n",
    "    bonus = combo//100#何回2倍されたか\n",
    "    rest = combo%100#端数\n",
    "    print(combo)\n",
    "    print(bonus)\n",
    "    print(rest)\n",
    "    ans = 0\n",
    "    for i in range(bonus+1):\n",
    "        if i == bonus:\n",
    "            ans += rest*(100*2**(i))\n",
    "            print(i,ans)\n",
    "        else:\n",
    "            ans += 100*(100*2**(i))#100ノーツ分のスコア\n",
    "            print(i,ans)\n",
    "    print('Posiible')\n",
    "    print(ans)"
   ]
  }
 ],
 "metadata": {
  "kernelspec": {
   "display_name": "Python 3",
   "language": "python",
   "name": "python3"
  },
  "language_info": {
   "codemirror_mode": {
    "name": "ipython",
    "version": 3
   },
   "file_extension": ".py",
   "mimetype": "text/x-python",
   "name": "python",
   "nbconvert_exporter": "python",
   "pygments_lexer": "ipython3",
   "version": "3.7.3"
  }
 },
 "nbformat": 4,
 "nbformat_minor": 2
}
