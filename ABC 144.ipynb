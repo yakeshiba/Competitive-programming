{
 "cells": [
  {
   "cell_type": "code",
   "execution_count": null,
   "metadata": {},
   "outputs": [],
   "source": [
    "#A\n",
    "import sys \n",
    "stdin = sys.stdin \n",
    "ns = lambda: stdin.readline().rstrip()\n",
    "ni = lambda: int(stdin.readline().rstrip())\n",
    "nm = lambda: map(int, stdin.readline().split())\n",
    "nl = lambda: list(map(int, stdin.readline().split()))\n",
    "A,B = nm()\n",
    "if A >= 10 or B >= 10:\n",
    "    print(-1)\n",
    "else:\n",
    "    print(A*B)"
   ]
  },
  {
   "cell_type": "code",
   "execution_count": 18,
   "metadata": {},
   "outputs": [
    {
     "name": "stdout",
     "output_type": "stream",
     "text": [
      "1\n",
      "Yes\n"
     ]
    }
   ],
   "source": [
    "#B\n",
    "N = int(input())\n",
    "flag = False\n",
    "if N == 1:\n",
    "    flag = True\n",
    "for i in range(1,9):\n",
    "    if N%(10-i) == 0:\n",
    "        N = N//(10-i)\n",
    "        flag = True\n",
    "        break\n",
    "if 1<=N<=9 and flag:\n",
    "    print(\"Yes\")\n",
    "else:\n",
    "\n",
    "    print(\"No\")"
   ]
  },
  {
   "cell_type": "code",
   "execution_count": 26,
   "metadata": {},
   "outputs": [
    {
     "name": "stdout",
     "output_type": "stream",
     "text": [
      "10000000019\n",
      "10000000018\n"
     ]
    }
   ],
   "source": [
    "#C\n",
    "N = int(input())\n",
    "ans = []\n",
    "for i in range(2,int(N**(1/2))+1):\n",
    "    tmp = N\n",
    "    if N%i == 0:\n",
    "        tmp = tmp//i\n",
    "        ans.append(i-1+tmp-1)\n",
    "if len(ans) != 0:\n",
    "    print(min(ans))\n",
    "else:\n",
    "    print(N-1)"
   ]
  },
  {
   "cell_type": "code",
   "execution_count": 33,
   "metadata": {},
   "outputs": [
    {
     "name": "stdout",
     "output_type": "stream",
     "text": [
      "3 1 8\n",
      "4.236394799058842\n"
     ]
    }
   ],
   "source": [
    "#D\n",
    "import math\n",
    "a,b,x = map(int,input().split())\n",
    "if x <= (1/2)*b*a**2:\n",
    "    rad = math.atan((a*b**2)/(2*x))\n",
    "else:\n",
    "    rad = math.atan((2/a)*(b-(x/a**2)))\n",
    "deg = math.degrees(rad)\n",
    "print(deg)"
   ]
  }
 ],
 "metadata": {
  "kernelspec": {
   "display_name": "Python 3",
   "language": "python",
   "name": "python3"
  },
  "language_info": {
   "codemirror_mode": {
    "name": "ipython",
    "version": 3
   },
   "file_extension": ".py",
   "mimetype": "text/x-python",
   "name": "python",
   "nbconvert_exporter": "python",
   "pygments_lexer": "ipython3",
   "version": "3.7.3"
  }
 },
 "nbformat": 4,
 "nbformat_minor": 2
}
