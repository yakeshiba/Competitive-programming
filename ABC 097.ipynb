{
 "cells": [
  {
   "cell_type": "code",
   "execution_count": 8,
   "metadata": {},
   "outputs": [
    {
     "name": "stdout",
     "output_type": "stream",
     "text": [
      "ds\n",
      "1\n",
      "d\n"
     ]
    }
   ],
   "source": [
    "#C\n",
    "s = input()\n",
    "K = int(input())\n",
    "d = list()\n",
    "\n",
    "for start in range(len(s)):\n",
    "    for last in range(start,start+5):\n",
    "        if s[start:last+1] not in d:\n",
    "            d.append(s[start:last+1])\n",
    "\n",
    "d.sort()\n",
    "print(d[K-1])"
   ]
  }
 ],
 "metadata": {
  "kernelspec": {
   "display_name": "Python 3",
   "language": "python",
   "name": "python3"
  },
  "language_info": {
   "codemirror_mode": {
    "name": "ipython",
    "version": 3
   },
   "file_extension": ".py",
   "mimetype": "text/x-python",
   "name": "python",
   "nbconvert_exporter": "python",
   "pygments_lexer": "ipython3",
   "version": "3.7.3"
  }
 },
 "nbformat": 4,
 "nbformat_minor": 2
}
