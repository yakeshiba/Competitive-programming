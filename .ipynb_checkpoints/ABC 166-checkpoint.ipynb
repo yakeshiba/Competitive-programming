{
 "cells": [
  {
   "cell_type": "code",
   "execution_count": null,
   "metadata": {},
   "outputs": [],
   "source": [
    "#A\n",
    "S = input()\n",
    "if S == \"ABC\":\n",
    "    print('ARC')\n",
    "else:\n",
    "    print('ABC')"
   ]
  },
  {
   "cell_type": "code",
   "execution_count": null,
   "metadata": {},
   "outputs": [],
   "source": [
    "#B\n",
    "import numpy as np\n",
    "N, K = map(int,input().split())\n",
    "A = np.array([0]*N)\n",
    "for i in range(K):\n",
    "    d = input()\n",
    "    have = list(map(int,input().split()))\n",
    "    for a in have:\n",
    "        A[a-1] += 1\n",
    "print(len(A[A==0]))"
   ]
  },
  {
   "cell_type": "code",
   "execution_count": null,
   "metadata": {},
   "outputs": [],
   "source": [
    "#C\n",
    "N,M = map(int,input().split())\n",
    "H = list(map(int,input().split()))\n",
    "\n",
    "way = [set([]) for _ in range(N)]\n",
    "for i in range(M):\n",
    "    a,b = map(int,input().split())\n",
    "    way[a-1].add(b-1)\n",
    "    way[b-1].add(a-1)\n",
    "\n",
    "height = [[] for _ in range(N)]\n",
    "for i in range(N):\n",
    "    for tower in way[i]:\n",
    "        height[i].append(H[tower])\n",
    "\n",
    "ans = 0\n",
    "for i in range(N):\n",
    "    if len(way[i]) == 0:\n",
    "        ans += 1\n",
    "        continue\n",
    "    if H[i] > max(height[i]):\n",
    "        ans += 1\n",
    "\n",
    "print(ans)"
   ]
  },
  {
   "cell_type": "code",
   "execution_count": null,
   "metadata": {},
   "outputs": [],
   "source": [
    "#D\n",
    "X = int(input())\n",
    "for i in range(-200,200):\n",
    "    for j in range(-200,200):\n",
    "        if i**5-j**5 == X:\n",
    "            print(i,j)\n",
    "            break\n",
    "    else:\n",
    "        continue\n",
    "    break"
   ]
  },
  {
   "cell_type": "code",
   "execution_count": null,
   "metadata": {},
   "outputs": [],
   "source": [
    "#E\n",
    "n = int(input())\n",
    "A = list(map(int,input().split()))\n",
    "\n",
    "num = {}\n",
    "ans = 0\n",
    "for i, v in enumerate(A):\n",
    "    p = v+i\n",
    "    m = i-v\n",
    "    if p not in num:\n",
    "        num[p] = 1\n",
    "    else:\n",
    "        num[p] += 1\n",
    "    if m in num:\n",
    "        ans += num[m]\n",
    "print(ans)"
   ]
  }
 ],
 "metadata": {
  "kernelspec": {
   "display_name": "Python 3",
   "language": "python",
   "name": "python3"
  },
  "language_info": {
   "codemirror_mode": {
    "name": "ipython",
    "version": 3
   },
   "file_extension": ".py",
   "mimetype": "text/x-python",
   "name": "python",
   "nbconvert_exporter": "python",
   "pygments_lexer": "ipython3",
   "version": "3.7.8"
  }
 },
 "nbformat": 4,
 "nbformat_minor": 2
}
