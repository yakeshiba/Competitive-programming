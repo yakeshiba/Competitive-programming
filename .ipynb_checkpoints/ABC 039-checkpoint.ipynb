{
 "cells": [
  {
   "cell_type": "code",
   "execution_count": null,
   "metadata": {},
   "outputs": [],
   "source": [
    "#C\n",
    "S = input()\n",
    "\n",
    "first = None\n",
    "second = None\n",
    "for i in range(len(S)-1):\n",
    "    if S[i] == \"W\" and S[i+1] == \"W\" and first == None:\n",
    "        first = i\n",
    "    elif S[i] == \"W\" and S[i+1] == \"W\" and first != None:\n",
    "        second = i\n",
    "        break\n",
    "    \n",
    "#print(first)\n",
    "#print(second)\n",
    "\n",
    "#C~E EFが最初に来るとき\n",
    "if second-first == 7:\n",
    "    if first == 4:\n",
    "        print('Do')\n",
    "    elif first == 2:\n",
    "        print('Re')\n",
    "    elif first == 0:\n",
    "        print('Mi')\n",
    "else:#F~B\n",
    "    if first == 6:\n",
    "        print('Fa')\n",
    "    elif first == 4:\n",
    "        print('So')\n",
    "    elif first == 2:\n",
    "        print('La')\n",
    "    elif first == 0:\n",
    "        print('Si')"
   ]
  }
 ],
 "metadata": {
  "kernelspec": {
   "display_name": "Python 3",
   "language": "python",
   "name": "python3"
  },
  "language_info": {
   "codemirror_mode": {
    "name": "ipython",
    "version": 3
   },
   "file_extension": ".py",
   "mimetype": "text/x-python",
   "name": "python",
   "nbconvert_exporter": "python",
   "pygments_lexer": "ipython3",
   "version": "3.7.3"
  }
 },
 "nbformat": 4,
 "nbformat_minor": 2
}
