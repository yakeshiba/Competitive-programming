{
 "cells": [
  {
   "cell_type": "code",
   "execution_count": null,
   "metadata": {},
   "outputs": [],
   "source": [
    "#C\n",
    "import itertools\n",
    "\n",
    "def solve(cs):#初項>0\n",
    "    ans = 0\n",
    "    diff = 0\n",
    "    for i in range(len(cs)):\n",
    "        if i%2 == 1:\n",
    "            if cs[i]+diff < 0:\n",
    "                continue\n",
    "            ans += abs(cs[i]+diff)+1\n",
    "            diff += -abs(cs[i]+diff)-1\n",
    "        else:\n",
    "            if (cs[i]+diff) > 0:\n",
    "                continue\n",
    "            ans += abs(cs[i]+diff)+1\n",
    "            diff += abs(cs[i]+diff)+1\n",
    "            \n",
    "    return ans\n",
    "\n",
    "def solvem(cs):\n",
    "    ans = 0\n",
    "    diff = 0\n",
    "    for i in range(len(cs)):\n",
    "        if i%2 == 1:\n",
    "            if cs[i]+diff > 0:\n",
    "                continue\n",
    "            ans += abs(cs[i]+diff)+1\n",
    "            diff += abs(cs[i]+diff)+1\n",
    "        else:\n",
    "            if (cs[i]+diff) < 0:\n",
    "                continue\n",
    "            ans += abs(cs[i]+diff)+1\n",
    "            diff += -abs(cs[i]+diff)-1\n",
    "            \n",
    "    return ans\n",
    "\n",
    "n = int(input())\n",
    "A = list(map(int,input().split()))\n",
    "\n",
    "csA = list(itertools.accumulate(A))\n",
    "print(csA)\n",
    "        \n",
    "print(min(solve(csA), solvem(csA)))"
   ]
  }
 ],
 "metadata": {
  "kernelspec": {
   "display_name": "Python 3",
   "language": "python",
   "name": "python3"
  },
  "language_info": {
   "codemirror_mode": {
    "name": "ipython",
    "version": 3
   },
   "file_extension": ".py",
   "mimetype": "text/x-python",
   "name": "python",
   "nbconvert_exporter": "python",
   "pygments_lexer": "ipython3",
   "version": "3.7.8"
  }
 },
 "nbformat": 4,
 "nbformat_minor": 4
}
