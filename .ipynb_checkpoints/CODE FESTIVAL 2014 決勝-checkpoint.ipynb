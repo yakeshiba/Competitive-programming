{
 "cells": [
  {
   "cell_type": "code",
   "execution_count": null,
   "metadata": {},
   "outputs": [],
   "source": [
    "#A\n",
    "a = int(input())\n",
    "\n",
    "fn = []\n",
    "for i in range(1,10001):\n",
    "    tmp = 0\n",
    "    for d in range(len(str(i))):\n",
    "        tmp += int(str(i)[d])*(i**(len(str(i))-d-1))\n",
    "    fn.append(tmp)\n",
    "\n",
    "if a in fn:\n",
    "    if fn.index(a)+1 >= 10:\n",
    "        print(fn.index(a)+1)\n",
    "    else:\n",
    "        print(-1)\n",
    "else:\n",
    "    print(-1)"
   ]
  }
 ],
 "metadata": {
  "kernelspec": {
   "display_name": "Python 3",
   "language": "python",
   "name": "python3"
  },
  "language_info": {
   "codemirror_mode": {
    "name": "ipython",
    "version": 3
   },
   "file_extension": ".py",
   "mimetype": "text/x-python",
   "name": "python",
   "nbconvert_exporter": "python",
   "pygments_lexer": "ipython3",
   "version": "3.7.8"
  }
 },
 "nbformat": 4,
 "nbformat_minor": 4
}
