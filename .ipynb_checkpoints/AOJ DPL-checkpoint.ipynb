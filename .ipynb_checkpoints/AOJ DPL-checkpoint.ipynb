{
 "cells": [
  {
   "cell_type": "code",
   "execution_count": null,
   "metadata": {},
   "outputs": [],
   "source": [
    "#DPL_1_D: Longest Increasing Subsequence\n",
    "import bisect\n",
    "n = int(input())\n",
    "LIS = [-1]\n",
    "\n",
    "for _ in range(n):\n",
    "    a = int(input())\n",
    "    if LIS[-1] < a:\n",
    "        LIS.append(a)\n",
    "    else:\n",
    "        ind = bisect.bisect_left(LIS, a)\n",
    "        LIS[ind] = a\n",
    "        \n",
    "print(len(LIS)-1)"
   ]
  }
 ],
 "metadata": {
  "kernelspec": {
   "display_name": "Python 3",
   "language": "python",
   "name": "python3"
  },
  "language_info": {
   "codemirror_mode": {
    "name": "ipython",
    "version": 3
   },
   "file_extension": ".py",
   "mimetype": "text/x-python",
   "name": "python",
   "nbconvert_exporter": "python",
   "pygments_lexer": "ipython3",
   "version": "3.7.8"
  }
 },
 "nbformat": 4,
 "nbformat_minor": 4
}
