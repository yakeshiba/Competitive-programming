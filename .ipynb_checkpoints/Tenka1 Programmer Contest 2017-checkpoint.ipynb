{
 "cells": [
  {
   "cell_type": "code",
   "execution_count": null,
   "metadata": {},
   "outputs": [],
   "source": [
    "#C\n",
    "import math\n",
    "\n",
    "N = int(input())\n",
    "f = False\n",
    "for h in range(1,3501):\n",
    "    if f:\n",
    "        break\n",
    "    for n in range(1,3501):\n",
    "        if 4*n*h-N*n-N*h == 0:\n",
    "            continue\n",
    "        check = N*n*h/(4*n*h-N*n-N*h)\n",
    "        if check < 0:\n",
    "            continue\n",
    "        if check.is_integer():\n",
    "            print(h, n, math.floor(check))\n",
    "            f = True\n",
    "            break"
   ]
  }
 ],
 "metadata": {
  "kernelspec": {
   "display_name": "Python 3",
   "language": "python",
   "name": "python3"
  },
  "language_info": {
   "codemirror_mode": {
    "name": "ipython",
    "version": 3
   },
   "file_extension": ".py",
   "mimetype": "text/x-python",
   "name": "python",
   "nbconvert_exporter": "python",
   "pygments_lexer": "ipython3",
   "version": "3.7.3"
  }
 },
 "nbformat": 4,
 "nbformat_minor": 2
}
