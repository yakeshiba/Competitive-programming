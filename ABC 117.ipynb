{
 "cells": [
  {
   "cell_type": "code",
   "execution_count": null,
   "metadata": {},
   "outputs": [],
   "source": [
    "#C\n",
    "n, m = map(int,input().split())\n",
    "X = list(map(int,input().split()))\n",
    "X.sort()\n",
    "\n",
    "dist = []\n",
    "for i in range(m-1):\n",
    "    dist.append(X[i+1]-X[i])\n",
    "dist.sort()\n",
    "    \n",
    "ans = 0\n",
    "for i in range(max(m-n,0)):\n",
    "    ans += dist[i]\n",
    "\n",
    "print(ans)"
   ]
  }
 ],
 "metadata": {
  "kernelspec": {
   "display_name": "Python 3",
   "language": "python",
   "name": "python3"
  },
  "language_info": {
   "codemirror_mode": {
    "name": "ipython",
    "version": 3
   },
   "file_extension": ".py",
   "mimetype": "text/x-python",
   "name": "python",
   "nbconvert_exporter": "python",
   "pygments_lexer": "ipython3",
   "version": "3.7.8"
  }
 },
 "nbformat": 4,
 "nbformat_minor": 4
}
