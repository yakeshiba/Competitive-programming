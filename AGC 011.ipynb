{
 "cells": [
  {
   "cell_type": "code",
   "execution_count": null,
   "metadata": {},
   "outputs": [],
   "source": [
    "#A\n",
    "import bisect\n",
    "\n",
    "N, C, K = map(int,input().split())\n",
    "\n",
    "T = [0]*N\n",
    "for i in range(N):\n",
    "    T[i] = int(input())\n",
    "T.sort()\n",
    "\n",
    "\n",
    "#print(T)\n",
    "\n",
    "ans = 0\n",
    "left = 0\n",
    "while True:\n",
    "    if left >= N:\n",
    "        break\n",
    "    ind = bisect.bisect_right(T, T[left]+K)\n",
    "    left = min(ind, left+C)\n",
    "    ans += 1\n",
    "    \n",
    "print(ans)"
   ]
  },
  {
   "cell_type": "code",
   "execution_count": null,
   "metadata": {},
   "outputs": [],
   "source": [
    "#B\n",
    "n = int(input())\n",
    "A = list(map(int,input().split()))\n",
    "\n",
    "A.sort()\n",
    "#print(A)\n",
    "\n",
    "ans = 0\n",
    "size = 0\n",
    "for i in range(n):\n",
    "    if A[i] <= 2*size:\n",
    "        ans += 1\n",
    "    else:\n",
    "        ans = 1\n",
    "    size = A[i] + size\n",
    "\n",
    "print(ans)"
   ]
  }
 ],
 "metadata": {
  "kernelspec": {
   "display_name": "Python 3",
   "language": "python",
   "name": "python3"
  },
  "language_info": {
   "codemirror_mode": {
    "name": "ipython",
    "version": 3
   },
   "file_extension": ".py",
   "mimetype": "text/x-python",
   "name": "python",
   "nbconvert_exporter": "python",
   "pygments_lexer": "ipython3",
   "version": "3.7.3"
  }
 },
 "nbformat": 4,
 "nbformat_minor": 2
}
