{
 "cells": [
  {
   "cell_type": "code",
   "execution_count": 1,
   "metadata": {},
   "outputs": [
    {
     "name": "stdout",
     "output_type": "stream",
     "text": [
      "SAT\n",
      "1\n"
     ]
    }
   ],
   "source": [
    "#A\n",
    "S = input()\n",
    "week = [\"SUN\",\"MON\",\"TUE\",\"WED\",\"THU\",\"FRI\",\"SAT\"]\n",
    "index = week.index(S)\n",
    "print(7-index)"
   ]
  },
  {
   "cell_type": "code",
   "execution_count": 7,
   "metadata": {},
   "outputs": [
    {
     "name": "stdout",
     "output_type": "stream",
     "text": [
      "13\n",
      "ABCDEFGHIJKLMNOPQRSTUVWXYZ\n",
      "NOPQRSTUVWXYZABCDEFGHIJKLM\n"
     ]
    }
   ],
   "source": [
    "#B\n",
    "alphabet = [chr(i) for i in range(65, 65+26)]\n",
    "N = int(input())\n",
    "S = input()\n",
    "ans = str()\n",
    "for s in S:\n",
    "    index = alphabet.index(s)\n",
    "    if index+N >= 26:\n",
    "        index = (index+N)-(26+N)\n",
    "    ans += alphabet[index+N]\n",
    "print(ans)"
   ]
  },
  {
   "cell_type": "code",
   "execution_count": null,
   "metadata": {},
   "outputs": [],
   "source": [
    "#C\n",
    "A, B, money = map(int,input().split())\n",
    "\n",
    "def afford(N):\n",
    "    p = A*N+B*len(str(N))\n",
    "    if p <= money:\n",
    "        return 1\n",
    "    else:\n",
    "        return 0\n",
    "\n",
    "left = 0\n",
    "right = 10**9\n",
    "ans = 0\n",
    "\n",
    "while left <= right:\n",
    "    middle = left+(right-left)//2\n",
    "    if afford(middle):\n",
    "        ans = middle\n",
    "        left = middle+1\n",
    "    else:\n",
    "        right = middle-1\n",
    "print(ans)"
   ]
  },
  {
   "cell_type": "code",
   "execution_count": 9,
   "metadata": {},
   "outputs": [
    {
     "name": "stdout",
     "output_type": "stream",
     "text": [
      "1 2 3\n",
      "4\n"
     ]
    }
   ],
   "source": []
  }
 ],
 "metadata": {
  "kernelspec": {
   "display_name": "Python 3",
   "language": "python",
   "name": "python3"
  },
  "language_info": {
   "codemirror_mode": {
    "name": "ipython",
    "version": 3
   },
   "file_extension": ".py",
   "mimetype": "text/x-python",
   "name": "python",
   "nbconvert_exporter": "python",
   "pygments_lexer": "ipython3",
   "version": "3.7.3"
  }
 },
 "nbformat": 4,
 "nbformat_minor": 2
}
