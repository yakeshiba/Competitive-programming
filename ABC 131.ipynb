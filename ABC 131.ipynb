{
 "cells": [
  {
   "cell_type": "code",
   "execution_count": null,
   "metadata": {},
   "outputs": [],
   "source": [
    "#A\n",
    "S = input()\n",
    "prev = None\n",
    "for s in S:\n",
    "    if s == prev:\n",
    "        print('Bad')\n",
    "        break\n",
    "    prev = s\n",
    "else:\n",
    "    print('Good')"
   ]
  },
  {
   "cell_type": "code",
   "execution_count": null,
   "metadata": {},
   "outputs": [],
   "source": [
    "#B\n",
    "N, L = map(int,input().split())\n",
    "A = [L+i for i in range(N)]\n",
    "#print(A)\n",
    "expect = sum(A)\n",
    "minimum = float('inf')\n",
    "for a in A:\n",
    "    tmp = expect\n",
    "    minimum = min(minimum,abs(sum(A)-(tmp-a)))\n",
    "    if minimum == abs(sum(A)-(tmp-a)):\n",
    "        ans = tmp-a\n",
    "print(ans)"
   ]
  },
  {
   "cell_type": "code",
   "execution_count": null,
   "metadata": {},
   "outputs": [],
   "source": [
    "#C\n",
    "from math import gcd\n",
    "def lcm(a, b):\n",
    "    return a*b//gcd(a,b)\n",
    "\n",
    "A, B, C, D = map(int,input().split())\n",
    "\n",
    "nC = B//C - -(-A//C) + 1\n",
    "nD = B//D - -(-A//D) + 1\n",
    "nCD = B//lcm(C,D) - -(-A//lcm(C,D)) + 1\n",
    "\n",
    "print((B-A+1)-(nC+nD-nCD))"
   ]
  },
  {
   "cell_type": "code",
   "execution_count": null,
   "metadata": {},
   "outputs": [],
   "source": [
    "#C 想定解\n",
    "from math import gcd\n",
    "def lcm(a, b):\n",
    "    return a*b//gcd(a, b) \n",
    "\n",
    "A, B, C, D = map(int,input().split())\n",
    "As = [(A-1)//C, (A-1)//D, (A-1)//lcm(C,D)]\n",
    "Bs = [B//C, B//D, B//lcm(C,D)]\n",
    "\n",
    "aa = (A-1) - (As[0]+As[1]-As[2])\n",
    "bb = B - (Bs[0]+Bs[1]-Bs[2])\n",
    "\n",
    "print(bb-aa)"
   ]
  },
  {
   "cell_type": "code",
   "execution_count": null,
   "metadata": {},
   "outputs": [],
   "source": [
    "#D\n",
    "N = int(input())\n",
    "task = [0]*N\n",
    "for i in range(N):\n",
    "    a, b = map(int,input().split())\n",
    "    task[i] = (b, a)\n",
    "task.sort()\n",
    "\n",
    "#print(task)\n",
    "\n",
    "time = 0\n",
    "for t in task:\n",
    "    limit, required = t\n",
    "    if time + required > limit:\n",
    "        print('No')\n",
    "        break\n",
    "    time += required\n",
    "else:\n",
    "    print('Yes')\n"
   ]
  },
  {
   "cell_type": "code",
   "execution_count": null,
   "metadata": {},
   "outputs": [],
   "source": [
    "#E\n",
    "N, K = map(int,input().split())\n",
    "\n",
    "#初期状態\n",
    "node = [[] for _ in range(N)]\n",
    "node[0] = [i for i in range(1,N)]\n",
    "\n",
    "if K > N*(N-1)//2 - (N-1):\n",
    "    print(-1)\n",
    "else:\n",
    "    cnt = 0\n",
    "    for i in range(1,N):\n",
    "        if cnt >= N*(N-1)//2-(N-1)-K:\n",
    "            break\n",
    "        for j in range(i+1,N):\n",
    "            if cnt >= N*(N-1)//2-(N-1)-K:\n",
    "                break\n",
    "            node[i].append(j)\n",
    "            cnt += 1\n",
    "    \n",
    "    print(N-1+cnt)\n",
    "    for n in range(N):\n",
    "        for t in node[n]:\n",
    "            print(n+1,t+1)"
   ]
  }
 ],
 "metadata": {
  "kernelspec": {
   "display_name": "Python 3",
   "language": "python",
   "name": "python3"
  },
  "language_info": {
   "codemirror_mode": {
    "name": "ipython",
    "version": 3
   },
   "file_extension": ".py",
   "mimetype": "text/x-python",
   "name": "python",
   "nbconvert_exporter": "python",
   "pygments_lexer": "ipython3",
   "version": "3.7.3"
  }
 },
 "nbformat": 4,
 "nbformat_minor": 2
}
