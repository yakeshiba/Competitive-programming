{
 "cells": [
  {
   "cell_type": "code",
   "execution_count": 11,
   "metadata": {},
   "outputs": [
    {
     "name": "stdout",
     "output_type": "stream",
     "text": [
      "3\n",
      "1 2\n",
      "2\n"
     ]
    },
    {
     "name": "stderr",
     "output_type": "stream",
     "text": [
      "C:\\Users\\kebay\\Anaconda3\\lib\\site-packages\\ipykernel_launcher.py:8: DeprecationWarning: fractions.gcd() is deprecated. Use math.gcd() instead.\n",
      "  \n",
      "C:\\Users\\kebay\\Anaconda3\\lib\\site-packages\\ipykernel_launcher.py:10: DeprecationWarning: fractions.gcd() is deprecated. Use math.gcd() instead.\n",
      "  # Remove the CWD from sys.path while we load stuff.\n",
      "C:\\Users\\kebay\\Anaconda3\\lib\\site-packages\\ipykernel_launcher.py:11: DeprecationWarning: fractions.gcd() is deprecated. Use math.gcd() instead.\n",
      "  # This is added back by InteractiveShellApp.init_path()\n"
     ]
    }
   ],
   "source": [
    "#C\n",
    "import fractions\n",
    "n = int(input())\n",
    "a = [0]+list(map(int, input().split()))+[0]\n",
    "b = [0]*(n+2)\n",
    "c = [0]*(n+2)\n",
    "for i in range(1, n+1):\n",
    "    b[i] = fractions.gcd(b[i-1], a[i])\n",
    "for i in range(n, 0, -1):\n",
    "    c[i] = fractions.gcd(c[i+1], a[i])\n",
    "print(max(fractions.gcd(b[i-1], c[i+1]) for i in range(1, n+1)))"
   ]
  },
  {
   "cell_type": "code",
   "execution_count": null,
   "metadata": {},
   "outputs": [],
   "source": [
    "#D\n",
    "import numpy as np\n",
    "n = int(input())\n",
    "a = np.array(list(map(int,input().split())))\n",
    "minus = np.count_nonzero(a[a<0])\n",
    "a = np.abs(a)\n",
    "if minus%2 == 1:\n",
    "    print(sum(a)-2*min(a))\n",
    "else:\n",
    "    print(sum(a))"
   ]
  },
  {
   "cell_type": "code",
   "execution_count": 10,
   "metadata": {},
   "outputs": [
    {
     "name": "stdout",
     "output_type": "stream",
     "text": [
      "[1 2 3 4]\n"
     ]
    }
   ],
   "source": [
    "import numpy as np\n",
    "A = [-1,-2,-3,4]\n",
    "print(np.abs(A))"
   ]
  }
 ],
 "metadata": {
  "kernelspec": {
   "display_name": "Python 3",
   "language": "python",
   "name": "python3"
  },
  "language_info": {
   "codemirror_mode": {
    "name": "ipython",
    "version": 3
   },
   "file_extension": ".py",
   "mimetype": "text/x-python",
   "name": "python",
   "nbconvert_exporter": "python",
   "pygments_lexer": "ipython3",
   "version": "3.7.3"
  }
 },
 "nbformat": 4,
 "nbformat_minor": 2
}
