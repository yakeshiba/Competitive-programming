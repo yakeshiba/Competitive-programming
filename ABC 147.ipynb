{
 "cells": [
  {
   "cell_type": "code",
   "execution_count": null,
   "metadata": {},
   "outputs": [],
   "source": [
    "#A\n",
    "a,b,c = map(int,input().split())\n",
    "if a+b+c >= 22:\n",
    "    print(\"bust\")\n",
    "else:\n",
    "    print(\"win\")"
   ]
  },
  {
   "cell_type": "code",
   "execution_count": 3,
   "metadata": {},
   "outputs": [
    {
     "name": "stdout",
     "output_type": "stream",
     "text": [
      "abcdabc\n",
      "2\n"
     ]
    }
   ],
   "source": [
    "#B\n",
    "S = input()\n",
    "ans = 0\n",
    "for i in range(len(S)//2):\n",
    "        top = S[i]\n",
    "        back = S[-(i+1)]\n",
    "        if top != back:\n",
    "            ans += 1\n",
    "print(ans)"
   ]
  },
  {
   "cell_type": "code",
   "execution_count": null,
   "metadata": {},
   "outputs": [],
   "source": [
    "#C\n",
    "N = int(input())\n",
    "testimony = [[-1]*N for _ in range(N)]#有向グラフ：a_21は2→1\n",
    "for i in range(N):\n",
    "    A = int(input())\n",
    "    for j in range(A):\n",
    "        x, y = map(int,input().split())\n",
    "        testimony[i][x-1] = y\n",
    "ans = 0\n",
    "\n",
    "for state in range(1<<N):#2のN乗\n",
    "    contradiction = False\n",
    "    bit = [0]*N\n",
    "    for person in range(N):\n",
    "        if ((state>>person)&1):\n",
    "            bit[person] = 1\n",
    "    for person in range(N):\n",
    "        if bit[person]:#そいつが正直者のとき\n",
    "            for k in range(N):\n",
    "                if testimony[person][k] == -1:#例えば自分自身はどっちでもいい\n",
    "                    continue\n",
    "                if testimony[person][k] != bit[k]:\n",
    "                    contradiction = True\n",
    "        if contradiction:\n",
    "            break\n",
    "    if not contradiction:\n",
    "        ans = max(ans,sum(bit))\n",
    "print(ans)\n"
   ]
  },
  {
   "cell_type": "code",
   "execution_count": 14,
   "metadata": {},
   "outputs": [
    {
     "name": "stdout",
     "output_type": "stream",
     "text": [
      "10\n",
      "3 14 159 2653 58979 323846 2643383 27950288 419716939 9375105820\n",
      "103715602\n"
     ]
    }
   ],
   "source": [
    "#D\n",
    "import numpy as np\n",
    "N = int(input())\n",
    "A = np.array(list(map(int,input().split())), dtype=np.int64)\n",
    "mod = 10**9+7\n",
    "ans = 0\n",
    "for i in range(60):\n",
    "    one = A & (1<<i)\n",
    "    ones = np.count_nonzero(one)#i桁目の1の個数\n",
    "    ans += ones*(N-ones)*(2**i)\n",
    "print(ans%mod)"
   ]
  },
  {
   "cell_type": "code",
   "execution_count": 4,
   "metadata": {},
   "outputs": [
    {
     "name": "stdout",
     "output_type": "stream",
     "text": [
      "[1, 2, 3, 4, 5, 6]\n"
     ]
    }
   ],
   "source": []
  }
 ],
 "metadata": {
  "kernelspec": {
   "display_name": "Python 3",
   "language": "python",
   "name": "python3"
  },
  "language_info": {
   "codemirror_mode": {
    "name": "ipython",
    "version": 3
   },
   "file_extension": ".py",
   "mimetype": "text/x-python",
   "name": "python",
   "nbconvert_exporter": "python",
   "pygments_lexer": "ipython3",
   "version": "3.7.3"
  }
 },
 "nbformat": 4,
 "nbformat_minor": 2
}
