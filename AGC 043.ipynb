{
 "cells": [
  {
   "cell_type": "code",
   "execution_count": 1,
   "metadata": {},
   "outputs": [
    {
     "name": "stdout",
     "output_type": "stream",
     "text": [
      "3 3\n",
      ".##\n",
      ".#.\n",
      "##.\n",
      "[['.', '#', '#'], ['.', '#', '.'], ['#', '#', '.']]\n"
     ]
    }
   ],
   "source": [
    "#A\n",
    "h, w = map(int,input().split())\n",
    "\n",
    "maze = []\n",
    "for i in range(h):\n",
    "    t = list(input())\n",
    "    maze.append(t)\n",
    "    \n",
    "dx = [1, 0]\n",
    "dy = [0, 1]\n",
    "\n",
    "\n",
    "dp = [[10000]*w for i in range(h)]\n",
    "if maze[0][0] == \"#\":\n",
    "    dp[0][0] = 1\n",
    "else:\n",
    "    dp[0][0] = 0\n",
    "\n",
    "for x in range(w):\n",
    "    for y in range(h):\n",
    "        for dxi, dyi in zip(dx, dy):\n",
    "            if not (0<=x+dxi<w and 0<=y+dyi<h):\n",
    "                continue\n",
    "            dp[y+dyi][x+dxi] = min(dp[y+dyi][x+dxi], dp[y][x]+(maze[y][x]==\".\" and maze[y+dyi][x+dxi]==\"#\"))\n",
    "            \n",
    "#print(*dp)\n",
    "print(dp[h-1][w-1])"
   ]
  }
 ],
 "metadata": {
  "kernelspec": {
   "display_name": "Python 3",
   "language": "python",
   "name": "python3"
  },
  "language_info": {
   "codemirror_mode": {
    "name": "ipython",
    "version": 3
   },
   "file_extension": ".py",
   "mimetype": "text/x-python",
   "name": "python",
   "nbconvert_exporter": "python",
   "pygments_lexer": "ipython3",
   "version": "3.7.8"
  }
 },
 "nbformat": 4,
 "nbformat_minor": 2
}
