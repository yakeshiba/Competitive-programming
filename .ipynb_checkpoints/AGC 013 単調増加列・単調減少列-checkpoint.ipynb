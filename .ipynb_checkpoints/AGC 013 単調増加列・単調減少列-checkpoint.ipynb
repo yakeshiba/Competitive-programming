{
 "cells": [
  {
   "cell_type": "code",
   "execution_count": null,
   "metadata": {},
   "outputs": [],
   "source": [
    "#A\n",
    "#単調増加・減少の切り替わりは差分の正負を見る\n",
    "n = int(input())\n",
    "A = list(map(int,input().split()))\n",
    "\n",
    "ans = 1\n",
    "d = 0\n",
    "for i in range(1,n):\n",
    "    diff = A[i] - A[i-1]\n",
    "    if not d:\n",
    "        d = diff\n",
    "    elif d*diff < 0:\n",
    "        d = 0\n",
    "        ans += 1\n",
    "print(ans)"
   ]
  }
 ],
 "metadata": {
  "kernelspec": {
   "display_name": "Python 3",
   "language": "python",
   "name": "python3"
  },
  "language_info": {
   "codemirror_mode": {
    "name": "ipython",
    "version": 3
   },
   "file_extension": ".py",
   "mimetype": "text/x-python",
   "name": "python",
   "nbconvert_exporter": "python",
   "pygments_lexer": "ipython3",
   "version": "3.7.8"
  }
 },
 "nbformat": 4,
 "nbformat_minor": 4
}
