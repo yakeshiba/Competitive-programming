{
 "cells": [
  {
   "cell_type": "code",
   "execution_count": null,
   "metadata": {},
   "outputs": [],
   "source": [
    "#A\n",
    "t = int(input())\n",
    "for _ in range(t):\n",
    "    s = input()\n",
    "    ans = s[0]\n",
    "    for i in range(len(s)-1):\n",
    "        try:\n",
    "            ans += s[2*i+1]\n",
    "        except IndexError:\n",
    "            break\n",
    "    print(ans)"
   ]
  },
  {
   "cell_type": "code",
   "execution_count": null,
   "metadata": {},
   "outputs": [],
   "source": [
    "#B\n",
    "t = int(input())\n",
    "for _ in range(t):\n",
    "    n = int(input())\n",
    "    A = list(map(int,input().split()))\n",
    "    wr_even = 0\n",
    "    wr_odd = 0\n",
    "    for i,a in enumerate(A):\n",
    "        if i%2 != a%2:\n",
    "            if a%2:\n",
    "                wr_even += 1\n",
    "            else:\n",
    "                wr_odd += 1\n",
    "\n",
    "    if wr_odd != wr_even:\n",
    "        print(-1)\n",
    "    else:\n",
    "        print(wr_odd)"
   ]
  },
  {
   "cell_type": "code",
   "execution_count": null,
   "metadata": {},
   "outputs": [],
   "source": [
    "#C\n",
    "import bisect\n",
    "\n",
    "t = int(input())\n",
    "for _ in range(t):\n",
    "    n, k = map(int,input().split())\n",
    "    s = input()\n",
    "    dominated = [0]*(n+1)\n",
    "    sitting = [-k]\n",
    "    for i, v in enumerate(s):\n",
    "        if v==\"1\":\n",
    "            dominated[i+1] = 1\n",
    "            sitting.append(i+1)\n",
    "    sitting.append(n+k+1)\n",
    "    \n",
    "    ans = 0\n",
    "    for i in range(1,n+1):\n",
    "        if dominated[i]:\n",
    "            continue\n",
    "        ind = bisect.bisect_left(sitting, i)\n",
    "        if abs(sitting[ind-1]-i) > k and abs(sitting[ind]-i) > k:\n",
    "            ans += 1\n",
    "            bisect.insort_left(sitting, i)\n",
    "    \n",
    "    print(ans)"
   ]
  }
 ],
 "metadata": {
  "kernelspec": {
   "display_name": "Python 3",
   "language": "python",
   "name": "python3"
  },
  "language_info": {
   "codemirror_mode": {
    "name": "ipython",
    "version": 3
   },
   "file_extension": ".py",
   "mimetype": "text/x-python",
   "name": "python",
   "nbconvert_exporter": "python",
   "pygments_lexer": "ipython3",
   "version": "3.7.8"
  }
 },
 "nbformat": 4,
 "nbformat_minor": 4
}
