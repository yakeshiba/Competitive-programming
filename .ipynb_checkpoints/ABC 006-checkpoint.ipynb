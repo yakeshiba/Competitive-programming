{
 "cells": [
  {
   "cell_type": "code",
   "execution_count": null,
   "metadata": {},
   "outputs": [],
   "source": [
    "#C\n",
    "n = int(input())\n",
    "\n",
    "dp = [0]*n\n",
    "\n",
    "if n>=3:\n",
    "    dp[2] = 1\n",
    "\n",
    "for i in range(3,n):\n",
    "    dp[i] = (dp[i-3]+dp[i-2]+dp[i-1])%10007\n",
    "    \n",
    "print(dp[n-1])"
   ]
  }
 ],
 "metadata": {
  "kernelspec": {
   "display_name": "Python 3",
   "language": "python",
   "name": "python3"
  },
  "language_info": {
   "codemirror_mode": {
    "name": "ipython",
    "version": 3
   },
   "file_extension": ".py",
   "mimetype": "text/x-python",
   "name": "python",
   "nbconvert_exporter": "python",
   "pygments_lexer": "ipython3",
   "version": "3.7.8"
  }
 },
 "nbformat": 4,
 "nbformat_minor": 4
}
