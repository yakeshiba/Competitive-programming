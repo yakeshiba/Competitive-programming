{
 "cells": [
  {
   "cell_type": "code",
   "execution_count": null,
   "metadata": {},
   "outputs": [],
   "source": [
    "#A\n",
    "n, a, b, c, d = map(lambda x:int(x)-1,input().split())\n",
    "n += 1\n",
    "S = input()\n",
    "\n",
    "ok = True\n",
    "overtake = False\n",
    "\n",
    "if c < d:\n",
    "    overtake = True\n",
    "    \n",
    "for i in range(a,d):\n",
    "    if S[i] == \"#\" and S[i+1] == \"#\":\n",
    "        ok = False\n",
    "\n",
    "for i in range(b,min(d+1,n-1)):\n",
    "    if S[i] == \".\" and S[i-1] == \".\" and S[i+1] == \".\":\n",
    "        overtake = True\n",
    "        \n",
    "if ok and overtake:\n",
    "    print('Yes')\n",
    "else:\n",
    "    print('No')"
   ]
  }
 ],
 "metadata": {
  "kernelspec": {
   "display_name": "Python 3",
   "language": "python",
   "name": "python3"
  },
  "language_info": {
   "codemirror_mode": {
    "name": "ipython",
    "version": 3
   },
   "file_extension": ".py",
   "mimetype": "text/x-python",
   "name": "python",
   "nbconvert_exporter": "python",
   "pygments_lexer": "ipython3",
   "version": "3.7.8"
  }
 },
 "nbformat": 4,
 "nbformat_minor": 4
}
