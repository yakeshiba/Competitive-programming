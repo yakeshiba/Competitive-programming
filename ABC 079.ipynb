{
 "cells": [
  {
   "cell_type": "code",
   "execution_count": null,
   "metadata": {},
   "outputs": [],
   "source": [
    "#C問題\n",
    "S  = input()\n",
    "for operator_state in range(8):\n",
    "    formula = S[0]\n",
    "    for digit in range(3):\n",
    "        if operator_state & (1<<digit):\n",
    "            formula += \"+\"\n",
    "        else:\n",
    "            formula += \"-\"\n",
    "        formula += S[digit+1]\n",
    "    if eval(formula) == 7:\n",
    "        print(formula+\"=7\")\n",
    "        break"
   ]
  }
 ],
 "metadata": {
  "kernelspec": {
   "display_name": "Python 3",
   "language": "python",
   "name": "python3"
  },
  "language_info": {
   "codemirror_mode": {
    "name": "ipython",
    "version": 3
   },
   "file_extension": ".py",
   "mimetype": "text/x-python",
   "name": "python",
   "nbconvert_exporter": "python",
   "pygments_lexer": "ipython3",
   "version": "3.7.3"
  }
 },
 "nbformat": 4,
 "nbformat_minor": 2
}
