{
 "cells": [
  {
   "cell_type": "code",
   "execution_count": null,
   "metadata": {},
   "outputs": [],
   "source": [
    "#B\n",
    "from collections import deque\n",
    "\n",
    "n, m  = map(int,input().split())\n",
    "\n",
    "edge = [[] for _ in range(n)]\n",
    "for _ in range(m):\n",
    "    u, v = map(int,input().split())\n",
    "    edge[u-1].append(v-1)\n",
    "    edge[v-1].append(u-1)\n",
    "\n",
    "visited = [0]*n\n",
    "\n",
    "#print(edge)\n",
    "\n",
    "ans = 0\n",
    "\n",
    "while sum(visited) != n:\n",
    "    stack = deque([])\n",
    "    \n",
    "    for i in range(n):#探索のスタート地点の決定\n",
    "        if not visited[i]:\n",
    "            visited[i] = 1\n",
    "            stack.append([i, -1])#次に探索するところ，直前にいたとこ（戻らないように）\n",
    "            break\n",
    "        \n",
    "    roop = False\n",
    "    prev = None\n",
    "    while stack:\n",
    "        now, prev = stack.pop()\n",
    "        for to in edge[now]:\n",
    "            if to == prev:\n",
    "                pass\n",
    "            elif visited[to] == 0:\n",
    "                visited[to] = 1\n",
    "                stack.append([to, now])\n",
    "            else:\n",
    "                roop = True\n",
    "        #print(visited)\n",
    "    if not roop:\n",
    "        ans += 1\n",
    "print(ans)"
   ]
  }
 ],
 "metadata": {
  "kernelspec": {
   "display_name": "Python 3",
   "language": "python",
   "name": "python3"
  },
  "language_info": {
   "codemirror_mode": {
    "name": "ipython",
    "version": 3
   },
   "file_extension": ".py",
   "mimetype": "text/x-python",
   "name": "python",
   "nbconvert_exporter": "python",
   "pygments_lexer": "ipython3",
   "version": "3.7.3"
  }
 },
 "nbformat": 4,
 "nbformat_minor": 2
}
