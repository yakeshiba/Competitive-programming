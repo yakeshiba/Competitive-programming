{
 "cells": [
  {
   "cell_type": "code",
   "execution_count": null,
   "metadata": {},
   "outputs": [],
   "source": [
    "S = input()\n",
    "T = input()\n",
    "replace = {}\n",
    "exchange = {}\n",
    "for i,s in enumerate(S):\n",
    "    if S[i] != T[i]:\n",
    "        if s not in replace and s not in exchange:\n",
    "            replace[s] = T[i]\n",
    "        if T[i] not in exchange and T[i] not in replace:\n",
    "            exchange[T[i]] = s\n",
    "        print(exchange)\n",
    "        print(replace)\n",
    "            \n",
    "        if s in replace:\n",
    "            if T[i] != replace[s]:\n",
    "                print('No')\n",
    "                break\n",
    "        if s in exchange:\n",
    "            if T[i] != exchange[s]:\n",
    "                print('No')\n",
    "                break\n",
    "else:\n",
    "    print('Yes')"
   ]
  }
 ],
 "metadata": {
  "kernelspec": {
   "display_name": "Python 3",
   "language": "python",
   "name": "python3"
  },
  "language_info": {
   "codemirror_mode": {
    "name": "ipython",
    "version": 3
   },
   "file_extension": ".py",
   "mimetype": "text/x-python",
   "name": "python",
   "nbconvert_exporter": "python",
   "pygments_lexer": "ipython3",
   "version": "3.7.3"
  }
 },
 "nbformat": 4,
 "nbformat_minor": 2
}
