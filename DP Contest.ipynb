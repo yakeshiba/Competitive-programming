{
 "cells": [
  {
   "cell_type": "code",
   "execution_count": 13,
   "metadata": {},
   "outputs": [
    {
     "name": "stdout",
     "output_type": "stream",
     "text": [
      "6\n",
      "30 10 60 10 60 50\n",
      "40\n"
     ]
    }
   ],
   "source": [
    "#A\n",
    "N = int(input())\n",
    "h = list(map(int,input().split()))\n",
    "\n",
    "dp_table = [float('inf')]*N #計算結果を保存しておくリスト．無限大で初期化している．\n",
    "\n",
    "dp_table[0] = 0#最初の足場\n",
    "dp_table[1] = abs(h[1]-h[0])#この足場に行く方法は一つだけ\n",
    "for i in range(2,N):#i番目の足場に辿り着くまでにかかった最小コストを計算する\n",
    "    step1 = abs(h[i]-h[i-1])+dp_table[i-1]#一つ前の足場から来た場合の累計コスト\n",
    "    step2 = abs(h[i]-h[i-2])+dp_table[i-2]#二つ目の足場から来た場合の累計コスト\n",
    "    dp_table[i] = min(step1,step2)#小さい方を記録\n",
    "\n",
    "print(dp_table[N-1])"
   ]
  },
  {
   "cell_type": "code",
   "execution_count": 3,
   "metadata": {},
   "outputs": [
    {
     "name": "stdout",
     "output_type": "stream",
     "text": [
      "6\n",
      "30 10 60 10 60 50\n",
      "40\n"
     ]
    }
   ],
   "source": [
    "import numpy as np\n",
    "\n",
    "N, K = map(int,input().split())\n",
    "h = list(map(int,input().split()))\n",
    "h = np.array(h)\n",
    "\n",
    "dp_table = np.zeros(N, dtype=int)\n",
    "\n",
    "for i in range(1,N):\n",
    "    #「足場iの出発点となり得る全ての足場」から来るときのコストの内の最小値を求める\n",
    "    dp_table[i] = (dp_table[max(0,i-K):i] + np.abs(h[i] - h[max(0,i-K):i])).min()\n",
    "print(dp_table[N-1])"
   ]
  },
  {
   "cell_type": "code",
   "execution_count": 4,
   "metadata": {},
   "outputs": [
    {
     "data": {
      "text/plain": [
       "inf"
      ]
     },
     "execution_count": 4,
     "metadata": {},
     "output_type": "execute_result"
    }
   ],
   "source": []
  }
 ],
 "metadata": {
  "kernelspec": {
   "display_name": "Python 3",
   "language": "python",
   "name": "python3"
  },
  "language_info": {
   "codemirror_mode": {
    "name": "ipython",
    "version": 3
   },
   "file_extension": ".py",
   "mimetype": "text/x-python",
   "name": "python",
   "nbconvert_exporter": "python",
   "pygments_lexer": "ipython3",
   "version": "3.7.3"
  }
 },
 "nbformat": 4,
 "nbformat_minor": 2
}
