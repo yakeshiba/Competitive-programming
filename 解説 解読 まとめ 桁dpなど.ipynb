{
 "cells": [
  {
   "cell_type": "markdown",
   "metadata": {},
   "source": [
    "# 桁dp\n",
    "### 「n以下の数字で，どこかの桁に3がひとつでも含まれるもの」の個数"
   ]
  },
  {
   "cell_type": "code",
   "execution_count": null,
   "metadata": {},
   "outputs": [],
   "source": [
    "n = int(input())\n",
    "\n",
    "digit_lim = list(map(int,list(str(n))))#各桁が取れるギリギリの数字\n",
    "\n",
    "dp = [[[0]*2 for _ in range(2)] for _ in range(len(str(n))+1)]\n",
    "#桁，余裕があるか，３があるか\n",
    "dp[0][0][0] = 1#-1桁目は０(n=123なら0123と見る)\n",
    "#以下はなくてもいい（イメージのために一応書く）\n",
    "dp[0][0][1] = 0\n",
    "dp[0][1][0] = 0\n",
    "dp[0][1][1] = 0\n",
    "\n",
    "for i in range(len(str(n))):\n",
    "#####余裕が無くてで３がない数字#####\n",
    "    #余裕がある組に派生するやつら\n",
    "    for j in range(digit_lim[i]):#注目してる桁が「０～（限界－１）の数字」\n",
    "        if j == 3:#余裕があり３も含まれるものに派生できる\n",
    "            dp[i+1][1][1] += dp[i][0][0]\n",
    "        else:\n",
    "            dp[i+1][1][0] += dp[i][0][0]\n",
    "    #依然として余裕がない組（注目してる桁が限界の数字）\n",
    "    if digit_lim[i] == 3:#限界の桁が３だったら\n",
    "        dp[i+1][0][1] += dp[i][0][0]#相変わらず余裕ないけど３が含まれるようになった\n",
    "    else:\n",
    "        dp[i+1][0][0] += dp[i][0][0]#依然として余裕がないやつら(digit_lim[i]>3なら，「その桁が3のケース」はすでに計算済み)\n",
    "#####余裕がないがすでに３がある#####\n",
    "    for j in range(digit_lim[i]):#新たに余裕が生まれるやつら\n",
    "        dp[i+1][1][1] += dp[i][0][1]\n",
    "    dp[i+1][0][1] += dp[i][0][1]#相変わらず余裕がない\n",
    "#####余裕があるが３が含まれない#####\n",
    "    for j in range(10):#余裕があるので0~9のなんでもいい\n",
    "        if j == 3:\n",
    "            dp[i+1][1][1] += dp[i][1][0]#新しく見た桁で３を拾えた\n",
    "        else:\n",
    "            dp[i+1][1][0] += dp[i][1][0]#相変わらず余裕はあるけど３は得られなかった\n",
    "#####余裕があり３も含む#####\n",
    "    for j in range(10):\n",
    "        dp[i+1][1][1] += dp[i][1][1]#その桁はなんでもいいので\n",
    "print(dp[3][0][1]+dp[3][1][1])"
   ]
  }
 ],
 "metadata": {
  "kernelspec": {
   "display_name": "Python 3",
   "language": "python",
   "name": "python3"
  },
  "language_info": {
   "codemirror_mode": {
    "name": "ipython",
    "version": 3
   },
   "file_extension": ".py",
   "mimetype": "text/x-python",
   "name": "python",
   "nbconvert_exporter": "python",
   "pygments_lexer": "ipython3",
   "version": "3.7.3"
  }
 },
 "nbformat": 4,
 "nbformat_minor": 2
}
