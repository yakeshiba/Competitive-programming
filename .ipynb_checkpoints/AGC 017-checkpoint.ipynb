{
 "cells": [
  {
   "cell_type": "code",
   "execution_count": null,
   "metadata": {},
   "outputs": [],
   "source": [
    "#A\n",
    "def cmb(n, r):\n",
    "    if n - r < r: r = n - r\n",
    "    if r == 0: return 1\n",
    "    if r == 1: return n\n",
    "\n",
    "    numerator = [n - r + k + 1 for k in range(r)]\n",
    "    denominator = [k + 1 for k in range(r)]\n",
    "\n",
    "    for p in range(2,r+1):\n",
    "        pivot = denominator[p - 1]\n",
    "        if pivot > 1:\n",
    "            offset = (n - r) % p\n",
    "            for k in range(p-1,r,p):\n",
    "                numerator[k - offset] /= pivot\n",
    "                denominator[k] /= pivot\n",
    "\n",
    "    result = 1\n",
    "    for k in range(r):\n",
    "        if numerator[k] > 1:\n",
    "            result *= int(numerator[k])\n",
    "\n",
    "    return result\n",
    "\n",
    "n, p = map(int,input().split())\n",
    "A = list(map(int,input().split()))\n",
    "\n",
    "odd = 0\n",
    "for a in A:\n",
    "    if a%2:\n",
    "        odd += 1\n",
    "\n",
    "all_c = 0\n",
    "for i in range(n+1):\n",
    "    all_c += cmb(n, i)\n",
    "\n",
    "odd_c = 0\n",
    "for i in range(-(-odd//2)):\n",
    "    #print(odd,\"C\",2*i+1)\n",
    "    odd_c += cmb(odd, 2*i+1)\n",
    "#print(\"奇数個の組\", odd_c)\n",
    "\n",
    "even_c = 0\n",
    "for i in range(n-odd+1):\n",
    "    even_c += cmb(n-odd, i)\n",
    "\n",
    "if p == 1:\n",
    "    print(odd_c*even_c)\n",
    "else:\n",
    "    print(all_c - odd_c*even_c)"
   ]
  }
 ],
 "metadata": {
  "kernelspec": {
   "display_name": "Python 3",
   "language": "python",
   "name": "python3"
  },
  "language_info": {
   "codemirror_mode": {
    "name": "ipython",
    "version": 3
   },
   "file_extension": ".py",
   "mimetype": "text/x-python",
   "name": "python",
   "nbconvert_exporter": "python",
   "pygments_lexer": "ipython3",
   "version": "3.7.3"
  }
 },
 "nbformat": 4,
 "nbformat_minor": 2
}
