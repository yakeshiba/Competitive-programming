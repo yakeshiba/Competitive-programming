{
 "cells": [
  {
   "cell_type": "code",
   "execution_count": null,
   "metadata": {},
   "outputs": [],
   "source": [
    "#A\n",
    "m, n, N = map(int,input().split())\n",
    "\n",
    "ans = N\n",
    "now = N\n",
    "amari = 0\n",
    "while True:\n",
    "    prev = now\n",
    "    if (amari+now)//m > now//m:\n",
    "        now = ((amari+now)//m)*n\n",
    "        amari = (amari+now) - now\n",
    "    else:\n",
    "        now = (now//m)*n\n",
    "    if now == 0:\n",
    "        break\n",
    "    ans += now\n",
    "    amari += prev - (now//n)*m\n",
    "    #print(\"now\",now)\n",
    "    #print(\"amari\",amari)\n",
    "    \n",
    "print(ans)"
   ]
  },
  {
   "cell_type": "code",
   "execution_count": null,
   "metadata": {},
   "outputs": [],
   "source": [
    "#B\n",
    "n = int(input())\n",
    "W = list(input().split())\n",
    "\n",
    "d = {\"b\":\"1\",\"c\":\"1\",\"d\":\"2\",\"w\":\"2\",\"t\":\"3\",\"j\":\"3\",\"f\":\"4\",\"q\":\"4\",\"l\":\"5\",\"v\":\"5\",\"s\":\"6\",\"x\":\"6\",\"p\":\"7\",\"m\":\"7\",\"h\":\"8\",\"k\":\"8\",\"n\":\"9\",\"g\":\"9\",\"z\":\"0\",\"r\":\"0\"}\n",
    "\n",
    "alp = [chr(i) for i in range(97, 97+26)]\n",
    "ALP = [chr(i) for i in range(65, 65+26)]\n",
    "vow = [\"a\",\"i\",\"u\",\"e\",\"o\",\"y\",\"A\",\"I\",\"U\",\"E\",\"O\",\"Y\"]\n",
    "\n",
    "ans = []\n",
    "for w in W:\n",
    "    tmp = \"\"\n",
    "    for a in w:\n",
    "        if a in vow:\n",
    "            continue\n",
    "        if a == \".\" or a == \",\":\n",
    "            continue\n",
    "        now = a\n",
    "        if a in ALP:\n",
    "            now = alp[ALP.index(a)]\n",
    "        tmp += d[now]\n",
    "    if tmp:\n",
    "        ans.append(tmp)\n",
    "print(*ans)"
   ]
  }
 ],
 "metadata": {
  "kernelspec": {
   "display_name": "Python 3",
   "language": "python",
   "name": "python3"
  },
  "language_info": {
   "codemirror_mode": {
    "name": "ipython",
    "version": 3
   },
   "file_extension": ".py",
   "mimetype": "text/x-python",
   "name": "python",
   "nbconvert_exporter": "python",
   "pygments_lexer": "ipython3",
   "version": "3.7.3"
  }
 },
 "nbformat": 4,
 "nbformat_minor": 2
}
