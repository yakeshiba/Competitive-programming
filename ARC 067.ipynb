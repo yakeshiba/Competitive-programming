{
 "cells": [
  {
   "cell_type": "code",
   "execution_count": null,
   "metadata": {},
   "outputs": [],
   "source": [
    "#C\n",
    "mod = 10**9+7\n",
    "\n",
    "def factorization(n):\n",
    "    arr = []\n",
    "    temp = n\n",
    "    for i in range(2, int(-(-n**0.5//1))+1):\n",
    "        if temp%i==0:\n",
    "            cnt=0\n",
    "            while temp%i==0:\n",
    "                cnt+=1\n",
    "                temp //= i\n",
    "            arr.append([i, cnt])\n",
    "\n",
    "    if temp!=1:\n",
    "        arr.append([temp, 1])\n",
    "\n",
    "    if arr==[]:\n",
    "        arr.append([n, 1])\n",
    "\n",
    "    return arr\n",
    "\n",
    "n = int(input())\n",
    "\n",
    "soinsu = {}\n",
    "for i in range(1,n+1):\n",
    "    f = factorization(i)\n",
    "    for r in f:\n",
    "        if r[0] not in soinsu:\n",
    "            soinsu[r[0]] = r[1]\n",
    "        else:\n",
    "            soinsu[r[0]] += r[1]\n",
    "\n",
    "ans = 1\n",
    "for k,v in soinsu.items():\n",
    "    if k == 1:\n",
    "        continue\n",
    "    ans *= (v+1)%mod\n",
    "    \n",
    "print(ans%mod)"
   ]
  },
  {
   "cell_type": "code",
   "execution_count": null,
   "metadata": {},
   "outputs": [],
   "source": [
    "#D\n",
    "n, a, b = map(int,input().split())\n",
    "X = list(map(int,input().split()))\n",
    "\n",
    "dist = []\n",
    "for i in range(n-1):\n",
    "    dist.append(X[i+1]-X[i])\n",
    "    \n",
    "ans = 0\n",
    "for d in dist:\n",
    "    if d*a > b:\n",
    "        ans += b\n",
    "    else:\n",
    "        ans += d*a\n",
    "\n",
    "print(ans)"
   ]
  }
 ],
 "metadata": {
  "kernelspec": {
   "display_name": "Python 3",
   "language": "python",
   "name": "python3"
  },
  "language_info": {
   "codemirror_mode": {
    "name": "ipython",
    "version": 3
   },
   "file_extension": ".py",
   "mimetype": "text/x-python",
   "name": "python",
   "nbconvert_exporter": "python",
   "pygments_lexer": "ipython3",
   "version": "3.7.8"
  }
 },
 "nbformat": 4,
 "nbformat_minor": 2
}
