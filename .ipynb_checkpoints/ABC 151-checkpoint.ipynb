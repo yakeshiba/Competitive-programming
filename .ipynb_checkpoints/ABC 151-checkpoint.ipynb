{
 "cells": [
  {
   "cell_type": "code",
   "execution_count": 1,
   "metadata": {},
   "outputs": [
    {
     "name": "stdout",
     "output_type": "stream",
     "text": [
      "a\n",
      "b\n"
     ]
    }
   ],
   "source": [
    "#A\n",
    "C = input()\n",
    "alp = [chr(i) for i in range(97,97+26)]\n",
    "ind = alp.index(C)\n",
    "print(alp[ind+1])"
   ]
  },
  {
   "cell_type": "code",
   "execution_count": 6,
   "metadata": {},
   "outputs": [
    {
     "name": "stdout",
     "output_type": "stream",
     "text": [
      "4 100 60\n",
      "0 0 0\n",
      "-1\n"
     ]
    }
   ],
   "source": [
    "#B\n",
    "N, K, M = map(int,input().split())\n",
    "A = list(map(int,input().split()))\n",
    "for i in range(K+1):\n",
    "    score = sum(A) + (i)\n",
    "    if score/N >= M:\n",
    "        print(i)\n",
    "        break\n",
    "    if i == K:\n",
    "        print(\"-1\")"
   ]
  },
  {
   "cell_type": "code",
   "execution_count": null,
   "metadata": {},
   "outputs": [],
   "source": [
    "#C\n",
    "n,m = map(int,input().split())\n",
    "ac_d = {}\n",
    "wa_d = {}\n",
    "for i in range(m):\n",
    "    p, s = input().split()\n",
    "    if s == \"WA\":\n",
    "        if p in wa_d:\n",
    "            if wa_d[p] == 0:\n",
    "                pass\n",
    "            else:\n",
    "                if p not in ac_d:\n",
    "                    wa_d[p] += 1\n",
    "        else:\n",
    "            wa_d[p] = 1\n",
    "    else:\n",
    "        if p not in wa_d:\n",
    "            wa_d[p] = 0\n",
    "        ac_d[p] = 1\n",
    "\n",
    "ac = len(ac_d.keys())\n",
    "\n",
    "penalty = 0\n",
    "for key in ac_d.keys():\n",
    "    penalty += wa_d[key]\n",
    "print(ac, penalty)"
   ]
  },
  {
   "cell_type": "code",
   "execution_count": null,
   "metadata": {},
   "outputs": [],
   "source": [
    "#D\n",
    "import copy\n",
    "from collections import deque\n",
    "\n",
    "h, w = map(int,input().split())\n",
    "\n",
    "maze_o = [0]*h\n",
    "for i in range(h):\n",
    "    maze_o[i] = list(input())\n",
    "\n",
    "dy = [1, -1, 0, 0]\n",
    "dx = [0, 0, 1, -1]\n",
    "#すべての \".\" をスタート位置にする\n",
    "ans = 0\n",
    "for y in range(h):\n",
    "    for x in range(w):\n",
    "        if maze_o[y][x] == \"#\":\n",
    "            continue\n",
    "        maze = copy.deepcopy(maze_o)\n",
    "        distance = deque([0])\n",
    "        rireki = deque([])\n",
    "        stack = deque([(y, x)])\n",
    "        maze[y][x] = \"#\"\n",
    "        while stack:\n",
    "            yy, xx = stack.popleft()\n",
    "            d = distance.popleft()\n",
    "            rireki.append(d)\n",
    "            for dxi,dyi in zip(dx, dy):\n",
    "                if not (0<=dxi+xx<w and 0<=dyi+yy<h):\n",
    "                    continue\n",
    "                if maze[dyi+yy][dxi+xx] == \"#\":\n",
    "                    continue\n",
    "                distance.append(d+1)\n",
    "                stack.append((dyi+yy,dxi+xx))\n",
    "                maze[dyi+yy][dxi+xx] = \"#\"\n",
    "        ans = max(ans, max(rireki))\n",
    "print(ans)"
   ]
  }
 ],
 "metadata": {
  "kernelspec": {
   "display_name": "Python 3",
   "language": "python",
   "name": "python3"
  },
  "language_info": {
   "codemirror_mode": {
    "name": "ipython",
    "version": 3
   },
   "file_extension": ".py",
   "mimetype": "text/x-python",
   "name": "python",
   "nbconvert_exporter": "python",
   "pygments_lexer": "ipython3",
   "version": "3.7.3"
  }
 },
 "nbformat": 4,
 "nbformat_minor": 2
}
