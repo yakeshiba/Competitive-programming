{
 "cells": [
  {
   "cell_type": "code",
   "execution_count": 1,
   "metadata": {},
   "outputs": [
    {
     "name": "stdout",
     "output_type": "stream",
     "text": [
      "2 5\n",
      "10\n"
     ]
    }
   ],
   "source": [
    "#A\n",
    "a,b = map(int,input().split())\n",
    "print(a*b)"
   ]
  },
  {
   "cell_type": "code",
   "execution_count": null,
   "metadata": {},
   "outputs": [],
   "source": [
    "#B\n",
    "import numpy as np\n",
    "N = int(input())\n",
    "A = list(map(int,input().split()))\n",
    "A.sort()\n",
    "ans = 1\n",
    "for i in A:\n",
    "    ans *= i\n",
    "    if ans > 10**18:\n",
    "        ans = -1\n",
    "        print(ans)\n",
    "        break\n",
    "else:\n",
    "    print(ans)"
   ]
  },
  {
   "cell_type": "code",
   "execution_count": null,
   "metadata": {},
   "outputs": [],
   "source": [
    "#C\n",
    "import decimal\n",
    "\n",
    "A = input().split()\n",
    "a = decimal.Decimal(A[0])\n",
    "b = decimal.Decimal(A[1])\n",
    "\n",
    "an = a*b\n",
    "\n",
    "#print(a)\n",
    "#print(b)\n",
    "\n",
    "#print(a*b)\n",
    "\n",
    "ans = \"\" \n",
    "for i in str(an):\n",
    "    if i == \".\":\n",
    "        break\n",
    "    ans += i\n",
    "\n",
    "print(ans)"
   ]
  },
  {
   "cell_type": "code",
   "execution_count": null,
   "metadata": {},
   "outputs": [],
   "source": [
    "#D\n",
    "def factorization(n):\n",
    "    arr = []\n",
    "    temp = n\n",
    "    for i in range(2, int(-(-n**0.5//1))+1):\n",
    "        if temp%i==0:\n",
    "            cnt=0\n",
    "            while temp%i==0:\n",
    "                cnt+=1\n",
    "                temp //= i\n",
    "            arr.append([i, cnt])\n",
    "\n",
    "    if temp!=1:\n",
    "        arr.append([temp, 1])\n",
    "\n",
    "    if arr==[]:\n",
    "        arr.append([n, 1])\n",
    "\n",
    "    return arr\n",
    "\n",
    "N = int(input())\n",
    "\n",
    "ans = 0\n",
    "s = factorization(N)\n",
    "\n",
    "if s[0][0] != 1:\n",
    "    for i in range(len(s)):\n",
    "        cnt = 1\n",
    "        rest = s[i][1]\n",
    "        while True:\n",
    "            if cnt <= rest:\n",
    "                N = N//(s[i][0]**cnt)\n",
    "                rest -= cnt\n",
    "                cnt += 1\n",
    "                ans += 1\n",
    "            else:\n",
    "                break\n",
    "    print(ans)\n",
    "else:\n",
    "    print(0)"
   ]
  },
  {
   "cell_type": "code",
   "execution_count": null,
   "metadata": {},
   "outputs": [],
   "source": [
    "#E\n",
    "N = int(input())\n",
    "A = [0]*N\n",
    "B = [0]*N\n",
    "for i in range(N):\n",
    "    A[i],B[i] = map(int,input().split())\n"
   ]
  }
 ],
 "metadata": {
  "kernelspec": {
   "display_name": "Python 3",
   "language": "python",
   "name": "python3"
  },
  "language_info": {
   "codemirror_mode": {
    "name": "ipython",
    "version": 3
   },
   "file_extension": ".py",
   "mimetype": "text/x-python",
   "name": "python",
   "nbconvert_exporter": "python",
   "pygments_lexer": "ipython3",
   "version": "3.7.3"
  }
 },
 "nbformat": 4,
 "nbformat_minor": 2
}
