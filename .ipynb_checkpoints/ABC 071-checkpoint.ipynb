{
 "cells": [
  {
   "cell_type": "code",
   "execution_count": 1,
   "metadata": {},
   "outputs": [
    {
     "name": "stdout",
     "output_type": "stream",
     "text": [
      "5 2 7\n",
      "B\n"
     ]
    }
   ],
   "source": [
    "#A\n",
    "x,a,b = map(int,input().split())\n",
    "if abs(a-x) < abs(b-x):\n",
    "    print('A')\n",
    "else:\n",
    "    print('B')"
   ]
  },
  {
   "cell_type": "code",
   "execution_count": 2,
   "metadata": {},
   "outputs": [
    {
     "name": "stdout",
     "output_type": "stream",
     "text": [
      "atcoderregularcontest\n",
      "b\n"
     ]
    }
   ],
   "source": [
    "#B\n",
    "S = input()\n",
    "m = [chr(i) for i in range(97, 97+26)]\n",
    "for s in S:\n",
    "    if s in m:\n",
    "        m.remove(s)\n",
    "if len(m) != 0:\n",
    "    print(m[0])\n",
    "else:\n",
    "    print('None')"
   ]
  },
  {
   "cell_type": "code",
   "execution_count": 11,
   "metadata": {},
   "outputs": [
    {
     "name": "stdout",
     "output_type": "stream",
     "text": [
      "5\n",
      "11 2 2 33 33\n",
      "66\n"
     ]
    }
   ],
   "source": [
    "#C\n",
    "import collections\n",
    "n = int(input())\n",
    "a = list(map(int,input().split()))\n",
    "num = collections.Counter(a)\n",
    "\n",
    "four = []\n",
    "two = []\n",
    "\n",
    "for key in num.keys():\n",
    "    if num[key] >= 4:\n",
    "        four.append(key)\n",
    "        two.append(key)\n",
    "    elif num[key] >= 2:\n",
    "        two.append(key)\n",
    "\n",
    "two.sort(reverse=True)\n",
    "four.sort(reverse=True)\n",
    "\n",
    "if not four:\n",
    "    if len(two) >= 2:\n",
    "        print(two[0]*two[1])\n",
    "    else:\n",
    "        print(0)\n",
    "else:\n",
    "    if len(two) < 2:\n",
    "        print(four[0]**2)\n",
    "    else:\n",
    "        print(max(two[0]*two[1],four[0]**2))"
   ]
  },
  {
   "cell_type": "code",
   "execution_count": null,
   "metadata": {},
   "outputs": [],
   "source": [
    "#D\n",
    "MOD = 10**9+7\n",
    "\n",
    "N = int(input())\n",
    "patch = [None]*2\n",
    "\n",
    "for i in range(2):\n",
    "    patch[i] = input()\n",
    "    \n",
    "ans = 1\n",
    "prev = None\n",
    "for i in range(N):\n",
    "    up = patch[0][i]\n",
    "    down = patch[1][i]\n",
    "    if up == down:#縦向き\n",
    "        if i == 0:\n",
    "            ans *= 3\n",
    "            prev = 't'\n",
    "            continue\n",
    "        \n",
    "    else:#横向き"
   ]
  }
 ],
 "metadata": {
  "kernelspec": {
   "display_name": "Python 3",
   "language": "python",
   "name": "python3"
  },
  "language_info": {
   "codemirror_mode": {
    "name": "ipython",
    "version": 3
   },
   "file_extension": ".py",
   "mimetype": "text/x-python",
   "name": "python",
   "nbconvert_exporter": "python",
   "pygments_lexer": "ipython3",
   "version": "3.7.3"
  }
 },
 "nbformat": 4,
 "nbformat_minor": 2
}
