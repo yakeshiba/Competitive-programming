{
 "cells": [
  {
   "cell_type": "code",
   "execution_count": 1,
   "metadata": {},
   "outputs": [
    {
     "name": "stdout",
     "output_type": "stream",
     "text": [
      "2\n",
      "8\n"
     ]
    }
   ],
   "source": [
    "#A\n",
    "N = int(input())\n",
    "if N == 1:\n",
    "    print(1)\n",
    "else:\n",
    "    print(N**3)"
   ]
  },
  {
   "cell_type": "code",
   "execution_count": 8,
   "metadata": {},
   "outputs": [
    {
     "name": "stdout",
     "output_type": "stream",
     "text": [
      "3\n",
      "2 3 1\n",
      "2 5 4\n",
      "3 6\n",
      "17\n"
     ]
    }
   ],
   "source": [
    "#B\n",
    "N = int(input())\n",
    "A = list(map(int,input().split()))\n",
    "B = list(map(int,input().split()))\n",
    "C = list(map(int,input().split()))\n",
    "ans = 0\n",
    "for i in range(N):\n",
    "    ans += B[A[i]-1]\n",
    "    #print(ans)\n",
    "for j in range(N-1):\n",
    "    if A[j+1] - A[j] == 1:\n",
    "        ans += C[A[j]-1]\n",
    "print(ans)"
   ]
  },
  {
   "cell_type": "code",
   "execution_count": 12,
   "metadata": {},
   "outputs": [
    {
     "name": "stdout",
     "output_type": "stream",
     "text": [
      "3\n",
      "2 5\n",
      "12\n"
     ]
    }
   ],
   "source": [
    "#C\n",
    "N = int(input())\n",
    "A = []\n",
    "B = list(map(int,input().split()))\n",
    "A.append(B[0])\n",
    "for i in range(N-2):\n",
    "    A.append(min(B[i],B[i+1]))\n",
    "A.append(B[-1])\n",
    "print(sum(A))"
   ]
  },
  {
   "cell_type": "code",
   "execution_count": null,
   "metadata": {},
   "outputs": [],
   "source": [
    "#D\n",
    "N, K = map(int,input().split())\n",
    "S = input()\n"
   ]
  }
 ],
 "metadata": {
  "kernelspec": {
   "display_name": "Python 3",
   "language": "python",
   "name": "python3"
  },
  "language_info": {
   "codemirror_mode": {
    "name": "ipython",
    "version": 3
   },
   "file_extension": ".py",
   "mimetype": "text/x-python",
   "name": "python",
   "nbconvert_exporter": "python",
   "pygments_lexer": "ipython3",
   "version": "3.7.3"
  }
 },
 "nbformat": 4,
 "nbformat_minor": 2
}
