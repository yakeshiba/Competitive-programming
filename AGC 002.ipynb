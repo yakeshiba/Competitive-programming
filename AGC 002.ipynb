{
 "cells": [
  {
   "cell_type": "code",
   "execution_count": null,
   "metadata": {},
   "outputs": [],
   "source": [
    "#B\n",
    "import numpy as np\n",
    "\n",
    "N, M = map(int,input().split())\n",
    "\n",
    "box = np.array([1]*N)#個数\n",
    "pos = np.array([0]*N)#ありえるか\n",
    "pos[0] = 1\n",
    "\n",
    "for i in range(M):\n",
    "    x, y = map(lambda x:int(x)-1,input().split())\n",
    "    box[x] -= 1\n",
    "    box[y] += 1\n",
    "    if pos[x]:\n",
    "        pos[y] = 1\n",
    "        if box[x] == 0:\n",
    "            pos[x] = 0\n",
    "\n",
    "#print(box)\n",
    "#print(pos)\n",
    "\n",
    "box = np.where(box > 0, 1, 0)\n",
    "print(sum(pos*box))"
   ]
  }
 ],
 "metadata": {
  "kernelspec": {
   "display_name": "Python 3",
   "language": "python",
   "name": "python3"
  },
  "language_info": {
   "codemirror_mode": {
    "name": "ipython",
    "version": 3
   },
   "file_extension": ".py",
   "mimetype": "text/x-python",
   "name": "python",
   "nbconvert_exporter": "python",
   "pygments_lexer": "ipython3",
   "version": "3.7.3"
  }
 },
 "nbformat": 4,
 "nbformat_minor": 2
}
