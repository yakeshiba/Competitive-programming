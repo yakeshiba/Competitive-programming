{
 "cells": [
  {
   "cell_type": "code",
   "execution_count": null,
   "metadata": {},
   "outputs": [],
   "source": [
    "# ランクC\n",
    "Q = int(input())\n",
    "ans = []\n",
    "for _ in range(Q):\n",
    "    div = []\n",
    "    N = int(input())\n",
    "    for i in range(2,1001):\n",
    "        if N < i:\n",
    "            break\n",
    "        if N%i == 0:\n",
    "            div.append(N//i)\n",
    "    S = sum(div)\n",
    "    if S == N:\n",
    "        ans.append(\"perfect\")\n",
    "    elif S - N == 1 or S - N == -1:\n",
    "        ans.append(\"nearly\")\n",
    "    else:\n",
    "        ans.append(\"neither\")\n",
    "for j in range(Q):\n",
    "    print(ans[j])"
   ]
  },
  {
   "cell_type": "code",
   "execution_count": 4,
   "metadata": {},
   "outputs": [
    {
     "name": "stdout",
     "output_type": "stream",
     "text": [
      "PAIZA\n",
      "P4124\n"
     ]
    }
   ],
   "source": [
    "#C016\n",
    "S = input()\n",
    "Leet = {\"A\":\"4\", \"E\":\"3\" , \"G\":\"6\" , \"I\":\"1\" , \"O\":\"0\" , \"S\":\"5\" ,\"Z\":\"2\" }\n",
    "ans = \"\"\n",
    "for i in S:\n",
    "    if i in Leet:\n",
    "        ans += Leet[i]\n",
    "    else:\n",
    "        ans += i\n",
    "print(ans)"
   ]
  },
  {
   "cell_type": "code",
   "execution_count": null,
   "metadata": {},
   "outputs": [],
   "source": [
    "#C024\n",
    "n = int(input())\n",
    "variables = [0,0]\n",
    "for i in range(n):\n",
    "    S = input()\n",
    "    if S[0:3] == \"SET\":\n",
    "        op,ind,a = S.split()\n",
    "        variables[int(ind)-1] = int(a)\n",
    "    elif S[0:3] == \"ADD\":\n",
    "        op,a = S.split()\n",
    "        variables[1] = variables[0] + int(a)\n",
    "    else:\n",
    "        op,a = S.split()\n",
    "        variables[1] = variables[0] - int(a)\n",
    "print(*variables)"
   ]
  },
  {
   "cell_type": "code",
   "execution_count": 48,
   "metadata": {},
   "outputs": [
    {
     "name": "stdout",
     "output_type": "stream",
     "text": [
      "50\n"
     ]
    }
   ],
   "source": [
    "#C056\n",
    "N, M = map(int,input().split())\n",
    "if M == 0:\n",
    "    for j in range(N):\n",
    "        print(j+1)\n",
    "else:\n",
    "    passed = []\n",
    "    for i in range(N):\n",
    "        test,absent = map(int,input().split())\n",
    "        score = test - 5*absent\n",
    "        if score >= M:\n",
    "            passed.append(i+1)\n",
    "    for k in range(len(passed)):\n",
    "        print(passed[k])\n"
   ]
  },
  {
   "cell_type": "markdown",
   "metadata": {},
   "source": [
    "## 重複する値の複数のインデックスを抽出"
   ]
  },
  {
   "cell_type": "code",
   "execution_count": 67,
   "metadata": {},
   "outputs": [
    {
     "name": "stdout",
     "output_type": "stream",
     "text": [
      "1\n",
      "2\n",
      "3\n",
      "4\n",
      "5\n",
      "6\n",
      "7\n",
      "8\n",
      "9\n"
     ]
    }
   ],
   "source": [
    "#C013\n",
    "dislike = input()\n",
    "m = int(input())\n",
    "rooms = []\n",
    "for i in range(m):\n",
    "    s = input()\n",
    "    if dislike in s:\n",
    "        continue\n",
    "    rooms.append(s)\n",
    "if len(rooms) == 0:\n",
    "    print(\"none\")\n",
    "else:\n",
    "    for r in rooms:\n",
    "        print(r)"
   ]
  },
  {
   "cell_type": "code",
   "execution_count": 2,
   "metadata": {},
   "outputs": [
    {
     "name": "stdout",
     "output_type": "stream",
     "text": [
      "2 9 3 8\n",
      "175\n"
     ]
    }
   ],
   "source": [
    "#C051\n",
    "import itertools\n",
    "cards = list(input().split())\n",
    "ans = []\n",
    "for v in itertools.permutations(cards, 4):\n",
    "    ans.append(int(v[0] + v[1]) + int(v[2] + v[3]))\n",
    "print(max(ans))"
   ]
  },
  {
   "cell_type": "code",
   "execution_count": null,
   "metadata": {},
   "outputs": [],
   "source": [
    "#C074\n",
    "H, W, X = map(int,input().split())\n",
    "sentence = []\n",
    "for i in range(H):\n",
    "    s = input()\n",
    "    sentence.append(s)\n",
    "\n",
    "ALL = \"\".join(sentence)\n",
    "\n",
    "flag = True\n",
    "if (H*W)%X == 0:\n",
    "    row = H*W//X\n",
    "else:\n",
    "    row = (H*W//X) + 1\n",
    "\n",
    "ans = []    \n",
    "for j in range(row):\n",
    "    ans.append(ALL[X*j:X*(j+1)])\n",
    "for s in ans:\n",
    "    print(s)"
   ]
  },
  {
   "cell_type": "code",
   "execution_count": 69,
   "metadata": {},
   "outputs": [
    {
     "name": "stdout",
     "output_type": "stream",
     "text": [
      "3 44\n",
      "4\n",
      "2\n",
      "6\n",
      "101100\n",
      "1\n",
      "0\n",
      "0\n"
     ]
    }
   ],
   "source": [
    "#C067\n",
    "N, X = map(int,input().split())\n",
    "wanna_know = []\n",
    "for i in range(N):\n",
    "    wanna_know.append(int(input()))\n",
    "bin_str = format(X,\"b\")\n",
    "for s in wanna_know:\n",
    "    print(bin_str[len(bin_str)-s])"
   ]
  },
  {
   "cell_type": "code",
   "execution_count": null,
   "metadata": {},
   "outputs": [],
   "source": [
    "#C055\n",
    "N = int(input())\n",
    "G = input()\n",
    "ans = []\n",
    "for i in range(N):\n",
    "    S = input()\n",
    "    if G in S:\n",
    "        ans.append(S)\n",
    "if len(ans) != 0:\n",
    "    for s in ans:\n",
    "        print(s)\n",
    "else:\n",
    "    print(\"None\")"
   ]
  },
  {
   "cell_type": "code",
   "execution_count": null,
   "metadata": {},
   "outputs": [],
   "source": [
    "#C070\n",
    "N = int(input())\n",
    "for i in range(N):\n",
    "    cards = list(input())\n",
    "    counts = []\n",
    "    for s in cards:\n",
    "        counts.append(cards.count(s))\n",
    "    if 4 in counts:\n",
    "        print(\"Four Card\")\n",
    "    elif 3 in counts:\n",
    "        print(\"Three Card\")\n",
    "    elif 2 in counts:\n",
    "        if counts.count(2) == 4:\n",
    "            print(\"Two Pair\")\n",
    "        else:\n",
    "            print(\"One Pair\")\n",
    "    else:\n",
    "        print(\"No Pair\")"
   ]
  },
  {
   "cell_type": "code",
   "execution_count": null,
   "metadata": {},
   "outputs": [],
   "source": [
    "#C034\n",
    "problem = list(map(str,input().split()))\n",
    "where_is_x = problem.index(\"x\")\n",
    "if where_is_x == 0:\n",
    "    if problem[1] == \"+\":\n",
    "        print(int(problem[4])-int(problem[2]))\n",
    "    else:\n",
    "        print(int(problem[4])+int(problem[2]))\n",
    "elif where_is_x == 2:\n",
    "    if problem[1] == \"+\":\n",
    "        print(int(problem[4])-int(problem[0]))\n",
    "    else:\n",
    "        print(-(int(problem[4])-int(problem[0])))\n",
    "else:\n",
    "    if problem[1] == \"+\":\n",
    "        print(int(problem[0])+int(problem[2]))\n",
    "    else:\n",
    "        print(int(problem[0])-int(problem[2]))"
   ]
  },
  {
   "cell_type": "code",
   "execution_count": null,
   "metadata": {},
   "outputs": [],
   "source": [
    "#C035\n",
    "N = int(input())\n",
    "ans = 0\n",
    "for i in range(N):\n",
    "    data = list(map(str,input().split()))\n",
    "    all_subject = 0\n",
    "    for j in range(5):\n",
    "        all_subject += int(data[j+1])\n",
    "    if all_subject >= 350:\n",
    "        if data[0] == \"l\":\n",
    "            b = int(data[4]) + int(data[5])\n",
    "            if b >= 160:\n",
    "                ans += 1\n",
    "        if data[0] == \"s\":\n",
    "            r = int(data[2]) + int(data[3])\n",
    "            if r >= 160:\n",
    "                ans += 1\n",
    "print(ans)"
   ]
  },
  {
   "cell_type": "code",
   "execution_count": null,
   "metadata": {},
   "outputs": [],
   "source": [
    "#C049\n",
    "N = int(input())\n",
    "ans = 0\n",
    "previous = 1\n",
    "for i in range(N):\n",
    "    now = int(input())\n",
    "    ans += abs(previous - now)\n",
    "    previous = now\n",
    "print(ans)"
   ]
  },
  {
   "cell_type": "code",
   "execution_count": null,
   "metadata": {},
   "outputs": [],
   "source": [
    "#C028\n",
    "N = int(input())\n",
    "score = 0\n",
    "for i in range(N):\n",
    "    answer, test = map(str,input().split())\n",
    "    if len(answer) != len(test):\n",
    "        continue\n",
    "    else:\n",
    "        wrong = 0\n",
    "        for j in range(len(answer)):\n",
    "            if answer[j] != test[j]:\n",
    "                wrong += 1\n",
    "        if wrong == 0:\n",
    "            score += 2\n",
    "        elif wrong == 1:\n",
    "            score += 1\n",
    "        else:\n",
    "            pass\n",
    "print(score)"
   ]
  },
  {
   "cell_type": "code",
   "execution_count": 80,
   "metadata": {},
   "outputs": [
    {
     "name": "stdout",
     "output_type": "stream",
     "text": [
      "[0, 0, 0]\n"
     ]
    }
   ],
   "source": [
    "#C058\n",
    "N, correct, initial = map(str,input().split())\n",
    "ans = 0\n",
    "if correct == initial:\n",
    "    print(0)\n",
    "else:\n",
    "    for i in range(int(N)-1):\n",
    "        ans += 1\n",
    "        test = []\n",
    "        test.append(initial[0:i+1])\n",
    "        test.append(initial[i+1:])\n",
    "        tmp = \"\".join(test)\n",
    "        print(tmp)\n",
    "        if tmp == correct:\n",
    "            break\n",
    "    print(ans)\n",
    "    "
   ]
  },
  {
   "cell_type": "code",
   "execution_count": 81,
   "metadata": {},
   "outputs": [
    {
     "data": {
      "text/plain": [
       "[2]"
      ]
     },
     "execution_count": 81,
     "metadata": {},
     "output_type": "execute_result"
    }
   ],
   "source": [
    "#C061\n",
    "A, B =map(str,input().split())\n",
    "N_carry = min(len(A),len(B))\n",
    "N_remain = max(len(A),len(B)) - N_carry\n",
    "ans = []\n",
    "for i in range(1,N_carry+1):\n",
    "    tmp = int(A[-i]) + int(B[-i])\n",
    "    ans.append(str(tmp)[-1])\n",
    "for j in range(N_remain):\n",
    "    if N_carry == len(A):#Bの方が桁が大きいとき\n",
    "        ans.append(B[-(j+1+N_carry)])\n",
    "    else:\n",
    "        ans.append(A[-(j+1+N_carry)])\n",
    "ans = ans[::-1]\n",
    "ans_join = \"\".join(ans)\n",
    "print(ans_join)"
   ]
  },
  {
   "cell_type": "code",
   "execution_count": null,
   "metadata": {},
   "outputs": [],
   "source": [
    "#C022\n",
    "n = int(input())\n",
    "stock = []\n",
    "ans = []\n",
    "for i in range(n):\n",
    "    tmp = list(map(int,input().split()))\n",
    "    stock.append(tmp)\n",
    "ans.append(stock[0][0])\n",
    "ans.append(stock[n-1][1])\n",
    "highest = []\n",
    "lowest = []\n",
    "for j in range(n):\n",
    "    highest.append(stock[j][2])\n",
    "    lowest.append(stock[j][3])\n",
    "ans.append(max(highest))\n",
    "ans.append(min(lowest))\n",
    "print(*ans)"
   ]
  },
  {
   "cell_type": "code",
   "execution_count": null,
   "metadata": {},
   "outputs": [],
   "source": [
    "#C064 paizaでお食事\n",
    "foods, people = map(int,input().split())\n",
    "cal = []\n",
    "for _ in range(foods):\n",
    "    cal.append(int(input()))\n",
    "\n",
    "for i in range(people):\n",
    "    eat_g = list(map(int,input().split()))\n",
    "    eat_cal = 0\n",
    "    for j in range(foods):\n",
    "        eat_cal += (cal[j]*eat_g[j])//100\n",
    "    print(eat_cal)"
   ]
  },
  {
   "cell_type": "code",
   "execution_count": null,
   "metadata": {},
   "outputs": [],
   "source": [
    "#C037 アニメの日時\n",
    "t = input()\n",
    "MM = t[0:2]\n",
    "dd = t[3:5]\n",
    "hh = t[6:8]\n",
    "mm = t[9:11]\n",
    "plus_days = int(hh)//24\n",
    "hours = int(hh)%24\n",
    "ans = [MM,\"/\"]\n",
    "true_day = int(dd)+plus_days\n",
    "if true_day < 10:\n",
    "    ans.append(\"0\"+str(true_day)+\" \")\n",
    "else:\n",
    "    ans.append(str(true_day)+\" \")\n",
    "if hours < 10:\n",
    "    ans.append(\"0\"+str(hours)+\":\")\n",
    "else:\n",
    "    ans.append(str(hours)+\":\")\n",
    "ans.append(mm)\n",
    "ans_join = \"\".join(ans)\n",
    "print(ans_join)"
   ]
  },
  {
   "cell_type": "code",
   "execution_count": 84,
   "metadata": {},
   "outputs": [
    {
     "name": "stdout",
     "output_type": "stream",
     "text": [
      "1\n"
     ]
    }
   ],
   "source": [
    "#C053 カードの合計\n",
    "N = int(input())\n",
    "cards = list(map(str,input().split()))\n",
    "x10_flag = False\n",
    "ans = 0\n",
    "\n",
    "if \"x10\" in cards:#x10の排除\n",
    "    x10_flag = True\n",
    "    cards.remove(\"x10\")\n",
    "\n",
    "cards_int = list(map(int, cards))#整数型への変換\n",
    "\n",
    "if 0 in cards_int:#最大値の取得\n",
    "    max_value = max(cards_int)\n",
    "    max_index = [i for i, x in enumerate(cards_int) if x == max_value]\n",
    "    for index in max_index:#最大値を０にする\n",
    "        cards_int[index] = 0\n",
    "        \n",
    "for num in cards_int:#和\n",
    "    ans += num\n",
    "    \n",
    "if x10_flag:\n",
    "    print(ans*10)\n",
    "else:\n",
    "    print(ans)"
   ]
  },
  {
   "cell_type": "code",
   "execution_count": 77,
   "metadata": {},
   "outputs": [
    {
     "name": "stdout",
     "output_type": "stream",
     "text": [
      "2\n",
      "as fd as\n",
      "2\n",
      "as fd gh\n",
      " s fr a\n",
      "['as', 'fd', 'as']\n"
     ]
    }
   ],
   "source": [
    "#C048\n",
    "X, P = map(int,input().split())\n",
    "ans = 0\n",
    "flag = True\n",
    "price = X\n",
    "while flag:\n",
    "    ans += price\n",
    "    price = (price * (100-P)) // 100\n",
    "    if price == 0:\n",
    "        flag = False\n",
    "print(ans)"
   ]
  },
  {
   "cell_type": "code",
   "execution_count": 86,
   "metadata": {},
   "outputs": [
    {
     "name": "stdout",
     "output_type": "stream",
     "text": [
      "3 2\n",
      "1\n",
      "3 4\n",
      "High\n"
     ]
    }
   ],
   "source": [
    "#C017\n",
    "A,B = map(int,input().split())\n",
    "n = int(input())\n",
    "for i in range(n):\n",
    "    a, b = map(int,input().split())\n",
    "    if A > a:\n",
    "        print(\"High\")\n",
    "    elif A == a:\n",
    "        if B < b:\n",
    "            print(\"High\")\n",
    "        else:\n",
    "            print(\"Low\")\n",
    "    else:\n",
    "        print(\"Low\")"
   ]
  },
  {
   "cell_type": "code",
   "execution_count": 88,
   "metadata": {},
   "outputs": [
    {
     "name": "stdout",
     "output_type": "stream",
     "text": [
      "3 2 1\n",
      "kik asd ajgnia bub\n",
      "['ajgnia', 'asd', 'bub', 'kik']\n"
     ]
    }
   ],
   "source": [
    "#C060\n",
    "N, per_page, wanna_page = map(int,input().split())\n",
    "words = list(map(str,input().split()))\n",
    "words.sort()\n",
    "dictionary = []\n",
    "if N/per_page == N//per_page:\n",
    "    page = N//per_page\n",
    "else:\n",
    "    page = N//per_page + 1\n",
    "for i in range(page-1):\n",
    "    this_page = []\n",
    "    for j in range(per_page):\n",
    "        this_page.append(words[per_page*i+j])\n",
    "    dictionary.append(this_page)\n",
    "#最後のページ\n",
    "last_page = words[per_page*(page-1):]\n",
    "dictionary.append(last_page)\n",
    "\n",
    "for s in dictionary[wanna_page-1]:\n",
    "    print(s)"
   ]
  },
  {
   "cell_type": "code",
   "execution_count": null,
   "metadata": {},
   "outputs": [],
   "source": [
    "#C023\n",
    "atari = list(map(int,input().split()))\n",
    "N = int(input())\n",
    "for i in range(N):\n",
    "    match_number = 0\n",
    "    kuji = list(map(int,input().split()))\n",
    "    for j in range(6):\n",
    "        if kuji[j] in atari:\n",
    "            match_number += 1\n",
    "        else:\n",
    "            pass\n",
    "    print(match_number)"
   ]
  },
  {
   "cell_type": "code",
   "execution_count": null,
   "metadata": {},
   "outputs": [],
   "source": [
    "#C015\n",
    "N = int(input())\n",
    "point = 0\n",
    "for i in range(N):\n",
    "    d, p = map(str,input().split())\n",
    "    if str(3) in d:\n",
    "        point += (int(p) * 3)//100\n",
    "    elif str(5) in d:\n",
    "        point += (int(p) * 5)//100\n",
    "    else:\n",
    "        point += int(p)//100\n",
    "print(point)"
   ]
  },
  {
   "cell_type": "code",
   "execution_count": null,
   "metadata": {},
   "outputs": [],
   "source": [
    "#C072\n",
    "ATK, DEF, AGI = map(int,input().split())\n",
    "N = int(input())\n",
    "candidate = []\n",
    "for i in range(N):\n",
    "    condition = list(map(str,input().split()))\n",
    "    if int(condition[1]) <= ATK and int(condition[2]) >= ATK:\n",
    "        if int(condition[3]) <= DEF and int(condition[4]) >= DEF:\n",
    "            if int(condition[5]) <= AGI and int(condition[6]) >= AGI:\n",
    "                candidate.append(condition[0])\n",
    "if len(candidate) == 0:\n",
    "    print(\"no evolution\")\n",
    "else:\n",
    "    for s in candidate:\n",
    "        print(s)"
   ]
  },
  {
   "cell_type": "code",
   "execution_count": null,
   "metadata": {},
   "outputs": [],
   "source": [
    "#C020\n",
    "m, p, q = map(int,input().split())\n",
    "first_rest = m-m*(p/100)\n",
    "print(first_rest-first_rest*(q/100))"
   ]
  },
  {
   "cell_type": "code",
   "execution_count": null,
   "metadata": {},
   "outputs": [],
   "source": [
    "#C040\n",
    "N = int(input())\n",
    "down = 0\n",
    "up = 200\n",
    "for i in range(N):\n",
    "    c,h = map(str,input().split())\n",
    "    if c == \"ge\":\n",
    "        if down <= float(h):\n",
    "            down = float(h)\n",
    "    else:\n",
    "        if up >= float(h):\n",
    "            up = float(h)\n",
    "print(down,up)"
   ]
  },
  {
   "cell_type": "code",
   "execution_count": null,
   "metadata": {},
   "outputs": [],
   "source": [
    "#C050\n",
    "S, A, B = map(int,input().split())\n",
    "ans = []\n",
    "now = S\n",
    "while len(ans) == 0:\n",
    "    now += 10\n",
    "    if now+1000 >= B:\n",
    "        ans.append(\"A\")\n",
    "        ans.append(now)\n",
    "    now += 1000:\n",
    "    if now + 10 >= A:\n",
    "        ans.append(\"B\")\n",
    "        ans.append(now)\n",
    "print(*ans)"
   ]
  },
  {
   "cell_type": "code",
   "execution_count": 89,
   "metadata": {},
   "outputs": [
    {
     "data": {
      "text/plain": [
       "['A',\n",
       " 'B',\n",
       " 'C',\n",
       " 'D',\n",
       " 'E',\n",
       " 'F',\n",
       " 'G',\n",
       " 'H',\n",
       " 'I',\n",
       " 'J',\n",
       " 'K',\n",
       " 'L',\n",
       " 'M',\n",
       " 'N',\n",
       " 'O',\n",
       " 'P',\n",
       " 'Q',\n",
       " 'R',\n",
       " 'S',\n",
       " 'T',\n",
       " 'U',\n",
       " 'V',\n",
       " 'W',\n",
       " 'X',\n",
       " 'Y',\n",
       " 'Z']"
      ]
     },
     "execution_count": 89,
     "metadata": {},
     "output_type": "execute_result"
    }
   ],
   "source": [
    "#C068\n",
    "shift = int(input())\n",
    "code = list(input())\n",
    "original = [chr(i) for i in range(65,65+26)]\n",
    "ans = []\n",
    "\n",
    "#中身\n",
    "for i in range(len(code)):\n",
    "    if i%2 == 0:\n",
    "        str_index = original.index(code[i])#本来の位置\n",
    "        index = str_index-shift\n",
    "    else:\n",
    "        str_index = original.index(code[i])#本来の位置\n",
    "        index = str_index+shift\n",
    "    if index > 25:\n",
    "        index = index - 26\n",
    "    #print(index)\n",
    "    ans.append(original[index])\n",
    "ans_join = \"\".join(ans)\n",
    "print(ans_join)"
   ]
  },
  {
   "cell_type": "code",
   "execution_count": null,
   "metadata": {},
   "outputs": [],
   "source": [
    "#C010\n",
    "a, b, R = map(int,input().split())\n",
    "N = int(input())\n",
    "for i in range(N):\n",
    "    x, y = map(int,input().split())\n",
    "    if (x-a)**2 + (y-b)**2 >= R**2:\n",
    "        print(\"silent\")\n",
    "    else:\n",
    "        print(\"noisy\")"
   ]
  },
  {
   "cell_type": "code",
   "execution_count": 93,
   "metadata": {},
   "outputs": [
    {
     "name": "stdout",
     "output_type": "stream",
     "text": [
      "[3]\n"
     ]
    }
   ],
   "source": [
    "#C052\n",
    "H, W = map(int,input().split())\n",
    "dy, dx = map(int,input().split())\n",
    "print(H*abs(dx)+ W*abs(dy) - abs(dx*dy))"
   ]
  },
  {
   "cell_type": "code",
   "execution_count": null,
   "metadata": {},
   "outputs": [],
   "source": [
    "#C021\n",
    "xc, yc, r1, r2 = map(int,input().split())\n",
    "n = int(input())\n",
    "for i in range(n):\n",
    "    x, y = map(int,input().split())\n",
    "    tmp = (x-xc)**2+(y-yc)**2\n",
    "    if r1**2 <= tmp and tmp <= r2**2:\n",
    "        print(\"yes\")\n",
    "    else:\n",
    "        print(\"no\")"
   ]
  },
  {
   "cell_type": "code",
   "execution_count": null,
   "metadata": {},
   "outputs": [],
   "source": [
    "#C032\n",
    "N = int(input())\n",
    "ans = 0\n",
    "point = {0:5,1:3,2:2,3:1}\n",
    "kind = [0,0,0,0]\n",
    "for i in range(N):\n",
    "    v, p = map(int,input().split())\n",
    "    kind[v] += p\n",
    "for j in range(4):\n",
    "    ans += (kind[j]//100)*point.get(j)\n",
    "print(ans)"
   ]
  },
  {
   "cell_type": "code",
   "execution_count": 94,
   "metadata": {},
   "outputs": [
    {
     "name": "stdout",
     "output_type": "stream",
     "text": [
      "rrr333\n",
      "r\n",
      "r\n",
      "r\n",
      "3\n",
      "3\n",
      "3\n"
     ]
    }
   ],
   "source": [
    "#C039\n",
    "E = input()\n",
    "ans = 0\n",
    "for s in E:\n",
    "    if s==\"<\":\n",
    "        ans += 10\n",
    "    elif s==\"/\":\n",
    "        ans += 1\n",
    "    else:\n",
    "        pass\n",
    "print(ans)"
   ]
  },
  {
   "cell_type": "code",
   "execution_count": null,
   "metadata": {},
   "outputs": [],
   "source": [
    "#C030\n",
    "H, W = map(int,input().split())\n",
    "ans = []\n",
    "for i in range(H):\n",
    "    row = list(map(int,input().split()))\n",
    "    for j in range(W):\n",
    "        if row[j] >= 128:\n",
    "            row[j] = 1\n",
    "        else:\n",
    "            row[j] = 0\n",
    "    ans.append(row)\n",
    "for r in ans:\n",
    "    print(*r)"
   ]
  },
  {
   "cell_type": "code",
   "execution_count": null,
   "metadata": {},
   "outputs": [],
   "source": [
    "#C014\n",
    "n,r = map(int,input().split())\n",
    "ans = []\n",
    "for i in range(n):\n",
    "    h, w, d = map(int,input().split())\n",
    "    if h >= 2*r and w>=2*r and d >= 2*r:\n",
    "        ans.append(i+1)\n",
    "for s in ans:\n",
    "    print(s)"
   ]
  },
  {
   "cell_type": "code",
   "execution_count": null,
   "metadata": {},
   "outputs": [],
   "source": [
    "#C071\n",
    "M, N = map(int,input().split())\n",
    "ans = 0\n",
    "for i in range(1,M):\n",
    "    for j in range(1,N):\n",
    "        sh = (i**2 + j**2)**(1/2)\n",
    "        if int(sh) == sh:\n",
    "            ans += 1\n",
    "print(ans)"
   ]
  },
  {
   "cell_type": "code",
   "execution_count": null,
   "metadata": {},
   "outputs": [],
   "source": [
    "#C059\n",
    "N = int(input())\n",
    "ans = [0,0,0,0]\n",
    "for i in range(N):\n",
    "    b = str(input())\n",
    "    for j in range(4):\n",
    "        if b[j] == \"1\":\n",
    "            ans[j] += 1\n",
    "str_ans = []\n",
    "for s in ans:\n",
    "    if s%2 == 0:\n",
    "        str_ans.append(\"0\")\n",
    "    else:\n",
    "        str_ans.append(\"1\")\n",
    "ans_join = \"\".join(str_ans)\n",
    "print(ans_join)"
   ]
  },
  {
   "cell_type": "code",
   "execution_count": null,
   "metadata": {},
   "outputs": [],
   "source": [
    "#C073\n",
    "long = int(input())\n",
    "usagi, dis, minutes = map(int,input().split())\n",
    "kame = int(input())\n",
    "howmin_kame = long/kame\n",
    "howmin_usagi = long/usagi + (long//dis)*minutes\n",
    "if howmin_kame > howmin_usagi:\n",
    "    print(\"USAGI\")\n",
    "elif howmin_kame < howmin_usagi:\n",
    "    print(\"KAME\")\n",
    "else:\n",
    "    print(\"DRAW\")"
   ]
  },
  {
   "cell_type": "code",
   "execution_count": 95,
   "metadata": {},
   "outputs": [
    {
     "data": {
      "text/plain": [
       "2.0"
      ]
     },
     "execution_count": 95,
     "metadata": {},
     "output_type": "execute_result"
    }
   ],
   "source": [
    "#C062\n",
    "T = int(input())\n",
    "ans = 0\n",
    "previous = 0\n",
    "first = False\n",
    "for i in range(T):\n",
    "    n = input()\n",
    "    if !first and n==\"melon\":\n",
    "        ans += 1\n",
    "        previous = i\n",
    "        first = True\n",
    "        continue\n",
    "    if n == \"melon\":\n",
    "        if previous + 10 < i:\n",
    "            previous = i\n",
    "            ans += 1\n",
    "print(ans)"
   ]
  },
  {
   "cell_type": "code",
   "execution_count": null,
   "metadata": {},
   "outputs": [],
   "source": [
    "#C044\n",
    "N = int(input())\n",
    "kind = []\n",
    "for i in range(N):\n",
    "    s = input()\n",
    "    is s not in kind:\n",
    "        kind.append(s)\n",
    "if len(kind) == 2:\n",
    "    if kind[0] == \"rock\":\n",
    "        if kind[1] == \"paper\":\n",
    "            print(paper)\n",
    "        else:\n",
    "            print(\"scissors\")\n",
    "    elif kind[0] == \"scissors\":\n",
    "        if kind[1] == \"rock\":\n",
    "            print(\"rock\")\n",
    "        else:\n",
    "            print(\"paper\")\n",
    "    else:\n",
    "        if kind[1] == \"rock\":\n",
    "            print(\"paper\")\n",
    "        else:\n",
    "            print(\"scissors\")\n",
    "else:\n",
    "    print(\"draw\")\n",
    "            "
   ]
  },
  {
   "cell_type": "code",
   "execution_count": null,
   "metadata": {},
   "outputs": [],
   "source": [
    "T, x, y = map(int,input().split())\n",
    "nowx = x\n",
    "nowy = y\n",
    "maxx = x\n",
    "for i in range(T):\n",
    "    a, b = map(int,input().split())\n",
    "    if nowx + a > maxx:\n",
    "        maxx = nowx + a\n",
    "    nowx = nowx + a\n",
    "    if nowy + b <= 0:\n",
    "        break\n",
    "    nowy = nowy + b\n",
    "print(maxx)"
   ]
  },
  {
   "cell_type": "code",
   "execution_count": null,
   "metadata": {},
   "outputs": [],
   "source": [
    "#C054\n",
    "N, limit = map(int,input().split())\n",
    "exceed = False\n",
    "for i in range(N)\n",
    "    time, pos = map(int,input().split())\n",
    "    if i == 0:\n",
    "        prev_time = time\n",
    "        prev_pos = pos\n",
    "        continue\n",
    "    else:\n",
    "        if (pos-prev_pos)/(time-prev_time) > limit:\n",
    "            exceed = True\n",
    "            break\n",
    "        prev_time = time\n",
    "        prev_pos = pos\n",
    "if exceed:\n",
    "    print(\"YES\")\n",
    "else:\n",
    "    print(\"NO\")"
   ]
  },
  {
   "cell_type": "code",
   "execution_count": null,
   "metadata": {},
   "outputs": [],
   "source": [
    "#C026\n",
    "N ,S, p = map(int,input().split())\n",
    "ans = [0,0]#質量，番号\n",
    "found = False\n",
    "for i in range(N):\n",
    "    m ,s = map(int,input().split())\n",
    "    if s <= S+p and s >= S-p:\n",
    "        if found == False:\n",
    "            found = True\n",
    "        if ans[0] < m:\n",
    "            ans[0] = m\n",
    "            ans[1] = i+1\n",
    "if found == False:\n",
    "    print(\"not found\")\n",
    "else:\n",
    "    print(ans[1])"
   ]
  },
  {
   "cell_type": "code",
   "execution_count": null,
   "metadata": {},
   "outputs": [],
   "source": [
    "#C041\n",
    "N = int(input())\n",
    "medals = []\n",
    "for i in range(N):\n",
    "    one_country = list(map(int,input().split()))\n",
    "    medals.append(one_country)\n",
    "medals.sort(reverse=True)\n",
    "for s in medals:\n",
    "    print(*s)"
   ]
  },
  {
   "cell_type": "code",
   "execution_count": null,
   "metadata": {},
   "outputs": [],
   "source": [
    "#C025\n",
    "can = int(input())\n",
    "N = int(input())\n",
    "ans = 0\n",
    "for i in range(N):\n",
    "    if i == 0:\n",
    "        x, y, c = map(int,input().split())\n",
    "        hour = x\n",
    "        per_hour += c\n",
    "    else:\n",
    "        x, y, c = map(int,input().split())\n",
    "        if x != hour:\n",
    "            ans += -(-per_hour // can)\n",
    "            per_hour = c\n",
    "        else:\n",
    "            per_hour += c\n",
    "print(ans)"
   ]
  },
  {
   "cell_type": "code",
   "execution_count": 98,
   "metadata": {},
   "outputs": [
    {
     "data": {
      "text/plain": [
       "-1"
      ]
     },
     "execution_count": 98,
     "metadata": {},
     "output_type": "execute_result"
    }
   ],
   "source": [
    "#C066\n",
    "fish, poi, hp = map(int,input().split())\n",
    "ans = 0\n",
    "every_poi = [hp]*poi\n",
    "poi_no = 0\n",
    "for i in range(fish):\n",
    "    if poi_no == poi:\n",
    "        break\n",
    "    w = int(input())\n",
    "    if w >= hp:\n",
    "        break\n",
    "    every_poi[poi_no] -= w\n",
    "    if every_poi[poi_no] <= 0:\n",
    "        poi_no += 1\n",
    "        continue\n",
    "    ans += 1\n",
    "print(ans)"
   ]
  },
  {
   "cell_type": "code",
   "execution_count": null,
   "metadata": {},
   "outputs": [],
   "source": [
    "#C063\n",
    "N = int(input())\n",
    "blooming = {}\n",
    "ans = None\n",
    "for i in range(N):\n",
    "    a, b = map(int,input().split())\n",
    "    if a+b not in blooming:\n",
    "        blooming[a+b] = 1\n",
    "    else:\n",
    "        blooming[a+b] += 1\n",
    "\n",
    "most = max(blooming.values())\n",
    "keys_of_max_val = [key for key in blooming if blooming[key] == most]\n",
    "print(min(keys_of_max_val))"
   ]
  },
  {
   "cell_type": "code",
   "execution_count": null,
   "metadata": {},
   "outputs": [],
   "source": [
    "#C042\n",
    "N = int(input())\n",
    "ans = []\n",
    "for j in range(N):\n",
    "    tmp = [0]*N\n",
    "    ans.append(tmp)\n",
    "for i in range(N*(N-1)//2):\n",
    "    f,s = map(int,input().split())\n",
    "    f -= 1\n",
    "    s -= 1\n",
    "    ans[f][s] = \"W\"\n",
    "    ans[s][f] = \"L\"\n",
    "for k in range(N):\n",
    "    ans[k][k] = \"-\"\n",
    "for row in ans:\n",
    "    print(*row)"
   ]
  },
  {
   "cell_type": "code",
   "execution_count": null,
   "metadata": {},
   "outputs": [],
   "source": [
    "#C036\n",
    "first_battle = {}\n",
    "second_battle = []\n",
    "p1, p2 = map(int,input().split())\n",
    "p3, p4 = map(int,input().split())\n",
    "e = list(map(int,input().split()))\n",
    "f1, f2 = map(int,input().split())\n",
    "for i in range(4):\n",
    "    first_battle[i+1] = e[i]\n",
    "#pair1\n",
    "if first_battle[p1] > first_battle[p2]:\n",
    "    second_battle.append(p2)\n",
    "else:\n",
    "    second_battle.append(p1)\n",
    "#pair2\n",
    "if first_battle[p4] > first_battle[p3]:\n",
    "    second_battle.append(p3)\n",
    "else:\n",
    "    second_battle.append(p4)\n",
    "second_battle.sort()\n",
    "if f1 < f2:\n",
    "    print(second_battle[0])\n",
    "    print(second_battle[1])\n",
    "else:\n",
    "    print(second_battle[1])\n",
    "    print(second_battle[0])"
   ]
  },
  {
   "cell_type": "code",
   "execution_count": null,
   "metadata": {},
   "outputs": [],
   "source": [
    "#C005\n",
    "N = int(input())\n",
    "IP = []\n",
    "ans = [False]*N\n",
    "for _ in range(N):\n",
    "    IP.append(input())\n",
    "for i in range(N):\n",
    "    break_flag = False\n",
    "    for s in IP[i]:\n",
    "        part = IP[i].split(\".\")\n",
    "        if len(part) != 4:#4分割されてないとき\n",
    "            break\n",
    "        for s2 in part:#数字以外がまぎれていないか調査\n",
    "            if (\".\" in s2) or (len(s2)==0):\n",
    "                break_flag = True\n",
    "                break\n",
    "        if break_flag:\n",
    "            break\n",
    "        if IP[i][0] == \".\":#数字に4分割されてるけど，はじめに\".\"がついてるとき\n",
    "            break\n",
    "        for num in part:#数値が条件を満たすか\n",
    "            if int(num)>=0 and int(num)<=255:\n",
    "                pass\n",
    "            else:\n",
    "                break_flag = True\n",
    "        if break_flag:\n",
    "            break\n",
    "        ans[i] = \"True\"#ここまでの審査を乗り越えたらTrue\n",
    "for s in ans:\n",
    "    print(s)"
   ]
  },
  {
   "cell_type": "code",
   "execution_count": null,
   "metadata": {},
   "outputs": [],
   "source": [
    "#C046\n",
    "def get_key_from_value(d, val):\n",
    "    keys = [k for k, v in d.items() if v == val]\n",
    "    if keys:\n",
    "        return keys[0]\n",
    "    return None\n",
    "\n",
    "N = int(input())\n",
    "name = list(map(str,input().split()))\n",
    "M = int(input())\n",
    "price = {}\n",
    "\n",
    "for n in name:\n",
    "    price[n] = 0\n",
    "\n",
    "for i in range(M):\n",
    "    a,p = map(str,input().split())\n",
    "    price[a] += int(p)\n",
    "\n",
    "ranked = sorted(price.values())\n",
    "ranked = ranked[::-1]\n",
    "\n",
    "ans = []\n",
    "for i in range(len(ranked)):\n",
    "    ans.append(get_key_from_value(price, ranked[i]))\n",
    "\n",
    "for s in ans:\n",
    "    print(s)"
   ]
  },
  {
   "cell_type": "code",
   "execution_count": 101,
   "metadata": {},
   "outputs": [
    {
     "name": "stdout",
     "output_type": "stream",
     "text": [
      "0\n"
     ]
    }
   ],
   "source": [
    "#C018 何人前つくれる？\n",
    "n = int(input())\n",
    "recipe = {}\n",
    "have = {}\n",
    "ans = 0\n",
    "for i in range(n):\n",
    "    name,num = map(str,input().split())\n",
    "    if name not in recipe:\n",
    "        recipe[name] = int(num)\n",
    "    else:\n",
    "        recipe[name] += int(num)\n",
    "m = int(input())\n",
    "for i in range(m):\n",
    "    name,num = map(str,input().split())\n",
    "    if name not in have:\n",
    "        have[name] = int(num)\n",
    "    else:\n",
    "        have[name] += int(num)\n",
    "flag = True\n",
    "while flag:\n",
    "    for s in recipe.keys():\n",
    "        if s not in have:\n",
    "            flag = False\n",
    "            break\n",
    "        have[s] = int(have.get(s)) - int(recipe.get(s))\n",
    "        if int(have[s]) < 0:\n",
    "            flag = False\n",
    "            break\n",
    "    if flag == False:\n",
    "        break\n",
    "    ans += 1\n",
    "print(ans)"
   ]
  },
  {
   "cell_type": "code",
   "execution_count": 107,
   "metadata": {},
   "outputs": [
    {
     "name": "stdout",
     "output_type": "stream",
     "text": [
      "a\n",
      "2\n",
      "b\n",
      "3\n"
     ]
    }
   ],
   "source": [
    "#C069\n",
    "y, m, d = map(int,input().split())\n",
    "a, b = map(int,input().split())\n",
    "ans = 0\n",
    "year = [1,2,3,4,5,6,7,8,9,10,11,12,13]\n",
    "#基準年まで丸々年を越す分\n",
    "passed = (4-y)%4\n",
    "ans += passed*(15*6+13*7)\n",
    "#今年が終わるまで\n",
    "if len(year[m:])%2 != 0:#今が偶数月の時\n",
    "    ans += 13*(len(year[m:])//2+1)\n",
    "    ans += 15*(len(year[m:])//2)\n",
    "    ans += (15 - d)\n",
    "else:#今が奇数月の時\n",
    "    ans += (13+15)*(len(year[m:])//2)\n",
    "    ans += (13 - d)\n",
    "#print(ans)\n",
    "#開催年の元日から開催日まで\n",
    "if a%2 == 0:#開催月が偶数の時\n",
    "    ans += 13*(a//2)\n",
    "    ans += 15*((a-2)//2)\n",
    "    ans += b\n",
    "else:\n",
    "    ans += (13+15)*((a-1)//2)\n",
    "    ans += b\n",
    "print(ans)"
   ]
  },
  {
   "cell_type": "code",
   "execution_count": null,
   "metadata": {},
   "outputs": [],
   "source": [
    "#C038\n",
    "machine, N = map(int,input().split())\n",
    "pack = None\n",
    "amari = None\n",
    "ans = None\n",
    "for i in range(machine):\n",
    "    m = int(input())\n",
    "    if i==0:\n",
    "        pack = N//m\n",
    "        amari = N%m\n",
    "        ans = 1\n",
    "    else:\n",
    "        tmp_pack = N//m\n",
    "        tmp_amari = N%m\n",
    "        if tmp_amari < amari:#大前提：余りが小さい\n",
    "            amari = tmp_amari\n",
    "            ans = i+1\n",
    "        elif tmp_amari == amari:#追加条件：パックが多い\n",
    "            if tmp_pack > pack:\n",
    "                pack = tmp_pack\n",
    "                ans = i+1\n",
    "print(ans)"
   ]
  },
  {
   "cell_type": "code",
   "execution_count": null,
   "metadata": {},
   "outputs": [],
   "source": [
    "#C038\n",
    "machine, N = map(int,input().split())\n",
    "\n",
    "for i in range(machine):\n",
    "    m = int(input())\n",
    "    if i==0:\n",
    "        pack = m\n",
    "        amari = N%m\n",
    "        ans = 1\n",
    "    else:\n",
    "        tmp_pack = m\n",
    "        tmp_amari = N%m\n",
    "        if tmp_amari < amari:#大前提：余りが小さい\n",
    "            amari = tmp_amari\n",
    "            ans = i+1\n",
    "        elif tmp_amari == amari:#追加条件：パックが多い\n",
    "            if tmp_pack > pack:\n",
    "                pack = tmp_pack\n",
    "                ans = i+1\n",
    "print(ans)"
   ]
  },
  {
   "cell_type": "code",
   "execution_count": 110,
   "metadata": {},
   "outputs": [
    {
     "name": "stdout",
     "output_type": "stream",
     "text": [
      "10 3 3\n",
      "[1, 2, 3, 4, 5, 6, 7, 8, 9, 10]\n"
     ]
    }
   ],
   "source": [
    "#C045\n",
    "n, s, p = map(int,input().split())\n",
    "tmp = [i+1 for i in range(n)]\n",
    "ans = []\n",
    "for i in range(-(-n//s)):\n",
    "    if i < -(-n//s):\n",
    "        per_page = tmp[s*i:s*(i+1)]\n",
    "    else:\n",
    "        per_page = tmp[s*i:]\n",
    "    ans.append(per_page)\n",
    "if p > -(-n//s):\n",
    "    print(\"none\")\n",
    "else:\n",
    "    print(*ans[p-1])"
   ]
  },
  {
   "cell_type": "code",
   "execution_count": null,
   "metadata": {},
   "outputs": [],
   "source": [
    "#C065\n",
    "N = int(input())\n",
    "ans = [i+1 for i in range(100)]\n",
    "\n",
    "for i in range(N):\n",
    "    ope, x = map(str,input().split())\n",
    "    x = int(x)\n",
    "    if ope == \">\":\n",
    "        ans = [j for j in ans if j > x]\n",
    "    elif ope == \"<\":\n",
    "        ans = [j for j in ans if j < x]\n",
    "    else:\n",
    "        ans = [j for j in ans if j%x == 0]\n",
    "    #print(ans)\n",
    "print(ans[0])"
   ]
  },
  {
   "cell_type": "code",
   "execution_count": 111,
   "metadata": {},
   "outputs": [
    {
     "name": "stdout",
     "output_type": "stream",
     "text": [
      "[6, 7]\n"
     ]
    }
   ],
   "source": [
    "#C006\n",
    "param, user, topk = map(int,input().split())\n",
    "items = list(map(float,input().split()))\n",
    "score = []\n",
    "myround=lambda x:(x*2+1)//2#python3標準の四捨五入(round)はちょっとおかしい\n",
    "for i in range(user):\n",
    "    this_user = list(map(int,input().split()))\n",
    "    this_score = 0\n",
    "    for j in range(param):\n",
    "        this_score += items[j]*this_user[j]\n",
    "    score.append(myround(this_score))\n",
    "score.sort(reverse=True)\n",
    "for k in range(topk):\n",
    "    print(int(score[k]))"
   ]
  },
  {
   "cell_type": "markdown",
   "metadata": {},
   "source": [
    "# 辞書型のソートなど"
   ]
  },
  {
   "cell_type": "code",
   "execution_count": null,
   "metadata": {},
   "outputs": [],
   "source": [
    "#C043\n",
    "N = int(input())\n",
    "A = list(map(int,input().split()))\n",
    "times = {}\n",
    "for num in A:\n",
    "    if num not in times:\n",
    "        times[num] = 1\n",
    "    else:\n",
    "        times[num] += 1\n",
    "#ranked = sorted(times.values())\n",
    "#ranked = ranked[::-1]\n",
    "\n",
    "most = max(times.values())\n",
    "keys_of_max_val = [key for key in times if times[key] == most]\n",
    "\n",
    "keys_of_max_val.sort()\n",
    "print(*keys_of_max_val)"
   ]
  },
  {
   "cell_type": "code",
   "execution_count": null,
   "metadata": {},
   "outputs": [],
   "source": [
    "#C031\n",
    "N = int(input())\n",
    "cities = {}\n",
    "for i in range(N):\n",
    "    p, s = map(str,input().split())\n",
    "    cities[p] = int(s)\n",
    "pos, time = map(str,input().split())\n",
    "standard = int(time[0:2]) - cities.get(pos)\n",
    "if standard < 0:\n",
    "    standard += 24\n",
    "elif standard >= 24:\n",
    "    standard -= 24\n",
    "\n",
    "for i in cities:\n",
    "    hour = standard + cities.get(i)\n",
    "    if hour < 0:\n",
    "        hour += 24\n",
    "    elif hour >= 24:\n",
    "        hour -= 24"
   ]
  },
  {
   "cell_type": "code",
   "execution_count": null,
   "metadata": {},
   "outputs": [],
   "source": [
    "#C029\n",
    "M, N = map(int,input().split())\n",
    "days = []\n",
    "prob = []\n",
    "ave = []\n",
    "for _ in range(M):\n",
    "    d, r = map(int,input().split())\n",
    "    days.append(d)\n",
    "    prob.append(r)\n",
    "for i in range(M-(N-1)):\n",
    "    ave.append(sum(prob[i:i+N]))\n",
    "ind = ave.index(min(ave))\n",
    "print(days[ind],days[ind]+N-1)"
   ]
  },
  {
   "cell_type": "code",
   "execution_count": null,
   "metadata": {},
   "outputs": [],
   "source": [
    "#C075\n",
    "cash, M = map(int,input().split())\n",
    "point = 0\n",
    "for _ in range(M):\n",
    "    f = int(input())\n",
    "    if point < f:\n",
    "        cash -= f\n",
    "        point += int(0.1*f)\n",
    "    else:\n",
    "        point -= f\n",
    "    print(cash, point)"
   ]
  },
  {
   "cell_type": "code",
   "execution_count": 1,
   "metadata": {},
   "outputs": [],
   "source": [
    "#C077\n",
    "k,n = map(int,input().split())\n",
    "ans = [None]*k\n",
    "for i in range(k):\n",
    "    d,a = map(int,input().split())\n",
    "    point = (100//n)*a\n",
    "    if 0 < d < 10:\n",
    "        point = int((point*0.8))\n",
    "    elif d >= 10:\n",
    "        point = 0\n",
    "    if point >= 80:\n",
    "        ans[i] = 'A'\n",
    "    elif 70 <= point <= 79:\n",
    "        ans[i] = 'B'\n",
    "    elif 60 <= point <= 69:\n",
    "        ans[i] = 'C'\n",
    "    else:\n",
    "        ans[i] = 'D'\n",
    "for s in ans:\n",
    "    print(s)"
   ]
  },
  {
   "cell_type": "code",
   "execution_count": 2,
   "metadata": {},
   "outputs": [
    {
     "name": "stdout",
     "output_type": "stream",
     "text": [
      "[1500, 1500, 1500, 1500, 1500, 1500, 1500, 1500, 1500, 1000, 1000, 1000, 1000, 1000, 1000, 1000, 1000, 1300, 1300, 1300, 1300, 1300, 1500]\n"
     ]
    }
   ],
   "source": [
    "#C076\n",
    "x,y,z = map(int,input().split())\n",
    "N = int(input())\n",
    "\n",
    "sal = [z]*9+[x]*8+[y]*5+[z]\n",
    "\n",
    "ans = 0\n",
    "for _ in range(N):\n",
    "    s,t = map(int,input().split())\n",
    "    ans += sum(sal[s:t])\n",
    "    #print(ans)\n",
    "print(ans)"
   ]
  },
  {
   "cell_type": "code",
   "execution_count": null,
   "metadata": {},
   "outputs": [],
   "source": [
    "#C078\n",
    "N,c1,c2 = map(int,input().split())\n",
    "profit = 0\n",
    "stock = 0\n",
    "for i in range(N):\n",
    "    p = int(input())\n",
    "    if p <= c1:\n",
    "        profit -= p\n",
    "        stock += 1\n",
    "    elif p >= c2:\n",
    "        profit += p*stock\n",
    "        stock = 0\n",
    "    if i == N-1:\n",
    "        profit += p*stock\n",
    "print(profit)"
   ]
  },
  {
   "cell_type": "code",
   "execution_count": null,
   "metadata": {},
   "outputs": [],
   "source": [
    "#C083\n",
    "n, r = map(int,input().split())\n",
    "\n",
    "A = []\n",
    "for i in range(n):\n",
    "    a = int(input())\n",
    "    A.append(a)\n",
    "\n",
    "l = max(A)//r\n",
    "ans = []\n",
    "for i,a in enumerate(A):\n",
    "    ans.append(str(i+1)+\":\"+\"*\"*(a//r) + \".\"*(l-a//r))\n",
    "    \n",
    "for a in ans:\n",
    "    print(\"\".join(a))"
   ]
  },
  {
   "cell_type": "code",
   "execution_count": null,
   "metadata": {},
   "outputs": [],
   "source": [
    "#C080\n",
    "n, y = map(int,input().split())\n",
    "m = int(input())\n",
    "A = list(map(int,input().split()))\n",
    "\n",
    "cnt = 0\n",
    "i = 1\n",
    "for a in A:\n",
    "    if i%n and i%n != a:\n",
    "        cnt += 1\n",
    "    elif not i%n and a:\n",
    "        cnt += 1\n",
    "    i += 1\n",
    "    \n",
    "if cnt >= y:\n",
    "    print(-1)\n",
    "else:\n",
    "    print(1000*(len(A)-cnt))"
   ]
  },
  {
   "cell_type": "code",
   "execution_count": null,
   "metadata": {},
   "outputs": [],
   "source": [
    "#C079\n",
    "n, m = map(int,input().split())\n",
    "\n",
    "C = []\n",
    "for i in range(n):\n",
    "    c = int(input())\n",
    "    C.append(c)\n",
    "    \n",
    "cnt = 0\n",
    "check = [0]*m\n",
    "for i,c in enumerate(C):\n",
    "    if check[c-1] == 0:\n",
    "        check[c-1] = 1\n",
    "        cnt += 1\n",
    "    if cnt == n:\n",
    "        print(i+1)\n",
    "        break\n",
    "else:\n",
    "    print('unlucky')"
   ]
  },
  {
   "cell_type": "code",
   "execution_count": null,
   "metadata": {},
   "outputs": [],
   "source": [
    "#C082\n",
    "n, x = map(int,input().split())\n",
    "\n",
    "table = []\n",
    "for i in range(n):\n",
    "    table.append(list(map(int,input().split())))\n",
    "\n",
    "#順位付け用\n",
    "score = []\n",
    "#一人一人の点数の管理用\n",
    "score_student = []\n",
    "for i in range(3):\n",
    "    tmp = []\n",
    "    for j in range(n):\n",
    "        tmp.append(table[j][i])\n",
    "    score_student.append(tmp)\n",
    "    tmp = list(set(tmp))\n",
    "    tmp.sort()\n",
    "    score.append(tmp)\n",
    "    \n",
    "student = [0]*n\n",
    "for sub, row in enumerate(score):\n",
    "    cnt = 0#赤点候補の人数\n",
    "    for i in range(x):\n",
    "        if len(row) <= i:\n",
    "            break\n",
    "        if cnt >= x:\n",
    "            break\n",
    "        check = row[i]\n",
    "        ind = [j for j,v in enumerate(score_student[sub]) if v == check]\n",
    "        cnt += len(ind)\n",
    "        for ii in ind:\n",
    "            student[ii] += 1\n",
    "            \n",
    "print(*student,sep=\"\\n\")"
   ]
  }
 ],
 "metadata": {
  "kernelspec": {
   "display_name": "Python 3",
   "language": "python",
   "name": "python3"
  },
  "language_info": {
   "codemirror_mode": {
    "name": "ipython",
    "version": 3
   },
   "file_extension": ".py",
   "mimetype": "text/x-python",
   "name": "python",
   "nbconvert_exporter": "python",
   "pygments_lexer": "ipython3",
   "version": "3.7.8"
  }
 },
 "nbformat": 4,
 "nbformat_minor": 2
}
