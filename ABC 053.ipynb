{
 "cells": [
  {
   "cell_type": "code",
   "execution_count": null,
   "metadata": {},
   "outputs": [],
   "source": [
    "#A\n",
    "x = int(input())\n",
    "if x < 1200:\n",
    "    print('ABC')\n",
    "else:\n",
    "    print(\"ARC\")"
   ]
  },
  {
   "cell_type": "code",
   "execution_count": 29,
   "metadata": {},
   "outputs": [
    {
     "name": "stdout",
     "output_type": "stream",
     "text": [
      "HASFJGHOGAKZZFEGA\n",
      "12\n"
     ]
    }
   ],
   "source": [
    "#B\n",
    "s = input()\n",
    "A = s.index(\"A\")\n",
    "Z = s[::-1].index(\"Z\")\n",
    "print(max(0,len(s)-1-Z-A+1))"
   ]
  },
  {
   "cell_type": "code",
   "execution_count": 43,
   "metadata": {},
   "outputs": [
    {
     "name": "stdout",
     "output_type": "stream",
     "text": [
      "7\n",
      "2\n"
     ]
    }
   ],
   "source": [
    "#C\n",
    "x = int(input())\n",
    "ans = x//11\n",
    "\n",
    "if x - 11*ans > 6:\n",
    "    print(2*ans+2)\n",
    "elif x - 11*ans == 0:\n",
    "    print(2*ans)\n",
    "else:\n",
    "    print(2*ans+1)"
   ]
  },
  {
   "cell_type": "code",
   "execution_count": 55,
   "metadata": {},
   "outputs": [
    {
     "name": "stdout",
     "output_type": "stream",
     "text": [
      "5\n",
      "1 2 1 3 7\n",
      "3\n"
     ]
    }
   ],
   "source": [
    "#D\n",
    "import collections\n",
    "N = int(input())\n",
    "A = list(map(int,input().split()))\n",
    "c = collections.Counter(A)\n",
    "most = c.most_common()\n",
    "ans = len(most)\n",
    "eaten = 0\n",
    "for t in most:\n",
    "    if t[1] != 1:\n",
    "        eaten += t[1]-1\n",
    "if eaten%2 == 1:\n",
    "    print(ans-1)\n",
    "else:\n",
    "    print(ans)"
   ]
  }
 ],
 "metadata": {
  "kernelspec": {
   "display_name": "Python 3",
   "language": "python",
   "name": "python3"
  },
  "language_info": {
   "codemirror_mode": {
    "name": "ipython",
    "version": 3
   },
   "file_extension": ".py",
   "mimetype": "text/x-python",
   "name": "python",
   "nbconvert_exporter": "python",
   "pygments_lexer": "ipython3",
   "version": "3.7.3"
  }
 },
 "nbformat": 4,
 "nbformat_minor": 2
}
