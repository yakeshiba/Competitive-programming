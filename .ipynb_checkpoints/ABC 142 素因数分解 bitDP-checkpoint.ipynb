{
 "cells": [
  {
   "cell_type": "code",
   "execution_count": 9,
   "metadata": {},
   "outputs": [
    {
     "name": "stdout",
     "output_type": "stream",
     "text": [
      "99\n",
      "0.5050505050505051\n"
     ]
    }
   ],
   "source": [
    "#A\n",
    "N = int(input())\n",
    "print(-(-N//2)/N)"
   ]
  },
  {
   "cell_type": "code",
   "execution_count": null,
   "metadata": {},
   "outputs": [],
   "source": [
    "#B\n",
    "import numpy as np\n",
    "N,K = map(int,input().split())\n",
    "h = np.array([int(i) for i in input().split()])\n",
    "print(np.count_nonzero(h>=K))"
   ]
  },
  {
   "cell_type": "code",
   "execution_count": 11,
   "metadata": {},
   "outputs": [
    {
     "name": "stdout",
     "output_type": "stream",
     "text": [
      "2\n",
      "2 3 4\n",
      "['2', '3', '4']\n"
     ]
    }
   ],
   "source": [
    "#C\n",
    "N = int(input())\n",
    "h = input().split()\n",
    "hh = [None]*N\n",
    "for i in range(N):\n",
    "    hh[i] = (int(h[i]),i+1)\n",
    "hh.sort()\n",
    "ans = []\n",
    "for i in range(N):\n",
    "    ans.append(hh[i][1])\n",
    "print(*ans)"
   ]
  },
  {
   "cell_type": "code",
   "execution_count": null,
   "metadata": {},
   "outputs": [],
   "source": [
    "#D\n",
    "import fractions\n",
    "\n",
    "A,B = map(int,input().split())\n",
    "gcd = fractions.gcd(A, B)\n",
    "\n",
    "# 1は含まない\n",
    "def factorize(n):\n",
    "    fct = []  # prime factor\n",
    "    b, e = 2, 0  # base, exponent\n",
    "    while b * b <= n:\n",
    "        while n % b == 0:\n",
    "            n = n // b\n",
    "            e = e + 1\n",
    "        if e > 0:\n",
    "            fct.append((b, e))\n",
    "        b, e = b + 1, 0\n",
    "    if n > 1:\n",
    "        fct.append((n, 1))\n",
    "    return fct\n",
    "\n",
    "a = factorize(gcd)\n",
    "#print(a[0])\n",
    "ans = len(a)\n",
    "if ans == 1:\n",
    "    if a[0][0] != 1:\n",
    "        print(2)\n",
    "    else:\n",
    "        print(1)\n",
    "else:\n",
    "    print(ans+1)#\"1\"の分"
   ]
  },
  {
   "cell_type": "code",
   "execution_count": null,
   "metadata": {},
   "outputs": [],
   "source": [
    "#D別解\n",
    "def make_divisors(n):\n",
    "    from collections import deque\n",
    "    divisors = deque([])\n",
    "    for i in range(1, int(n**0.5)+1):\n",
    "        if n % i == 0:\n",
    "            divisors.append(i)\n",
    "            if i != n // i:\n",
    "                divisors.append(n//i)\n",
    "    lst_divisors = list(divisors)\n",
    "    lst_divisors.sort()\n",
    "    return lst_divisors\n",
    "\n",
    "a, b = map(int,input().split())\n",
    "\n",
    "ya = set(make_divisors(a))\n",
    "yb = set(make_divisors(b))\n",
    "\n",
    "cand = list(ya&yb)\n",
    "cand.sort()\n",
    "\n",
    "#print(cand)\n",
    "\n",
    "ans = []\n",
    "if len(cand) > 1:\n",
    "    for n in cand[1:]:\n",
    "        if ans:\n",
    "            for waru in ans:\n",
    "                if n%waru == 0:\n",
    "                    break\n",
    "            else:\n",
    "                ans.append(n)\n",
    "        else:\n",
    "            ans.append(n)\n",
    "#print(ans)\n",
    "print(len(ans)+1)"
   ]
  },
  {
   "cell_type": "code",
   "execution_count": null,
   "metadata": {},
   "outputs": [],
   "source": [
    "#E\n",
    "n, m = map(int,input().split())\n",
    "\n",
    "dp = [[float('inf')]*(2**n+100) for _ in range(m+100)]\n",
    "dp[0][0] = 0\n",
    "\n",
    "keys = []\n",
    "for i in range(m):\n",
    "    a, b = map(int,input().split())\n",
    "    C = list(map(lambda x:int(x)-1,input().split()))\n",
    "    state = 0\n",
    "    for c in C:\n",
    "        state += (1<<c)\n",
    "    keys.append((a,state))\n",
    "\n",
    "for i in range(m):\n",
    "    price = keys[i][0]\n",
    "    state = keys[i][1]\n",
    "    for j in range(1<<n):\n",
    "        dp[i+1][j] = min(dp[i+1][j], dp[i][j])\n",
    "        dp[i+1][j|state] = min(dp[i+1][j|state], dp[i][j] + price)\n",
    "\n",
    "ans = dp[m][(1<<n)-1]\n",
    "    \n",
    "if ans == float(\"inf\"):\n",
    "    print(-1)\n",
    "else:\n",
    "    print(ans)"
   ]
  }
 ],
 "metadata": {
  "kernelspec": {
   "display_name": "Python 3",
   "language": "python",
   "name": "python3"
  },
  "language_info": {
   "codemirror_mode": {
    "name": "ipython",
    "version": 3
   },
   "file_extension": ".py",
   "mimetype": "text/x-python",
   "name": "python",
   "nbconvert_exporter": "python",
   "pygments_lexer": "ipython3",
   "version": "3.7.8"
  }
 },
 "nbformat": 4,
 "nbformat_minor": 2
}
