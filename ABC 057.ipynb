{
 "cells": [
  {
   "cell_type": "code",
   "execution_count": null,
   "metadata": {},
   "outputs": [],
   "source": [
    "#C\n",
    "import itertools\n",
    "\n",
    "def factorization(n):\n",
    "    arr = []\n",
    "    temp = n\n",
    "    for i in range(2, int(-(-n**0.5//1))+1):\n",
    "        if temp%i==0:\n",
    "            cnt=0\n",
    "            while temp%i==0:\n",
    "                cnt+=1\n",
    "                temp //= i\n",
    "            arr.append([i, cnt])\n",
    "\n",
    "    if temp!=1:\n",
    "        arr.append([temp, 1])\n",
    "\n",
    "    if arr==[]:\n",
    "        arr.append([n, 1])\n",
    "\n",
    "    return arr\n",
    "\n",
    "n = int(input())\n",
    "\n",
    "f = factorization(n)\n",
    "\n",
    "#print(f)\n",
    "\n",
    "if len(f) == 1 and f[0][1] == 1:\n",
    "    print(len(str(n)))\n",
    "else:\n",
    "    pf = []\n",
    "    for r in f:\n",
    "        if r[0] == 1:\n",
    "            continue\n",
    "        pf += [r[0]]*r[1]\n",
    "    ans = len(str(n))\n",
    "    for i in range(1,len(pf)//2+1):\n",
    "        for c in itertools.combinations(pf, i):\n",
    "            #print(c)\n",
    "            tmp = 1\n",
    "            for t in c:\n",
    "                tmp *= t\n",
    "            ans = min(ans, max(len(str(tmp)), len(str(n//tmp))))\n",
    "    print(ans)"
   ]
  }
 ],
 "metadata": {
  "kernelspec": {
   "display_name": "Python 3",
   "language": "python",
   "name": "python3"
  },
  "language_info": {
   "codemirror_mode": {
    "name": "ipython",
    "version": 3
   },
   "file_extension": ".py",
   "mimetype": "text/x-python",
   "name": "python",
   "nbconvert_exporter": "python",
   "pygments_lexer": "ipython3",
   "version": "3.7.3"
  }
 },
 "nbformat": 4,
 "nbformat_minor": 2
}
