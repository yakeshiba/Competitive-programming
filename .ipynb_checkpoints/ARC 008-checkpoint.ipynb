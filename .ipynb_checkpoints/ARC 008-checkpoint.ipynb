{
 "cells": [
  {
   "cell_type": "code",
   "execution_count": null,
   "metadata": {},
   "outputs": [],
   "source": [
    "#B\n",
    "from collections import Counter\n",
    "\n",
    "n, m = map(int,input().split())\n",
    "name = input()\n",
    "kit = input()\n",
    "\n",
    "cnt_name = Counter(name)\n",
    "cnt_kit = Counter(kit)\n",
    "\n",
    "\n",
    "check = set(name)\n",
    "ans = 1\n",
    "for c in check:\n",
    "    required = cnt_name[c]\n",
    "    if c not in cnt_kit:\n",
    "        print(-1)\n",
    "        break\n",
    "    ans = max(ans, -(-required//cnt_kit[c]))\n",
    "else:\n",
    "    print(ans)"
   ]
  }
 ],
 "metadata": {
  "kernelspec": {
   "display_name": "Python 3",
   "language": "python",
   "name": "python3"
  },
  "language_info": {
   "codemirror_mode": {
    "name": "ipython",
    "version": 3
   },
   "file_extension": ".py",
   "mimetype": "text/x-python",
   "name": "python",
   "nbconvert_exporter": "python",
   "pygments_lexer": "ipython3",
   "version": "3.7.3"
  }
 },
 "nbformat": 4,
 "nbformat_minor": 2
}
