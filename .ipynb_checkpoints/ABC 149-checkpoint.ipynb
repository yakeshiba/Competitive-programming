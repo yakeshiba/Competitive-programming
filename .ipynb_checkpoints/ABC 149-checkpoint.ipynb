{
 "cells": [
  {
   "cell_type": "code",
   "execution_count": 2,
   "metadata": {},
   "outputs": [
    {
     "name": "stdout",
     "output_type": "stream",
     "text": [
      "oder atc\n",
      "atcoder\n"
     ]
    }
   ],
   "source": [
    "S,T  = map(str,input().split())\n",
    "print(T+S)"
   ]
  },
  {
   "cell_type": "code",
   "execution_count": 13,
   "metadata": {},
   "outputs": [
    {
     "name": "stdout",
     "output_type": "stream",
     "text": [
      "2 3 6\n",
      "0 -1\n"
     ]
    }
   ],
   "source": [
    "A,B,K = map(int,input().split())\n",
    "if A-K<=0:\n",
    "    tkhs = 0\n",
    "    aok = B + (A-K)\n",
    "    if aok < 0:\n",
    "        aok = 0\n",
    "else:\n",
    "    tkhs = A-K\n",
    "    aok = B\n",
    "print(tkhs,aok)"
   ]
  },
  {
   "cell_type": "code",
   "execution_count": 39,
   "metadata": {},
   "outputs": [
    {
     "name": "stdout",
     "output_type": "stream",
     "text": [
      "4\n",
      "5\n"
     ]
    }
   ],
   "source": [
    "X = int(input())\n",
    "flag = True\n",
    "now = X\n",
    "if X <= 3:\n",
    "    print(X)\n",
    "else:\n",
    "    while flag:\n",
    "        a = int(now**(1/2))\n",
    "        for i in range(2,a+1):\n",
    "            #print(now,i)\n",
    "            v = now/i\n",
    "            if v == int(v):\n",
    "                break\n",
    "            if i == a:#割り切れず，かつ最後の時\n",
    "                flag = False\n",
    "                ans = now\n",
    "                break\n",
    "        now += 1\n",
    "    print(ans)"
   ]
  },
  {
   "cell_type": "code",
   "execution_count": null,
   "metadata": {},
   "outputs": [],
   "source": [
    "N,K = map(int,input().split())\n",
    "R,S,P = map(int,input().split())\n"
   ]
  }
 ],
 "metadata": {
  "kernelspec": {
   "display_name": "Python 3",
   "language": "python",
   "name": "python3"
  },
  "language_info": {
   "codemirror_mode": {
    "name": "ipython",
    "version": 3
   },
   "file_extension": ".py",
   "mimetype": "text/x-python",
   "name": "python",
   "nbconvert_exporter": "python",
   "pygments_lexer": "ipython3",
   "version": "3.7.3"
  }
 },
 "nbformat": 4,
 "nbformat_minor": 2
}
