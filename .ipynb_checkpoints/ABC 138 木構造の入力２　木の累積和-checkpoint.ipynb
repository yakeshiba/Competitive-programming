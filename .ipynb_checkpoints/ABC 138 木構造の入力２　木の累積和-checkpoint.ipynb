{
 "cells": [
  {
   "cell_type": "markdown",
   "metadata": {},
   "source": [
    "# D問題"
   ]
  },
  {
   "cell_type": "code",
   "execution_count": null,
   "metadata": {},
   "outputs": [],
   "source": [
    "#D 解きなおし\n",
    "from collections import deque\n",
    "\n",
    "n, q = map(int,input().split())\n",
    "\n",
    "edge = [[] for _ in range(n)]\n",
    "for i in range(n-1):\n",
    "    a, b = map(int,input().split())\n",
    "    edge[a-1].append(b-1)\n",
    "    edge[b-1].append(a-1)\n",
    "\n",
    "score = [0]*n\n",
    "\n",
    "for i in range(q):\n",
    "    p, x = map(int,input().split())\n",
    "    score[p-1] += x\n",
    "\n",
    "visited = [0]*n\n",
    "visited[0] = 1\n",
    "\n",
    "s = deque([0])\n",
    "while s:\n",
    "    now = s.pop()\n",
    "    for v in edge[now]:\n",
    "        if visited[v]:\n",
    "            continue\n",
    "        score[v] += score[now]\n",
    "        visited[v] = 1\n",
    "        s.append(v)\n",
    "\n",
    "print(*score)"
   ]
  },
  {
   "cell_type": "code",
   "execution_count": null,
   "metadata": {},
   "outputs": [],
   "source": [
    "# 嘘解法？ より数字の小さい頂点が親になることを前提にしている\n",
    "N,Q = map(int,input().split())\n",
    "G = [[] for i in range(N)]\n",
    "for i in range(N-1):\n",
    "    a,b = map(int,input().split())\n",
    "    # どこの頂点同士が繋がっているか，相互に保存\n",
    "    G[a-1].append(b-1) # 頂点の番号を０からとして扱う．その頂点がどの頂点と繋がっているか．\n",
    "    G[b-1].append(a-1) # 上と同じ．\n",
    "X = [0 for i in range(N)]\n",
    "for i in range(Q):\n",
    "    p,x = map(int,input().split())\n",
    "    X[p-1] += x # 足される数を頂点ごとに保存\n",
    "q = [0]#queue\n",
    "reached = [0 for i in range(N)] #\n",
    "ans = [0 for i in range(N)]\n",
    "#print(X)\n",
    "while(len(q)>0):\n",
    "    r = q.pop() # 根となる頂点の選出（1回目は0番目の頂点）\n",
    "    ans[r] += X[r] # 根自身に足す\n",
    "    reached[r] = 1 # 根を探索済みにする\n",
    "    for p in G[r]: # その根と繋がってる頂点\n",
    "        if reached[p] == 0: # 子なら\n",
    "            ans[p] += ans[r] # 親に足された分だけ足されなければならない\n",
    "            q.append(p) # 新たに根とする頂点候補に加える\n",
    "print(*ans)"
   ]
  },
  {
   "cell_type": "code",
   "execution_count": null,
   "metadata": {},
   "outputs": [],
   "source": [
    "import sys\n",
    "\n",
    "def main():\n",
    "    input=sys.stdin.readline\n",
    "    N,Q = map(int,input().split())\n",
    "    G = [[] for i in range(N)]#ある頂点から繋がってる別の頂点のリスト\n",
    "    for i in range(N-1):\n",
    "        a,b = map(int,input().split())\n",
    "        G[b-1].append(a-1)\n",
    "        G[a-1].append(b-1)\n",
    "    X = [0 for i in range(N)]#その頂点の累積和\n",
    "    for i in range(Q):\n",
    "        p,x = map(int,input().split())\n",
    "        X[p-1] += x\n",
    "    q = [0]#queue\n",
    "    reached = [0 for i in range(N)]#計算済みかどうかの管理\n",
    "    ans = [0 for i in range(N)]\n",
    "    #print(X)\n",
    "    while(len(q)>0):\n",
    "        r = q.pop()#現在の根\n",
    "        ans[r] += X[r]\n",
    "        reached[r] = 1#通過済みの記録\n",
    "        for p in G[r]:\n",
    "            if reached[p] == 0:\n",
    "                ans[p] += ans[r] \n",
    "                q.append(p)\n",
    "    print(*ans)\n",
    "\n",
    "if __name__ == \"__main__\":\n",
    "    main()"
   ]
  },
  {
   "cell_type": "markdown",
   "metadata": {},
   "source": [
    "# E問題"
   ]
  },
  {
   "cell_type": "code",
   "execution_count": null,
   "metadata": {},
   "outputs": [],
   "source": [
    "s = input()\n",
    "t = input()\n"
   ]
  }
 ],
 "metadata": {
  "kernelspec": {
   "display_name": "Python 3",
   "language": "python",
   "name": "python3"
  },
  "language_info": {
   "codemirror_mode": {
    "name": "ipython",
    "version": 3
   },
   "file_extension": ".py",
   "mimetype": "text/x-python",
   "name": "python",
   "nbconvert_exporter": "python",
   "pygments_lexer": "ipython3",
   "version": "3.7.3"
  }
 },
 "nbformat": 4,
 "nbformat_minor": 2
}
