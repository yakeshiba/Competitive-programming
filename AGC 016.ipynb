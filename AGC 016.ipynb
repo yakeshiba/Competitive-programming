{
 "cells": [
  {
   "cell_type": "code",
   "execution_count": null,
   "metadata": {},
   "outputs": [],
   "source": [
    "#A\n",
    "S = input()\n",
    "cand = [chr(i) for i in range(97, 97+26)]\n",
    "\n",
    "anss = float('inf')\n",
    "for c in cand:\n",
    "    alp = c\n",
    "    ans = 0\n",
    "    tmp = 0\n",
    "    for s in S:\n",
    "        if s == alp:\n",
    "            ans = max(ans, tmp)\n",
    "            tmp = 0\n",
    "        else:\n",
    "            tmp += 1\n",
    "    if tmp:\n",
    "        ans = max(ans, tmp)\n",
    "    anss = min(anss, ans)\n",
    "print(anss)"
   ]
  }
 ],
 "metadata": {
  "kernelspec": {
   "display_name": "Python 3",
   "language": "python",
   "name": "python3"
  },
  "language_info": {
   "codemirror_mode": {
    "name": "ipython",
    "version": 3
   },
   "file_extension": ".py",
   "mimetype": "text/x-python",
   "name": "python",
   "nbconvert_exporter": "python",
   "pygments_lexer": "ipython3",
   "version": "3.7.3"
  }
 },
 "nbformat": 4,
 "nbformat_minor": 2
}
