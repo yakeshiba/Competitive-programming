{
 "cells": [
  {
   "cell_type": "code",
   "execution_count": 1,
   "metadata": {},
   "outputs": [
    {
     "name": "stdout",
     "output_type": "stream",
     "text": [
      "1\n",
      "6.283184\n"
     ]
    }
   ],
   "source": [
    "#A\n",
    "R = int(input())\n",
    "print(2*R*3.141592)"
   ]
  },
  {
   "cell_type": "code",
   "execution_count": null,
   "metadata": {},
   "outputs": [],
   "source": [
    "#B\n",
    "N,M = map(int,input().split())\n",
    "A = list(map(int,input().split()))\n",
    "if sum(A) > N:\n",
    "    print(-1)\n",
    "else:\n",
    "    print(N - sum(A))"
   ]
  },
  {
   "cell_type": "code",
   "execution_count": null,
   "metadata": {},
   "outputs": [],
   "source": [
    "#C\n",
    "N = int(input())\n",
    "A = list(map(int,input().split()))\n",
    "buka = [0]*N\n",
    "for a in A:\n",
    "    buka[a-1] += 1\n",
    "print(*buka,sep=\"\\n\")"
   ]
  },
  {
   "cell_type": "code",
   "execution_count": null,
   "metadata": {},
   "outputs": [],
   "source": [
    "#D\n",
    "from collections import deque\n",
    "N,K = map(int,input().split())\n",
    "numbers = [i for i in range(0,N+1)]\n",
    "large  = deque([N])\n",
    "small = deque([0])\n",
    "for i in range(1,N+1):\n",
    "    large.append(large[-1]+numbers[-i-1])\n",
    "    small.append(small[-1]+numbers[i])\n",
    "\n",
    "mod = 10**9+7\n",
    "\n",
    "ans = 1\n",
    "for i in range(K,N+1):\n",
    "    ans += (large[i-1] - small[i-1] + 1)%mod\n",
    "print(ans%mod)"
   ]
  }
 ],
 "metadata": {
  "kernelspec": {
   "display_name": "Python 3",
   "language": "python",
   "name": "python3"
  },
  "language_info": {
   "codemirror_mode": {
    "name": "ipython",
    "version": 3
   },
   "file_extension": ".py",
   "mimetype": "text/x-python",
   "name": "python",
   "nbconvert_exporter": "python",
   "pygments_lexer": "ipython3",
   "version": "3.7.3"
  }
 },
 "nbformat": 4,
 "nbformat_minor": 2
}
