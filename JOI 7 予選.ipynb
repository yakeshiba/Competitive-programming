{
 "cells": [
  {
   "cell_type": "code",
   "execution_count": 4,
   "metadata": {},
   "outputs": [
    {
     "name": "stdout",
     "output_type": "stream",
     "text": [
      "1\n",
      "15\n"
     ]
    }
   ],
   "source": [
    "#A\n",
    "price = int(input())\n",
    "ans = 0\n",
    "change = 1000-price\n",
    "while change >= 500:\n",
    "    change -= 500\n",
    "    ans += 1\n",
    "while change >= 100:\n",
    "    change -= 100\n",
    "    ans += 1\n",
    "while change >= 50:\n",
    "    change -= 50\n",
    "    ans += 1\n",
    "while change >= 10:\n",
    "    change -= 10\n",
    "    ans += 1\n",
    "while change >= 5:\n",
    "    change -= 5\n",
    "    ans += 1\n",
    "while change >= 1:\n",
    "    change -= 1\n",
    "    ans += 1\n",
    "print(ans)"
   ]
  }
 ],
 "metadata": {
  "kernelspec": {
   "display_name": "Python 3",
   "language": "python",
   "name": "python3"
  },
  "language_info": {
   "codemirror_mode": {
    "name": "ipython",
    "version": 3
   },
   "file_extension": ".py",
   "mimetype": "text/x-python",
   "name": "python",
   "nbconvert_exporter": "python",
   "pygments_lexer": "ipython3",
   "version": "3.7.3"
  }
 },
 "nbformat": 4,
 "nbformat_minor": 2
}
