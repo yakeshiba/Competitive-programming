{
 "cells": [
  {
   "cell_type": "code",
   "execution_count": null,
   "metadata": {},
   "outputs": [],
   "source": [
    "#B\n",
    "n = int(input())\n",
    "\n",
    "balls = [0]*n\n",
    "for i in range(n):\n",
    "    x, y = map(int,input().split())\n",
    "    balls[i] = (x, y)\n",
    "\n",
    "\n",
    "if n == 1:\n",
    "    print(1)\n",
    "else:\n",
    "    diff = {}\n",
    "    \n",
    "    for i in range(n):\n",
    "        for j in range(n):\n",
    "            if i == j:\n",
    "                continue\n",
    "            vec = (balls[i][0]-balls[j][0], balls[i][1]-balls[j][1])\n",
    "            if vec not in diff:\n",
    "                diff[vec] = 1\n",
    "            else:\n",
    "                diff[vec] += 1\n",
    "    \n",
    "    print(n-max(diff.values()))"
   ]
  }
 ],
 "metadata": {
  "kernelspec": {
   "display_name": "Python 3",
   "language": "python",
   "name": "python3"
  },
  "language_info": {
   "codemirror_mode": {
    "name": "ipython",
    "version": 3
   },
   "file_extension": ".py",
   "mimetype": "text/x-python",
   "name": "python",
   "nbconvert_exporter": "python",
   "pygments_lexer": "ipython3",
   "version": "3.7.3"
  }
 },
 "nbformat": 4,
 "nbformat_minor": 2
}
