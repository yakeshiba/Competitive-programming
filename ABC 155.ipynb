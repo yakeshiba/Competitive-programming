{
 "cells": [
  {
   "cell_type": "code",
   "execution_count": 4,
   "metadata": {},
   "outputs": [
    {
     "name": "stdout",
     "output_type": "stream",
     "text": [
      "1 2 3\n",
      "No\n"
     ]
    }
   ],
   "source": [
    "A = list(map(int,input().split()))\n",
    "l = set(A)\n",
    "if len(l) == 2:\n",
    "    print(\"Yes\")\n",
    "else:\n",
    "    print(\"No\")"
   ]
  },
  {
   "cell_type": "code",
   "execution_count": 10,
   "metadata": {},
   "outputs": [
    {
     "name": "stdout",
     "output_type": "stream",
     "text": [
      "3\n",
      "28 27 24\n",
      "DENIED\n"
     ]
    }
   ],
   "source": [
    "N = int(input())\n",
    "A = list(map(int,input().split()))\n",
    "for i in range(N):\n",
    "    if A[i]%2 == 0:\n",
    "        if A[i]%3 == 0 or A[i]%5 == 0:\n",
    "            pass\n",
    "        else:\n",
    "            print(\"DENIED\")\n",
    "            break\n",
    "else:\n",
    "    print(\"APPROVED\")"
   ]
  },
  {
   "cell_type": "code",
   "execution_count": null,
   "metadata": {},
   "outputs": [],
   "source": [
    "from collections import Counter\n",
    "N = int(input())\n",
    "words = [0]*N\n",
    "for i in range(N):\n",
    "    words[i] = input()\n",
    "counter = Counter(words)\n",
    "cnt = max(counter.values())\n",
    "ans = []\n",
    "for key,value in counter.items():\n",
    "    if value == cnt:\n",
    "        ans.append(key)\n",
    "ans.sort()\n",
    "print(*ans,sep=\"\\n\")"
   ]
  },
  {
   "cell_type": "code",
   "execution_count": null,
   "metadata": {},
   "outputs": [],
   "source": [
    "#D やりかけ\n",
    "import bisect\n",
    "import sys\n",
    "\n",
    "input = sys.stdin.readline\n",
    "\n",
    "eps = 1e-16\n",
    "def main(args):\n",
    "    def is_ok_minus(x):\n",
    "        cnt = 0\n",
    "        for j in range(plus):\n",
    "            leq_x = bisect.bisect_right(mA, x/pA[j])\n",
    "            cnt += leq_x\n",
    "        if cnt >= k:\n",
    "            return True\n",
    "        return False\n",
    "    \n",
    "    def meguru_bisect_minus(ng, ok):\n",
    "        while (abs(ok - ng) > 1):\n",
    "            mid = (ok + ng) // 2\n",
    "            if is_ok_minus(mid):\n",
    "                ok = mid\n",
    "            else:\n",
    "                ng = mid\n",
    "        return ok\n",
    "    \n",
    "    def is_ok_plus(x):\n",
    "        cnt = zero_pair+minus_pair\n",
    "        same = 0#自分自身との積（本来ありえない）のうち採用されてしまった個数\n",
    "        tmp = 0\n",
    "        \n",
    "        for i in range(minus):\n",
    "            les_x = bisect.bisect_right(mA, x/mA[i]-eps)\n",
    "            tmp += minus-les_x\n",
    "            if les_x >= minus-i:\n",
    "                same += 1\n",
    "            \n",
    "        for j in range(plus):\n",
    "            leq_x = bisect.bisect_right(pA, x/pA[j])\n",
    "            if leq_x >= j+1:\n",
    "                same += 1\n",
    "            tmp += leq_x\n",
    "        \n",
    "        cnt += tmp//2-same\n",
    "        \n",
    "        if cnt >= k:\n",
    "            return True\n",
    "        return False\n",
    "    \n",
    "    def meguru_bisect_plus(ng, ok):\n",
    "        while (abs(ok - ng) > 1):\n",
    "            mid = (ok + ng) // 2\n",
    "            if is_ok_plus(mid):\n",
    "                ok = mid\n",
    "            else:\n",
    "                ng = mid\n",
    "        return ok\n",
    "    \n",
    "    n, k = map(int,input().split())\n",
    "    A = list(map(int,input().split()))\n",
    "    \n",
    "    A.sort()\n",
    "    \n",
    "    minus = bisect.bisect_right(A, -1)\n",
    "    zeros = bisect.bisect_right(A, 0) - minus\n",
    "    plus = n - (minus+zeros)\n",
    "    \n",
    "    mA = A[:minus]\n",
    "    pA = A[minus+zeros:]\n",
    "    \n",
    "    minus_pair = minus*plus\n",
    "    zero_pair = zeros*(n-zeros) + zeros*(zeros-1)//2\n",
    "    plus_pair = n*(n-1)//2-(minus_pair+zero_pair)\n",
    "    \n",
    "    #print(\"minus\",minus*plus)\n",
    "    #print(\"0\",zeros*(minus+plus))\n",
    "    \n",
    "    if k <= minus_pair:\n",
    "        print(meguru_bisect_minus(-10**18,10**18))\n",
    "    elif minus_pair+1 <= k <= minus_pair+zero_pair:\n",
    "        print(0)\n",
    "    else:\n",
    "        print(meguru_bisect_plus(-10**18,10**18))\n",
    "        \n",
    "if __name__ == '__main__':\n",
    "    main(sys.argv[1:])"
   ]
  }
 ],
 "metadata": {
  "kernelspec": {
   "display_name": "Python 3",
   "language": "python",
   "name": "python3"
  },
  "language_info": {
   "codemirror_mode": {
    "name": "ipython",
    "version": 3
   },
   "file_extension": ".py",
   "mimetype": "text/x-python",
   "name": "python",
   "nbconvert_exporter": "python",
   "pygments_lexer": "ipython3",
   "version": "3.7.3"
  }
 },
 "nbformat": 4,
 "nbformat_minor": 2
}
