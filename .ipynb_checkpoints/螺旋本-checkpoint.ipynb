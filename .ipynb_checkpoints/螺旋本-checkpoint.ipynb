{
 "cells": [
  {
   "cell_type": "markdown",
   "metadata": {},
   "source": [
    "# AOJ ID:kebayashi\n",
    "#### ※AOJはnumpyが使えない（不便）"
   ]
  },
  {
   "cell_type": "markdown",
   "metadata": {},
   "source": [
    "# 2.5 導入問題"
   ]
  },
  {
   "cell_type": "markdown",
   "metadata": {},
   "source": [
    "### ALDS 1_1_D: Maximum Profit"
   ]
  },
  {
   "cell_type": "code",
   "execution_count": null,
   "metadata": {},
   "outputs": [],
   "source": [
    "n = int(input())\n",
    "\n",
    "R = [0]*n\n",
    "\n",
    "ans = -float('inf')\n",
    "#今見てるとこ以前の最小値\n",
    "minimum = float('inf')\n",
    "for i in range(n):\n",
    "    R[i] = int(input())\n",
    "    if i == 0:\n",
    "        minimum = R[i]\n",
    "        continue\n",
    "    minimum = min(minimum, R[i-1])\n",
    "    ans = max(ans, R[i] - minimum)\n",
    "    \n",
    "print(ans)"
   ]
  },
  {
   "cell_type": "markdown",
   "metadata": {},
   "source": [
    "# 4.6 データ構造の応用"
   ]
  },
  {
   "cell_type": "markdown",
   "metadata": {},
   "source": [
    "### ALDS 1_3_D: Areas on the Cross-Section Diagram"
   ]
  },
  {
   "cell_type": "code",
   "execution_count": null,
   "metadata": {},
   "outputs": [],
   "source": []
  },
  {
   "cell_type": "markdown",
   "metadata": {},
   "source": [
    "# 5.2 線形探索"
   ]
  },
  {
   "cell_type": "markdown",
   "metadata": {},
   "source": [
    "### ALDS 1_4_A: Linear Search"
   ]
  },
  {
   "cell_type": "code",
   "execution_count": null,
   "metadata": {},
   "outputs": [],
   "source": [
    "n = int(input())\n",
    "S = set(list(map(int,input().split())))\n",
    "q = int(input())\n",
    "T = list(map(int,input().split()))\n",
    "\n",
    "ans = 0\n",
    "for t in T:\n",
    "    if t in S:\n",
    "        ans += 1\n",
    "        \n",
    "print(ans)"
   ]
  },
  {
   "cell_type": "markdown",
   "metadata": {},
   "source": [
    "# 5.3 二分探索"
   ]
  },
  {
   "cell_type": "markdown",
   "metadata": {},
   "source": [
    "### ALDS1_4_B: Binary Search"
   ]
  },
  {
   "cell_type": "code",
   "execution_count": null,
   "metadata": {},
   "outputs": [],
   "source": [
    "#めぐる式\n",
    "n = int(input())\n",
    "S = list(map(int,input().split()))\n",
    "q = int(input())\n",
    "T = list(map(int,input().split()))\n",
    "\n",
    "\n",
    "def is_ok(vector, key, middle):\n",
    "    #ok領域を左から，ng領域を右から伸ばしていく例のイメージで考えると\n",
    "    #okの条件を「key以下の値をとる」ことにして，\n",
    "    #最終的にokの右端のインデックスを取得すればいい\n",
    "    #（つまり，最終的にはkey以下の値の内の最大値（の位置）が求まる）\n",
    "    if vector[middle] <= key:\n",
    "        return True\n",
    "    else:\n",
    "        return False\n",
    "\n",
    "def meguru_bisect(ng, ok):#めぐる式二分探索\n",
    "    while (abs(ok - ng) > 1):\n",
    "        mid = (ok + ng) // 2\n",
    "        if is_ok(S, t, mid):\n",
    "            ok = mid\n",
    "        else:\n",
    "            ng = mid\n",
    "    return ok\n",
    "\n",
    "ans = 0\n",
    "for t in T:\n",
    "    ind = meguru_bisect(n,0)#t以下の値のうちの最大値の位置\n",
    "    if S[ind] == t:#その位置にある値がtなら\n",
    "        ans += 1\n",
    "print(ans)"
   ]
  },
  {
   "cell_type": "markdown",
   "metadata": {},
   "source": [
    "# 5.6 探索の応用:最適解の計算"
   ]
  },
  {
   "cell_type": "markdown",
   "metadata": {},
   "source": [
    "### ALDS1_4_D: Allocation"
   ]
  },
  {
   "cell_type": "code",
   "execution_count": null,
   "metadata": {},
   "outputs": [],
   "source": [
    "def is_ok(W, truck, middle):\n",
    "    loaded = 0\n",
    "    for t in range(truck):\n",
    "        this_total = 0\n",
    "        while this_total + W[loaded] <= middle:\n",
    "            this_total += W[loaded]\n",
    "            loaded += 1\n",
    "            if loaded == len(W):\n",
    "                return True\n",
    "    return False\n",
    "\n",
    "def meguru_bisect(ng, ok):\n",
    "    while (abs(ok - ng) > 1):\n",
    "        mid = (ok + ng) // 2\n",
    "        if is_ok(w, k, mid):\n",
    "            ok = mid\n",
    "        else:\n",
    "            ng = mid\n",
    "    return ok\n",
    "\n",
    "n, k = map(int,input().split())\n",
    "\n",
    "w = [0]*n\n",
    "for i in range(n):\n",
    "    w[i] = int(input())\n",
    "\n",
    "ans = meguru_bisect(-1,10**10+1)\n",
    "print(ans)"
   ]
  }
 ],
 "metadata": {
  "kernelspec": {
   "display_name": "Python 3",
   "language": "python",
   "name": "python3"
  },
  "language_info": {
   "codemirror_mode": {
    "name": "ipython",
    "version": 3
   },
   "file_extension": ".py",
   "mimetype": "text/x-python",
   "name": "python",
   "nbconvert_exporter": "python",
   "pygments_lexer": "ipython3",
   "version": "3.7.3"
  }
 },
 "nbformat": 4,
 "nbformat_minor": 2
}
