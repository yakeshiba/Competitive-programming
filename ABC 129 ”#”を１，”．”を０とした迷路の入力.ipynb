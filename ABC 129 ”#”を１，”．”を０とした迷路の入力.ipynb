{
 "cells": [
  {
   "cell_type": "code",
   "execution_count": 2,
   "metadata": {},
   "outputs": [
    {
     "name": "stdout",
     "output_type": "stream",
     "text": [
      "3 3\n",
      ".#.\n",
      "..#\n",
      "###\n",
      "['.#.', '..#', '###']\n"
     ]
    }
   ],
   "source": [
    "#D 賢い方法\n",
    "import numpy as np\n",
    " \n",
    "H, W = map(int, input().split())\n",
    "maze = np.array([list(input()) for _ in range(H)]) == '.'\n",
    "\n",
    "u = np.zeros((H, W), dtype=int)\n",
    "d = np.zeros((H, W), dtype=int)\n",
    "l = np.zeros((H, W), dtype=int)\n",
    "r = np.zeros((H, W), dtype=int)\n",
    "\n",
    "for i in range(H):\n",
    "    u[i] = (u[i-1] + 1) * maze[i]#壁はゼロ\n",
    "    d[-(i+1)] = (d[-i] + 1) * maze[-(i+1)]\n",
    "\n",
    "for i in range(W):\n",
    "    l[:, i] = (l[:, i-1] + 1) * maze[:, i]#i列目\n",
    "    r[:, -(i+1)] = (r[:, -i] + 1) * maze[:, -(i+1)]\n",
    "\n",
    "print(np.max(u+d+l+r)-3)"
   ]
  },
  {
   "cell_type": "code",
   "execution_count": 2,
   "metadata": {},
   "outputs": [
    {
     "name": "stdout",
     "output_type": "stream",
     "text": [
      "4000000\n"
     ]
    }
   ],
   "source": [
    "#D 愚直に実装\n",
    "H,W = map(int,input().split())\n",
    "\n",
    "maze = [None]*H\n",
    "for i in range(H):\n",
    "    maze[i] = list(input())\n",
    "\n",
    "#左を照らせる数\n",
    "L = [[0]*W for _ in range(H)]\n",
    "for row in range(H):\n",
    "    if maze[row][0] == \"#\":\n",
    "        L[row][0] = 0\n",
    "    else:\n",
    "        L[row][0] = 1\n",
    "for col in range(1,W):\n",
    "    for row in range(H):\n",
    "        if maze[row][col] == \"#\":\n",
    "            L[row][col] = 0\n",
    "        else:\n",
    "            L[row][col] = L[row][col-1]+1\n",
    "#右を照らせる数\n",
    "R = [[0]*W for _ in range(H)]\n",
    "for row in range(H):\n",
    "    if maze[row][-1] == \"#\":\n",
    "        R[row][-1] = 0\n",
    "    else:\n",
    "        R[row][-1] = 1\n",
    "for col in range(1,W):\n",
    "    for row in range(H):\n",
    "        if maze[row][-(col+1)] == \"#\":\n",
    "            R[row][-(col+1)] = 0\n",
    "        else:\n",
    "            R[row][-(col+1)] = R[row][-col]+1\n",
    "#上を照らせる数\n",
    "U = [[0]*W for _ in range(H)]\n",
    "for col in range(W):\n",
    "    if maze[0][col] == \"#\":\n",
    "        U[0][col] = 0\n",
    "    else:\n",
    "        U[0][col] = 1\n",
    "for row in range(1,H):\n",
    "    for col in range(W):\n",
    "        if maze[row][col] == \"#\":\n",
    "            U[row][col] = 0\n",
    "        else:\n",
    "            U[row][col] = U[row-1][col]+1\n",
    "#下を照らせる数\n",
    "D = [[0]*W for _ in range(H)]\n",
    "for col in range(W):\n",
    "    if maze[-1][col] == \"#\":\n",
    "        D[-1][col] = 0\n",
    "    else:\n",
    "        D[-1][col] = 1\n",
    "for row in range(1,H):\n",
    "    for col in range(W):\n",
    "        if maze[-(row+1)][col] == \"#\":\n",
    "            D[-(row+1)][col] = 0\n",
    "        else:\n",
    "            D[-(row+1)][col] = D[-row][col]+1\n",
    "#数え上げ\n",
    "ans = [[0]*W for _ in range(H)]\n",
    "max_ans = []\n",
    "for row in range(H):\n",
    "    for col in range(W):\n",
    "        ans[row][col] = L[row][col]+R[row][col]+U[row][col]+D[row][col]-3\n",
    "    max_ans.append(max(ans[row]))\n",
    "print(max(max_ans))"
   ]
  }
 ],
 "metadata": {
  "kernelspec": {
   "display_name": "Python 3",
   "language": "python",
   "name": "python3"
  },
  "language_info": {
   "codemirror_mode": {
    "name": "ipython",
    "version": 3
   },
   "file_extension": ".py",
   "mimetype": "text/x-python",
   "name": "python",
   "nbconvert_exporter": "python",
   "pygments_lexer": "ipython3",
   "version": "3.7.3"
  }
 },
 "nbformat": 4,
 "nbformat_minor": 2
}
