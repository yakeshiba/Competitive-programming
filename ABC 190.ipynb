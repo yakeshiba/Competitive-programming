{
 "cells": [
  {
   "cell_type": "code",
   "execution_count": null,
   "metadata": {},
   "outputs": [],
   "source": [
    "import bisect\n",
    "\n",
    "n = int(input())\n",
    "\n",
    "sums = []\n",
    "for i in range(1,int(n**0.5)+2):\n",
    "    sums.append(i*(i+1)//2)\n",
    "print(sums)\n",
    "\n",
    "ans = 1\n",
    "for j in range(len(sums)):\n",
    "    left = bisect.bisect_left(sums, sums[j]-n)\n",
    "    try:\n",
    "        if sums[left] == sums[j]-n:\n",
    "            ans += 1\n",
    "    except IndexError:\n",
    "        continue\n",
    "        \n",
    "print(2*ans)"
   ]
  },
  {
   "cell_type": "code",
   "execution_count": null,
   "metadata": {},
   "outputs": [],
   "source": [
    "import bisect\n",
    "\n",
    "n = int(input())\n",
    "\n",
    "nums = []\n",
    "for i in range(1,int(n**0.5)+1):\n",
    "    nums.append(i)\n",
    "\n",
    "ans = 1\n",
    "csum = 0\n",
    "cnt = nums[-1]\n",
    "while csum < n:\n",
    "    csum += cnt\n",
    "    cnt += 1\n",
    "    #print(csum)\n",
    "\n",
    "if csum == n:\n",
    "    ans += 1\n",
    "    csum -= (cnt-1)\n",
    "    right = (cnt-1)-1\n",
    "else:\n",
    "    right = cnt-1\n",
    "left = nums[-1]\n",
    "\n",
    "while left > 0 and right > 0:\n",
    "    if csum < n:\n",
    "        left -= 1\n",
    "        csum += left\n",
    "    else:\n",
    "        csum -= right\n",
    "        right -= 1\n",
    "        \n",
    "    if csum == n:\n",
    "        ans += 1\n",
    "\n",
    "print(2*ans)"
   ]
  }
 ],
 "metadata": {
  "kernelspec": {
   "display_name": "Python 3",
   "language": "python",
   "name": "python3"
  },
  "language_info": {
   "codemirror_mode": {
    "name": "ipython",
    "version": 3
   },
   "file_extension": ".py",
   "mimetype": "text/x-python",
   "name": "python",
   "nbconvert_exporter": "python",
   "pygments_lexer": "ipython3",
   "version": "3.7.8"
  }
 },
 "nbformat": 4,
 "nbformat_minor": 4
}
