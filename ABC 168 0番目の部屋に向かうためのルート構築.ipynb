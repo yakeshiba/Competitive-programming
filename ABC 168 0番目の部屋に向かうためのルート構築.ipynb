{
 "cells": [
  {
   "cell_type": "code",
   "execution_count": 3,
   "metadata": {},
   "outputs": [
    {
     "name": "stdout",
     "output_type": "stream",
     "text": [
      "183\n",
      "bon\n"
     ]
    }
   ],
   "source": [
    "#A\n",
    "N = input()\n",
    "p = ['0','1','6','8']\n",
    "if N[-1] == '3':\n",
    "    print('bon')\n",
    "elif N[-1] in p:\n",
    "    print('pon')\n",
    "else:\n",
    "    print('hon')"
   ]
  },
  {
   "cell_type": "code",
   "execution_count": 6,
   "metadata": {},
   "outputs": [
    {
     "name": "stdout",
     "output_type": "stream",
     "text": [
      "7\n",
      "nikoandsolstice\n",
      "nikoand...\n"
     ]
    }
   ],
   "source": [
    "#B\n",
    "K = int(input())\n",
    "S = input()\n",
    "if len(S) <= K:\n",
    "    print(S)\n",
    "else:\n",
    "    print(S[:K]+\"...\")"
   ]
  },
  {
   "cell_type": "code",
   "execution_count": 8,
   "metadata": {},
   "outputs": [
    {
     "name": "stdout",
     "output_type": "stream",
     "text": [
      "2 3 4 5\n",
      "3.6774220111899085\n"
     ]
    }
   ],
   "source": [
    "#C\n",
    "import math\n",
    "\n",
    "A,B,H,M = map(int,input().split())\n",
    "\n",
    "hour_r = (0.5*H*60) + M*0.5\n",
    "\n",
    "minu_r = 6*M\n",
    "\n",
    "if hour_r > minu_r:\n",
    "    k = hour_r - minu_r\n",
    "else:\n",
    "    k = minu_r - hour_r\n",
    "k = min (k,360-k)\n",
    "#print(k)\n",
    "\n",
    "ans_2 = (A**2+B**2)-2*A*B*(math.cos(math.radians(k)))\n",
    "print(ans_2**0.5)"
   ]
  },
  {
   "cell_type": "code",
   "execution_count": null,
   "metadata": {},
   "outputs": [],
   "source": [
    "#D\n",
    "from collections import deque\n",
    "N,M = map(int,input().split())\n",
    "edge = [[] for i in range(N)]\n",
    "for i in range(M):\n",
    "    a,b = map(int,input().split())\n",
    "    edge[a-1].append(b-1)\n",
    "    edge[b-1].append(a-1)\n",
    "\n",
    "#print(edge)\n",
    "\n",
    "print('Yes')\n",
    "\n",
    "ans = [None]*N\n",
    "#print(edge)\n",
    "q = deque([0])\n",
    "\n",
    "tmp = [-1]*N#部屋１からの距離\n",
    "tmp[0] = 0\n",
    "\n",
    "while q:\n",
    "    now = q.popleft()\n",
    "    #print(edge[now])\n",
    "    for v in edge[now]:\n",
    "        if ans[v] == None:\n",
    "            ans[v] = now\n",
    "        if tmp[v] != -1:\n",
    "            if tmp[now]+1 < tmp[v]:\n",
    "                tmp[v] = tmp[now]+1\n",
    "                ans[v] = now\n",
    "            continue\n",
    "        tmp[v] = tmp[now] + 1\n",
    "        q.append(v)\n",
    "    #print(\"ans\",ans)\n",
    "for c in ans[1:]:\n",
    "    print(c+1)"
   ]
  },
  {
   "cell_type": "code",
   "execution_count": null,
   "metadata": {},
   "outputs": [],
   "source": [
    "#E\n",
    "import collections import defaultdict\n",
    "N = int(input())\n",
    "A = [None]*N\n",
    "B = [None]*N\n",
    "iwashi = [None]*N\n",
    "d = defaultdict(int)\n",
    "ans = N*(N-1)//2\n",
    "for i in range(N):\n",
    "    A[i],B[i] = map(int,input().split())\n",
    "    iwashi[i] = A[i]*B[i]\n",
    "for i in iwashi:\n",
    "    if i not in d:\n",
    "        d[i] = 1\n",
    "    else:\n",
    "        d[i] += 1\n",
    "for k in d.keys():\n",
    "    ans -= (d[k]*d[-k]//2)/2\n",
    "print(int(ans%(10**9+7)))"
   ]
  }
 ],
 "metadata": {
  "kernelspec": {
   "display_name": "Python 3",
   "language": "python",
   "name": "python3"
  },
  "language_info": {
   "codemirror_mode": {
    "name": "ipython",
    "version": 3
   },
   "file_extension": ".py",
   "mimetype": "text/x-python",
   "name": "python",
   "nbconvert_exporter": "python",
   "pygments_lexer": "ipython3",
   "version": "3.7.8"
  }
 },
 "nbformat": 4,
 "nbformat_minor": 2
}
