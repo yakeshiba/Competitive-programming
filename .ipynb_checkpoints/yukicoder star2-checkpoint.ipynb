{
 "cells": [
  {
   "cell_type": "markdown",
   "metadata": {},
   "source": [
    "# ID : kbys"
   ]
  },
  {
   "cell_type": "code",
   "execution_count": 6,
   "metadata": {},
   "outputs": [
    {
     "name": "stdout",
     "output_type": "stream",
     "text": [
      "346346\n",
      "25 575 2525\n",
      "14563\n"
     ]
    }
   ],
   "source": [
    "#316 FizzBuzz ３つの定数のうち，どれかの倍数の個数　最小公倍数\n",
    "import fractions\n",
    "def lcm(a,b):\n",
    "    l = a * b // fractions.gcd(a, b)\n",
    "    return l\n",
    "N = int(input())\n",
    "a,b,c = map(int,input().split())\n",
    "print(N//a+N//b+N//c-N//lcm(a,b)-N//lcm(a,c)-N//lcm(b,c)+N//lcm(lcm(a,b),c))"
   ]
  },
  {
   "cell_type": "markdown",
   "metadata": {},
   "source": [
    "## 数字根\n",
    "数字の各桁の和が１桁になるまで同じ操作を繰り返す"
   ]
  },
  {
   "cell_type": "code",
   "execution_count": 3,
   "metadata": {},
   "outputs": [
    {
     "name": "stdout",
     "output_type": "stream",
     "text": [
      "1\n",
      "432\n",
      "9\n"
     ]
    }
   ],
   "source": [
    "#933\n",
    "N = int(input())\n",
    "P = list(map(int,input().split()))\n",
    "ans = 1\n",
    "for i in P:\n",
    "    if i == 0:\n",
    "        i = 0\n",
    "    elif i%9 == 0:\n",
    "        i = 9\n",
    "    else:\n",
    "        i = i%9\n",
    "    ans *= i\n",
    "\n",
    "while ans >= 10:\n",
    "    tmp = 0\n",
    "    for i in str(ans):\n",
    "        tmp += int(i)\n",
    "    ans = tmp\n",
    "print(ans)"
   ]
  },
  {
   "cell_type": "code",
   "execution_count": 9,
   "metadata": {},
   "outputs": [
    {
     "name": "stdout",
     "output_type": "stream",
     "text": [
      "3\n",
      "1412265465\n"
     ]
    },
    {
     "name": "stderr",
     "output_type": "stream",
     "text": [
      "C:\\Users\\kebay\\Anaconda3\\lib\\site-packages\\ipykernel_launcher.py:25: RuntimeWarning: overflow encountered in long_scalars\n"
     ]
    }
   ],
   "source": [
    "#1058\n",
    "import numpy as np\n",
    "import itertools\n",
    "def create_prime_list(limit):\n",
    "    x = limit**0.5\n",
    "    primes = []\n",
    "    #print('x={0}'.format(x))\n",
    "    nums = [x for x in range(2, limit+1)]\n",
    "    while nums[0]<=x:\n",
    "        primes.append(nums[0])\n",
    "        current_prime = nums[0]\n",
    "        nums = [x for x in nums if x%current_prime != 0]\n",
    "    primes.extend(nums)\n",
    "    return primes\n",
    "\n",
    "N = int(input())\n",
    "\n",
    "ans = [1]\n",
    "\n",
    "s = np.array(create_prime_list(10**5+5*10**4))\n",
    "s = s[s>10**5][:10]\n",
    "#print(s)\n",
    "\n",
    "for i,j in itertools.combinations(s, 2):\n",
    "    ans.append(i*j)\n",
    "for i in s:\n",
    "    ans.append(i**2)\n",
    "\n",
    "ans.sort()\n",
    "#print(ans)\n",
    "\n",
    "print(ans[N-1])"
   ]
  },
  {
   "cell_type": "code",
   "execution_count": null,
   "metadata": {},
   "outputs": [],
   "source": [
    "#672 最長AB列\n",
    "S = input()\n",
    "cumsum = [None]*(len(S)+1)\n",
    "cumsum[0] = 1\n",
    "for i in range(1,len(S)+1):\n",
    "    if S[i-1] == 'A':\n",
    "        cumsum[i] = cumsum[i-1] + 1\n",
    "    else:\n",
    "        cumsum[i] = cumsum[i-1] - 1\n",
    "\n",
    "begin_point = {}\n",
    "for i,s in enumerate(cumsum):\n",
    "    if s not in begin_point:\n",
    "        begin_point[s] = [i,-1]\n",
    "    else:\n",
    "        begin_point[s][1] = i\n",
    "\n",
    "ans = 0\n",
    "for val in begin_point.values():\n",
    "    ans = max(ans,val[1]-val[0])\n",
    "print(ans)"
   ]
  },
  {
   "cell_type": "code",
   "execution_count": null,
   "metadata": {},
   "outputs": [],
   "source": [
    "#786\n",
    "N = int(input())\n",
    "dp = [0]*N\n",
    "dp[0] = 1\n",
    "dp[1] = 2\n",
    "for i in range(2,N):\n",
    "    dp[i] = dp[i-1] + dp[i-2]\n",
    "print(dp[N-1])"
   ]
  },
  {
   "cell_type": "markdown",
   "metadata": {},
   "source": [
    "# No.1021 Children in Classrooms\n",
    "数列の操作にdequeを利用"
   ]
  },
  {
   "cell_type": "code",
   "execution_count": null,
   "metadata": {},
   "outputs": [],
   "source": [
    "from collections import deque\n",
    "\n",
    "N,M = map(int,input().split())\n",
    "A = deque(list(map(int,input().split())))\n",
    "S = input()\n",
    "\n",
    "for i in S:\n",
    "    if i == \"L\":\n",
    "        a0 = A.popleft()\n",
    "        a1 = A.popleft()\n",
    "        A.appendleft(a0+a1)\n",
    "        A.append(0)\n",
    "    else:\n",
    "        a0 = A.pop()\n",
    "        a1 = A.pop()\n",
    "        A.append(a0+a1)\n",
    "        A.appendleft(0)\n",
    "print(*A)"
   ]
  },
  {
   "cell_type": "markdown",
   "metadata": {},
   "source": [
    "別解"
   ]
  },
  {
   "cell_type": "code",
   "execution_count": null,
   "metadata": {},
   "outputs": [],
   "source": []
  }
 ],
 "metadata": {
  "kernelspec": {
   "display_name": "Python 3",
   "language": "python",
   "name": "python3"
  },
  "language_info": {
   "codemirror_mode": {
    "name": "ipython",
    "version": 3
   },
   "file_extension": ".py",
   "mimetype": "text/x-python",
   "name": "python",
   "nbconvert_exporter": "python",
   "pygments_lexer": "ipython3",
   "version": "3.7.3"
  }
 },
 "nbformat": 4,
 "nbformat_minor": 2
}
