{
 "cells": [
  {
   "cell_type": "markdown",
   "metadata": {},
   "source": [
    "# yukicoder\n",
    "# No.847 Divisors of Power "
   ]
  },
  {
   "cell_type": "markdown",
   "metadata": {},
   "source": [
    "$N^K$ の正の約数であって、 $M$以下のものの個数を求めてください。"
   ]
  },
  {
   "cell_type": "markdown",
   "metadata": {},
   "source": [
    "##### 素因数分解されている状況から，約数を列挙する"
   ]
  },
  {
   "cell_type": "code",
   "execution_count": null,
   "metadata": {},
   "outputs": [],
   "source": [
    "import sys\n",
    "input = sys.stdin.readline\n",
    "sys.setrecursionlimit(10**9)\n",
    "\n",
    "def factorize(n):\n",
    "    fct = []  # prime factor\n",
    "    b, e = 2, 0  # base, exponent\n",
    "    while b * b <= n:\n",
    "        while n % b == 0:\n",
    "            n = n // b\n",
    "            e = e + 1\n",
    "        if e > 0:\n",
    "            fct.append((b, e))\n",
    "        b, e = b + 1, 0\n",
    "    if n > 1:\n",
    "        fct.append((n, 1))\n",
    "    return fct\n",
    "\n",
    "n, k, m = map(int,input().split())\n",
    "\n",
    "div = factorize(n)\n",
    "div = [(div[i][0], div[i][1]*k) for i in range(len(div))]\n",
    "\n",
    "ans = []\n",
    "def dfs(i, now):\n",
    "    if i == len(div):\n",
    "        ans.append(now)\n",
    "        return\n",
    "    for j in range(div[i][1]+1):\n",
    "        if now*div[i][0]**j <= m:\n",
    "            dfs(i+1, now*div[i][0]**j)\n",
    "        else:\n",
    "            break\n",
    "\n",
    "dfs(0, 1)\n",
    "print(len(ans))"
   ]
  },
  {
   "cell_type": "code",
   "execution_count": null,
   "metadata": {},
   "outputs": [],
   "source": [
    "# 正しいらしいがdfsの動き（特に ans や return 1）が理解不能\n",
    "import sys\n",
    "input = sys.stdin.readline\n",
    "sys.setrecursionlimit(10**9)\n",
    "\n",
    "def factorize(n):\n",
    "    fct = []  # prime factor\n",
    "    b, e = 2, 0  # base, exponent\n",
    "    while b * b <= n:\n",
    "        while n % b == 0:\n",
    "            n = n // b\n",
    "            e = e + 1\n",
    "        if e > 0:\n",
    "            fct.append((b, e))\n",
    "        b, e = b + 1, 0\n",
    "    if n > 1:\n",
    "        fct.append((n, 1))\n",
    "    return fct\n",
    "\n",
    "n, k, m = map(int,input().split())\n",
    "\n",
    "div = factorize(n)\n",
    "div = [(div[i][0], div[i][1]*k) for i in range(len(div))]\n",
    "\n",
    "def dfs(i, now):\n",
    "    if i == len(div):\n",
    "        return 1\n",
    "\n",
    "    ans = 0\n",
    "    for e in range(div[i][1] + 1):\n",
    "        to_now = now * (div[i][0] ** e)\n",
    "        if to_now > m:\n",
    "            break\n",
    "        ans += dfs(i + 1, to_now)\n",
    "    return ans\n",
    "\n",
    "print(dfs(0, 1))"
   ]
  },
  {
   "cell_type": "markdown",
   "metadata": {},
   "source": [
    "# yukicoder\n",
    "# No.240 ナイト散歩"
   ]
  },
  {
   "cell_type": "markdown",
   "metadata": {},
   "source": [
    "チェスのナイトが無限に広いXY座標上を散歩をする。\n",
    "ナイトの移動方法で1回動くのを1歩とする。\n",
    "散歩なのでせいぜい3歩が限度である。\n",
    "XY座標の(0,0)をスタートして3歩以内で目標の座標に着けるか判定せよ。"
   ]
  },
  {
   "cell_type": "code",
   "execution_count": null,
   "metadata": {},
   "outputs": [],
   "source": [
    "dx = [-2,-2,-1,-1,1,1,2,2]\n",
    "dy = [-1,1,-2,2,-2,2,-1,1]\n",
    "\n",
    "ans = [(0,0)]\n",
    "def dfs(x, y, i):\n",
    "    if i == 3:\n",
    "        return \n",
    "    for dxi, dyi in zip(dx, dy):\n",
    "        ans.append((x+dxi,y+dyi))\n",
    "        dfs(x+dxi, y+dyi, i+1)\n",
    "\n",
    "X,Y = map(int,input().split())    \n",
    "dfs(0, 0, 0)\n",
    "\n",
    "if (X,Y) in ans:\n",
    "    print('YES')\n",
    "else:\n",
    "    print('NO')"
   ]
  },
  {
   "cell_type": "markdown",
   "metadata": {},
   "source": [
    "# AtCoder Regular Contest 061\n",
    "# C - たくさんの数式"
   ]
  },
  {
   "cell_type": "markdown",
   "metadata": {},
   "source": [
    "1 以上 9 以下の数字のみからなる文字列 \n",
    "S\n",
    " が与えられます。 この文字列の中で、あなたはこれら文字と文字の間のうち、いくつかの場所に + を入れることができます。 一つも入れなくてもかまいません。 ただし、+ が連続してはいけません。\n",
    "\n",
    "このようにして出来る全ての文字列を数式とみなし、和を計算することができます。\n",
    "\n",
    "ありうる全ての数式の値を計算し、その合計を出力してください。"
   ]
  },
  {
   "cell_type": "code",
   "execution_count": null,
   "metadata": {},
   "outputs": [],
   "source": [
    "S = input()\n",
    "\n",
    "ans = 0\n",
    "def dfs(now, i):\n",
    "    if i == len(S):\n",
    "        global ans\n",
    "        ans += eval(now)\n",
    "        return\n",
    "    dfs(now+\"+\"+S[i], i+1)\n",
    "    dfs(now+S[i], i+1)\n",
    "    \n",
    "dfs(S[0],1)\n",
    "print(ans)"
   ]
  }
 ],
 "metadata": {
  "kernelspec": {
   "display_name": "Python 3",
   "language": "python",
   "name": "python3"
  },
  "language_info": {
   "codemirror_mode": {
    "name": "ipython",
    "version": 3
   },
   "file_extension": ".py",
   "mimetype": "text/x-python",
   "name": "python",
   "nbconvert_exporter": "python",
   "pygments_lexer": "ipython3",
   "version": "3.7.8"
  }
 },
 "nbformat": 4,
 "nbformat_minor": 4
}
