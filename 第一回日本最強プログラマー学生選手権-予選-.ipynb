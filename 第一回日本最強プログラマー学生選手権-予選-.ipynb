{
 "cells": [
  {
   "cell_type": "code",
   "execution_count": null,
   "metadata": {},
   "outputs": [],
   "source": [
    "#B\n",
    "mod = 10**9+7\n",
    "\n",
    "n, k = map(int,input().split())\n",
    "A = list(map(int,input().split()))\n",
    "\n",
    "#ラスト一個を除く\n",
    "tentou = [0]*n\n",
    "for i in range(n):\n",
    "    for j in range(i+1,n):\n",
    "        if A[i] > A[j]:\n",
    "            tentou[i] += 1\n",
    "\n",
    "back = [0]*n\n",
    "for i in range(n):\n",
    "    for j in range(i+1,n):\n",
    "        if A[-(j+1)] < A[-(i+1)]:\n",
    "            back[-(i+1)] += 1\n",
    "\n",
    "#print(A)         \n",
    "#print(tentou)\n",
    "#print(back)\n",
    "\n",
    "wa = k*(k+1)//2\n",
    "\n",
    "ans = (wa%mod)*sum(tentou)%mod\n",
    "\n",
    "ans += sum(back)*(k-1)*k//2\n",
    "\n",
    "print(ans%mod)"
   ]
  }
 ],
 "metadata": {
  "kernelspec": {
   "display_name": "Python 3",
   "language": "python",
   "name": "python3"
  },
  "language_info": {
   "codemirror_mode": {
    "name": "ipython",
    "version": 3
   },
   "file_extension": ".py",
   "mimetype": "text/x-python",
   "name": "python",
   "nbconvert_exporter": "python",
   "pygments_lexer": "ipython3",
   "version": "3.7.3"
  }
 },
 "nbformat": 4,
 "nbformat_minor": 2
}
