{
 "cells": [
  {
   "cell_type": "code",
   "execution_count": null,
   "metadata": {},
   "outputs": [],
   "source": [
    "#B\n",
    "n = int(input())\n",
    "\n",
    "ans = float(\"inf\")\n",
    "\n",
    "h = 0\n",
    "while h < n/2:\n",
    "    h += 1\n",
    "    for w in range(n//h+1):\n",
    "        ans = min(abs(h-w)+n-(w*h),ans)\n",
    "print(ans)"
   ]
  },
  {
   "cell_type": "code",
   "execution_count": null,
   "metadata": {},
   "outputs": [],
   "source": [
    "#C\n",
    "n = int(input())\n",
    "A = list(map(int,input().split()))\n",
    "\n",
    "dp = [0]*n\n",
    "\n",
    "dp[1] = abs(A[1]-A[0])\n",
    "\n",
    "for i in range(2,n):\n",
    "    dp[i] = min(dp[i-2]+abs(A[i]-A[i-2]), dp[i-1]+abs(A[i]-A[i-1]))\n",
    "    \n",
    "print(dp[n-1])"
   ]
  }
 ],
 "metadata": {
  "kernelspec": {
   "display_name": "Python 3",
   "language": "python",
   "name": "python3"
  },
  "language_info": {
   "codemirror_mode": {
    "name": "ipython",
    "version": 3
   },
   "file_extension": ".py",
   "mimetype": "text/x-python",
   "name": "python",
   "nbconvert_exporter": "python",
   "pygments_lexer": "ipython3",
   "version": "3.7.8"
  }
 },
 "nbformat": 4,
 "nbformat_minor": 2
}
