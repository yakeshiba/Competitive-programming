{
 "cells": [
  {
   "cell_type": "code",
   "execution_count": null,
   "metadata": {},
   "outputs": [],
   "source": [
    "#C\n",
    "N,K = map(int,input().split())\n",
    "#Kの倍数の数\n",
    "mul_K = N//K\n",
    "mul_K2 = 0#N以下で，Kで割った余りがK/2となる数の個数\n",
    "\n",
    "if K%2 == 0:\n",
    "    mul_K2 = mul_K\n",
    "    if K*mul_K+K//2 <= N:\n",
    "        mul_K2 += 1\n",
    "print(mul_K**3+mul_K2**3)"
   ]
  }
 ],
 "metadata": {
  "kernelspec": {
   "display_name": "Python 3",
   "language": "python",
   "name": "python3"
  },
  "language_info": {
   "codemirror_mode": {
    "name": "ipython",
    "version": 3
   },
   "file_extension": ".py",
   "mimetype": "text/x-python",
   "name": "python",
   "nbconvert_exporter": "python",
   "pygments_lexer": "ipython3",
   "version": "3.7.3"
  }
 },
 "nbformat": 4,
 "nbformat_minor": 2
}
