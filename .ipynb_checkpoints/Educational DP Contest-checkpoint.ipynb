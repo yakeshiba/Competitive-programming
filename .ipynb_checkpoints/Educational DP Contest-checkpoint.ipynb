{
 "cells": [
  {
   "cell_type": "code",
   "execution_count": null,
   "metadata": {},
   "outputs": [],
   "source": [
    "#A\n",
    "n = int(input())\n",
    "H = [0]+list(map(int,input().split()))\n",
    "\n",
    "if n >= 3:\n",
    "    dp = [0]*(n+1)\n",
    "    dp[2] = abs(H[2]-H[1])\n",
    "    dp[3] = min(abs(H[3]-H[2])+dp[2], abs(H[3]-H[1]))\n",
    "    for i in range(4,n+1):\n",
    "        dp[i] = min(abs(H[i]-H[i-1])+dp[i-1], abs(H[i]-H[i-2])+dp[i-2])\n",
    "    print(dp[n])\n",
    "else:\n",
    "    print(abs(H[2]-H[1]))"
   ]
  },
  {
   "cell_type": "code",
   "execution_count": null,
   "metadata": {},
   "outputs": [],
   "source": [
    "#B\n",
    "import sys\n",
    "input=sys.stdin.readline\n",
    "\n",
    "def main():\n",
    "    n, k = map(int,input().split())\n",
    "    H = [0] + list(map(int,input().split()))\n",
    "    \n",
    "    dp = [float('inf')]*(n+1)\n",
    "    dp[1] = 0\n",
    "    \n",
    "    for i in range(2,n+1):\n",
    "        for j in range(1,k+1):\n",
    "            if i-j <= 0:\n",
    "                continue\n",
    "            dp[i] = min(dp[i], abs(H[i]-H[i-j])+dp[i-j])\n",
    "    \n",
    "    #print(dp)        \n",
    "    print(dp[n])\n",
    "    \n",
    "if __name__ == '__main__':\n",
    "    main()"
   ]
  },
  {
   "cell_type": "code",
   "execution_count": null,
   "metadata": {},
   "outputs": [],
   "source": []
  },
  {
   "cell_type": "code",
   "execution_count": null,
   "metadata": {},
   "outputs": [],
   "source": []
  },
  {
   "cell_type": "code",
   "execution_count": null,
   "metadata": {},
   "outputs": [],
   "source": [
    "#E\n",
    "import sys\n",
    "input=sys.stdin.readline\n",
    "\n",
    "def main():\n",
    "    N, W = map(int,input().split())\n",
    "    WG = [0]\n",
    "    V = [0]\n",
    "    for i in range(N):\n",
    "        w, v = map(int,input().split())\n",
    "        WG.append(w)\n",
    "        V.append(v)\n",
    "    \n",
    "    dp = [[float('inf')]*(max(V)*N+1) for _ in range(N+1)]\n",
    "    dp[0][0] = 0\n",
    "    \n",
    "    for i in range(1,N+1):\n",
    "        for v in range(0,max(V)*N+1):\n",
    "            if v-V[i] < 0:\n",
    "                dp[i][v] = dp[i-1][v]\n",
    "                continue\n",
    "            dp[i][v] = min(dp[i-1][v], dp[i-1][v-V[i]]+WG[i])\n",
    "    \n",
    "    ans = 0\n",
    "    for i in range(max(V)*N+1):\n",
    "        if dp[N][i] <= W:\n",
    "            ans = i\n",
    "            \n",
    "    print(ans)\n",
    "    \n",
    "if __name__ == '__main__':\n",
    "    main()"
   ]
  }
 ],
 "metadata": {
  "kernelspec": {
   "display_name": "Python 3",
   "language": "python",
   "name": "python3"
  },
  "language_info": {
   "codemirror_mode": {
    "name": "ipython",
    "version": 3
   },
   "file_extension": ".py",
   "mimetype": "text/x-python",
   "name": "python",
   "nbconvert_exporter": "python",
   "pygments_lexer": "ipython3",
   "version": "3.7.8"
  }
 },
 "nbformat": 4,
 "nbformat_minor": 4
}
