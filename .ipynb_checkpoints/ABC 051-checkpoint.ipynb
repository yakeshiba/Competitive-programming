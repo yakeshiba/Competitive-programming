{
 "cells": [
  {
   "cell_type": "code",
   "execution_count": null,
   "metadata": {},
   "outputs": [],
   "source": [
    "#B\n",
    "k, s = map(int,input().split())\n",
    "\n",
    "ans = 0\n",
    "for x in range(0,k+1):\n",
    "    for y in range(0,s-x+1):\n",
    "        if y > k:\n",
    "            break\n",
    "        z = s-x-y\n",
    "        if 0<=z<=k:\n",
    "            ans += 1\n",
    "print(ans)"
   ]
  },
  {
   "cell_type": "code",
   "execution_count": null,
   "metadata": {},
   "outputs": [],
   "source": [
    "#C\n",
    "sx, sy, tx, ty = map(int,input().split())\n",
    "\n",
    "ans = \"U\"*(ty-sy)\n",
    "ans += \"R\"*(tx-sx)\n",
    "ans += \"D\"*(ty-sy)\n",
    "ans += \"L\"*(tx-sx)\n",
    "\n",
    "ans += \"L\"\n",
    "ans += \"U\"*(ty+1-sy)\n",
    "ans += \"R\"*(tx+1-sx)\n",
    "ans += \"DR\"\n",
    "ans += \"D\"*(ty-sy+1)\n",
    "ans += \"L\"*(tx-sx+1)\n",
    "ans += \"U\"\n",
    "\n",
    "print(ans)"
   ]
  }
 ],
 "metadata": {
  "kernelspec": {
   "display_name": "Python 3",
   "language": "python",
   "name": "python3"
  },
  "language_info": {
   "codemirror_mode": {
    "name": "ipython",
    "version": 3
   },
   "file_extension": ".py",
   "mimetype": "text/x-python",
   "name": "python",
   "nbconvert_exporter": "python",
   "pygments_lexer": "ipython3",
   "version": "3.7.8"
  }
 },
 "nbformat": 4,
 "nbformat_minor": 2
}
