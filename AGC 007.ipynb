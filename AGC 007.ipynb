{
 "cells": [
  {
   "cell_type": "code",
   "execution_count": 1,
   "metadata": {},
   "outputs": [
    {
     "name": "stdout",
     "output_type": "stream",
     "text": [
      "1\n"
     ]
    }
   ],
   "source": [
    "#A\n",
    "h,w = map(int,input().split())\n",
    "\n",
    "maze = [[0] for _ in range(h)]\n",
    "for i in range(h):\n",
    "    maze[i] = list(input())\n",
    "\n",
    "flag = True\n",
    "prev = 0\n",
    "for row in maze:\n",
    "    if \"#\" not in row:\n",
    "        flag = False\n",
    "        break\n",
    "    left = row.index(\"#\")\n",
    "    if prev != left:\n",
    "        flag = False\n",
    "        break\n",
    "    for r in range(left,w):\n",
    "        if row[r] == \"#\":\n",
    "            right = r\n",
    "        else:\n",
    "            break\n",
    "    check_r = w-1-row[::-1].index(\"#\")\n",
    "    if check_r != right:\n",
    "        flag = False\n",
    "        break\n",
    "    prev = right\n",
    "if flag:\n",
    "    print('Possible')\n",
    "else:\n",
    "    print('Impossible')"
   ]
  }
 ],
 "metadata": {
  "kernelspec": {
   "display_name": "Python 3",
   "language": "python",
   "name": "python3"
  },
  "language_info": {
   "codemirror_mode": {
    "name": "ipython",
    "version": 3
   },
   "file_extension": ".py",
   "mimetype": "text/x-python",
   "name": "python",
   "nbconvert_exporter": "python",
   "pygments_lexer": "ipython3",
   "version": "3.7.8"
  }
 },
 "nbformat": 4,
 "nbformat_minor": 4
}
