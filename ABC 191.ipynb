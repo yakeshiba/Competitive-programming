{
 "cells": [
  {
   "cell_type": "code",
   "execution_count": 1,
   "metadata": {},
   "outputs": [
    {
     "name": "stdout",
     "output_type": "stream",
     "text": [
      "30403609.83816833\n"
     ]
    }
   ],
   "source": [
    "from heapq import heapify, heappop, heappush\n",
    "def dij(start: int, node_num: int, edge: list) -> list:\n",
    "    d = [float(\"inf\")]*node_num\n",
    "    d[start] = 0\n",
    "    q = [(0,start)]\n",
    " \n",
    "    while len(q) != 0:\n",
    "        ci, i = heappop(q)\n",
    "        if d[i] < ci:\n",
    "            continue\n",
    "        for cj, j in edge[i]:\n",
    "            if d[j] > d[i] + cj:\n",
    "                d[j] = d[i] + cj\n",
    "                heappush(q, (d[j], j))\n",
    "    return d\n",
    "\n",
    "n, m = map(int,input().split())\n",
    "edge = [[] for _ in range(n)]\n",
    "inflist = [0]*n\n",
    "for i in range(m):\n",
    "    a, b, c = map(int,input().split())\n",
    "    edge[a-1].append([c,b-1])\n",
    "    if a == b:\n",
    "        inflist[a] = 1\n",
    "        \n",
    "for i in range(n):\n",
    "    if inflist[i] == 1:\n",
    "        continue\n",
    "    edge[i-1].append([float('inf'),i-1])\n",
    "    \n",
    "print(edge)\n",
    "    \n",
    "for j in range(n):\n",
    "    d = dij(j, n, edge)\n",
    "    print(d)\n",
    "    ans = d[j]\n",
    "    if ans == float('inf'):\n",
    "        print(-1)\n",
    "    else:\n",
    "        print(ans)\n"
   ]
  }
 ],
 "metadata": {
  "kernelspec": {
   "display_name": "Python 3",
   "language": "python",
   "name": "python3"
  },
  "language_info": {
   "codemirror_mode": {
    "name": "ipython",
    "version": 3
   },
   "file_extension": ".py",
   "mimetype": "text/x-python",
   "name": "python",
   "nbconvert_exporter": "python",
   "pygments_lexer": "ipython3",
   "version": "3.7.8"
  }
 },
 "nbformat": 4,
 "nbformat_minor": 4
}
