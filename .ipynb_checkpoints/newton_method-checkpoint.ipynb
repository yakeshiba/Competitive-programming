{
 "cells": [
  {
   "cell_type": "code",
   "execution_count": 10,
   "metadata": {},
   "outputs": [],
   "source": [
    "import numpy as np\n",
    "from scipy.optimize import minimize_scalar\n",
    "from scipy import linalg"
   ]
  },
  {
   "cell_type": "code",
   "execution_count": 1,
   "metadata": {},
   "outputs": [],
   "source": [
    "def f(x,y,z):\n",
    "    return ((x-2)*(x-4))*((y-1)**2)*((z-3)**2)"
   ]
  },
  {
   "cell_type": "code",
   "execution_count": 9,
   "metadata": {},
   "outputs": [],
   "source": [
    "def grad(x,y,z):\n",
    "    return [(2*x-6)*pow(y-1,2)*pow(z-3,2), 2*(x-2)*(x-4)*(y-1)*pow(z-3,2), 2*(x-2)*(x-4)*pow(y-1,2)*(z-3)]"
   ]
  },
  {
   "cell_type": "code",
   "execution_count": 6,
   "metadata": {},
   "outputs": [],
   "source": [
    "def H(x,y,z):\n",
    "    return [[2*pow(y-1,2)*pow(z-3,2),2*(2*x-6)*(y-1)*pow(z-3,2),(2*x-6)*pow(y-1,2)*(z-3)], [2*(2*x-6)*(y-1)*pow(z-3,2), 2*(x-2)*(x-4)*pow(z-3,2), 4*(x-2)*(x-4)*(y-1)*(z-3)], [2*(2*x-6)*pow(y-1,2)*(z-3), 4*(x-2)*(x-4)*(y-1)*(z-3), 2*(x-2)*(x-4)*pow(y-1,2)]]"
   ]
  },
  {
   "cell_type": "code",
   "execution_count": 61,
   "metadata": {},
   "outputs": [],
   "source": [
    "def modified_f(t,x,y,z):\n",
    "    p = np.dot(-linalg.inv(H(x,y,z)),np.array(grad(x,y,z)).T)\n",
    "    return f(x+t*p[0],y+t*p[1],z+t*p[2])\n",
    "\n",
    "def p(t,x,y,z):\n",
    "    pp = np.dot(-linalg.inv(H(x,y,z)),np.array(grad(x,y,z)).T)\n",
    "    return pp[0],pp[1],pp[2]"
   ]
  },
  {
   "cell_type": "code",
   "execution_count": 46,
   "metadata": {},
   "outputs": [
    {
     "name": "stdout",
     "output_type": "stream",
     "text": [
      "[ 0.         -6.33333333 -9.        ]\n",
      "16842816\n",
      "3326976.000000002\n"
     ]
    }
   ],
   "source": [
    "x,y,z = 10,20,30\n",
    "print(np.dot(-linalg.inv(H(x,y,z)),np.array(grad(x,y,z)).T))\n",
    "print(f(x,y,z))\n",
    "print(modified_f(x,y,z,1))"
   ]
  },
  {
   "cell_type": "code",
   "execution_count": 93,
   "metadata": {},
   "outputs": [
    {
     "name": "stdout",
     "output_type": "stream",
     "text": [
      "-3 9 4\n",
      "3.000000000027434\n",
      "3.0000000000274345\n",
      "3.0000000000274336\n",
      "3.000000000027433\n",
      "3.000000000027433\n",
      "3.000000000027435\n",
      "3.0000000000274323\n",
      "3.000000000027432\n",
      "3.0000000000274363\n",
      "3.000000000027431\n",
      "3.0000000000274336\n",
      "3.00000000002745\n",
      "-3.0000000000000027 1.0616587730340716 3.007707346629259\n",
      "5.6459827637423414e-06\n"
     ]
    }
   ],
   "source": [
    "x,y,z = -3, 9, 4\n",
    "print(x,y,z)\n",
    "while f(x,y,z) > 1e-5:\n",
    "    opt_t = minimize_scalar(modified_f, args=(x, y, z))\n",
    "    t = opt_t[\"x\"]\n",
    "    dx, dy, dz = p(t,x,y,z)\n",
    "    x += dx\n",
    "    y += dy\n",
    "    z += dz\n",
    "    print(t)\n",
    "    \n",
    "print(x,y,z)\n",
    "print(f(x,y,z))"
   ]
  }
 ],
 "metadata": {
  "kernelspec": {
   "display_name": "Python 3",
   "language": "python",
   "name": "python3"
  },
  "language_info": {
   "codemirror_mode": {
    "name": "ipython",
    "version": 3
   },
   "file_extension": ".py",
   "mimetype": "text/x-python",
   "name": "python",
   "nbconvert_exporter": "python",
   "pygments_lexer": "ipython3",
   "version": "3.7.8"
  }
 },
 "nbformat": 4,
 "nbformat_minor": 4
}
