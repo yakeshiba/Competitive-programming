{
 "cells": [
  {
   "cell_type": "code",
   "execution_count": null,
   "metadata": {},
   "outputs": [],
   "source": [
    "#A\n",
    "t = int(input())\n",
    "for _ in range(t):\n",
    "    S = input()\n",
    "    if S.count(\"a\") == len(S):\n",
    "        print(-1)\n",
    "    else:\n",
    "        atcoder = \"atcoder\"\n",
    "        if atcoder < S:\n",
    "            print(0)\n",
    "        else:\n",
    "            for i in range(len(S)):\n",
    "                if S[i] != \"a\":\n",
    "                    rep = 0\n",
    "                    if \"t\" < S[i]:\n",
    "                        rep = 1\n",
    "                    print(i-rep)\n",
    "                    break"
   ]
  }
 ],
 "metadata": {
  "kernelspec": {
   "display_name": "Python 3",
   "language": "python",
   "name": "python3"
  },
  "language_info": {
   "codemirror_mode": {
    "name": "ipython",
    "version": 3
   },
   "file_extension": ".py",
   "mimetype": "text/x-python",
   "name": "python",
   "nbconvert_exporter": "python",
   "pygments_lexer": "ipython3",
   "version": "3.7.8"
  }
 },
 "nbformat": 4,
 "nbformat_minor": 4
}
