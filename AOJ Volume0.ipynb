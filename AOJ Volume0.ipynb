{
 "cells": [
  {
   "cell_type": "code",
   "execution_count": null,
   "metadata": {},
   "outputs": [],
   "source": [
    "#Debt Hell\n",
    "n = int(input())\n",
    "\n",
    "d = 10**5\n",
    "for i in range(n):\n",
    "    d = d*1.05\n",
    "    m = d//1000\n",
    "    a = d%1000\n",
    "    d = 1000*m + 1000*(a >= 1)\n",
    "    \n",
    "print(int(d))"
   ]
  }
 ],
 "metadata": {
  "kernelspec": {
   "display_name": "Python 3",
   "language": "python",
   "name": "python3"
  },
  "language_info": {
   "codemirror_mode": {
    "name": "ipython",
    "version": 3
   },
   "file_extension": ".py",
   "mimetype": "text/x-python",
   "name": "python",
   "nbconvert_exporter": "python",
   "pygments_lexer": "ipython3",
   "version": "3.7.8"
  }
 },
 "nbformat": 4,
 "nbformat_minor": 4
}
