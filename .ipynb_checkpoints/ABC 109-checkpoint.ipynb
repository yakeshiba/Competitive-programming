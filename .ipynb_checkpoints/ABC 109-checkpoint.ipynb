{
 "cells": [
  {
   "cell_type": "code",
   "execution_count": null,
   "metadata": {},
   "outputs": [],
   "source": [
    "#D\n",
    "H,W = map(int,input().split())\n",
    "A = [None]*H\n",
    "for i in range(H):\n",
    "    A[i] = list(map(int,input().split()))\n",
    "\n",
    "ans = []\n",
    "for row in range(H):\n",
    "    for col in range(W):\n",
    "        #print(A)\n",
    "        #print((row+1,col+1),A[row][col])\n",
    "        if A[row][col]%2 == 0:\n",
    "            continue\n",
    "        try:#右にあげるとき\n",
    "            A[row][col+1] += 1\n",
    "            ans.append([row+1,col+1,row+1,col+2])\n",
    "        except IndexError:#右端のとき\n",
    "            if row+1 == H:#下にあげられないとき\n",
    "                continue#右にも下にもあげられないので何もしない\n",
    "            A[row+1][col] += 1\n",
    "            ans.append([row+1,col+1,row+2,col+1])\n",
    "#print(A)\n",
    "print(len(ans))\n",
    "for l in ans:\n",
    "    print(*l)"
   ]
  }
 ],
 "metadata": {
  "kernelspec": {
   "display_name": "Python 3",
   "language": "python",
   "name": "python3"
  },
  "language_info": {
   "codemirror_mode": {
    "name": "ipython",
    "version": 3
   },
   "file_extension": ".py",
   "mimetype": "text/x-python",
   "name": "python",
   "nbconvert_exporter": "python",
   "pygments_lexer": "ipython3",
   "version": "3.7.3"
  }
 },
 "nbformat": 4,
 "nbformat_minor": 2
}
