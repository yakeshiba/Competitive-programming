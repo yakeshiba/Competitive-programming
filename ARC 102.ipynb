{
 "cells": [
  {
   "cell_type": "code",
   "execution_count": null,
   "metadata": {},
   "outputs": [],
   "source": [
    "#C\n",
    "n, k = map(int,input().split())\n",
    "\n",
    "ans = 0\n",
    "#a,b,c = pk,qk,rk\n",
    "pk = n//k\n",
    "ans += pk**3\n",
    "\n",
    "#a,b,c = pk/2,qk/2,rk/2\n",
    "if k%2 == 0:\n",
    "    qk = n//(k//2) - pk\n",
    "    ans += qk**3\n",
    "\n",
    "print(ans)"
   ]
  }
 ],
 "metadata": {
  "kernelspec": {
   "display_name": "Python 3",
   "language": "python",
   "name": "python3"
  },
  "language_info": {
   "codemirror_mode": {
    "name": "ipython",
    "version": 3
   },
   "file_extension": ".py",
   "mimetype": "text/x-python",
   "name": "python",
   "nbconvert_exporter": "python",
   "pygments_lexer": "ipython3",
   "version": "3.7.3"
  }
 },
 "nbformat": 4,
 "nbformat_minor": 2
}
