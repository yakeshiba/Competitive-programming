{
 "cells": [
  {
   "cell_type": "code",
   "execution_count": null,
   "metadata": {},
   "outputs": [],
   "source": [
    "#C\n",
    "from collections import deque\n",
    "N = int(input())\n",
    "info = deque([])\n",
    "for i in range(N):\n",
    "    xx,yy,hh = map(int,input().split())\n",
    "    if hh != 0:\n",
    "        info.appendleft((xx,yy,hh))\n",
    "    else:\n",
    "        info.append((xx,yy,hh))\n",
    "\n",
    "for cx in range(0,101):\n",
    "    for cy in range(0,101):\n",
    "        H = 0\n",
    "        for x,y,h in info:\n",
    "            if H == 0:\n",
    "                H = h+abs(x-cx)+abs(y-cy)\n",
    "            else:\n",
    "                if h != max(H-abs(x-cx)-abs(y-cy),0):\n",
    "                    break\n",
    "        else:\n",
    "            print(cx,cy,H)\n",
    "            H = -1\n",
    "            break\n",
    "    if H == -1:\n",
    "        break"
   ]
  },
  {
   "cell_type": "code",
   "execution_count": 3,
   "metadata": {},
   "outputs": [
    {
     "name": "stdout",
     "output_type": "stream",
     "text": [
      "2 3\n",
      "1\n"
     ]
    }
   ],
   "source": [
    "#D\n",
    "import bisect\n",
    "N,M = map(int,input().split())\n",
    "\n",
    "def make_divisors(n):\n",
    "    from collections import deque\n",
    "    divisors = deque([])\n",
    "    for i in range(1, int(n**0.5)+1):\n",
    "        if n % i == 0:\n",
    "            divisors.append(i)\n",
    "            if i != n // i:\n",
    "                divisors.append(n//i)\n",
    "    lst_divisors = list(divisors)\n",
    "    lst_divisors.sort()\n",
    "    return lst_divisors\n",
    "\n",
    "y = make_divisors(M)\n",
    "\n",
    "ind = bisect.bisect_right(y,M//N)\n",
    "\n",
    "print(y[ind-1])"
   ]
  }
 ],
 "metadata": {
  "kernelspec": {
   "display_name": "Python 3",
   "language": "python",
   "name": "python3"
  },
  "language_info": {
   "codemirror_mode": {
    "name": "ipython",
    "version": 3
   },
   "file_extension": ".py",
   "mimetype": "text/x-python",
   "name": "python",
   "nbconvert_exporter": "python",
   "pygments_lexer": "ipython3",
   "version": "3.7.3"
  }
 },
 "nbformat": 4,
 "nbformat_minor": 2
}
