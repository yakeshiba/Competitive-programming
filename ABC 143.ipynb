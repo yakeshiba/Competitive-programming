{
 "cells": [
  {
   "cell_type": "code",
   "execution_count": 2,
   "metadata": {},
   "outputs": [
    {
     "name": "stdout",
     "output_type": "stream",
     "text": [
      "12 4\n",
      "4\n"
     ]
    }
   ],
   "source": [
    "#A\n",
    "A,B = map(int,input().split())\n",
    "ans = A - 2*B\n",
    "if ans < 0:\n",
    "    print(0)\n",
    "else:\n",
    "    print(ans)"
   ]
  },
  {
   "cell_type": "code",
   "execution_count": 4,
   "metadata": {},
   "outputs": [
    {
     "name": "stdout",
     "output_type": "stream",
     "text": [
      "7\n",
      "5 0 7 8 3 3 2\n",
      "312\n"
     ]
    }
   ],
   "source": [
    "#B\n",
    "N = int(input())\n",
    "D = list(map(int,input().split()))\n",
    "ans = 0\n",
    "for i in range(N):\n",
    "    for j in range(i+1,N):\n",
    "        ans += D[i]*D[j]\n",
    "print(ans)"
   ]
  },
  {
   "cell_type": "code",
   "execution_count": 6,
   "metadata": {},
   "outputs": [
    {
     "name": "stdout",
     "output_type": "stream",
     "text": [
      "20\n",
      "xxzaffeeeeddfkkkkllq\n",
      "10\n"
     ]
    }
   ],
   "source": [
    "#C\n",
    "N = int(input())\n",
    "S = input()\n",
    "previous = S[0]\n",
    "ans = 1\n",
    "for i in range(1,N):\n",
    "    if S[i] != previous:\n",
    "        ans += 1\n",
    "        previous = S[i]\n",
    "print(ans)"
   ]
  },
  {
   "cell_type": "code",
   "execution_count": 26,
   "metadata": {},
   "outputs": [
    {
     "name": "stdout",
     "output_type": "stream",
     "text": [
      "4\n",
      "3 4 2 1\n",
      "1\n"
     ]
    }
   ],
   "source": [
    "#D\n",
    "import bisect\n",
    "#N本の棒は互いに区別できる（問題文より）\n",
    "N = int(input())\n",
    "L = list(map(int,input().split()))\n",
    "L.sort()\n",
    "ans = 0\n",
    "#print(L)\n",
    "for i in range(N-2):\n",
    "    for j in range(i+1,N-1):\n",
    "        left = bisect.bisect_left(L[j+1:],abs(L[i]-L[j])+1)\n",
    "        right = bisect.bisect_right(L[j+1:],L[i]+L[j]-1)\n",
    "        #print(\"left=\",left,\"right=\",right)\n",
    "        if right-left>0:\n",
    "            ans += right-left\n",
    "print(ans)        "
   ]
  },
  {
   "cell_type": "code",
   "execution_count": 16,
   "metadata": {},
   "outputs": [
    {
     "name": "stdout",
     "output_type": "stream",
     "text": [
      "[3, 4]\n"
     ]
    }
   ],
   "source": [
    "import bisect\n",
    "#N本の棒は互いに区別できる（問題文より）\n",
    "N = int(input())\n",
    "L = list(map(int,input().split()))\n",
    "L.sort()\n",
    "ans = 0\n",
    "#print(L)\n",
    "for i in range(N-2):\n",
    "    for j in range(i+1,N-1):\n",
    "        ab = L[i]+L[j]\n",
    "        val_less_ab = bisect.bisect_left(L,ab)\n",
    "        ans += max(0,val_less_ab-(j+1))\n",
    "print(ans)        "
   ]
  }
 ],
 "metadata": {
  "kernelspec": {
   "display_name": "Python 3",
   "language": "python",
   "name": "python3"
  },
  "language_info": {
   "codemirror_mode": {
    "name": "ipython",
    "version": 3
   },
   "file_extension": ".py",
   "mimetype": "text/x-python",
   "name": "python",
   "nbconvert_exporter": "python",
   "pygments_lexer": "ipython3",
   "version": "3.7.3"
  }
 },
 "nbformat": 4,
 "nbformat_minor": 2
}
