{
 "cells": [
  {
   "cell_type": "code",
   "execution_count": null,
   "metadata": {},
   "outputs": [],
   "source": [
    "S = input()\n",
    "T = input()\n",
    "\n",
    "d = {}#key:もう変更できない\n",
    "\n",
    "for i in range(len(S)):\n",
    "    #print(S[i],\"to\",T[i])\n",
    "    if S[i] not in d:\n",
    "        if T[i] in d.values():\n",
    "            print('No')\n",
    "            break\n",
    "        else:\n",
    "            d[S[i]] = T[i]\n",
    "    else:\n",
    "        if d[S[i]] != T[i]:\n",
    "            print('No')\n",
    "            break\n",
    "    #print(d)\n",
    "else:\n",
    "    print('Yes')"
   ]
  }
 ],
 "metadata": {
  "kernelspec": {
   "display_name": "Python 3",
   "language": "python",
   "name": "python3"
  },
  "language_info": {
   "codemirror_mode": {
    "name": "ipython",
    "version": 3
   },
   "file_extension": ".py",
   "mimetype": "text/x-python",
   "name": "python",
   "nbconvert_exporter": "python",
   "pygments_lexer": "ipython3",
   "version": "3.7.3"
  }
 },
 "nbformat": 4,
 "nbformat_minor": 2
}
