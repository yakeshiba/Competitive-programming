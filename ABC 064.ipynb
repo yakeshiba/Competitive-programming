{
 "cells": [
  {
   "cell_type": "code",
   "execution_count": 2,
   "metadata": {},
   "outputs": [
    {
     "name": "stdout",
     "output_type": "stream",
     "text": [
      "2 3 4\n",
      "N\n"
     ]
    }
   ],
   "source": [
    "#A\n",
    "r,g,b = input().split()\n",
    "if int(r+g+b)%4 == 0:\n",
    "    print('YES')\n",
    "else:\n",
    "    print('NO')"
   ]
  },
  {
   "cell_type": "code",
   "execution_count": null,
   "metadata": {},
   "outputs": [],
   "source": [
    "#B\n",
    "N = int(input())\n",
    "A = list(map(int,input().split()))\n",
    "A.sort()\n",
    "print(A[-1]-A[0])"
   ]
  },
  {
   "cell_type": "code",
   "execution_count": null,
   "metadata": {},
   "outputs": [],
   "source": [
    "#C\n",
    "N = int(input())\n",
    "A = list(map(int,input().split()))\n",
    "A.sort()\n",
    "\n",
    "colors = []\n",
    "\n",
    "maximum = 0\n",
    "minimum = 0\n",
    "for a in A:\n",
    "    color = a//400\n",
    "    if color < 8:\n",
    "        if color not in colors:\n",
    "            colors.append(color)\n",
    "            maximum += 1\n",
    "            minimum += 1\n",
    "        else:\n",
    "            pass\n",
    "    else:\n",
    "        maximum += 1\n",
    "        if minimum == 0:\n",
    "            minimum += 1\n",
    "print(minimum,maximum)"
   ]
  },
  {
   "cell_type": "code",
   "execution_count": null,
   "metadata": {},
   "outputs": [],
   "source": [
    "#D\n",
    "from collections import deque\n",
    "\n",
    "N = int(input())\n",
    "S = input()\n",
    "\n",
    "ans = deque([])\n",
    "emp = deque([])\n",
    "for s in S[::-1]:\n",
    "    if s == \")\":\n",
    "        ans.append('(')\n",
    "    else:\n",
    "        if ans:\n",
    "            ans.pop()\n",
    "        else:\n",
    "            emp.append(')')\n",
    "ans = list(ans)\n",
    "emp = list(emp)\n",
    "print(\"\".join(ans)+S+\"\".join(emp))"
   ]
  }
 ],
 "metadata": {
  "kernelspec": {
   "display_name": "Python 3",
   "language": "python",
   "name": "python3"
  },
  "language_info": {
   "codemirror_mode": {
    "name": "ipython",
    "version": 3
   },
   "file_extension": ".py",
   "mimetype": "text/x-python",
   "name": "python",
   "nbconvert_exporter": "python",
   "pygments_lexer": "ipython3",
   "version": "3.7.3"
  }
 },
 "nbformat": 4,
 "nbformat_minor": 2
}
