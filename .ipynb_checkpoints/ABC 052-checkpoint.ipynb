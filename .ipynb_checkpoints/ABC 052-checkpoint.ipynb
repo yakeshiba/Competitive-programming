{
 "cells": [
  {
   "cell_type": "code",
   "execution_count": 2,
   "metadata": {},
   "outputs": [
    {
     "name": "stdout",
     "output_type": "stream",
     "text": [
      "3\n",
      "2\n",
      "3\n"
     ]
    }
   ],
   "source": [
    "#C\n",
    "N = int(input())\n",
    "\n",
    "def factorization(n):\n",
    "    arr = []\n",
    "    temp = n\n",
    "    for i in range(2, int(-(-n**0.5//1))+1):\n",
    "        if temp%i==0:\n",
    "            cnt=0\n",
    "            while temp%i==0:\n",
    "                cnt+=1\n",
    "                temp //= i\n",
    "            arr.append([i, cnt])\n",
    "\n",
    "    if temp!=1:\n",
    "        arr.append([temp, 1])\n",
    "\n",
    "    if arr==[]:\n",
    "        arr.append([n, 1])\n",
    "\n",
    "    return arr\n",
    "\n",
    "p_factors = {}\n",
    "\n",
    "for i in range(2,N+1):\n",
    "    tmp = factorization(i)\n",
    "    for key in tmp:\n",
    "        if key not in p_factors:\n",
    "            p_factors[key] = 1\n",
    "        else:\n",
    "            p_factors[key] += 1\n",
    "\n",
    "ans = 1\n",
    "for val in p_factors.values():\n",
    "    ans *= val+1\n",
    "print(ans)"
   ]
  },
  {
   "cell_type": "code",
   "execution_count": null,
   "metadata": {},
   "outputs": [],
   "source": [
    "#D\n",
    "import numpy as np\n",
    "\n",
    "N,A,B = map(int,input().split())\n",
    "X = list(map(int,input().split()))\n",
    "dist = [None]*(N-1)\n",
    "for i in range(N-1):\n",
    "    dist[i] = X[i+1]-X[i]\n",
    "ans = 0\n",
    "for d in dist:\n",
    "    if A*d < B:\n",
    "        ans += A*d\n",
    "    else:\n",
    "        ans += B\n",
    "print(ans)"
   ]
  }
 ],
 "metadata": {
  "kernelspec": {
   "display_name": "Python 3",
   "language": "python",
   "name": "python3"
  },
  "language_info": {
   "codemirror_mode": {
    "name": "ipython",
    "version": 3
   },
   "file_extension": ".py",
   "mimetype": "text/x-python",
   "name": "python",
   "nbconvert_exporter": "python",
   "pygments_lexer": "ipython3",
   "version": "3.7.3"
  }
 },
 "nbformat": 4,
 "nbformat_minor": 2
}
