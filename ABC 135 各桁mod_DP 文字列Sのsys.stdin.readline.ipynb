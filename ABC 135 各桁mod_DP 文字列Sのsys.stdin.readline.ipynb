{
 "cells": [
  {
   "cell_type": "code",
   "execution_count": 4,
   "metadata": {},
   "outputs": [
    {
     "name": "stdout",
     "output_type": "stream",
     "text": [
      "?44\n",
      "1291329\n"
     ]
    }
   ],
   "source": [
    "#D 写経したけど謎\n",
    "import sys\n",
    "input=sys.stdin.readline\n",
    "\n",
    "mod = 10**9+7\n",
    "\n",
    "def main():\n",
    "    S = input().replace('\\n', '')\n",
    "    dp = [[0]*13 for _ in range(len(S)+1)]#i-1桁目までのあまりjの個数\n",
    "    \n",
    "    dp[0][0] = 1\n",
    "\n",
    "    for i,s in enumerate(S):\n",
    "        if s == \"?\":\n",
    "            for hatena in range(10):#?に０～９を代入\n",
    "                for n in range(13):\n",
    "                    now = (hatena+n*10)%13#10掛けるのは何？\n",
    "                    dp[i+1][now] += dp[i][n]\n",
    "                    dp[i+1][now] %= mod\n",
    "        else:\n",
    "            for n in range(13):#sが足された結果のあまりが０～１２\n",
    "                now = (int(s)+10*n)%13\n",
    "                dp[i+1][now] += dp[i][n]\n",
    "                dp[i+1][now] %= mod\n",
    "        #print(dp)\n",
    "    print(dp[len(S)][5])\n",
    "    \n",
    "if __name__ == '__main__':\n",
    "    main()"
   ]
  },
  {
   "cell_type": "code",
   "execution_count": null,
   "metadata": {},
   "outputs": [],
   "source": [
    "S=input()\n",
    " \n",
    "digit_mod13 = 1\n",
    "pats = [0]*13\n",
    "buf = [0]*13\n",
    " \n",
    "pats[0] = 1\n",
    "N = len(S)\n",
    "for i in range(N):\n",
    "    if S[N-1-i] == '?':\n",
    "        for k in range(10):\n",
    "            zurasu = (k*digit_mod13) % 13\n",
    "            # print(k*digit_mod13, zurasu)\n",
    "            for j in range(13):\n",
    "                buf[(j+zurasu)%13] += pats[j]\n",
    "        for j in range(13):\n",
    "            pats[j] = buf[j] % DVSR\n",
    "        # flush\n",
    "        for j in range(13):\n",
    "            buf[j] = 0\n",
    "    else:\n",
    "        zurasu = (int(S[N-1-i])*digit_mod13) % 13\n",
    "        for j in range(13):\n",
    "            buf[(j+zurasu)%13] += pats[j]\n",
    "        for j in range(13):\n",
    "            pats[j] = buf[j]\n",
    "        # flush\n",
    "        for j in range(13):\n",
    "            buf[j] = 0\n",
    " \n",
    "    digit_mod13 = (digit_mod13*10) % 13\n",
    "\n",
    "print(pats[5])"
   ]
  }
 ],
 "metadata": {
  "kernelspec": {
   "display_name": "Python 3",
   "language": "python",
   "name": "python3"
  },
  "language_info": {
   "codemirror_mode": {
    "name": "ipython",
    "version": 3
   },
   "file_extension": ".py",
   "mimetype": "text/x-python",
   "name": "python",
   "nbconvert_exporter": "python",
   "pygments_lexer": "ipython3",
   "version": "3.7.3"
  }
 },
 "nbformat": 4,
 "nbformat_minor": 2
}
