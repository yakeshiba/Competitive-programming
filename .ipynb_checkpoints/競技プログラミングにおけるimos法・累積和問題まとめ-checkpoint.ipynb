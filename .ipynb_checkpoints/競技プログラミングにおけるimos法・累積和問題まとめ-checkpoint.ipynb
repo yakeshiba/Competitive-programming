{
 "cells": [
  {
   "cell_type": "markdown",
   "metadata": {},
   "source": [
    "# 累積和"
   ]
  },
  {
   "cell_type": "code",
   "execution_count": null,
   "metadata": {},
   "outputs": [],
   "source": []
  },
  {
   "cell_type": "markdown",
   "metadata": {},
   "source": [
    "# imos法"
   ]
  },
  {
   "cell_type": "code",
   "execution_count": null,
   "metadata": {},
   "outputs": [],
   "source": [
    "#ABC035 オセロ\n",
    "import itertools\n",
    "N,Q = map(int,input().split())\n",
    "\n",
    "othello = [0]*N\n",
    "\n",
    "for _ in range(Q):\n",
    "    l, r = map(int,input().split())\n",
    "    othello[l-1] += 1\n",
    "    if (r-1)+1 < N:\n",
    "        othello[(r-1)+1] -= 1\n",
    "\n",
    "cumsum = list(itertools.accumulate(othello))\n",
    "print(*list(map(lambda x:x%2, cumsum)),sep=\"\")"
   ]
  },
  {
   "cell_type": "code",
   "execution_count": null,
   "metadata": {},
   "outputs": [],
   "source": [
    "#AOJ 予約システム\n",
    "import itertools\n",
    "\n",
    "a,b = map(int,input().split())\n",
    "\n",
    "N = int(input())\n",
    "reserved = [0]*1001\n",
    "for _ in range(N):\n",
    "    s, f = map(int,input().split())\n",
    "    reserved[s] += 1\n",
    "    reserved[f] -= 1\n",
    "\n",
    "cumsum = list(itertools.accumulate(reserved))\n",
    "\n",
    "#print(cumsum)\n",
    "\n",
    "if sum(cumsum[a:b]):\n",
    "    print(1)\n",
    "else:\n",
    "    print(0)"
   ]
  },
  {
   "cell_type": "code",
   "execution_count": null,
   "metadata": {},
   "outputs": [],
   "source": [
    "#AOJ 大崎\n",
    "import itertools\n",
    "while True:\n",
    "    n = int(input())\n",
    "    if n == 0:\n",
    "        break\n",
    "    time = [0]*(60*60*24)\n",
    "    for _ in range(n):\n",
    "        h, c = input().split()\n",
    "        l = 60*60*int(h[0:2]) + 60*int(h[3:5]) + int(h[6:8])\n",
    "        r = 60*60*int(c[0:2]) + 60*int(c[3:5]) + int(c[6:8])\n",
    "        time[l] += 1\n",
    "        time[r] -= 1\n",
    "    cumsum = list(itertools.accumulate(time))\n",
    "    print(max(cumsum))"
   ]
  },
  {
   "cell_type": "code",
   "execution_count": null,
   "metadata": {},
   "outputs": [],
   "source": [
    "#CF179 Greg and Array\n",
    "import itertools\n",
    "import sys\n",
    "input = sys.stdin.readline\n",
    "\n",
    "def main(args):\n",
    "    n, m, k = map(int,input().split())\n",
    "    a = list(map(int,input().split()))\n",
    "    op = [0]*m\n",
    "    query = [0]*m\n",
    "    plus = [0]*n\n",
    "    \n",
    "    for i in range(m):\n",
    "        l, r, d = map(int,input().split())\n",
    "        op[i] = (l-1, r-1, d)\n",
    "    \n",
    "    for q in range(k):\n",
    "        x,y = map(lambda x:int(x)-1,input().split())\n",
    "        query[x] += 1\n",
    "        if y+1 < m:\n",
    "            query[y+1] -= 1\n",
    "    \n",
    "    s = 0\n",
    "    for i in range(m):\n",
    "        l, r, d = op[i]\n",
    "        s += query[i]\n",
    "        plus[l] += s*d\n",
    "        if r+1 < n:\n",
    "            plus[r+1] -= s*d\n",
    "    \n",
    "    s = 0\n",
    "    for i in range(n):\n",
    "        s += plus[i]\n",
    "        a[i] += s\n",
    "    \n",
    "    print(*a)\n",
    "\n",
    "if __name__ == '__main__':\n",
    "    main(sys.argv[1:])"
   ]
  },
  {
   "cell_type": "code",
   "execution_count": null,
   "metadata": {},
   "outputs": [],
   "source": []
  }
 ],
 "metadata": {
  "kernelspec": {
   "display_name": "Python 3",
   "language": "python",
   "name": "python3"
  },
  "language_info": {
   "codemirror_mode": {
    "name": "ipython",
    "version": 3
   },
   "file_extension": ".py",
   "mimetype": "text/x-python",
   "name": "python",
   "nbconvert_exporter": "python",
   "pygments_lexer": "ipython3",
   "version": "3.7.3"
  }
 },
 "nbformat": 4,
 "nbformat_minor": 2
}
