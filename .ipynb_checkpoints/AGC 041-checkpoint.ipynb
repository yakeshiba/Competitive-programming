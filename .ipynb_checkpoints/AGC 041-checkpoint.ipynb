{
 "cells": [
  {
   "cell_type": "code",
   "execution_count": 35,
   "metadata": {},
   "outputs": [
    {
     "name": "stdout",
     "output_type": "stream",
     "text": [
      "821 70 481\n",
      "69\n"
     ]
    }
   ],
   "source": [
    "#A WA\n",
    "N,A,B = map(int,input().split())\n",
    "if (A+B)%2 == 0:\n",
    "    print(int(abs(A-(A+B)//2)))\n",
    "else:\n",
    "    print(min(min(A,B)-1,N-max(A,B)))"
   ]
  }
 ],
 "metadata": {
  "kernelspec": {
   "display_name": "Python 3",
   "language": "python",
   "name": "python3"
  },
  "language_info": {
   "codemirror_mode": {
    "name": "ipython",
    "version": 3
   },
   "file_extension": ".py",
   "mimetype": "text/x-python",
   "name": "python",
   "nbconvert_exporter": "python",
   "pygments_lexer": "ipython3",
   "version": "3.7.3"
  }
 },
 "nbformat": 4,
 "nbformat_minor": 2
}
