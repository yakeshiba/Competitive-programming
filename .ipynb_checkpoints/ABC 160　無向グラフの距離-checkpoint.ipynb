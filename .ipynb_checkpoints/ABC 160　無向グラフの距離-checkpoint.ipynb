{
 "cells": [
  {
   "cell_type": "code",
   "execution_count": 1,
   "metadata": {},
   "outputs": [
    {
     "name": "stdout",
     "output_type": "stream",
     "text": [
      "coffee\n",
      "Yes\n"
     ]
    }
   ],
   "source": [
    "#A\n",
    "S = input()\n",
    "if S[2] == S[3] and S[4] == S[5]:\n",
    "    print('Yes')\n",
    "else:\n",
    "    print('No')"
   ]
  },
  {
   "cell_type": "code",
   "execution_count": 5,
   "metadata": {},
   "outputs": [
    {
     "name": "stdout",
     "output_type": "stream",
     "text": [
      "1000000000\n",
      "2000000000\n"
     ]
    }
   ],
   "source": [
    "#B\n",
    "X = int(input())\n",
    "f = X//500\n",
    "X -= 500*f\n",
    "res = X//5\n",
    "print(1000*f+5*res)"
   ]
  },
  {
   "cell_type": "code",
   "execution_count": 6,
   "metadata": {},
   "outputs": [
    {
     "name": "stdout",
     "output_type": "stream",
     "text": [
      "3 5\n",
      "2 3 4 5\n",
      "2\n"
     ]
    }
   ],
   "source": [
    "#C\n",
    "k, n = map(int,input().split())\n",
    "a = list(map(int,input().split()))\n",
    "a.append(a[0]+k)\n",
    "max_d = 0\n",
    "for i in range(n):\n",
    "    max_d = max(max_d,a[i+1]-a[i])\n",
    "print(k-max_d)"
   ]
  },
  {
   "cell_type": "code",
   "execution_count": 7,
   "metadata": {},
   "outputs": [
    {
     "name": "stdout",
     "output_type": "stream",
     "text": [
      "a\n"
     ]
    },
    {
     "ename": "ValueError",
     "evalue": "invalid literal for int() with base 10: 'a'",
     "output_type": "error",
     "traceback": [
      "\u001b[1;31m---------------------------------------------------------------------------\u001b[0m",
      "\u001b[1;31mValueError\u001b[0m                                Traceback (most recent call last)",
      "\u001b[1;32m<ipython-input-7-476133474737>\u001b[0m in \u001b[0;36m<module>\u001b[1;34m\u001b[0m\n\u001b[0;32m      1\u001b[0m \u001b[1;31m#D\u001b[0m\u001b[1;33m\u001b[0m\u001b[1;33m\u001b[0m\u001b[1;33m\u001b[0m\u001b[0m\n\u001b[0;32m      2\u001b[0m \u001b[1;32mfrom\u001b[0m \u001b[0mcollections\u001b[0m \u001b[1;32mimport\u001b[0m \u001b[0mdeque\u001b[0m\u001b[1;33m\u001b[0m\u001b[1;33m\u001b[0m\u001b[0m\n\u001b[1;32m----> 3\u001b[1;33m \u001b[0mN\u001b[0m\u001b[1;33m,\u001b[0m\u001b[0mx\u001b[0m\u001b[1;33m,\u001b[0m\u001b[0my\u001b[0m \u001b[1;33m=\u001b[0m \u001b[0mmap\u001b[0m\u001b[1;33m(\u001b[0m\u001b[0mint\u001b[0m\u001b[1;33m,\u001b[0m\u001b[0minput\u001b[0m\u001b[1;33m(\u001b[0m\u001b[1;33m)\u001b[0m\u001b[1;33m.\u001b[0m\u001b[0msplit\u001b[0m\u001b[1;33m(\u001b[0m\u001b[1;33m)\u001b[0m\u001b[1;33m)\u001b[0m\u001b[1;33m\u001b[0m\u001b[1;33m\u001b[0m\u001b[0m\n\u001b[0m\u001b[0;32m      4\u001b[0m \u001b[1;33m\u001b[0m\u001b[0m\n\u001b[0;32m      5\u001b[0m \u001b[0medge\u001b[0m \u001b[1;33m=\u001b[0m \u001b[1;33m[\u001b[0m\u001b[1;33m[\u001b[0m\u001b[1;33m]\u001b[0m \u001b[1;32mfor\u001b[0m \u001b[0m_\u001b[0m \u001b[1;32min\u001b[0m \u001b[0mrange\u001b[0m\u001b[1;33m(\u001b[0m\u001b[0mN\u001b[0m\u001b[1;33m)\u001b[0m\u001b[1;33m]\u001b[0m\u001b[1;33m\u001b[0m\u001b[1;33m\u001b[0m\u001b[0m\n",
      "\u001b[1;31mValueError\u001b[0m: invalid literal for int() with base 10: 'a'"
     ]
    }
   ],
   "source": [
    "#D\n",
    "import sys\n",
    "input = sys.stdin.readline\n",
    "sys.setrecursionlimit(10**9)\n",
    "from collections import deque\n",
    "def main():\n",
    "    N,x,y = map(int,input().split())\n",
    "    \n",
    "    edge = [[] for _ in range(N)]\n",
    "    for i in range(N-1):#辺の数はN-1本\n",
    "        edge[i].append(i+1)\n",
    "        edge[i+1].append(i)\n",
    "    edge[x-1].append(y-1)\n",
    "    edge[y-1].append(x-1)\n",
    "    \n",
    "    distance = [0]*N\n",
    "    #print(edge)\n",
    "    for i in range(N):\n",
    "        #print(i,\"回目\")\n",
    "        tmp = [-1]*N#根iからの最短距離\n",
    "        tmp[i] = 0\n",
    "        \n",
    "        q = deque([i])\n",
    "        while q:\n",
    "            now = q.popleft()#今注目しているエッジ（元のエッジ）の番号\n",
    "            #print(now)\n",
    "            for v in edge[now]:\n",
    "                if tmp[v] != -1:\n",
    "                    tmp[v] = min(tmp[v],tmp[now]+1)\n",
    "                    continue\n",
    "                tmp[v] = tmp[now] + 1\n",
    "                q.append(v)\n",
    "        for c in tmp:\n",
    "            distance[c] += 1\n",
    "        #print(tmp)\n",
    "    for i in range(N-1):\n",
    "        print(distance[i+1]//2)\n",
    "if __name__ == '__main__':\n",
    "    main()"
   ]
  },
  {
   "cell_type": "code",
   "execution_count": null,
   "metadata": {},
   "outputs": [],
   "source": [
    "#E\n",
    "import sys\n",
    "input=sys.stdin.readline\n",
    "def main():\n",
    "    x,y,a,b,c = map(int,input().split())\n",
    "    P = list(map(int,input().split()))\n",
    "    Q = list(map(int,input().split()))\n",
    "    R = list(map(int,input().split()))\n",
    "    P.sort(reverse=True)\n",
    "    Q.sort(reverse=True)\n",
    "    R.sort(reverse=True)\n",
    "    \n",
    "    ans = 0\n",
    "    \n",
    "    red = 0\n",
    "    green = 0\n",
    "    white = 0\n",
    "    \n",
    "    for i in range(x+y):\n",
    "        try:\n",
    "            r = P[red]\n",
    "            if red > x-1:\n",
    "                r = 0\n",
    "        except IndexError:\n",
    "            r = 0\n",
    "        \n",
    "        try:\n",
    "            g = Q[green]\n",
    "            if green > y-1:\n",
    "                g = 0\n",
    "        except IndexError:\n",
    "            g = 0\n",
    "        \n",
    "        try:\n",
    "            w = R[white]\n",
    "        except IndexError:\n",
    "            w = 0\n",
    "        \n",
    "        choice = max(r,g,w)\n",
    "        #print(red,green,white)\n",
    "        \n",
    "        if choice == r:\n",
    "            red += 1\n",
    "        elif choice == g:\n",
    "            green += 1\n",
    "        elif choice == w:\n",
    "            white += 1\n",
    "        \n",
    "        ans += choice\n",
    "        \n",
    "    print(ans)\n",
    "if __name__ == '__main__':\n",
    "    main()"
   ]
  },
  {
   "cell_type": "code",
   "execution_count": 8,
   "metadata": {},
   "outputs": [
    {
     "name": "stdout",
     "output_type": "stream",
     "text": [
      "1\n"
     ]
    }
   ],
   "source": [
    "a = [1]\n",
    "print(a[0])"
   ]
  }
 ],
 "metadata": {
  "kernelspec": {
   "display_name": "Python 3",
   "language": "python",
   "name": "python3"
  },
  "language_info": {
   "codemirror_mode": {
    "name": "ipython",
    "version": 3
   },
   "file_extension": ".py",
   "mimetype": "text/x-python",
   "name": "python",
   "nbconvert_exporter": "python",
   "pygments_lexer": "ipython3",
   "version": "3.7.3"
  }
 },
 "nbformat": 4,
 "nbformat_minor": 2
}
