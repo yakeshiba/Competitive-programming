{
 "cells": [
  {
   "cell_type": "code",
   "execution_count": null,
   "metadata": {},
   "outputs": [],
   "source": [
    "n = int(input())\n",
    "h = int(input())\n",
    "print(n*h)"
   ]
  },
  {
   "cell_type": "code",
   "execution_count": null,
   "metadata": {},
   "outputs": [],
   "source": [
    "S = input()\n",
    "times = len(S)//10\n",
    "for i in range(times):\n",
    "    print(S[i*10:i*10+10])\n",
    "print(S[times*10:])"
   ]
  },
  {
   "cell_type": "markdown",
   "metadata": {},
   "source": [
    "# D091 花粉の予防"
   ]
  },
  {
   "cell_type": "code",
   "execution_count": 1,
   "metadata": {},
   "outputs": [
    {
     "name": "stdout",
     "output_type": "stream",
     "text": [
      "1 1 3 4 5 4 4 2 3 1\n",
      "4\n"
     ]
    }
   ],
   "source": [
    "A = list(map(int,input().split()))\n",
    "ans = 0\n",
    "for i in A:\n",
    "    if i <= 2:\n",
    "        ans = ans + 1\n",
    "print(ans)"
   ]
  },
  {
   "cell_type": "code",
   "execution_count": 2,
   "metadata": {},
   "outputs": [
    {
     "name": "stdout",
     "output_type": "stream",
     "text": [
      "1 1 3 4 5 4 4 2 3 1\n",
      "4\n"
     ]
    }
   ],
   "source": [
    "A = list(map(int,input().split()))\n",
    "ans = [1 for i in A if i <= 2]\n",
    "print(sum(ans))"
   ]
  },
  {
   "cell_type": "code",
   "execution_count": 3,
   "metadata": {},
   "outputs": [
    {
     "name": "stdout",
     "output_type": "stream",
     "text": [
      "1 1 3 4 5 4 4 2 3 1\n",
      "4\n"
     ]
    }
   ],
   "source": [
    "A = list(map(int,input().split()))\n",
    "print(A.count(1)+A.count(2))#この問題の条件より，「２以下」が「１」と「２」だけなのでこれでもOK"
   ]
  }
 ],
 "metadata": {
  "kernelspec": {
   "display_name": "Python 3",
   "language": "python",
   "name": "python3"
  },
  "language_info": {
   "codemirror_mode": {
    "name": "ipython",
    "version": 3
   },
   "file_extension": ".py",
   "mimetype": "text/x-python",
   "name": "python",
   "nbconvert_exporter": "python",
   "pygments_lexer": "ipython3",
   "version": "3.7.3"
  }
 },
 "nbformat": 4,
 "nbformat_minor": 2
}
