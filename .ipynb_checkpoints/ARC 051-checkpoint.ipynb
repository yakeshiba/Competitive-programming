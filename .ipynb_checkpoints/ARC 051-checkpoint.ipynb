{
 "cells": [
  {
   "cell_type": "code",
   "execution_count": null,
   "metadata": {},
   "outputs": [],
   "source": [
    "#A\n",
    "x1, y1, R = map(int,input().split())\n",
    "x2, y2, x3, y3 = map(int,input().split())\n",
    "\n",
    "u = y1+R\n",
    "d = y1-R\n",
    "r = x1+R\n",
    "l = x1-R\n",
    "\n",
    "def exist_red():\n",
    "    if x2 <= l and r <= x3 and y2 <= d and y3 >= u:\n",
    "        return False\n",
    "    return True\n",
    "\n",
    "def exist_blue():\n",
    "    lx = [x2,x3,x2,x3]\n",
    "    ly = [y2,y2,y3,y3]\n",
    "    bad_cnt = 0\n",
    "    for xx,yy in zip(lx,ly):\n",
    "        if ((xx-x1)**2+(yy-y1)**2)**0.5 <= R:\n",
    "            bad_cnt += 1\n",
    "    if bad_cnt == 4:\n",
    "        return False\n",
    "    return True\n",
    "\n",
    "if exist_red():\n",
    "    print('YES')\n",
    "else:\n",
    "    print('NO')\n",
    "\n",
    "if exist_blue():\n",
    "    print('YES')\n",
    "else:\n",
    "    print('NO')"
   ]
  }
 ],
 "metadata": {
  "kernelspec": {
   "display_name": "Python 3",
   "language": "python",
   "name": "python3"
  },
  "language_info": {
   "codemirror_mode": {
    "name": "ipython",
    "version": 3
   },
   "file_extension": ".py",
   "mimetype": "text/x-python",
   "name": "python",
   "nbconvert_exporter": "python",
   "pygments_lexer": "ipython3",
   "version": "3.7.8"
  }
 },
 "nbformat": 4,
 "nbformat_minor": 4
}
