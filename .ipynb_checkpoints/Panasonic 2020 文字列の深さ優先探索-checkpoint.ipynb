{
 "cells": [
  {
   "cell_type": "code",
   "execution_count": 2,
   "metadata": {},
   "outputs": [
    {
     "name": "stdout",
     "output_type": "stream",
     "text": [
      "27\n",
      "5\n"
     ]
    }
   ],
   "source": [
    "#A\n",
    "A = [1, 1, 1, 2, 1, 2, 1, 5, 2, 2, 1, 5, 1, 2, 1, 14, 1, 5, 1, 5, 2, 2, 1, 15, 2, 2, 5, 4, 1, 4, 1, 51]\n",
    "K = int(input())\n",
    "print(A[K-1])"
   ]
  },
  {
   "cell_type": "code",
   "execution_count": 225,
   "metadata": {},
   "outputs": [
    {
     "name": "stdout",
     "output_type": "stream",
     "text": [
      "1 3\n",
      "1\n"
     ]
    }
   ],
   "source": [
    "#B\n",
    "H, W = map(int,input().split())\n",
    "if W%2 == 0:\n",
    "    m = W//2\n",
    "    l = W//2\n",
    "else:\n",
    "    m = W//2+1\n",
    "    l = W//2\n",
    "if H == 1 or W == 1:\n",
    "    print(1)\n",
    "else:\n",
    "    if H%2 == 0:\n",
    "        print(m*(H//2)+l*(H//2))\n",
    "    else:\n",
    "        print(m*(H//2+1)+l*(H//2))"
   ]
  },
  {
   "cell_type": "code",
   "execution_count": null,
   "metadata": {},
   "outputs": [],
   "source": [
    "H, W = map(int,input().split())"
   ]
  },
  {
   "cell_type": "code",
   "execution_count": 17,
   "metadata": {},
   "outputs": [
    {
     "name": "stdout",
     "output_type": "stream",
     "text": [
      "2 3 9\n",
      "-2.0\n",
      "2.449489742783178\n",
      "Yes\n"
     ]
    }
   ],
   "source": [
    "a,b,c = map(int,input().split())\n",
    "l = (a+b-c)/2\n",
    "r = (a*b)**0.5\n",
    "print(l)\n",
    "print(r)\n",
    "if l < r:\n",
    "    print(\"Yes\")\n",
    "else:\n",
    "    print(\"No\")"
   ]
  },
  {
   "cell_type": "code",
   "execution_count": 24,
   "metadata": {},
   "outputs": [
    {
     "name": "stdout",
     "output_type": "stream",
     "text": [
      "2 3 10\n",
      "Yes\n"
     ]
    }
   ],
   "source": [
    "#C AC\n",
    "a,b,c = map(int,input().split())\n",
    "if a+b-c < 0:\n",
    "    if (a+b-c)**2 > 4*a*b:\n",
    "        print(\"Yes\")\n",
    "    else:\n",
    "        print(\"No\")\n",
    "else:\n",
    "    print(\"No\")"
   ]
  },
  {
   "cell_type": "code",
   "execution_count": null,
   "metadata": {},
   "outputs": [],
   "source": [
    "#D AC\n",
    "N = int(input())\n",
    "alp = [chr(i) for i in range(97, 97+26)]\n",
    "\n",
    "def dfs(N):\n",
    "    if N==1:\n",
    "        return [(1,\"a\")]#左の数字は「右の文字列に何種類のアルファベットが出てきているか」\n",
    "    ret = []\n",
    "    pre = dfs(N-1)\n",
    "    for num,s in pre:\n",
    "        for i in range(num+1):#例えばこれまでの最大が2(b)なら，2+1で3(c)までをそれぞれ末尾に加える\n",
    "            ret.append((max(num,i+1),s+alp[i]))\n",
    "    return ret\n",
    "\n",
    "ans = sorted(s for num,s in dfs(N))\n",
    "for s in ans:\n",
    "    print(s)"
   ]
  },
  {
   "cell_type": "code",
   "execution_count": 50,
   "metadata": {},
   "outputs": [
    {
     "name": "stdout",
     "output_type": "stream",
     "text": [
      "2\n",
      "aa\n",
      "ab\n"
     ]
    }
   ],
   "source": [
    "N  = int(input())\n",
    "ans_dict = []\n",
    "for state in range(1<<N):#2**N\n",
    "    string = [None]*N\n",
    "    for digit in range(N):\n",
    "        if ((state>>digit)&1):\n",
    "            string[-(digit+1)] = \"b\" \n",
    "        else:\n",
    "            string[-(digit+1)] = \"a\"\n",
    "    if string[0] == \"b\":\n",
    "        break\n",
    "    ans_dict.append(\"\".join(string))\n",
    "ans_dict.sort()\n",
    "for s in ans_dict:\n",
    "    print(s)"
   ]
  },
  {
   "cell_type": "code",
   "execution_count": 113,
   "metadata": {},
   "outputs": [
    {
     "name": "stdout",
     "output_type": "stream",
     "text": [
      "3\n",
      "aaa\n",
      "aab\n",
      "aba\n",
      "abb\n"
     ]
    }
   ],
   "source": [
    "N  = int(input())\n",
    "alp = [chr(i) for i in range(97, 97+26)]\n",
    "for state in range((1<<N)//2):#2**N\n",
    "    alp_num = 1\n",
    "    string = [None]*N\n",
    "    for digit in range(N):\n",
    "        if ((state>>digit)&1):\n",
    "            string[-(digit+1)] = \"b\" \n",
    "        else:\n",
    "            string[-(digit+1)] = \"a\"\n",
    "    if string[0] != \"a\":\n",
    "        replace_a = string[0]\n",
    "        for i in range(1,len(string)):\n",
    "            if string[i] == replace_a:\n",
    "                string[i] = \"a\"\n",
    "            else:\n",
    "                string[i] = alp[alp_num]\n",
    "                alp_num += 1\n",
    "        print(\"\".join(string),\"  koko\")\n",
    "    else:\n",
    "        print(\"\".join(string))"
   ]
  },
  {
   "cell_type": "code",
   "execution_count": 118,
   "metadata": {},
   "outputs": [
    {
     "name": "stdout",
     "output_type": "stream",
     "text": [
      "2\n",
      "aa\n",
      "bb\n"
     ]
    }
   ],
   "source": [
    "N  = int(input())\n",
    "for state in range(1<<N):#2**N\n",
    "    string = [None]*N\n",
    "    count_one = 0\n",
    "    for digit in range(N):\n",
    "        if ((state>>digit)&1):\n",
    "            count_one += 1\n",
    "            string[-(digit+1)] = \"b\" \n",
    "        else:\n",
    "            string[-(digit+1)] = \"a\"\n",
    "    print(\"\".join(string))"
   ]
  },
  {
   "cell_type": "code",
   "execution_count": 82,
   "metadata": {},
   "outputs": [
    {
     "name": "stdout",
     "output_type": "stream",
     "text": [
      "3\n",
      "s 0\n",
      "aaa\n",
      "s 1\n",
      "state>>digit 1\n",
      "aab\n",
      "s 2\n",
      "state>>digit 1\n",
      "aba\n",
      "s 3\n",
      "state>>digit 3\n",
      "state>>digit 1\n",
      "abb\n",
      "s 4\n",
      "state>>digit 1\n",
      "abc\n"
     ]
    }
   ],
   "source": [
    "N  = int(input())\n",
    "for state in range(1<<N):#2**N\n",
    "    string = [None]*N\n",
    "    print(state)\n",
    "    for digit in range(N):\n",
    "        if ((state>>digit)&1):\n",
    "            string[-(digit+1)] = \"b\" \n",
    "        else:\n",
    "            string[-(digit+1)] = \"a\"\n",
    "    if string[0] == \"b\":\n",
    "        break\n",
    "    print(\"\".join(string))\n",
    "if N > 2:\n",
    "    tmp = [chr(i) for i in range(97, 97+N)]\n",
    "    print(\"\".join(tmp))"
   ]
  },
  {
   "cell_type": "code",
   "execution_count": 161,
   "metadata": {},
   "outputs": [
    {
     "name": "stdout",
     "output_type": "stream",
     "text": [
      "3\n",
      "a_present 0 state 0\n",
      "aaa\n",
      "a_present 1 state 3\n",
      "baa\n",
      "a_present 1 state 5\n",
      "aba\n",
      "a_present 0 state 6\n",
      "cba\n",
      "a_present 1 state 7\n",
      "aaa\n"
     ]
    }
   ],
   "source": [
    "N  = int(input())\n",
    "tmp = [chr(i) for i in range(97, 97+26)]\n",
    "two = [2**i for i in range(N)]\n",
    "for state in range(1<<N):#2**N\n",
    "    string = [None]*N\n",
    "    alphabet_number = 1\n",
    "    a_present = state&1#\"a\"が１と０のどちらで表されるか\n",
    "    if state in two:\n",
    "        continue\n",
    "    print(\"a_present\",a_present,\"state\",state)\n",
    "    for digit in range(N):\n",
    "        if a_present == 0:\n",
    "            if state&(1<<digit) == 0:\n",
    "                string[digit] = \"a\"\n",
    "            else:\n",
    "                string[digit] = tmp[alphabet_number]\n",
    "                alphabet_number += 1\n",
    "        else:\n",
    "            if state&(1<<digit) != 0:\n",
    "                string[digit] = \"a\"\n",
    "            else:\n",
    "                string[digit] = tmp[alphabet_number]\n",
    "                alphabet_number += 1\n",
    "    print(\"\".join(string[::-1]))"
   ]
  },
  {
   "cell_type": "code",
   "execution_count": 171,
   "metadata": {},
   "outputs": [
    {
     "name": "stdout",
     "output_type": "stream",
     "text": [
      "3\n",
      "aaa state= 0\n",
      "abc state= 3\n",
      "abc state= 5\n",
      "abc state= 6\n",
      "abc state= 7\n"
     ]
    }
   ],
   "source": [
    "N  = int(input())\n",
    "tmp = [chr(i) for i in range(97, 97+26)]\n",
    "for state in range(1<<N):#2**N\n",
    "    string = [None]*N\n",
    "    alp_num = 0\n",
    "    zero_appeared = False\n",
    "    if state in two:\n",
    "        continue\n",
    "    for digit in range(N):\n",
    "        if not state&(1<<digit):#0\n",
    "            if not zero_appeared:\n",
    "                string[digit] = tmp[alp_num]\n",
    "                zero_str = tmp[alp_num]\n",
    "                alp_num += 1\n",
    "                zero_appeared = True\n",
    "            else:\n",
    "                string[digit] = zero_str\n",
    "        else:\n",
    "            string[digit] = tmp[alp_num]\n",
    "            alp_num += 1\n",
    "    print(\"\".join(string),\"state=\",state)"
   ]
  },
  {
   "cell_type": "code",
   "execution_count": 193,
   "metadata": {},
   "outputs": [
    {
     "name": "stdout",
     "output_type": "stream",
     "text": [
      "3\n",
      "aaa\n",
      "aab\n",
      "aba\n",
      "abc\n"
     ]
    }
   ],
   "source": [
    "N  = int(input())\n",
    "tmp = [chr(i) for i in range(97, 97+26)]\n",
    "for state in range(1<<N-1):#2**(N-1)\n",
    "    string = [None]*N\n",
    "    alp_num = 1\n",
    "    string[0] = \"a\"\n",
    "    for digit in range(N-1):\n",
    "        if not state&(1<<(N-2-digit)):#0\n",
    "            string[digit+1] = \"a\"\n",
    "        else:\n",
    "            string[digit+1] = tmp[alp_num]\n",
    "            alp_num += 1\n",
    "    print(\"\".join(string))"
   ]
  },
  {
   "cell_type": "code",
   "execution_count": 224,
   "metadata": {},
   "outputs": [
    {
     "name": "stdout",
     "output_type": "stream",
     "text": [
      "3\n",
      "aaa\n",
      "aab\n",
      "aba\n",
      "abb\n",
      "abc\n"
     ]
    }
   ],
   "source": [
    "#D AC\n",
    "N = int(input())\n",
    "alp = [chr(i) for i in range(97, 97+26)]\n",
    "\n",
    "def dfs(N):\n",
    "    if N==1:\n",
    "        return [(1,\"a\")]#左の数字は「右の文字列に何種類のアルファベットが出てきているか」\n",
    "    ret = []\n",
    "    pre = dfs(N-1)\n",
    "    for num,s in pre:\n",
    "        for i in range(num+1):#例えばこれまでの最大が2(b)なら，2+1で3(c)までをそれぞれ末尾に加える\n",
    "            ret.append((max(num,i+1),s+alp[i]))\n",
    "    return ret\n",
    "\n",
    "ans = sorted(s for num,s in dfs(N))\n",
    "for s in ans:\n",
    "    print(s)"
   ]
  }
 ],
 "metadata": {
  "kernelspec": {
   "display_name": "Python 3",
   "language": "python",
   "name": "python3"
  },
  "language_info": {
   "codemirror_mode": {
    "name": "ipython",
    "version": 3
   },
   "file_extension": ".py",
   "mimetype": "text/x-python",
   "name": "python",
   "nbconvert_exporter": "python",
   "pygments_lexer": "ipython3",
   "version": "3.7.3"
  }
 },
 "nbformat": 4,
 "nbformat_minor": 2
}
