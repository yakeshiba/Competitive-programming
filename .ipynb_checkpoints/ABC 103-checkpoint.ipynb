{
 "cells": [
  {
   "cell_type": "code",
   "execution_count": null,
   "metadata": {},
   "outputs": [],
   "source": [
    "#C\n",
    "from math import gcd\n",
    "\n",
    "def lcm(a,b):\n",
    "    return a*b//gcd(a,b)\n",
    "\n",
    "n = int(input())\n",
    "A = list(map(int,input().split()))\n",
    "\n",
    "l = lcm(A[0], A[1])\n",
    "for i in range(2,n):\n",
    "    l = lcm(l, A[i])\n",
    "\n",
    "ans = 0\n",
    "for a in A:\n",
    "    ans += (l-1)%a\n",
    "    \n",
    "print(ans)"
   ]
  }
 ],
 "metadata": {
  "kernelspec": {
   "display_name": "Python 3",
   "language": "python",
   "name": "python3"
  },
  "language_info": {
   "codemirror_mode": {
    "name": "ipython",
    "version": 3
   },
   "file_extension": ".py",
   "mimetype": "text/x-python",
   "name": "python",
   "nbconvert_exporter": "python",
   "pygments_lexer": "ipython3",
   "version": "3.7.3"
  }
 },
 "nbformat": 4,
 "nbformat_minor": 2
}
