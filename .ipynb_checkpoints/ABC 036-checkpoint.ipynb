{
 "cells": [
  {
   "cell_type": "code",
   "execution_count": null,
   "metadata": {},
   "outputs": [],
   "source": [
    "#C\n",
    "import copy\n",
    "\n",
    "n = int(input())\n",
    "\n",
    "A = [0]*n\n",
    "for i in range(n):\n",
    "    A[i] = int(input())\n",
    "    \n",
    "cA = copy.deepcopy(A)\n",
    "cA.sort()\n",
    "\n",
    "d = {}\n",
    "num = 0\n",
    "for a in cA:\n",
    "    if a not in d:\n",
    "        d[a] = num\n",
    "        num += 1\n",
    "\n",
    "ans = [0]*n\n",
    "for i in range(n):\n",
    "    ans[i] = d[A[i]]\n",
    "    \n",
    "print(*ans,sep=\"\\n\")"
   ]
  }
 ],
 "metadata": {
  "kernelspec": {
   "display_name": "Python 3",
   "language": "python",
   "name": "python3"
  },
  "language_info": {
   "codemirror_mode": {
    "name": "ipython",
    "version": 3
   },
   "file_extension": ".py",
   "mimetype": "text/x-python",
   "name": "python",
   "nbconvert_exporter": "python",
   "pygments_lexer": "ipython3",
   "version": "3.7.3"
  }
 },
 "nbformat": 4,
 "nbformat_minor": 2
}
