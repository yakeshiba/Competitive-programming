{
 "cells": [
  {
   "cell_type": "code",
   "execution_count": null,
   "metadata": {},
   "outputs": [],
   "source": [
    "#A\n",
    "N = int(input())\n",
    "a = list(map(int,input().split()))\n",
    "print(max(a))"
   ]
  },
  {
   "cell_type": "code",
   "execution_count": null,
   "metadata": {},
   "outputs": [],
   "source": [
    "#B\n",
    "N = int(input())\n",
    "a = list(map(int,input().split()))\n",
    "print(sum(a))"
   ]
  },
  {
   "cell_type": "code",
   "execution_count": 2,
   "metadata": {},
   "outputs": [
    {
     "name": "stdout",
     "output_type": "stream",
     "text": [
      "5\n",
      "3 1 5 4 2\n",
      "3,1,5,4,2\n"
     ]
    }
   ],
   "source": [
    "#C\n",
    "N = int(input())\n",
    "a = list(map(str,input().split()))\n",
    "print(\",\".join(a))"
   ]
  },
  {
   "cell_type": "code",
   "execution_count": 9,
   "metadata": {},
   "outputs": [
    {
     "name": "stdout",
     "output_type": "stream",
     "text": [
      "5\n",
      "2 4 3 1 5\n",
      "5 4 3 2 1\n"
     ]
    }
   ],
   "source": [
    "#D 昇順\n",
    "N = int(input())\n",
    "a = list(map(int,input().split()))\n",
    "a.sort(reverse=False)\n",
    "print(*a)"
   ]
  },
  {
   "cell_type": "code",
   "execution_count": 10,
   "metadata": {},
   "outputs": [
    {
     "name": "stdout",
     "output_type": "stream",
     "text": [
      "5\n",
      "2 3 1 4 5\n",
      "2\n"
     ]
    }
   ],
   "source": [
    "#E\n",
    "N = int(input())\n",
    "a = list(map(int,input().split()))\n",
    "print(a.index(1)+1)"
   ]
  },
  {
   "cell_type": "code",
   "execution_count": 24,
   "metadata": {},
   "outputs": [
    {
     "name": "stdout",
     "output_type": "stream",
     "text": [
      "5\n",
      "3 1 5 4 2\n",
      "2\n"
     ]
    }
   ],
   "source": [
    "#F\n",
    "N = int(input())\n",
    "a = list(map(int,input().split()))\n",
    "max_value = a[0]\n",
    "ans = 1\n",
    "for i in range(N-1):\n",
    "    if a[i+1] > max_value:\n",
    "        ans += 1\n",
    "        max_value = a[i+1]\n",
    "    else:\n",
    "        pass\n",
    "print(ans)"
   ]
  },
  {
   "cell_type": "code",
   "execution_count": 26,
   "metadata": {},
   "outputs": [
    {
     "name": "stdout",
     "output_type": "stream",
     "text": [
      "20\n",
      "19 11 10 7 8 9 17 18 20 4 3 15 16 1 5 14 6 2 13 12\n",
      "370453866\n"
     ]
    }
   ],
   "source": [
    "#G\n",
    "N = int(input())\n",
    "a = list(map(str,input().split()))\n",
    "num = a[0]\n",
    "for i in range(1,N):\n",
    "    num += a[i]\n",
    "print(int(num)%(10**9+7))"
   ]
  },
  {
   "cell_type": "code",
   "execution_count": 6,
   "metadata": {},
   "outputs": [
    {
     "name": "stdout",
     "output_type": "stream",
     "text": [
      "1\n",
      "1\n",
      "1\n"
     ]
    }
   ],
   "source": [
    "#H\n",
    "import bisect\n",
    "\n",
    "N = int(input())\n",
    "a = list(map(int,input().split()))\n",
    "\n",
    "LIS = [a[0]]\n",
    "\n",
    "for i in range(N):\n",
    "    if a[i] > LIS[-1]:#LISの右端の要素より大きいとき\n",
    "        LIS.append(a[i])\n",
    "    else:\n",
    "        LIS[bisect.bisect_left(LIS,a[i])] = a[i]#bisect_leftで「a[i]より大きい値の内の最小値」の位置\n",
    "\n",
    "print(len(LIS))"
   ]
  },
  {
   "cell_type": "code",
   "execution_count": 29,
   "metadata": {},
   "outputs": [
    {
     "name": "stdout",
     "output_type": "stream",
     "text": [
      "3\n"
     ]
    }
   ],
   "source": [
    "import bisect\n",
    "A = [1,2,2,4,5]\n",
    "print(bisect.bisect_right(A,3))"
   ]
  }
 ],
 "metadata": {
  "kernelspec": {
   "display_name": "Python 3",
   "language": "python",
   "name": "python3"
  },
  "language_info": {
   "codemirror_mode": {
    "name": "ipython",
    "version": 3
   },
   "file_extension": ".py",
   "mimetype": "text/x-python",
   "name": "python",
   "nbconvert_exporter": "python",
   "pygments_lexer": "ipython3",
   "version": "3.7.3"
  }
 },
 "nbformat": 4,
 "nbformat_minor": 2
}
