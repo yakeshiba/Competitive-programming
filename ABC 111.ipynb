{
 "cells": [
  {
   "cell_type": "code",
   "execution_count": null,
   "metadata": {},
   "outputs": [],
   "source": [
    "#C\n",
    "from collections import Counter\n",
    "\n",
    "n = int(input())\n",
    "V = list(map(int,input().split()))\n",
    "\n",
    "even = V[::2]\n",
    "odd = V[1::2]\n",
    "\n",
    "cnt_even = Counter(even).most_common()\n",
    "cnt_odd = Counter(odd).most_common()\n",
    "\n",
    "even_num = cnt_even[0][0]\n",
    "odd_num = cnt_odd[0][0]\n",
    "\n",
    "if even_num == odd_num:\n",
    "    if len(cnt_even) == 1 and len(cnt_odd) == 1:\n",
    "        ans = min(len(even),len(odd))\n",
    "    elif len(cnt_even) == 1:#oddを変えるしかない\n",
    "        ans = (len(even)-cnt_even[0][1]) + (len(odd)-cnt_odd[1][1])\n",
    "    elif len(cnt_odd) == 1:\n",
    "        ans = (len(even)-cnt_even[1][1]) + (len(odd)-cnt_odd[0][1])\n",
    "    else:\n",
    "        ans = min((len(even)-cnt_even[0][1]) + (len(odd)-cnt_odd[1][1]), (len(even)-cnt_even[1][1]) + (len(odd)-cnt_odd[0][1]))\n",
    "else:\n",
    "    ans_e = len(even) - cnt_even[0][1]\n",
    "    ans_o = len(odd) - cnt_odd[0][1]\n",
    "    ans = ans_e + ans_o\n",
    "\n",
    "print(ans)"
   ]
  }
 ],
 "metadata": {
  "kernelspec": {
   "display_name": "Python 3",
   "language": "python",
   "name": "python3"
  },
  "language_info": {
   "codemirror_mode": {
    "name": "ipython",
    "version": 3
   },
   "file_extension": ".py",
   "mimetype": "text/x-python",
   "name": "python",
   "nbconvert_exporter": "python",
   "pygments_lexer": "ipython3",
   "version": "3.7.8"
  }
 },
 "nbformat": 4,
 "nbformat_minor": 2
}
