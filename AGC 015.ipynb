{
 "cells": [
  {
   "cell_type": "code",
   "execution_count": null,
   "metadata": {},
   "outputs": [],
   "source": [
    "#A\n",
    "N, A, B = map(int,input().split())\n",
    "if A > B:\n",
    "    print(0)\n",
    "elif A == B:\n",
    "    print(1)\n",
    "else:\n",
    "    if N == 1:\n",
    "        print(0)\n",
    "    else:\n",
    "        minimum = A*(N-1)+B\n",
    "        maximum = B*(N-1)+A\n",
    "        print(maximum-minimum+1)"
   ]
  }
 ],
 "metadata": {
  "kernelspec": {
   "display_name": "Python 3",
   "language": "python",
   "name": "python3"
  },
  "language_info": {
   "codemirror_mode": {
    "name": "ipython",
    "version": 3
   },
   "file_extension": ".py",
   "mimetype": "text/x-python",
   "name": "python",
   "nbconvert_exporter": "python",
   "pygments_lexer": "ipython3",
   "version": "3.7.3"
  }
 },
 "nbformat": 4,
 "nbformat_minor": 2
}
