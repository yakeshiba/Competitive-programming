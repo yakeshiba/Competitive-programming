{
 "cells": [
  {
   "cell_type": "code",
   "execution_count": null,
   "metadata": {},
   "outputs": [],
   "source": [
    "#A\n",
    "A = int(input())\n",
    "B = int(input())\n",
    "ans = [1,2,3]\n",
    "ans.remove(A)\n",
    "ans.remove(B)\n",
    "print(ans[0])"
   ]
  },
  {
   "cell_type": "code",
   "execution_count": null,
   "metadata": {},
   "outputs": [],
   "source": [
    "#B\n",
    "N = int(input())\n",
    "S,T = map(str,input().split())\n",
    "ans = []\n",
    "for i in range(N):\n",
    "    ans.append(S[i])\n",
    "    ans.append(T[i])\n",
    "print(\"\".join(ans))"
   ]
  },
  {
   "cell_type": "code",
   "execution_count": null,
   "metadata": {},
   "outputs": [],
   "source": [
    "#C\n",
    "def gcd(a,b):\n",
    "    while b != 0:\n",
    "        a,b = b,a%b\n",
    "    return a\n",
    "\n",
    "def lcm(a,b):\n",
    "    y = a*b//gcd(a,b)\n",
    "    return y\n",
    "\n",
    "A, B = map(int,input().split())\n",
    "print(lcm(A,B))"
   ]
  },
  {
   "cell_type": "code",
   "execution_count": null,
   "metadata": {},
   "outputs": [],
   "source": [
    "#D\n",
    "N = int(input())\n",
    "A = list(map(int,input().split()))\n",
    "ans = 0\n",
    "wanna_be = 1#書かれた数字がこの数字であってほしい\n",
    "for brick in A:\n",
    "    if brick != wanna_be:\n",
    "        ans += 1\n",
    "    else:\n",
    "        wanna_be += 1\n",
    "if ans == N:\n",
    "    print(-1)\n",
    "else:\n",
    "    print(ans)"
   ]
  },
  {
   "cell_type": "code",
   "execution_count": 10,
   "metadata": {},
   "outputs": [
    {
     "name": "stdout",
     "output_type": "stream",
     "text": [
      "50\n",
      "6\n"
     ]
    }
   ],
   "source": [
    "#E\n",
    "import numpy as np\n",
    "N = int(input())\n",
    "if N%2 == 1:\n",
    "    print(0)\n",
    "else:\n",
    "    five = []\n",
    "    i = 1\n",
    "    while True:\n",
    "        if 5**i > N:\n",
    "            break\n",
    "        five.append(5**i)\n",
    "        i += 1\n",
    "    five = np.array(five)\n",
    "    five *= 2\n",
    "    ans = 0\n",
    "    for i in range(len(five)):\n",
    "        ans += N//five[i]\n",
    "    print(ans)"
   ]
  },
  {
   "cell_type": "code",
   "execution_count": 24,
   "metadata": {},
   "outputs": [
    {
     "name": "stdout",
     "output_type": "stream",
     "text": [
      "50\n",
      "520469842636666622693081088000000\n"
     ]
    }
   ],
   "source": [
    "n = int(input())\n",
    "ans = 1\n",
    "for i in range(1,n//2+1):\n",
    "    #print(2*i)\n",
    "    ans *= 2*i\n",
    "print(ans)"
   ]
  },
  {
   "cell_type": "code",
   "execution_count": 19,
   "metadata": {},
   "outputs": [
    {
     "name": "stdout",
     "output_type": "stream",
     "text": [
      "30\n",
      "931322574615478515625\n"
     ]
    }
   ],
   "source": [
    "n = int(input())\n",
    "a = 1\n",
    "for i in range(n):\n",
    "    a *= 5\n",
    "print(a)"
   ]
  }
 ],
 "metadata": {
  "kernelspec": {
   "display_name": "Python 3",
   "language": "python",
   "name": "python3"
  },
  "language_info": {
   "codemirror_mode": {
    "name": "ipython",
    "version": 3
   },
   "file_extension": ".py",
   "mimetype": "text/x-python",
   "name": "python",
   "nbconvert_exporter": "python",
   "pygments_lexer": "ipython3",
   "version": "3.7.3"
  }
 },
 "nbformat": 4,
 "nbformat_minor": 2
}
