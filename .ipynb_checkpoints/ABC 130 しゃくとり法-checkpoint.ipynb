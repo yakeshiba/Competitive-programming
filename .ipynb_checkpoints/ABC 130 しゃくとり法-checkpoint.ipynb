{
 "cells": [
  {
   "cell_type": "code",
   "execution_count": null,
   "metadata": {},
   "outputs": [],
   "source": [
    "#私の意識するしゃくとり法の基本はたったのふたつです。\n",
    "#条件を満たさなければ右端を進めて区間を広げる。\n",
    "#条件を満たしていれば左端を進めて区間を狭める。\n",
    "#from → https://komiyam.hatenadiary.org/entry/20120802/1343894601)"
   ]
  },
  {
   "cell_type": "code",
   "execution_count": null,
   "metadata": {},
   "outputs": [],
   "source": [
    "#D\n",
    "import numpy as np\n",
    "n, k = map(int,input().split())\n",
    "A = np.array(list(map(int,input().split())))\n",
    "left, right = 0, 0\n",
    "tmp = 0\n",
    "ans = 0\n",
    "while right < n:#右端が範囲内の間\n",
    "    while tmp < k and right < n:#条件を満たさず，右端が範囲内の間\n",
    "        tmp += A[right]\n",
    "        right += 1\n",
    "    while tmp >= k:#条件を満たしているとき\n",
    "        ans += n-right+1#上のwhile文でrightが最後に+1されるので(n-1)じゃなくてnでいい\n",
    "        tmp -= A[left]\n",
    "        left += 1\n",
    "print(ans)"
   ]
  },
  {
   "cell_type": "code",
   "execution_count": null,
   "metadata": {},
   "outputs": [],
   "source": [
    "from itertools import accumulate\n",
    "n,k = map(int, input().split())\n",
    "a = list(map(int, input().split()))\n",
    "a = list(accumulate(a))\n",
    "a.insert(0, 0)\n",
    "ans = 0\n",
    "l = 0\n",
    "r = 0\n",
    "while r < n + 1:\n",
    "    if a[r] - a[l] >= k:\n",
    "        ans += n - r + 1\n",
    "        l += 1\n",
    "    else:\n",
    "        r += 1\n",
    "print(ans)"
   ]
  }
 ],
 "metadata": {
  "kernelspec": {
   "display_name": "Python 3",
   "language": "python",
   "name": "python3"
  },
  "language_info": {
   "codemirror_mode": {
    "name": "ipython",
    "version": 3
   },
   "file_extension": ".py",
   "mimetype": "text/x-python",
   "name": "python",
   "nbconvert_exporter": "python",
   "pygments_lexer": "ipython3",
   "version": "3.7.3"
  }
 },
 "nbformat": 4,
 "nbformat_minor": 2
}
