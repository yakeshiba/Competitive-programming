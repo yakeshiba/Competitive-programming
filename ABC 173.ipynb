{
 "cells": [
  {
   "cell_type": "code",
   "execution_count": null,
   "metadata": {},
   "outputs": [],
   "source": [
    "n = int(input())\n",
    "A = list(map(int,input().split()))\n",
    "\n",
    "A.sort()\n",
    "\n",
    "cnt = 0\n",
    "ans = 0\n",
    "i = 0\n",
    "big = 0\n",
    "small = 0\n",
    "while cnt <= n:\n",
    "    #large\n",
    "    if i == 0:\n",
    "        cnt += 1\n",
    "        big = A[-(i+1)]\n",
    "    else:\n",
    "        \n",
    "    \n",
    "    #中間チェック\n",
    "    if cnt == n:\n",
    "        break\n",
    "    \n",
    "    #small"
   ]
  },
  {
   "cell_type": "code",
   "execution_count": 4,
   "metadata": {},
   "outputs": [
    {
     "name": "stdout",
     "output_type": "stream",
     "text": [
      "1000000006\n",
      "3\n",
      "1000000001\n"
     ]
    }
   ],
   "source": [
    "mod = 10**9+7\n",
    "a = -1%mod\n",
    "print(a)\n",
    "b = a*(-3)%mod\n",
    "print(b)\n",
    "c = b*(-2)%mod\n",
    "print(c)"
   ]
  }
 ],
 "metadata": {
  "kernelspec": {
   "display_name": "Python 3",
   "language": "python",
   "name": "python3"
  },
  "language_info": {
   "codemirror_mode": {
    "name": "ipython",
    "version": 3
   },
   "file_extension": ".py",
   "mimetype": "text/x-python",
   "name": "python",
   "nbconvert_exporter": "python",
   "pygments_lexer": "ipython3",
   "version": "3.7.3"
  }
 },
 "nbformat": 4,
 "nbformat_minor": 2
}
