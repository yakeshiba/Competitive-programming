{
 "cells": [
  {
   "cell_type": "code",
   "execution_count": null,
   "metadata": {},
   "outputs": [],
   "source": [
    "#D\n",
    "n = int(input())\n",
    "A = list(map(int,input().split()))\n",
    "\n",
    "groups = []\n",
    "prev = A[0]\n",
    "for i in range(1,n):\n",
    "    if A[i] != prev:\n",
    "        groups.append(prev)\n",
    "        prev = A[i]\n",
    "groups.append(prev)\n",
    "\n",
    "if len(groups) == 1:\n",
    "    print(1000)\n",
    "    exit()\n",
    "\n",
    "money = 1000\n",
    "stock = 0\n",
    "if groups[0] < groups[1]:\n",
    "    buy = money//groups[0]\n",
    "    stock += buy\n",
    "    money -= groups[0]*buy\n",
    "    \n",
    "for i in range(1,len(groups)-1):\n",
    "    if groups[i-1] < groups[i] and groups[i] > groups[i+1]:# 周辺の最高値\n",
    "        money += stock*groups[i]\n",
    "        stock = 0\n",
    "    elif groups[i-1] > groups[i] and groups[i] < groups[i+1]:# 周辺の最安値\n",
    "        buy = money//groups[i]\n",
    "        stock += buy\n",
    "        money -= groups[i]*buy\n",
    "\n",
    "money += stock*groups[-1]\n",
    "\n",
    "print(money)"
   ]
  }
 ],
 "metadata": {
  "kernelspec": {
   "display_name": "Python 3",
   "language": "python",
   "name": "python3"
  },
  "language_info": {
   "codemirror_mode": {
    "name": "ipython",
    "version": 3
   },
   "file_extension": ".py",
   "mimetype": "text/x-python",
   "name": "python",
   "nbconvert_exporter": "python",
   "pygments_lexer": "ipython3",
   "version": "3.7.8"
  }
 },
 "nbformat": 4,
 "nbformat_minor": 4
}
