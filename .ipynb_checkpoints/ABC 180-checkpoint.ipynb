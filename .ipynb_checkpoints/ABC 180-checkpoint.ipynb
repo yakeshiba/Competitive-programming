{
 "cells": [
  {
   "cell_type": "code",
   "execution_count": null,
   "metadata": {},
   "outputs": [],
   "source": [
    "#D\n",
    "st, limit, a, b = map(int,input().split())\n",
    "\n",
    "now = 0\n",
    "\n",
    "if st*a-st < b:\n",
    "    while st < limit:\n",
    "        st *= a\n",
    "        now += 1\n",
    "        if st*a-st >= b:\n",
    "            break\n",
    "if (limit-st)%b == 0:\n",
    "    now += (limit-st)//b-1\n",
    "else:\n",
    "    now += (limit-st)//b\n",
    "        \n",
    "print(now)"
   ]
  },
  {
   "cell_type": "code",
   "execution_count": null,
   "metadata": {},
   "outputs": [],
   "source": [
    "#E\n",
    "n = int(input())\n",
    "\n",
    "cities = []\n",
    "for _ in range(n):\n",
    "    x, y, z = map(int,input().split())\n",
    "    cities.append((x, y, z))\n",
    "    \n",
    "cost = [[0]*n for _ in range(n)]\n",
    "for i, p in enumerate(cities):\n",
    "    x, y, z = p\n",
    "    for j, pp in enumerate(cities):\n",
    "        xx, yy, zz = pp\n",
    "        if i == j:\n",
    "            cost[i][j] = 0\n",
    "        else:\n",
    "            cost[i][j] = abs(xx-x)+abs(yy-y)+max(0,zz-z)\n",
    "            \n",
    "dp = [[-1]*n for _ in range(1<<n)]\n",
    "\n",
    "def dfs(S, v, dp):\n",
    "    if dp[S][v] != -1:\n",
    "        return dp[S][v]\n",
    "    if S == (1<<n)-1 and v == 0:\n",
    "        return 0\n",
    "        \n",
    "    res = float(\"inf\")\n",
    "    \n",
    "    for u in range(n):\n",
    "        if S>>u &1 == 0:\n",
    "            res = min(res, dfs(S|1<<u, u, dp)+cost[v][u])\n",
    "    dp[S][v] = res\n",
    "    return res\n",
    "    \n",
    "ans = dfs(0, 0, dp)\n",
    "\n",
    "print(ans)"
   ]
  },
  {
   "cell_type": "code",
   "execution_count": null,
   "metadata": {},
   "outputs": [],
   "source": []
  }
 ],
 "metadata": {
  "kernelspec": {
   "display_name": "Python 3",
   "language": "python",
   "name": "python3"
  },
  "language_info": {
   "codemirror_mode": {
    "name": "ipython",
    "version": 3
   },
   "file_extension": ".py",
   "mimetype": "text/x-python",
   "name": "python",
   "nbconvert_exporter": "python",
   "pygments_lexer": "ipython3",
   "version": "3.7.8"
  }
 },
 "nbformat": 4,
 "nbformat_minor": 4
}
