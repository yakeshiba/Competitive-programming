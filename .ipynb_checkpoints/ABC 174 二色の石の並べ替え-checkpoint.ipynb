{
 "cells": [
  {
   "cell_type": "code",
   "execution_count": null,
   "metadata": {},
   "outputs": [],
   "source": [
    "#C\n",
    "K = int(input())\n",
    "\n",
    "ans = 1\n",
    "num = 0\n",
    "seven = 7\n",
    "\n",
    "if not K%2:\n",
    "    print(-1)\n",
    "else:\n",
    "    for i in range(K):\n",
    "        num = num + seven\n",
    "        seven = seven*10%K\n",
    "        num = num%K\n",
    "        if num == 0:\n",
    "            print(ans)\n",
    "            break\n",
    "        ans += 1\n",
    "    else:\n",
    "        print(-1)"
   ]
  },
  {
   "cell_type": "code",
   "execution_count": null,
   "metadata": {},
   "outputs": [],
   "source": [
    "#D 左から順に必要ならば入れ替え，入れ替える石が無くなったら色変更\n",
    "n = int(input())\n",
    "S = input()\n",
    "\n",
    "r = S.count('R')\n",
    "w = len(S)-r\n",
    "\n",
    "if r == 0 or w == 0:\n",
    "    print(0)\n",
    "    exit()\n",
    "\n",
    "ans = 0\n",
    "for i in range(len(S)):\n",
    "    if S[i] == \"R\":\n",
    "        r -= 1\n",
    "    else:\n",
    "        r -= 1\n",
    "        w -= 1\n",
    "        ans += 1\n",
    "    if r == 0 or w == 0:\n",
    "        break\n",
    "print(ans+r)"
   ]
  },
  {
   "cell_type": "code",
   "execution_count": null,
   "metadata": {},
   "outputs": [],
   "source": [
    "#D 仕切り\n",
    "n = int(input())\n",
    "S = input()\n",
    "\n",
    "r = S.count('R')\n",
    "w = 0\n",
    "\n",
    "ans = r\n",
    "for i in range(n):\n",
    "    if S[i] == \"W\":\n",
    "        w += 1\n",
    "    elif S[i] == \"R\":\n",
    "        r -= 1\n",
    "    ans = min(ans,max(r,w))\n",
    "print(ans)"
   ]
  },
  {
   "cell_type": "code",
   "execution_count": null,
   "metadata": {},
   "outputs": [],
   "source": [
    "def is_ok(x):\n",
    "    cnt = 0\n",
    "    for a in A:\n",
    "        cnt += -(-a//x)-1\n",
    "    if cnt <= k:\n",
    "        return True\n",
    "    return False\n",
    "\n",
    "\n",
    "def meguru_bisect(ng, ok):\n",
    "    while (abs(ok - ng) > 1):\n",
    "        mid = (ok + ng) // 2\n",
    "        if is_ok(mid):\n",
    "            ok = mid\n",
    "        else:\n",
    "            ng = mid\n",
    "    return ok\n",
    "    \n",
    "n, k = map(int,input().split())\n",
    "A = list(map(int,input().split()))\n",
    "\n",
    "print(meguru_bisect(0,10**9+1))"
   ]
  }
 ],
 "metadata": {
  "kernelspec": {
   "display_name": "Python 3",
   "language": "python",
   "name": "python3"
  },
  "language_info": {
   "codemirror_mode": {
    "name": "ipython",
    "version": 3
   },
   "file_extension": ".py",
   "mimetype": "text/x-python",
   "name": "python",
   "nbconvert_exporter": "python",
   "pygments_lexer": "ipython3",
   "version": "3.7.8"
  }
 },
 "nbformat": 4,
 "nbformat_minor": 4
}
