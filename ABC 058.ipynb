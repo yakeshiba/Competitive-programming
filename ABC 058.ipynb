{
 "cells": [
  {
   "cell_type": "code",
   "execution_count": null,
   "metadata": {},
   "outputs": [],
   "source": [
    "#C\n",
    "n = int(input())\n",
    "\n",
    "alp = [float(\"inf\")]*200\n",
    "\n",
    "for i in range(n):\n",
    "    S = input()\n",
    "    tmp = [0]*200\n",
    "    for s in S:\n",
    "        tmp[ord(s)] += 1\n",
    "    for ind in range(200):\n",
    "        alp[ind] = min(alp[ind],tmp[ind])\n",
    "\n",
    "ans = \"\"\n",
    "for i in range(200):\n",
    "    ans += chr(i)*alp[i]\n",
    "    \n",
    "print(ans)"
   ]
  }
 ],
 "metadata": {
  "kernelspec": {
   "display_name": "Python 3",
   "language": "python",
   "name": "python3"
  },
  "language_info": {
   "codemirror_mode": {
    "name": "ipython",
    "version": 3
   },
   "file_extension": ".py",
   "mimetype": "text/x-python",
   "name": "python",
   "nbconvert_exporter": "python",
   "pygments_lexer": "ipython3",
   "version": "3.7.8"
  }
 },
 "nbformat": 4,
 "nbformat_minor": 4
}
