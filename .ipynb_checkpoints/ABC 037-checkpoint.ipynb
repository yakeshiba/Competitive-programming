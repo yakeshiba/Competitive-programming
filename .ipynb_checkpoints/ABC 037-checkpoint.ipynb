{
 "cells": [
  {
   "cell_type": "code",
   "execution_count": null,
   "metadata": {},
   "outputs": [],
   "source": [
    "#A\n",
    "a, b, c = map(int,input().split())\n",
    "print(c//min(a,b))"
   ]
  },
  {
   "cell_type": "code",
   "execution_count": null,
   "metadata": {},
   "outputs": [],
   "source": [
    "#B\n",
    "import numpy as np\n",
    "n,q = map(int,input().split())\n",
    "a = np.array([0]*n)\n",
    "for i in range(q):\n",
    "    l, r, t = map(int,input().split())\n",
    "    a[l-1:r] = t\n",
    "print(*a,sep=\"\\n\")"
   ]
  },
  {
   "cell_type": "code",
   "execution_count": null,
   "metadata": {},
   "outputs": [],
   "source": [
    "#C\n",
    "import numpy as np\n",
    "\n",
    "n, k = map(int,input().split())\n",
    "A = [0] + list(map(int,input().split()))\n",
    "\n",
    "cumsum = np.cumsum(A)\n",
    "\n",
    "#print(cumsum)\n",
    "\n",
    "B = cumsum[k:] - cumsum[:-k]\n",
    "print(np.sum(B))"
   ]
  }
 ],
 "metadata": {
  "kernelspec": {
   "display_name": "Python 3",
   "language": "python",
   "name": "python3"
  },
  "language_info": {
   "codemirror_mode": {
    "name": "ipython",
    "version": 3
   },
   "file_extension": ".py",
   "mimetype": "text/x-python",
   "name": "python",
   "nbconvert_exporter": "python",
   "pygments_lexer": "ipython3",
   "version": "3.7.3"
  }
 },
 "nbformat": 4,
 "nbformat_minor": 2
}
