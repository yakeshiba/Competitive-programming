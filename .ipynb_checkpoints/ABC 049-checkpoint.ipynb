{
 "cells": [
  {
   "cell_type": "code",
   "execution_count": null,
   "metadata": {},
   "outputs": [],
   "source": [
    "#C\n",
    "S = input()\n",
    "\n",
    "S = S[::-1]\n",
    "\n",
    "check = [\"maerd\", \"remaerd\", \"esare\", \"resare\"]\n",
    "\n",
    "ind = 0\n",
    "f = True\n",
    "\n",
    "while True:\n",
    "    if ind == len(S):\n",
    "        f = True\n",
    "        break\n",
    "    if S[ind:ind+5] in check:\n",
    "        ind += 5\n",
    "    elif S[ind:ind+6] in check:\n",
    "        ind += 6\n",
    "    elif S[ind:ind+7] in check:\n",
    "        ind += 7\n",
    "    else:\n",
    "        f = False\n",
    "        break\n",
    "\n",
    "if f:\n",
    "    print('YES')\n",
    "else:\n",
    "    print(\"NO\")"
   ]
  }
 ],
 "metadata": {
  "kernelspec": {
   "display_name": "Python 3",
   "language": "python",
   "name": "python3"
  },
  "language_info": {
   "codemirror_mode": {
    "name": "ipython",
    "version": 3
   },
   "file_extension": ".py",
   "mimetype": "text/x-python",
   "name": "python",
   "nbconvert_exporter": "python",
   "pygments_lexer": "ipython3",
   "version": "3.7.3"
  }
 },
 "nbformat": 4,
 "nbformat_minor": 2
}
