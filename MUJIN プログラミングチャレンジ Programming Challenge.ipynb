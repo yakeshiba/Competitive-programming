{
 "cells": [
  {
   "cell_type": "code",
   "execution_count": null,
   "metadata": {},
   "outputs": [],
   "source": [
    "#A\n",
    "c = input()\n",
    "R = [\"O\",\"P\",\"K\",\"L\"]\n",
    "if c in R:\n",
    "    print(\"Right\")\n",
    "else:\n",
    "    print(\"Left\")"
   ]
  },
  {
   "cell_type": "code",
   "execution_count": null,
   "metadata": {},
   "outputs": [],
   "source": [
    "#B\n",
    "A = list(map(int,input().split()))\n",
    "A.sort()\n",
    "if abs(A[0] - A[1]) < A[2] < A[0] + A[1]:\n",
    "    inside = 0\n",
    "else:\n",
    "    inside = A[2] - (A[1] + A[0])\n",
    "print(((sum(A))**2-inside**2)*3.14159265)"
   ]
  }
 ],
 "metadata": {
  "kernelspec": {
   "display_name": "Python 3",
   "language": "python",
   "name": "python3"
  },
  "language_info": {
   "codemirror_mode": {
    "name": "ipython",
    "version": 3
   },
   "file_extension": ".py",
   "mimetype": "text/x-python",
   "name": "python",
   "nbconvert_exporter": "python",
   "pygments_lexer": "ipython3",
   "version": "3.7.3"
  }
 },
 "nbformat": 4,
 "nbformat_minor": 2
}
